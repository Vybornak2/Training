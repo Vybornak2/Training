{
 "cells": [
  {
   "cell_type": "markdown",
   "metadata": {},
   "source": [
    "# Lists\n",
    "Lists are ordered collections of items. They are one of the most versatile data types in Python and can be used to store a collection of items, which can be of different types.\n",
    "\n",
    "## Key Characteristics\n",
    "- **Ordered**: The items in a list have a defined order.\n",
    "- **Mutable**: Lists can be changed after their creation.\n",
    "- **Heterogeneous**: Lists can contain items of different types (integers, strings, etc.).\n",
    "- **Duplicates**: Lists can contain duplicate elements.\n",
    "- **Nested**: Lists can contain other lists (nested lists)."
   ]
  },
  {
   "cell_type": "markdown",
   "metadata": {},
   "source": [
    "## Declaration\n",
    "Lists can be declared in several ways:\n",
    "- `list = []` creates an empty list.\n",
    "- `list = [1, 2, 3]` creates a list with three elements.\n",
    "- `list = [1, \"Hello\", 3.4]` creates a list with different types of elements.\n",
    "- `list = [1, [2, 3], 4]` creates a list with a nested list."
   ]
  },
  {
   "cell_type": "code",
   "execution_count": null,
   "metadata": {},
   "outputs": [],
   "source": [
    "my_list = [\"apple\", \"banana\", \"cherry\"]\n",
    "print(my_list)"
   ]
  },
  {
   "cell_type": "markdown",
   "metadata": {},
   "source": [
    "## List Access\n",
    "You can access elements in a list using indexing and slicing:\n",
    "- `list[start:end:step]` accesses elements from `start` to `end` with a step of `step`.\n",
    "- `list[0]` accesses the first element.\n",
    "- `list[-1]` accesses the last element.\n",
    "- `list[1:3]` accesses the second and third elements.\n",
    "- `list[::2]` accesses all elements with a step of 2."
   ]
  },
  {
   "cell_type": "code",
   "execution_count": null,
   "metadata": {},
   "outputs": [],
   "source": [
    "my_list = [\n",
    "    \"apple\",\n",
    "    \"banana\",\n",
    "    \"cherry\",\n",
    "    \"cuttlefish\",\n",
    "    \"dog\",\n",
    "    \"elephant\",\n",
    "    \"fish\",\n",
    "    \"giraffe\",\n",
    "    \"horse\",\n",
    "    \"iguana\",\n",
    "]\n",
    "print(my_list)\n",
    "print(my_list[1])\n",
    "print(my_list[2:5])\n",
    "print(my_list[:4])"
   ]
  },
  {
   "cell_type": "markdown",
   "metadata": {},
   "source": [
    "## List Slicing\n",
    "Slicing allows you to create a new list from a subset of elements:\n",
    "- `list[start:end]` slices the list from `start` to `end`.\n",
    "- `list[start:]` slices the list from `start` to the end.\n",
    "- `list[:end]` slices the list from the beginning to `end`.\n",
    "- `list[:]` creates a copy of the list."
   ]
  },
  {
   "cell_type": "code",
   "execution_count": null,
   "metadata": {},
   "outputs": [],
   "source": [
    "my_list = [1, 2, 3, 4, 5]\n",
    "print(my_list[1:3])\n",
    "print(my_list[2:])\n",
    "print(my_list[:3])\n",
    "print(my_list[:])"
   ]
  },
  {
   "cell_type": "code",
   "execution_count": null,
   "metadata": {},
   "outputs": [],
   "source": [
    "my_list = [1, 2, 3]\n",
    "my_list[1] = \"blueberry\"\n",
    "print(my_list)"
   ]
  },
  {
   "cell_type": "markdown",
   "metadata": {},
   "source": [
    "## List Operations\n",
    "Lists support various operations:\n",
    "- `list + list` concatenates two lists.\n",
    "- `list * 3` repeats the list three times.\n",
    "- `element in list` checks if an element is in the list.\n",
    "- `element not in list` checks if an element is not in the list.\n",
    "- `len(list)` returns the number of elements in the list.\n",
    "- `min(list)` returns the smallest element in the list.\n",
    "- `max(list)` returns the largest element in the list.\n",
    "- `sum(list)` returns the sum of all elements in the list."
   ]
  },
  {
   "cell_type": "code",
   "execution_count": null,
   "metadata": {},
   "outputs": [],
   "source": [
    "my_list = [1, 2, 3, 4, 5]\n",
    "print(my_list)\n",
    "print(my_list + [6, 7, 8, 9, 10])\n",
    "print(my_list * 3)\n",
    "print(len(my_list))"
   ]
  },
  {
   "cell_type": "code",
   "execution_count": null,
   "metadata": {},
   "outputs": [],
   "source": [
    "print(3 in my_list)\n",
    "print(6 in my_list)\n",
    "print(6 not in my_list)"
   ]
  },
  {
   "cell_type": "code",
   "execution_count": null,
   "metadata": {},
   "outputs": [],
   "source": [
    "print(my_list)\n",
    "print(min(my_list))\n",
    "print(max(my_list))\n",
    "print(sum(my_list))"
   ]
  },
  {
   "cell_type": "markdown",
   "metadata": {},
   "source": [
    "## List Methods\n",
    "Lists come with several built-in methods:\n",
    "- `list.append(element)` appends an element to the end of the list.\n",
    "- `list.count(element)` returns the number of occurrences of the element.\n",
    "- `list.sort()` sorts the list in ascending order.\n",
    "- `list.reverse()` reverses the list.\n",
    "- `list.clear()` removes all elements from the list.\n",
    "- `list.insert(index, element)` inserts an element at the specified index.\n",
    "- `list.remove(element)` removes the first occurrence of the element.\n",
    "- `list.pop(index)` removes and returns the element at the specified index.\n",
    "- `list.index(element)` returns the index of the first occurrence of the element."
   ]
  },
  {
   "cell_type": "code",
   "execution_count": null,
   "metadata": {},
   "outputs": [],
   "source": [
    "my_list = [1, 2, 3, 4, 5]\n",
    "my_list.append(6)\n",
    "print(my_list)\n",
    "my_list.insert(2, 7)\n",
    "print(my_list)\n",
    "my_list.remove(7)\n",
    "print(my_list)"
   ]
  },
  {
   "cell_type": "code",
   "execution_count": null,
   "metadata": {},
   "outputs": [],
   "source": [
    "popped = my_list.pop(-2)\n",
    "print(my_list)\n",
    "print(popped)"
   ]
  },
  {
   "cell_type": "code",
   "execution_count": null,
   "metadata": {},
   "outputs": [],
   "source": [
    "my_list.append(4)\n",
    "print(my_list.index(4))\n",
    "print(my_list.count(4))"
   ]
  },
  {
   "cell_type": "code",
   "execution_count": null,
   "metadata": {},
   "outputs": [],
   "source": [
    "my_list = [2, 4, 1, 3, 5]\n",
    "print(my_list)\n",
    "my_list.sort()\n",
    "print(my_list)\n",
    "my_list.reverse()\n",
    "print(my_list)\n",
    "my_list.clear()\n",
    "print(my_list)"
   ]
  },
  {
   "cell_type": "markdown",
   "metadata": {},
   "source": [
    "## List Comprehension\n",
    "List comprehensions provide a concise way to create lists:\n",
    "- `[expression for item in list]` creates a new list by applying an expression to each item in the list.\n",
    "- `[expression for item in list if condition]` creates a new list by applying an expression to each item in the list that satisfies the condition."
   ]
  },
  {
   "cell_type": "code",
   "execution_count": null,
   "metadata": {},
   "outputs": [],
   "source": [
    "my_list = [letter * 3 for letter in \"abcdefgh\"]\n",
    "print(my_list)\n",
    "print(my_list[3])"
   ]
  },
  {
   "cell_type": "code",
   "execution_count": null,
   "metadata": {},
   "outputs": [],
   "source": [
    "for i in range(5, 10):\n",
    "    print(i)"
   ]
  },
  {
   "cell_type": "code",
   "execution_count": null,
   "metadata": {},
   "outputs": [],
   "source": [
    "my_list = [i for i in range(10) if i % 2 == 0]\n",
    "print(my_list)"
   ]
  },
  {
   "cell_type": "code",
   "execution_count": null,
   "metadata": {},
   "outputs": [],
   "source": [
    "names = [\"pavel\", \"petr\", \"david\", \"zdenek\"]\n",
    "filtered_names = [name for name in names if \"p\" in name]\n",
    "print(filtered_names)"
   ]
  },
  {
   "cell_type": "code",
   "execution_count": null,
   "metadata": {},
   "outputs": [],
   "source": [
    "my_list = [f\"Item {i}\" for i in range(10)]\n",
    "print(my_list)"
   ]
  }
 ],
 "metadata": {
  "kernelspec": {
   "display_name": ".venv",
   "language": "python",
   "name": "python3"
  },
  "language_info": {
   "codemirror_mode": {
    "name": "ipython",
    "version": 3
   },
   "file_extension": ".py",
   "mimetype": "text/x-python",
   "name": "python",
   "nbconvert_exporter": "python",
   "pygments_lexer": "ipython3",
   "version": "3.13.0"
  }
 },
 "nbformat": 4,
 "nbformat_minor": 2
}
