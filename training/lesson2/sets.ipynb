{
 "cells": [
  {
   "cell_type": "markdown",
   "metadata": {},
   "source": [
    "# Sets\n",
    "\n",
    "Sets are unordered collections of unique items. They are mutable and do not allow duplicate elements."
   ]
  },
  {
   "cell_type": "markdown",
   "metadata": {},
   "source": [
    "## Key Characteristics\n",
    "\n",
    "- **Unordered**: The items in a set do not have a defined order.\n",
    "- **Unique**: No duplicate elements are allowed.\n",
    "- **Mutable**: Elements can be added or removed."
   ]
  },
  {
   "cell_type": "markdown",
   "metadata": {},
   "source": [
    "## Declaration\n",
    "\n",
    "There are several ways to create a set:\n",
    "- `my_set = {1, 2, 3}` creates a set with three elements.\n",
    "- `my_set = set([1, 2, 3])` creates a set from a list.\n",
    "- `my_set = set()` creates an empty set."
   ]
  },
  {
   "cell_type": "code",
   "execution_count": null,
   "metadata": {},
   "outputs": [],
   "source": [
    "my_set = {\"apple\", \"banana\", \"cherry\"}\n",
    "print(my_set)\n",
    "\n",
    "my_set = set([\"apple\", \"banana\", \"cherry\"])\n",
    "print(my_set)\n",
    "\n",
    "my_set = set()\n",
    "print(my_set)"
   ]
  },
  {
   "cell_type": "markdown",
   "metadata": {},
   "source": [
    "## Set Operations\n",
    "\n",
    "Sets support various operations:\n",
    "- `set.add(element)` adds an element to the set.\n",
    "- `set.remove(element)` removes an element from the set.\n",
    "- `set.union(set2)` returns a new set with elements from both sets.\n",
    "- `set.intersection(set2)` returns a new set with elements common to both sets.\n",
    "- `set.difference(set2)` returns a new set with elements in the set that are not in set2.\n",
    "- `set.pop()` removes and returns an arbitrary element from the set.\n",
    "- `set.clear()` removes all elements from the set.\n",
    "- `set.copy()` returns a shallow copy of the set.\n",
    "- `set.update(set2)` adds elements from set2 to the set."
   ]
  },
  {
   "cell_type": "code",
   "execution_count": null,
   "metadata": {},
   "outputs": [],
   "source": [
    "my_set = {\"apple\", \"banana\", \"cherry\"}\n",
    "my_set.add(\"orange\")\n",
    "print(my_set)\n",
    "\n",
    "my_set.remove(\"banana\")\n",
    "print(my_set)"
   ]
  },
  {
   "cell_type": "code",
   "execution_count": null,
   "metadata": {},
   "outputs": [],
   "source": [
    "set2 = {\"cherry\", \"grape\", \"apple\"}\n",
    "print(my_set.union(set2))\n",
    "print(my_set.intersection(set2))\n",
    "print(my_set.difference(set2))"
   ]
  },
  {
   "cell_type": "code",
   "execution_count": null,
   "metadata": {},
   "outputs": [],
   "source": [
    "print(my_set.pop())\n",
    "print(my_set)\n",
    "\n",
    "my_set.clear()\n",
    "print(my_set)"
   ]
  },
  {
   "cell_type": "code",
   "execution_count": null,
   "metadata": {},
   "outputs": [],
   "source": [
    "my_set = {\"apple\", \"banana\", \"cherry\"}\n",
    "set_copy = my_set.copy()\n",
    "print(set_copy)\n",
    "\n",
    "set2 = {\"orange\", \"grape\"}\n",
    "my_set.update(set2)\n",
    "print(my_set)"
   ]
  },
  {
   "cell_type": "markdown",
   "metadata": {},
   "source": [
    "## Set Operations Using Operators\n",
    "\n",
    "Sets also support operations using operators:\n",
    "- union: `set1 | set2` \n",
    "- intersection: `set1 & set2` \n",
    "- difference: `set1 - set2`\n",
    "- symetric difference: `set1 ^ set2`"
   ]
  },
  {
   "cell_type": "code",
   "execution_count": 40,
   "metadata": {},
   "outputs": [
    {
     "name": "stdout",
     "output_type": "stream",
     "text": [
      "{'banana', 'apple', 'grape', 'cherry'}\n",
      "{'cherry', 'apple'}\n",
      "{'banana'}\n",
      "{'banana', 'grape'}\n"
     ]
    }
   ],
   "source": [
    "set1 = {\"apple\", \"banana\", \"cherry\"}\n",
    "set2 = {\"cherry\", \"grape\", \"apple\"}\n",
    "\n",
    "print(set1 | set2)  # Union\n",
    "print(set1 & set2)  # Intersection\n",
    "print(set1 - set2)  # Difference\n",
    "print(set1 ^ set2)  # Symmetric Difference"
   ]
  },
  {
   "cell_type": "markdown",
   "metadata": {},
   "source": [
    "## Set Comprehension\n",
    "\n",
    "Set comprehension allows for the creation of sets using an expression inside curly braces:\n",
    "- `{expression for item in iterable}` creates a new set by applying an expression to each item in the iterable."
   ]
  },
  {
   "cell_type": "code",
   "execution_count": null,
   "metadata": {},
   "outputs": [],
   "source": [
    "my_set = {letter for letter in \"apple\"}\n",
    "print(my_set)"
   ]
  }
 ],
 "metadata": {
  "kernelspec": {
   "display_name": ".venv",
   "language": "python",
   "name": "python3"
  },
  "language_info": {
   "codemirror_mode": {
    "name": "ipython",
    "version": 3
   },
   "file_extension": ".py",
   "mimetype": "text/x-python",
   "name": "python",
   "nbconvert_exporter": "python",
   "pygments_lexer": "ipython3",
   "version": "3.13.0"
  }
 },
 "nbformat": 4,
 "nbformat_minor": 2
}
