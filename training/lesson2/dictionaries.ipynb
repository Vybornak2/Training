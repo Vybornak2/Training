{
 "cells": [
  {
   "cell_type": "markdown",
   "metadata": {},
   "source": [
    "# Dictionaries\n",
    "Dictionaries are collections of key-value pairs. They are one of the most versatile data types in Python and can be used to store a collection of items, which can be of different types.\n",
    "\n",
    "## Key Characteristics\n",
    "- **Mutable**: Dictionaries can be changed after their creation.\n",
    "- **Heterogeneous**: Dictionaries can contain items of different types (integers, strings, etc.).\n",
    "- **Unique Keys**: Keys must be unique and immutable (strings, numbers, or tuples).\n",
    "- **No Duplicate Keys**: Dictionaries do not allow duplicate keys.\n",
    "- **Nested**: Dictionaries can contain other dictionaries (nested dictionaries)."
   ]
  },
  {
   "cell_type": "markdown",
   "metadata": {},
   "source": [
    "## Declaration\n",
    "There are several ways to declare a dictionary in Python:\n",
    "- `dict = {}` creates an empty dictionary.\n",
    "- `dict = {1: 'apple', 2: 'banana'}` creates a dictionary with two key-value pairs.\n",
    "- `dict = dict([(1, 'apple'), (2, 'banana')])` creates a dictionary from a list of key-value pairs.\n",
    "- `dict = dict(name='John', age=36)` creates a dictionary using keyword arguments."
   ]
  },
  {
   "cell_type": "code",
   "execution_count": 37,
   "metadata": {},
   "outputs": [
    {
     "name": "stdout",
     "output_type": "stream",
     "text": [
      "{'name': 'John', 'age': 36, 'phone': 12356789}\n",
      "{'name': 'John', 'age': 36}\n",
      "{'name': 'John', 'age': 36, 'phone': 1235678}\n"
     ]
    }
   ],
   "source": [
    "# Most common way to create a dictionary\n",
    "my_dict = {\n",
    "    \"name\": \"John\",\n",
    "    \"age\": 36,\n",
    "    \"phone\": 12356789,\n",
    "}\n",
    "print(my_dict)\n",
    "\n",
    "# Using the dict() constructor with keyword arguments\n",
    "my_dict = dict(name=\"John\", age=36)\n",
    "print(my_dict)\n",
    "\n",
    "# Using the dict() constructor with a list of tuples\n",
    "my_dict = dict([(\"name\", \"John\"), (\"age\", 36), (\"phone\", 1235678)])\n",
    "print(my_dict)"
   ]
  },
  {
   "cell_type": "markdown",
   "metadata": {},
   "source": [
    "## Dictionary Access\n",
    "You can access dictionary values using keys:\n",
    "- `dict[key]` accesses the value associated with the key. Raises a `KeyError` if the key does not exist.\n",
    "- `dict.get(key)` accesses the value associated with the key. Returns `None` if the key does not exist, or you can specify a default value."
   ]
  },
  {
   "cell_type": "code",
   "execution_count": 38,
   "metadata": {},
   "outputs": [
    {
     "name": "stdout",
     "output_type": "stream",
     "text": [
      "{'name': 'John', 'age': 36, 'city': 'New York', 'email': 'johns@email.com', 'phone': 1234567890}\n",
      "John\n",
      "johns@email.com\n",
      "None\n",
      "Not Found\n"
     ]
    }
   ],
   "source": [
    "my_dict = {\n",
    "    \"name\": \"John\",\n",
    "    \"age\": 36,\n",
    "    \"city\": \"New York\",\n",
    "    \"email\": \"johns@email.com\",\n",
    "    \"phone\": 1234567890,\n",
    "}\n",
    "\n",
    "print(my_dict)\n",
    "print(my_dict[\"name\"])\n",
    "print(my_dict.get(\"email\"))\n",
    "print(my_dict.get(\"address\"))\n",
    "print(my_dict.get(\"address\", \"Not Found\"))"
   ]
  },
  {
   "cell_type": "markdown",
   "metadata": {},
   "source": [
    "You can modify dictionary values by assigning a new value to an existing key."
   ]
  },
  {
   "cell_type": "code",
   "execution_count": 39,
   "metadata": {},
   "outputs": [
    {
     "name": "stdout",
     "output_type": "stream",
     "text": [
      "{'name': 'Jane', 'age': 36, 'city': 'New York', 'email': 'johns@email.com', 'phone': 1234567890}\n"
     ]
    }
   ],
   "source": [
    "# Modifying a value\n",
    "my_dict[\"name\"] = \"Jane\"\n",
    "print(my_dict)"
   ]
  },
  {
   "cell_type": "markdown",
   "metadata": {},
   "source": [
    "You can also access all keys, values, or key-value pairs using the following methods:\n",
    "- `dict.keys()` returns a view object that displays a list of all keys in the dictionary.\n",
    "- `dict.values()` returns a view object that displays a list of all values in the dictionary.\n",
    "- `dict.items()` returns a view object that displays a list of all key-value pairs in the dictionary."
   ]
  },
  {
   "cell_type": "code",
   "execution_count": 40,
   "metadata": {},
   "outputs": [
    {
     "name": "stdout",
     "output_type": "stream",
     "text": [
      "dict_keys(['name', 'age', 'city', 'email', 'phone'])\n",
      "dict_values(['Jane', 36, 'New York', 'johns@email.com', 1234567890])\n",
      "dict_items([('name', 'Jane'), ('age', 36), ('city', 'New York'), ('email', 'johns@email.com'), ('phone', 1234567890)])\n"
     ]
    }
   ],
   "source": [
    "# Accessing all keys, values, and items\n",
    "print(my_dict.keys())\n",
    "print(my_dict.values())\n",
    "print(my_dict.items())"
   ]
  },
  {
   "cell_type": "markdown",
   "metadata": {},
   "source": [
    "You can iterate through keys, values, or key-value pairs in a dictionary:"
   ]
  },
  {
   "cell_type": "code",
   "execution_count": 41,
   "metadata": {},
   "outputs": [
    {
     "name": "stdout",
     "output_type": "stream",
     "text": [
      "name\n",
      "age\n",
      "city\n",
      "email\n",
      "phone\n"
     ]
    }
   ],
   "source": [
    "# Iterating through keys\n",
    "for key in my_dict:\n",
    "    print(key)"
   ]
  },
  {
   "cell_type": "code",
   "execution_count": 42,
   "metadata": {},
   "outputs": [
    {
     "name": "stdout",
     "output_type": "stream",
     "text": [
      "name\n",
      "age\n",
      "city\n",
      "email\n",
      "phone\n"
     ]
    }
   ],
   "source": [
    "# Iterating through keys using keys()\n",
    "for key in my_dict.keys():\n",
    "    print(key)"
   ]
  },
  {
   "cell_type": "code",
   "execution_count": 43,
   "metadata": {},
   "outputs": [
    {
     "name": "stdout",
     "output_type": "stream",
     "text": [
      "Jane\n",
      "36\n",
      "New York\n",
      "johns@email.com\n",
      "1234567890\n"
     ]
    }
   ],
   "source": [
    "# Iterating through values\n",
    "for value in my_dict.values():\n",
    "    print(value)"
   ]
  },
  {
   "cell_type": "code",
   "execution_count": 44,
   "metadata": {},
   "outputs": [
    {
     "name": "stdout",
     "output_type": "stream",
     "text": [
      "name : Jane\n",
      "age : 36\n",
      "city : New York\n",
      "email : johns@email.com\n",
      "phone : 1234567890\n"
     ]
    }
   ],
   "source": [
    "# Iterating through key-value pairs\n",
    "for key, value in my_dict.items():\n",
    "    print(key, \":\", value)"
   ]
  },
  {
   "cell_type": "markdown",
   "metadata": {},
   "source": [
    "## Dictionary Methods\n",
    "Dictionaries come with several built-in methods:\n",
    "- `dict.update(other_dict)` updates the dictionary with key-value pairs from another dictionary.\n",
    "- `dict.pop(key)` removes the key-value pair with the specified key and returns the value.\n",
    "- `dict.popitem()` removes and returns an arbitrary key-value pair.\n",
    "- `dict.clear()` removes all key-value pairs from the dictionary.\n",
    "- `dict.copy()` returns a shallow copy of the dictionary."
   ]
  },
  {
   "cell_type": "code",
   "execution_count": 45,
   "metadata": {},
   "outputs": [
    {
     "name": "stdout",
     "output_type": "stream",
     "text": [
      "{'name': 'John', 'age': 25, 'city': 'New York'}\n",
      "{'name': 'John', 'age': 25, 'city': 'New York', 'email': 'john@email.com', 'phone': 1234567890}\n",
      "{'name': 'John', 'age': 25, 'city': 'New York', 'email': 'john@email.com'}\n",
      "1234567890\n",
      "{'name': 'John', 'age': 25, 'city': 'New York'}\n",
      "('email', 'john@email.com')\n"
     ]
    }
   ],
   "source": [
    "my_dict = {\"name\": \"John\", \"age\": 25, \"city\": \"New York\"}\n",
    "print(my_dict)\n",
    "\n",
    "my_dict.update(\n",
    "    {\n",
    "        \"email\": \"john@email.com\",\n",
    "        \"phone\": 1234567890,\n",
    "    }\n",
    ")\n",
    "print(my_dict)\n",
    "\n",
    "popped = my_dict.pop(\"phone\")\n",
    "print(my_dict)\n",
    "print(popped)\n",
    "\n",
    "popped = my_dict.popitem()\n",
    "print(my_dict)\n",
    "print(popped)"
   ]
  },
  {
   "cell_type": "markdown",
   "metadata": {},
   "source": [
    "## Dictionary Comprehension\n",
    "Dictionary comprehension is a concise way to create dictionaries.\n",
    "- `{key: value for key, value in zip(keys, values)}` creates a new dictionary by zipping two lists of keys and values.\n",
    "- `{key: value for key, value in dict.items() if condition}` creates a new dictionary by applying a condition to the key-value pairs."
   ]
  },
  {
   "cell_type": "code",
   "execution_count": 46,
   "metadata": {},
   "outputs": [
    {
     "name": "stdout",
     "output_type": "stream",
     "text": [
      "{'a': 1, 'b': 2, 'c': 3, 'd': 4, 'e': 5, 'f': 6}\n",
      "{'b': 2, 'd': 4, 'f': 6}\n"
     ]
    }
   ],
   "source": [
    "keys = [\"a\", \"b\", \"c\", \"d\", \"e\", \"f\"]\n",
    "values = [1, 2, 3, 4, 5, 6]\n",
    "\n",
    "my_dict = dict(zip(keys, values))\n",
    "print(my_dict)\n",
    "\n",
    "my_dict = {key: value for key, value in zip(keys, values) if value % 2 == 0}\n",
    "print(my_dict)"
   ]
  },
  {
   "cell_type": "code",
   "execution_count": 47,
   "metadata": {},
   "outputs": [
    {
     "data": {
      "text/plain": [
       "{0: 81, 1: 81, 2: 81, 3: 81, 4: 81, 5: 81, 6: 81, 7: 81, 8: 81, 9: 81}"
      ]
     },
     "execution_count": 47,
     "metadata": {},
     "output_type": "execute_result"
    }
   ],
   "source": [
    "my_dict = {i: j**2 for i in range(10) for j in range(10)}\n",
    "my_dict"
   ]
  }
 ],
 "metadata": {
  "kernelspec": {
   "display_name": ".venv",
   "language": "python",
   "name": "python3"
  },
  "language_info": {
   "codemirror_mode": {
    "name": "ipython",
    "version": 3
   },
   "file_extension": ".py",
   "mimetype": "text/x-python",
   "name": "python",
   "nbconvert_exporter": "python",
   "pygments_lexer": "ipython3",
   "version": "3.13.0"
  }
 },
 "nbformat": 4,
 "nbformat_minor": 2
}
