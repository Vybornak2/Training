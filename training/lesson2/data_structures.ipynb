{
 "cells": [
  {
   "cell_type": "markdown",
   "metadata": {},
   "source": [
    "# Data Structures\n",
    "\n",
    "Data structures are used to store and organize data. In this lesson, we will explore different types of data structures in Python."
   ]
  },
  {
   "cell_type": "markdown",
   "metadata": {},
   "source": [
    "## Types of Data Structures\n",
    "\n",
    "- [Lists](./lists.ipynb)\n",
    "- [Tuples](./tuples.ipynb)\n",
    "- [Sets](./sets.ipynb)\n",
    "- [Dictionaries](./dictionaries.ipynb)"
   ]
  },
  {
   "cell_type": "markdown",
   "metadata": {},
   "source": [
    "## Basics of Data Structures\n",
    "\n",
    "Data structures are essential for organizing data efficiently."
   ]
  },
  {
   "cell_type": "markdown",
   "metadata": {},
   "source": [
    "### Importance of Data Structures\n",
    "\n",
    "1. **Efficiency**: Optimizes operations like searching and sorting.\n",
    "2. **Organization**: Makes data management easier.\n",
    "3. **Reusability**: Can be reused across programs."
   ]
  },
  {
   "cell_type": "markdown",
   "metadata": {},
   "source": [
    "### Common Uses of Data Structures\n",
    "\n",
    "- **Lists**: Ordered collection, allows duplicates, dynamic size.\n",
    "- **Tuples**: Immutable ordered collection, allows duplicates.\n",
    "- **Sets**: Unordered collection, no duplicates.\n",
    "- **Dictionaries**: Key-value pairs, unordered, no duplicate keys."
   ]
  },
  {
   "cell_type": "markdown",
   "metadata": {},
   "source": [
    "### Choosing the Right Data Structure\n",
    "\n",
    "Depends on:\n",
    "- Type of operations.\n",
    "- Frequency of operations.\n",
    "- Memory constraints."
   ]
  },
  {
   "cell_type": "markdown",
   "metadata": {},
   "source": [
    "#### Lists\n",
    "\n",
    "Use lists when you need an ordered collection that allows duplicates and has dynamic size.\n",
    "\n",
    "Why choose lists:\n",
    "- Storing a sequence of items.\n",
    "- Maintaining order of elements.\n",
    "- Allowing duplicate entries.\n",
    "- Dynamic resizing."
   ]
  },
  {
   "cell_type": "code",
   "execution_count": null,
   "metadata": {},
   "outputs": [],
   "source": [
    "# Using Lists to store a sequence of items\n",
    "fruits = [\"apple\", \"banana\", \"cherry\"]\n",
    "print(\"Fruits:\", fruits)\n",
    "# Adding an item\n",
    "fruits.append(\"date\")\n",
    "print(\"After adding an item:\", fruits)\n",
    "# Removing an item\n",
    "fruits.remove(\"banana\")\n",
    "print(\"After removing an item:\", fruits)"
   ]
  },
  {
   "cell_type": "markdown",
   "metadata": {},
   "source": [
    "#### Dictionaries\n",
    "\n",
    "Use dictionaries when you need a collection of key-value pairs with unique keys.\n",
    "\n",
    "Why choose dictionaries:\n",
    "- Fast access to elements using keys.\n",
    "- Storing data with unique identifiers.\n",
    "- Efficiently handling large datasets.\n",
    "- Flexibility in data representation."
   ]
  },
  {
   "cell_type": "code",
   "execution_count": null,
   "metadata": {},
   "outputs": [],
   "source": [
    "# Using Dictionaries to store data with unique identifiers\n",
    "student_grades = {\"Alice\": \"A\", \"Bob\": \"B\", \"Charlie\": \"C\"}\n",
    "print(\"Student Grades:\", student_grades)\n",
    "# Adding a new key-value pair\n",
    "student_grades[\"David\"] = \"A\"\n",
    "print(\"After adding a new student:\", student_grades)\n",
    "# Removing a key-value pair\n",
    "del student_grades[\"Bob\"]\n",
    "print(\"After removing a student:\", student_grades)"
   ]
  },
  {
   "cell_type": "markdown",
   "metadata": {},
   "source": [
    "#### Sets\n",
    "\n",
    "Use sets when you need an unordered collection with no duplicates.\n",
    "\n",
    "Why choose sets:\n",
    "- Ensuring all elements are unique.\n",
    "- Efficient membership testing.\n",
    "- Performing set operations like union and intersection.\n",
    "- Handling large collections of items."
   ]
  },
  {
   "cell_type": "code",
   "execution_count": null,
   "metadata": {},
   "outputs": [],
   "source": [
    "# Using Sets to keep track of unique items\n",
    "unique_numbers = {1, 2, 3, 4, 5}\n",
    "print(\"Unique Numbers:\", unique_numbers)\n",
    "# Adding an item\n",
    "unique_numbers.add(6)\n",
    "print(\"After adding an item:\", unique_numbers)\n",
    "# Checking membership\n",
    "print(\"Is 3 in the set?\", 3 in unique_numbers)\n",
    "print(\"Is 7 in the set?\", 7 in unique_numbers)"
   ]
  },
  {
   "cell_type": "markdown",
   "metadata": {},
   "source": [
    "#### Tuples\n",
    "\n",
    "Use tuples when you need an immutable ordered collection that allows duplicates.\n",
    "\n",
    "Why choose tuples:\n",
    "- Storing a fixed sequence of items.\n",
    "- Ensuring data integrity by preventing modifications.\n",
    "- Allowing duplicate entries.\n",
    "- Efficiently accessing elements by index."
   ]
  },
  {
   "cell_type": "code",
   "execution_count": null,
   "metadata": {},
   "outputs": [],
   "source": [
    "# Using Tuples to store a fixed sequence of items\n",
    "coordinates = (10, 20, 30)\n",
    "print(\"Coordinates:\", coordinates)\n",
    "# Accessing elements\n",
    "print(\"First coordinate:\", coordinates[0])"
   ]
  }
 ],
 "metadata": {
  "kernelspec": {
   "display_name": ".venv",
   "language": "python",
   "name": "python3"
  },
  "language_info": {
   "codemirror_mode": {
    "name": "ipython",
    "version": 3
   },
   "file_extension": ".py",
   "mimetype": "text/x-python",
   "name": "python",
   "nbconvert_exporter": "python",
   "pygments_lexer": "ipython3",
   "version": "3.13.0"
  }
 },
 "nbformat": 4,
 "nbformat_minor": 2
}
