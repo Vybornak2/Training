{
 "cells": [
  {
   "cell_type": "markdown",
   "id": "4dc69759",
   "metadata": {},
   "source": [
    "# Lesson 6c: Context Managers and Practical Examples\n",
    "\n",
    "In this lesson, we'll cover:\n",
    "1. Resource management using context managers (`with` statement)\n",
    "2. Creating custom context managers\n",
    "3. Putting it all together with practical examples"
   ]
  },
  {
   "cell_type": "markdown",
   "id": "eee64ce7",
   "metadata": {},
   "source": [
    "## Context Managers with the `with` Statement\n",
    "\n",
    "The `with` statement in Python provides a convenient way to manage resources like files, connections, and locks. It ensures proper acquisition and release of resources."
   ]
  },
  {
   "cell_type": "markdown",
   "id": "db1ec84c",
   "metadata": {},
   "source": [
    "### File Handling with `with`\n",
    "\n",
    "The most common use of context managers is for file operations."
   ]
  },
  {
   "cell_type": "code",
   "execution_count": null,
   "id": "1d168108",
   "metadata": {},
   "outputs": [],
   "source": [
    "# Without using with (not recommended)\n",
    "file = open(\"example.txt\", \"w\")\n",
    "try:\n",
    "    file.write(\"Hello, World!\")\n",
    "finally:\n",
    "    file.close()  # Ensure the file is closed even if an exception occurs"
   ]
  },
  {
   "cell_type": "code",
   "execution_count": null,
   "id": "a5e7e40c",
   "metadata": {},
   "outputs": [],
   "source": [
    "# Using with (recommended)\n",
    "with open(\"example.txt\", \"w\") as file:\n",
    "    file.write(\"Hello, World!\")\n",
    "# File is automatically closed when the with block exits"
   ]
  },
  {
   "cell_type": "code",
   "execution_count": null,
   "id": "e2ff0ee4",
   "metadata": {},
   "outputs": [],
   "source": [
    "# Reading from a file with with\n",
    "try:\n",
    "    with open(\"example.txt\", \"r\") as file:\n",
    "        content = file.read()\n",
    "        print(content)\n",
    "except FileNotFoundError:\n",
    "    print(\"The file was not found\")"
   ]
  },
  {
   "cell_type": "markdown",
   "id": "86551755",
   "metadata": {},
   "source": [
    "### Multiple Context Managers\n",
    "\n",
    "You can use multiple context managers in a single `with` statement."
   ]
  },
  {
   "cell_type": "code",
   "execution_count": null,
   "id": "205281fb",
   "metadata": {},
   "outputs": [],
   "source": [
    "try:\n",
    "    with open(\"input.txt\", \"r\") as input_file, open(\"output.txt\", \"w\") as output_file:\n",
    "        # Read from input file and write to output file\n",
    "        content = input_file.read()\n",
    "        output_file.write(content.upper())  # Convert to uppercase\n",
    "    print(\"File content copied and converted to uppercase\")\n",
    "except FileNotFoundError:\n",
    "    print(\"One of the files was not found\")"
   ]
  },
  {
   "cell_type": "markdown",
   "id": "474762fe",
   "metadata": {},
   "source": [
    "### Creating Custom Context Managers\n",
    "\n",
    "You can create your own context managers in two ways:\n",
    "1. By defining a class with `__enter__` and `__exit__` methods\n",
    "2. By using the `contextlib.contextmanager` decorator"
   ]
  },
  {
   "cell_type": "code",
   "execution_count": null,
   "id": "17f433d3",
   "metadata": {},
   "outputs": [],
   "source": [
    "# Method 1: Class-based context manager\n",
    "class Timer:\n",
    "    def __enter__(self):\n",
    "        import time\n",
    "\n",
    "        self.start_time = time.time()\n",
    "        return self\n",
    "\n",
    "    def __exit__(self, exc_type, exc_val, exc_tb):\n",
    "        import time\n",
    "\n",
    "        self.end_time = time.time()\n",
    "        self.execution_time = self.end_time - self.start_time\n",
    "        print(f\"Execution time: {self.execution_time:.6f} seconds\")\n",
    "        # Return False to let exceptions propagate, True to suppress them\n",
    "        return False\n",
    "\n",
    "\n",
    "# Using our custom context manager\n",
    "with Timer() as timer:\n",
    "    # Do something time-consuming\n",
    "    total = 0\n",
    "    for i in range(1000000):\n",
    "        total += i"
   ]
  },
  {
   "cell_type": "code",
   "execution_count": null,
   "id": "980451d3",
   "metadata": {},
   "outputs": [],
   "source": [
    "# Method 2: Using contextlib.contextmanager decorator\n",
    "from contextlib import contextmanager\n",
    "import time\n",
    "\n",
    "\n",
    "@contextmanager\n",
    "def timer():\n",
    "    start_time = time.time()\n",
    "    try:\n",
    "        # Yield control back to the with block\n",
    "        yield\n",
    "    finally:\n",
    "        end_time = time.time()\n",
    "        print(f\"Execution time: {end_time - start_time:.6f} seconds\")\n",
    "\n",
    "\n",
    "# Using our decorator-based context manager\n",
    "with timer():\n",
    "    # Do something time-consuming\n",
    "    result = sum(range(1000000))"
   ]
  },
  {
   "cell_type": "markdown",
   "id": "12670512",
   "metadata": {},
   "source": [
    "## Putting It All Together: Practical Example\n",
    "\n",
    "Let's combine what we've learned to create a practical example: a function that reads data from a file, processes it, and handles potential errors."
   ]
  },
  {
   "cell_type": "code",
   "execution_count": null,
   "id": "0083fa67",
   "metadata": {},
   "outputs": [],
   "source": [
    "import csv\n",
    "import os\n",
    "\n",
    "\n",
    "class DataProcessingError(Exception):\n",
    "    \"\"\"Base exception for data processing errors\"\"\"\n",
    "\n",
    "    pass\n",
    "\n",
    "\n",
    "class InvalidDataError(DataProcessingError):\n",
    "    \"\"\"Raised when data is invalid\"\"\"\n",
    "\n",
    "    pass\n",
    "\n",
    "\n",
    "def process_csv_data(file_path):\n",
    "    \"\"\"Process data from a CSV file and return the sum of numeric values in a specific column.\"\"\"\n",
    "    if not os.path.exists(file_path):\n",
    "        raise FileNotFoundError(f\"The file '{file_path}' does not exist\")\n",
    "\n",
    "    try:\n",
    "        total = 0\n",
    "        with open(file_path, \"r\", newline=\"\") as csv_file:\n",
    "            reader = csv.DictReader(csv_file)\n",
    "\n",
    "            if \"value\" not in reader.fieldnames:\n",
    "                raise InvalidDataError(\"CSV file must contain a 'value' column\")\n",
    "\n",
    "            for row in reader:\n",
    "                try:\n",
    "                    value = float(row[\"value\"])\n",
    "                    total += value\n",
    "                except ValueError:\n",
    "                    # Skip non-numeric values but log a warning\n",
    "                    print(f\"Warning: Non-numeric value '{row['value']}' found in row {reader.line_num}\")\n",
    "\n",
    "        return total\n",
    "    except csv.Error as e:\n",
    "        raise DataProcessingError(f\"CSV parsing error: {str(e)}\") from e\n",
    "\n",
    "\n",
    "# Example usage\n",
    "try:\n",
    "    # Create a sample CSV file\n",
    "    with open(\"sample_data.csv\", \"w\", newline=\"\") as file:\n",
    "        writer = csv.writer(file)\n",
    "        writer.writerow([\"id\", \"name\", \"value\"])\n",
    "        writer.writerow([\"1\", \"Item 1\", \"10.5\"])\n",
    "        writer.writerow([\"2\", \"Item 2\", \"20.3\"])\n",
    "        writer.writerow([\"3\", \"Item 3\", \"invalid\"])\n",
    "        writer.writerow([\"4\", \"Item 4\", \"15.7\"])\n",
    "\n",
    "    # Process the CSV file\n",
    "    result = process_csv_data(\"sample_data.csv\")\n",
    "    print(f\"Total of numeric values: {result}\")\n",
    "\n",
    "except FileNotFoundError as e:\n",
    "    print(f\"Error: {e}\")\n",
    "except InvalidDataError as e:\n",
    "    print(f\"Error: {e}\")\n",
    "except DataProcessingError as e:\n",
    "    print(f\"Error processing data: {e}\")\n",
    "finally:\n",
    "    # Clean up - remove the sample file\n",
    "    if os.path.exists(\"sample_data.csv\"):\n",
    "        os.remove(\"sample_data.csv\")\n",
    "        print(\"Sample file removed\")"
   ]
  },
  {
   "cell_type": "markdown",
   "id": "8e623f88",
   "metadata": {},
   "source": [
    "## Practice Exercise: Custom Context Manager\n",
    "\n",
    "Create a custom context manager that measures and displays the memory usage before and after executing a block of code."
   ]
  },
  {
   "cell_type": "code",
   "execution_count": null,
   "id": "257dc61a",
   "metadata": {},
   "outputs": [],
   "source": [
    "# Your solution here\n",
    "# Hint: You can use the psutil module to measure memory usage"
   ]
  },
  {
   "cell_type": "markdown",
   "id": "cefc87ae",
   "metadata": {},
   "source": [
    "## Summary\n",
    "\n",
    "In this lesson, we've covered:\n",
    "\n",
    "1. **Context Managers**:\n",
    "   - Using the `with` statement for resource management\n",
    "   - Creating custom context managers using classes or decorators\n",
    "   - Working with multiple context managers\n",
    "\n",
    "2. **Practical Examples**:\n",
    "   - Combining imports, exception handling, and context managers\n",
    "   - Creating robust data processing functions\n",
    "\n",
    "Context managers are a powerful Python feature that allow for clean, readable code that properly manages resources regardless of whether exceptions occur or not. They're essential for professional Python development."
   ]
  }
 ],
 "metadata": {
  "language_info": {
   "name": "python"
  }
 },
 "nbformat": 4,
 "nbformat_minor": 5
}
