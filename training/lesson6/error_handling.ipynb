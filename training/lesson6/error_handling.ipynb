{
 "cells": [
  {
   "cell_type": "markdown",
   "id": "3fa11e2f",
   "metadata": {},
   "source": [
    "# Lesson 6b: Exception Handling in Python\n",
    "\n",
    "In this lesson, we'll cover:\n",
    "1. Exception handling with try-except blocks\n",
    "2. Using else and finally clauses\n",
    "3. Creating custom exceptions"
   ]
  },
  {
   "cell_type": "markdown",
   "id": "9c60b2fc",
   "metadata": {},
   "source": [
    "## Exception Handling with try-except\n",
    "\n",
    "Python uses exceptions to handle errors and exceptional conditions. The try-except block allows you to catch and handle these exceptions gracefully."
   ]
  },
  {
   "cell_type": "code",
   "execution_count": null,
   "id": "9b9659a3",
   "metadata": {},
   "outputs": [],
   "source": [
    "# Basic try-except block\n",
    "try:\n",
    "    result = 10 / 0  # This will raise a ZeroDivisionError\n",
    "    print(result)\n",
    "except ZeroDivisionError:\n",
    "    print(\"Error: Division by zero is not allowed\")"
   ]
  },
  {
   "cell_type": "code",
   "execution_count": null,
   "id": "daf88e53",
   "metadata": {},
   "outputs": [],
   "source": [
    "# Handling multiple exception types\n",
    "try:\n",
    "    number = int(input(\"Enter a number: \"))\n",
    "    result = 100 / number\n",
    "    print(f\"100 divided by {number} is {result}\")\n",
    "except ValueError:\n",
    "    print(\"Error: Please enter a valid integer\")\n",
    "except ZeroDivisionError:\n",
    "    print(\"Error: Division by zero is not allowed\")"
   ]
  },
  {
   "cell_type": "code",
   "execution_count": null,
   "id": "3de8f847",
   "metadata": {},
   "outputs": [],
   "source": [
    "# Using else and finally clauses\n",
    "try:\n",
    "    number = int(input(\"Enter a positive number: \"))\n",
    "    if number <= 0:\n",
    "        raise ValueError(\"Number must be positive\")\n",
    "except ValueError as e:\n",
    "    print(f\"Error: {e}\")\n",
    "else:\n",
    "    # This runs if no exception was raised\n",
    "    print(f\"You entered: {number}\")\n",
    "finally:\n",
    "    # This always runs, regardless of whether an exception was raised\n",
    "    print(\"End of input processing\")"
   ]
  },
  {
   "cell_type": "markdown",
   "id": "46f50867",
   "metadata": {},
   "source": [
    "### Creating Custom Exceptions\n",
    "\n",
    "You can define your own exception classes by inheriting from the built-in Exception class."
   ]
  },
  {
   "cell_type": "code",
   "execution_count": null,
   "id": "7d871168",
   "metadata": {},
   "outputs": [],
   "source": [
    "import math\n",
    "\n",
    "\n",
    "class NegativeValueError(Exception):\n",
    "    \"\"\"Raised when a negative value is encountered where positive is required\"\"\"\n",
    "\n",
    "    pass\n",
    "\n",
    "\n",
    "def calculate_square_root(x):\n",
    "    if x < 0:\n",
    "        raise NegativeValueError(\"Cannot calculate square root of a negative number\")\n",
    "    return math.sqrt(x)\n",
    "\n",
    "\n",
    "try:\n",
    "    result = calculate_square_root(-5)\n",
    "except NegativeValueError as e:\n",
    "    print(f\"Error: {e}\")"
   ]
  },
  {
   "cell_type": "markdown",
   "id": "5b32a39b",
   "metadata": {},
   "source": [
    "### Exception Hierarchy\n",
    "\n",
    "Python has a rich hierarchy of built-in exceptions. All exceptions inherit from `BaseException`, with `Exception` being the base class for most user-defined exceptions.\n",
    "\n",
    "Some common built-in exceptions:\n",
    "- `ValueError`: Raised when a function receives an argument of the correct type but an inappropriate value\n",
    "- `TypeError`: Raised when an operation or function is applied to an object of an inappropriate type\n",
    "- `KeyError`: Raised when a dictionary key is not found\n",
    "- `IndexError`: Raised when a sequence index is out of range\n",
    "- `FileNotFoundError`: Raised when a file or directory is requested but doesn't exist\n",
    "- `ZeroDivisionError`: Raised when division or modulo by zero takes place"
   ]
  },
  {
   "cell_type": "code",
   "execution_count": null,
   "id": "6d07affa",
   "metadata": {},
   "outputs": [],
   "source": [
    "# Demonstration of different exception types\n",
    "def demonstrate_exceptions():\n",
    "    exceptions_demo = [\n",
    "        (\"ValueError\", lambda: int(\"abc\")),\n",
    "        (\"TypeError\", lambda: \"string\" + 123),\n",
    "        (\"KeyError\", lambda: {\"a\": 1}[\"b\"]),\n",
    "        (\"IndexError\", lambda: [1, 2, 3][10]),\n",
    "        (\"FileNotFoundError\", lambda: open(\"nonexistent_file.txt\")),\n",
    "        (\"ZeroDivisionError\", lambda: 1 / 0),\n",
    "    ]\n",
    "\n",
    "    for name, func in exceptions_demo:\n",
    "        try:\n",
    "            func()\n",
    "        except Exception as e:\n",
    "            print(f\"{name}: {type(e).__name__} - {e}\")\n",
    "\n",
    "\n",
    "demonstrate_exceptions()"
   ]
  },
  {
   "cell_type": "markdown",
   "id": "fd5278ac",
   "metadata": {},
   "source": [
    "## Practice Exercise: Error Handling\n",
    "\n",
    "Write a function that prompts the user for a filename, attempts to open and read the file, and handles all possible exceptions that might occur."
   ]
  },
  {
   "cell_type": "code",
   "execution_count": null,
   "id": "7665b0e8",
   "metadata": {},
   "outputs": [],
   "source": [
    "# Your solution here\n",
    "# Hint: Use try-except blocks to handle FileNotFoundError, PermissionError, etc."
   ]
  },
  {
   "cell_type": "markdown",
   "id": "83ed7512",
   "metadata": {},
   "source": [
    "## Summary\n",
    "\n",
    "In this lesson, we've covered:\n",
    "\n",
    "1. **Exception Handling**:\n",
    "   - Using try-except blocks to catch exceptions\n",
    "   - Handling multiple exception types\n",
    "   - Using else and finally clauses\n",
    "   - Creating custom exceptions\n",
    "   - Understanding the exception hierarchy\n",
    "\n",
    "Proper exception handling is critical for writing robust Python code that can gracefully handle unexpected situations and provide meaningful feedback to users when things go wrong."
   ]
  }
 ],
 "metadata": {
  "language_info": {
   "name": "python"
  }
 },
 "nbformat": 4,
 "nbformat_minor": 5
}
