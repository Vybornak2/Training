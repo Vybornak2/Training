{
 "cells": [
  {
   "cell_type": "markdown",
   "id": "e886f364",
   "metadata": {},
   "source": [
    "# Lesson 6a: Python Module Imports and Package Structure\n",
    "\n",
    "In this lesson, we'll cover:\n",
    "1. Module imports (standard and third-party)\n",
    "2. Package structure and relative imports"
   ]
  },
  {
   "cell_type": "markdown",
   "id": "7bb41479",
   "metadata": {},
   "source": [
    "## 1. Module Imports in Python\n",
    "\n",
    "Python's module system allows you to organize code into reusable, logical units. There are several ways to import modules."
   ]
  },
  {
   "cell_type": "code",
   "execution_count": null,
   "id": "9417b8ec",
   "metadata": {},
   "outputs": [],
   "source": [
    "# Basic import\n",
    "import math\n",
    "\n",
    "# Now we can use math functions with the module name as prefix\n",
    "radius = 5\n",
    "area = math.pi * radius**2\n",
    "print(f\"Area of circle with radius {radius}: {area:.2f}\")"
   ]
  },
  {
   "cell_type": "code",
   "execution_count": null,
   "id": "bc1a2750",
   "metadata": {},
   "outputs": [],
   "source": [
    "# Import specific names from a module\n",
    "from math import sqrt, pow\n",
    "\n",
    "# Now we can use these functions directly without the math prefix\n",
    "x = 16\n",
    "print(f\"Square root of {x}: {sqrt(x)}\")\n",
    "print(f\"{x} raised to power 3: {pow(x, 3)}\")"
   ]
  },
  {
   "cell_type": "code",
   "execution_count": null,
   "id": "fd2ff839",
   "metadata": {},
   "outputs": [],
   "source": [
    "# Import with alias\n",
    "import numpy as np\n",
    "import pandas as pd\n",
    "\n",
    "# Create sample data using numpy\n",
    "data = np.random.randn(5, 3)\n",
    "df = pd.DataFrame(data, columns=[\"A\", \"B\", \"C\"])\n",
    "print(df)"
   ]
  },
  {
   "cell_type": "markdown",
   "id": "f61f3b35",
   "metadata": {},
   "source": [
    "### Importing all names from a module\n",
    "\n",
    "You can use `from module import *` to import all names from a module, but this is generally discouraged as it can lead to namespace pollution and make it unclear where names come from."
   ]
  },
  {
   "cell_type": "code",
   "execution_count": null,
   "id": "3f1d6e90",
   "metadata": {},
   "outputs": [],
   "source": [
    "# Not recommended in production code, but shown for educational purposes\n",
    "from math import *\n",
    "\n",
    "# Now all math functions are available directly\n",
    "print(f\"Pi: {pi}\")\n",
    "print(f\"Cosine of 0: {cos(0)}\")"
   ]
  },
  {
   "cell_type": "markdown",
   "id": "9ab52c96",
   "metadata": {},
   "source": [
    "## 2. Package Structure and Relative Imports\n",
    "\n",
    "Python packages organize modules into a directory hierarchy. Relative imports allow modules to import from other modules in the same package."
   ]
  },
  {
   "cell_type": "markdown",
   "id": "7c7ea50a",
   "metadata": {},
   "source": [
    "### Package Structure Example\n",
    "\n",
    "```\n",
    "my_package/\n",
    "│\n",
    "├── __init__.py              # Makes my_package a Python package\n",
    "├── module_a.py              # Contains function_a\n",
    "├── module_b.py              # Contains function_b\n",
    "│\n",
    "└── subpackage/\n",
    "    ├── __init__.py          # Makes subpackage a Python package\n",
    "    ├── module_c.py          # Contains function_c\n",
    "    └── module_d.py          # Contains function_d\n",
    "```"
   ]
  },
  {
   "cell_type": "markdown",
   "id": "62d015da",
   "metadata": {},
   "source": [
    "### Absolute vs. Relative Imports\n",
    "\n",
    "**Absolute imports** use the full path from the project root:\n",
    "\n",
    "```python\n",
    "# In module_b.py\n",
    "from my_package.module_a import function_a\n",
    "\n",
    "# In module_d.py\n",
    "from my_package.subpackage.module_c import function_c\n",
    "```\n",
    "\n",
    "**Relative imports** use dots to refer to the package containing the importing module:\n",
    "\n",
    "```python\n",
    "# In module_d.py (importing from module_c.py in the same directory)\n",
    "from . import module_c\n",
    "# or\n",
    "from .module_c import function_c\n",
    "\n",
    "# In module_d.py (importing from module_a.py in the parent package)\n",
    "from .. import module_a\n",
    "# or\n",
    "from ..module_a import function_a\n",
    "```"
   ]
  },
  {
   "cell_type": "markdown",
   "id": "a3be4f98",
   "metadata": {},
   "source": [
    "### Note on Running Relative Imports\n",
    "\n",
    "Relative imports only work when running a file as part of a package, not when running it directly. This is a common source of confusion for beginners.\n",
    "\n",
    "To run code with relative imports, you typically need to:\n",
    "1. Make sure your package is properly structured with `__init__.py` files\n",
    "2. Run Python with the `-m` flag to run a module as part of a package\n",
    "\n",
    "Example: `python -m my_package.subpackage.module_d`"
   ]
  },
  {
   "cell_type": "markdown",
   "id": "52f01741",
   "metadata": {},
   "source": [
    "## Practice Exercise: Import Management\n",
    "\n",
    "Create a function that uses at least three different modules (e.g., random, datetime, and math) to generate a random report."
   ]
  },
  {
   "cell_type": "code",
   "execution_count": null,
   "id": "13143e8c",
   "metadata": {},
   "outputs": [],
   "source": [
    "# Your solution here\n",
    "# Hint: Import random, datetime, and math modules\n",
    "# Create a function that generates a random report using functions from these modules"
   ]
  },
  {
   "cell_type": "markdown",
   "id": "eca45b28",
   "metadata": {},
   "source": [
    "## Summary\n",
    "\n",
    "In this lesson, we've covered:\n",
    "\n",
    "1. **Module Imports**:\n",
    "   - Basic imports: `import module`\n",
    "   - Importing specific items: `from module import item`\n",
    "   - Importing with aliases: `import module as alias`\n",
    "\n",
    "2. **Package Structure and Relative Imports**:\n",
    "   - Absolute imports: `from package.module import item`\n",
    "   - Relative imports: `from .module import item` or `from ..module import item`\n",
    "\n",
    "Understanding module imports and package structure is fundamental for organizing your Python code effectively and leveraging the rich ecosystem of Python libraries."
   ]
  }
 ],
 "metadata": {
  "language_info": {
   "name": "python"
  }
 },
 "nbformat": 4,
 "nbformat_minor": 5
}
