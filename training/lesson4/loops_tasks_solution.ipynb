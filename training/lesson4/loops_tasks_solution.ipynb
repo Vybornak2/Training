{
 "cells": [
  {
   "cell_type": "markdown",
   "metadata": {},
   "source": [
    "# Tasks"
   ]
  },
  {
   "cell_type": "markdown",
   "metadata": {},
   "source": [
    "## Task 1: Find the sum of all numbers in a list\n",
    "\n",
    "1. Implement the function `get_sum` to find the sum of all numbers in `my_list`.\n",
    "2. Do not use the built-in `sum` function.\n",
    "3. If implemented correctly, the next cell will not raise any error."
   ]
  },
  {
   "cell_type": "code",
   "execution_count": 2,
   "metadata": {},
   "outputs": [
    {
     "name": "stdout",
     "output_type": "stream",
     "text": [
      "[62, 33, 32, 63, 44, 57, 8, 89, 15, 40, 80, 71, 39, 50, 25, 45, 66, 9, 73, 54, 64, 82, 1, 88, 10, 69, 50, 6, 69, 44, 78, 77, 54, 76, 26, 90, 37, 96, 51, 39, 28, 74, 39, 73, 58, 1, 98, 86, 10, 54]\n"
     ]
    }
   ],
   "source": [
    "# Do not change this cell\n",
    "import random\n",
    "\n",
    "my_list = [random.randint(0, 100) for _ in range(50)]\n",
    "print(my_list)"
   ]
  },
  {
   "cell_type": "code",
   "execution_count": 5,
   "metadata": {},
   "outputs": [],
   "source": [
    "def get_sum(some_list: list) -> int:\n",
    "    total = 0\n",
    "    for number in some_list:\n",
    "        total += number\n",
    "    return total"
   ]
  },
  {
   "cell_type": "code",
   "execution_count": 6,
   "metadata": {},
   "outputs": [],
   "source": [
    "assert get_sum(my_list) == sum(my_list)"
   ]
  },
  {
   "cell_type": "markdown",
   "metadata": {},
   "source": [
    "## Task 2: Find the sum of all even numbers in a list\n",
    "\n",
    "1. Implement the function `get_even_sum` to find the sum of all even numbers in `my_list`.\n",
    "2. Do not use the built-in `sum` or `filter` functions.\n",
    "3. Use only a for loop and if statement.\n",
    "4. If implemented correctly, the next cell will not raise any error."
   ]
  },
  {
   "cell_type": "code",
   "execution_count": 7,
   "metadata": {},
   "outputs": [],
   "source": [
    "# Implement the function below without using the built-in sum, filter function\n",
    "# Use only for loop and if statement\n",
    "\n",
    "\n",
    "def get_even_sum(some_list: list) -> int:\n",
    "    total = 0\n",
    "    for number in some_list:\n",
    "        if number % 2 == 0:\n",
    "            total += number\n",
    "    return total"
   ]
  },
  {
   "cell_type": "code",
   "execution_count": 8,
   "metadata": {},
   "outputs": [],
   "source": [
    "assert get_even_sum(my_list) == sum(filter(lambda x: x % 2 == 0, my_list))"
   ]
  },
  {
   "cell_type": "markdown",
   "metadata": {},
   "source": [
    "## Task 3: Get index of a number and preceding sum\n",
    "\n",
    "1. Implement the function `get_index` to find the index of the first number in `my_list` where the sum of preceding numbers is greater than 500.\n",
    "2. Return a tuple containing the index of that number and the sum of preceding numbers.\n",
    "3. If implemented correctly, the next cell will not raise any error."
   ]
  },
  {
   "cell_type": "code",
   "execution_count": 20,
   "metadata": {},
   "outputs": [],
   "source": [
    "def get_index(some_list: list) -> tuple[int, int]:\n",
    "    total = 0\n",
    "    for index, value in enumerate(some_list):\n",
    "        total += value\n",
    "        if total > 500:\n",
    "            return index + 1, total\n",
    "    return -1, total"
   ]
  },
  {
   "cell_type": "code",
   "execution_count": 21,
   "metadata": {},
   "outputs": [],
   "source": [
    "def get_index2(some_list: list) -> tuple[int, int]:\n",
    "    total = 0\n",
    "    index = 0\n",
    "    while total <= 500:\n",
    "        total += some_list[index]\n",
    "        index += 1\n",
    "    return index, total"
   ]
  },
  {
   "cell_type": "code",
   "execution_count": 23,
   "metadata": {},
   "outputs": [],
   "source": [
    "def get_index3(some_list: list) -> tuple[int, int]:\n",
    "    total = 0\n",
    "    for index, value in enumerate(some_list):\n",
    "        total += value\n",
    "        if total > 500:\n",
    "            break\n",
    "    else:\n",
    "        return -1, total\n",
    "\n",
    "    return index + 1, total"
   ]
  },
  {
   "cell_type": "code",
   "execution_count": 24,
   "metadata": {},
   "outputs": [
    {
     "name": "stdout",
     "output_type": "stream",
     "text": [
      "(11, 523)\n",
      "(11, 523)\n",
      "(11, 523)\n"
     ]
    }
   ],
   "source": [
    "print(get_index(my_list))\n",
    "print(get_index2(my_list))\n",
    "print(get_index3(my_list))"
   ]
  },
  {
   "cell_type": "code",
   "execution_count": 15,
   "metadata": {},
   "outputs": [],
   "source": [
    "index, total = get_index(my_list)\n",
    "assert total == sum(my_list[:index])"
   ]
  }
 ],
 "metadata": {
  "kernelspec": {
   "display_name": ".venv",
   "language": "python",
   "name": "python3"
  },
  "language_info": {
   "codemirror_mode": {
    "name": "ipython",
    "version": 3
   },
   "file_extension": ".py",
   "mimetype": "text/x-python",
   "name": "python",
   "nbconvert_exporter": "python",
   "pygments_lexer": "ipython3",
   "version": "3.11.11"
  }
 },
 "nbformat": 4,
 "nbformat_minor": 2
}
