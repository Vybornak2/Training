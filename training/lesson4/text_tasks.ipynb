{
 "cells": [
  {
   "cell_type": "markdown",
   "metadata": {},
   "source": [
    "## Task: Working with text\n",
    "\n",
    "The text is stored in `text.txt` file. A function to read the text is provided."
   ]
  },
  {
   "cell_type": "code",
   "execution_count": null,
   "metadata": {},
   "outputs": [],
   "source": [
    "with open(\"text.txt\", \"r\") as f:\n",
    "    text = f.read()\n",
    "\n",
    "print(type(text))"
   ]
  },
  {
   "cell_type": "markdown",
   "metadata": {},
   "source": [
    "### Task 1: Basic Text Analysis\n",
    "1. Find the number of words in the text.\n",
    "2. Find the number of unique words in the text."
   ]
  },
  {
   "cell_type": "code",
   "execution_count": null,
   "metadata": {},
   "outputs": [],
   "source": [
    "# Implement the function to find the number of words in the text\n",
    "def count_words(text: str) -> int:\n",
    "    # Your code here\n",
    "    raise NotImplementedError"
   ]
  },
  {
   "cell_type": "code",
   "execution_count": null,
   "metadata": {},
   "outputs": [],
   "source": [
    "# Implement the function to find the number of unique words in the text\n",
    "def count_unique_words(text: str) -> int:\n",
    "    # Your code here\n",
    "    raise NotImplementedError"
   ]
  },
  {
   "cell_type": "markdown",
   "metadata": {},
   "source": [
    "### Task 2: Specific Word Analysis\n",
    "3. Find the 50th word in the text.\n",
    "4. Find the number of occurrences of the word __'the'__ in the text.\n",
    "5. Find the number of occurrences of the word __'the'__ in the text ignoring case."
   ]
  },
  {
   "cell_type": "code",
   "execution_count": null,
   "metadata": {},
   "outputs": [],
   "source": [
    "# Implement the function to find the 50th word in the text\n",
    "def find_50th_word(text: str) -> str:\n",
    "    # Your code here\n",
    "    raise NotImplementedError"
   ]
  },
  {
   "cell_type": "code",
   "execution_count": null,
   "metadata": {},
   "outputs": [],
   "source": [
    "# Implement the function to find the number of occurrences of the word 'the' in the text\n",
    "def count_the(text: str) -> int:\n",
    "    # Your code here\n",
    "    raise NotImplementedError"
   ]
  },
  {
   "cell_type": "code",
   "execution_count": null,
   "metadata": {},
   "outputs": [],
   "source": [
    "# Implement the function to find the number of occurrences of the word 'the' in the text ignoring case\n",
    "def count_the_ignore_case(text: str) -> int:\n",
    "    # Your code here\n",
    "    raise NotImplementedError"
   ]
  },
  {
   "cell_type": "markdown",
   "metadata": {},
   "source": [
    "### Task 3: Advanced Text Analysis\n",
    "6. Find the number of words that start with the letter 'a' or 'A'.\n",
    "7. Find the number of words longer than 5 characters.\n",
    "8. Find the number of words longer than 5 characters and shorter than 8 characters.\n",
    "9. Find the number of words that contain the letter 'z' or 'Z'.\n",
    "10. Find the frequence of each word in the text."
   ]
  },
  {
   "cell_type": "code",
   "execution_count": null,
   "metadata": {},
   "outputs": [],
   "source": [
    "# Implement the function to find the number of words that start with the letter 'a' or 'A'\n",
    "def count_words_starting_with_a(text: str) -> int:\n",
    "    # Your code here\n",
    "    raise NotImplementedError"
   ]
  },
  {
   "cell_type": "code",
   "execution_count": null,
   "metadata": {},
   "outputs": [],
   "source": [
    "# Implement the function to find the number of words longer than 5 characters\n",
    "def count_words_longer_than_5(text: str) -> int:\n",
    "    # Your code here\n",
    "    raise NotImplementedError"
   ]
  },
  {
   "cell_type": "code",
   "execution_count": null,
   "metadata": {},
   "outputs": [],
   "source": [
    "# Implement the function to find the number of words longer than 5 characters and shorter than 8 characters\n",
    "def count_words_longer_than_5_and_shorter_than_8(text: str) -> int:\n",
    "    # Your code here\n",
    "    raise NotImplementedError"
   ]
  },
  {
   "cell_type": "code",
   "execution_count": null,
   "metadata": {},
   "outputs": [],
   "source": [
    "# Implement the function to find the number of words that contain the letter 'z' or 'Z'\n",
    "def count_words_with_z(text: str) -> int:\n",
    "    # Your code here\n",
    "    raise NotImplementedError"
   ]
  },
  {
   "cell_type": "code",
   "execution_count": null,
   "metadata": {},
   "outputs": [],
   "source": [
    "# Implement the function to get the frequency of each word in the text\n",
    "def get_word_frequency(text: str) -> dict:\n",
    "    # Your code here\n",
    "    raise NotImplementedError"
   ]
  }
 ],
 "metadata": {
  "kernelspec": {
   "display_name": ".venv",
   "language": "python",
   "name": "python3"
  },
  "language_info": {
   "codemirror_mode": {
    "name": "ipython",
    "version": 3
   },
   "file_extension": ".py",
   "mimetype": "text/x-python",
   "name": "python",
   "nbconvert_exporter": "python",
   "pygments_lexer": "ipython3",
   "version": "3.13.0"
  }
 },
 "nbformat": 4,
 "nbformat_minor": 2
}
