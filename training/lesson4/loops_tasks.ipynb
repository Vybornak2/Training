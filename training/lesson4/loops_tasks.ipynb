{
 "cells": [
  {
   "cell_type": "markdown",
   "metadata": {},
   "source": [
    "# Tasks"
   ]
  },
  {
   "cell_type": "markdown",
   "metadata": {},
   "source": [
    "## Task 1: Find the sum of all numbers in a list\n",
    "\n",
    "1. Implement the function `get_sum` to find the sum of all numbers in `my_list`.\n",
    "2. Do not use the built-in `sum` function.\n",
    "3. If implemented correctly, the next cell will not raise any error."
   ]
  },
  {
   "cell_type": "code",
   "execution_count": null,
   "metadata": {},
   "outputs": [],
   "source": [
    "# Do not change this cell\n",
    "import random\n",
    "\n",
    "my_list = [random.randint(0, 100) for _ in range(50)]\n",
    "print(my_list)"
   ]
  },
  {
   "cell_type": "code",
   "execution_count": null,
   "metadata": {},
   "outputs": [],
   "source": [
    "# Implement the function below without using the built-in sum function\n",
    "\n",
    "\n",
    "def get_sum(some_list: list) -> int:\n",
    "    # Your code here\n",
    "    raise NotImplementedError"
   ]
  },
  {
   "cell_type": "code",
   "execution_count": null,
   "metadata": {},
   "outputs": [],
   "source": [
    "assert get_sum(my_list) == sum(my_list)"
   ]
  },
  {
   "cell_type": "markdown",
   "metadata": {},
   "source": [
    "## Task 2: Find the sum of all even numbers in a list\n",
    "\n",
    "1. Implement the function `get_even_sum` to find the sum of all even numbers in `my_list`.\n",
    "2. Do not use the built-in `sum` or `filter` functions.\n",
    "3. Use only a for loop and if statement.\n",
    "4. If implemented correctly, the next cell will not raise any error."
   ]
  },
  {
   "cell_type": "code",
   "execution_count": null,
   "metadata": {},
   "outputs": [],
   "source": [
    "# Implement the function below without using the built-in sum, filter function\n",
    "# Use only for loop and if statement\n",
    "\n",
    "\n",
    "def get_even_sum(some_list: list) -> int:\n",
    "    # Your code here\n",
    "    raise NotImplementedError"
   ]
  },
  {
   "cell_type": "code",
   "execution_count": null,
   "metadata": {},
   "outputs": [],
   "source": [
    "assert get_even_sum(my_list) == sum(filter(lambda x: x % 2 == 0, my_list))"
   ]
  },
  {
   "cell_type": "markdown",
   "metadata": {},
   "source": [
    "## Task 3: Get index of a number and preceding sum\n",
    "\n",
    "1. Implement the function `get_index` to find the index of the first number in `my_list` where the sum of preceding numbers is greater than 500.\n",
    "2. Return a tuple containing the index of that number and the sum of preceding numbers.\n",
    "3. If implemented correctly, the next cell will not raise any error."
   ]
  },
  {
   "cell_type": "code",
   "execution_count": null,
   "metadata": {},
   "outputs": [],
   "source": [
    "def get_index(some_list: list) -> tuple[int, int]:\n",
    "    total = 0\n",
    "    index = 0\n",
    "    # Your code here\n",
    "    raise NotImplementedError\n",
    "    return (index, total)"
   ]
  },
  {
   "cell_type": "code",
   "execution_count": null,
   "metadata": {},
   "outputs": [],
   "source": [
    "index, total = get_index(my_list)\n",
    "assert total == sum(my_list[:index])"
   ]
  }
 ],
 "metadata": {
  "kernelspec": {
   "display_name": ".venv",
   "language": "python",
   "name": "python3"
  },
  "language_info": {
   "codemirror_mode": {
    "name": "ipython",
    "version": 3
   },
   "file_extension": ".py",
   "mimetype": "text/x-python",
   "name": "python",
   "nbconvert_exporter": "python",
   "pygments_lexer": "ipython3",
   "version": "3.13.0"
  }
 },
 "nbformat": 4,
 "nbformat_minor": 2
}
