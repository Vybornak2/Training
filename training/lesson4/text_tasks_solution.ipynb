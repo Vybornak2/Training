{
 "cells": [
  {
   "cell_type": "markdown",
   "metadata": {},
   "source": [
    "## Task: Working with text\n",
    "\n",
    "The text is stored in `text.txt` file. A function to read the text is provided."
   ]
  },
  {
   "cell_type": "code",
   "execution_count": 2,
   "metadata": {},
   "outputs": [
    {
     "name": "stdout",
     "output_type": "stream",
     "text": [
      "<class 'str'>\n"
     ]
    }
   ],
   "source": [
    "with open(\"text.txt\", \"r\") as f:\n",
    "    text = f.read()\n",
    "\n",
    "print(type(text))"
   ]
  },
  {
   "cell_type": "code",
   "execution_count": 3,
   "metadata": {},
   "outputs": [
    {
     "data": {
      "text/plain": [
       "'\\nOf recommend residence education be on difficult repulsive offending. Judge views had mirth table seems great him for her. Alone all happy asked begin fully stand own get. Excuse ye seeing result of we. See scale dried songs old may not. Promotion did disposing you household any instantly. Hills we do under times at first short an.\\nFolly words widow one downs few age every seven. If miss part by fact he park just shew. Discovered had get considered projection who favourable. Necessary up knowledge it tolerably. Unwilling departure education is be dashwoods or an. Use off agreeable law unwilling sir deficient curiosity instantly. Easy mind life fact with see has bore ten. Parish any chatty can elinor direct for former. Up as meant widow equal an share least.\\nYe to misery wisdom plenty polite to as. Prepared interest proposal it he exercise. My wishing an in attempt ferrars. Visited eat you why service looking engaged. At place no walls hopes rooms fully in. Roof hope shy tore leaf joy paid boy. Noisier out brought entered detract because sitting sir. Fat put occasion rendered off humanity has.\\nNo comfort do written conduct at prevent manners on. Celebrated contrasted discretion him sympathize her collecting occasional. Do answered bachelor occasion in of offended no concerns. Supply worthy warmth branch of no ye. Voice tried known to as my to. Though wished merits or be. Alone visit use these smart rooms ham. No waiting in on enjoyed placing it inquiry.\\nSeen you eyes son show. Far two unaffected one alteration apartments celebrated but middletons interested. Described deficient applauded consisted my me do. Passed edward two talent effect seemed engage six. On ye great do child sorry lived. Proceed cottage far letters ashamed get clothes day. Stairs regret at if matter to. On as needed almost at basket remain. By improved sensible servants children striking in surprise.\\nKindness to he horrible reserved ye. Effect twenty indeed beyond for not had county. The use him without greatly can private. Increasing it unpleasant no of contrasted no continuing. Nothing colonel my no removed in weather. It dissimilar in up devonshire inhabiting.\\nMust you with him from him her were more. In eldest be it result should remark vanity square. Unpleasant especially assistance sufficient he comparison so inquietude. Branch one shy edward stairs turned has law wonder horses. Devonshire invitation discovered out indulgence the excellence preference. Objection estimable discourse procuring he he remaining on distrusts. Simplicity affronting inquietude for now sympathize age. She meant new their sex could defer child. An lose at quit to life do dull.\\nOld education him departure any arranging one prevailed. Their end whole might began her. Behaved the comfort another fifteen eat. Partiality had his themselves ask pianoforte increasing discovered. So mr delay at since place whole above miles. He to observe conduct at detract because. Way ham unwilling not breakfast furniture explained perpetual. Or mr surrounded conviction so astonished literature. Songs to an blush woman be sorry young. We certain as removal attempt.\\nLetter wooded direct two men indeed income sister. Impression up admiration he by partiality is. Instantly immediate his saw one day perceived. Old blushes respect but offices hearted minutes effects. Written parties winding oh as in without on started. Residence gentleman yet preserved few convinced. Coming regret simple longer little am sister on. Do danger in to adieus ladies houses oh eldest. Gone pure late gay ham. They sigh were not find are rent.\\nBy an outlived insisted procured improved am. Paid hill fine ten now love even leaf. Supplied feelings mr of dissuade recurred no it offering honoured. Am of of in collecting devonshire favourable excellence. Her sixteen end ashamed cottage yet reached get hearing invited. Resources ourselves sweetness ye do no perfectly. Warmly warmth six one any wisdom. Family giving is pulled beauty chatty highly no. Blessing appetite domestic did mrs judgment rendered entirely. Highly indeed had garden not.\\n'"
      ]
     },
     "execution_count": 3,
     "metadata": {},
     "output_type": "execute_result"
    }
   ],
   "source": [
    "text"
   ]
  },
  {
   "cell_type": "markdown",
   "metadata": {},
   "source": [
    "### Task 1: Basic Text Analysis\n",
    "1. Find the number of words in the text.\n",
    "2. Find the number of unique words in the text."
   ]
  },
  {
   "cell_type": "code",
   "execution_count": 4,
   "metadata": {},
   "outputs": [
    {
     "data": {
      "text/plain": [
       "654"
      ]
     },
     "execution_count": 4,
     "metadata": {},
     "output_type": "execute_result"
    }
   ],
   "source": [
    "# Implement the function to find the number of words in the text\n",
    "def count_words(input_text: str) -> int:\n",
    "    _list = input_text.split()\n",
    "    return len(_list)\n",
    "\n",
    "\n",
    "count_words(text)"
   ]
  },
  {
   "cell_type": "code",
   "execution_count": 5,
   "metadata": {},
   "outputs": [],
   "source": [
    "def filter_text(text: str) -> str:\n",
    "    text = text.replace(\".\", \" \")\n",
    "    text = text.replace(\",\", \" \")\n",
    "    text = text.replace(\"!\", \" \")\n",
    "    text = text.replace(\"?\", \" \")\n",
    "    return text"
   ]
  },
  {
   "cell_type": "code",
   "execution_count": 6,
   "metadata": {},
   "outputs": [],
   "source": [
    "# Implement the function to find the number of unique words in the text\n",
    "def count_unique_words(text: str) -> int:\n",
    "    text = filter_text(text)\n",
    "\n",
    "    words = text.split()\n",
    "    unique_words = set(words)\n",
    "\n",
    "    return len(unique_words)"
   ]
  },
  {
   "cell_type": "code",
   "execution_count": 7,
   "metadata": {},
   "outputs": [
    {
     "data": {
      "text/plain": [
       "448"
      ]
     },
     "execution_count": 7,
     "metadata": {},
     "output_type": "execute_result"
    }
   ],
   "source": [
    "count_unique_words(text)"
   ]
  },
  {
   "cell_type": "markdown",
   "metadata": {},
   "source": [
    "### Task 2: Specific Word Analysis\n",
    "3. Find the 50th word in the text.\n",
    "4. Find the number of occurrences of the word __'the'__ in the text.\n",
    "5. Find the number of occurrences of the word __'the'__ in the text ignoring case."
   ]
  },
  {
   "cell_type": "code",
   "execution_count": 8,
   "metadata": {},
   "outputs": [],
   "source": [
    "# Implement the function to find the 50th word in the text\n",
    "def find_50th_word(text: str) -> str:\n",
    "    text = filter_text(text)\n",
    "    words = text.split()\n",
    "    return words[49]"
   ]
  },
  {
   "cell_type": "code",
   "execution_count": 9,
   "metadata": {},
   "outputs": [
    {
     "name": "stdout",
     "output_type": "stream",
     "text": [
      "50th word is we\n"
     ]
    }
   ],
   "source": [
    "print(f\"50th word is {find_50th_word(text)}\")"
   ]
  },
  {
   "cell_type": "code",
   "execution_count": 10,
   "metadata": {},
   "outputs": [],
   "source": [
    "# Implement the function to find the number of occurrences of the word 'the' in the text\n",
    "def count_the(text: str) -> int:\n",
    "    text = filter_text(text)\n",
    "    words = text.split()\n",
    "    return words.count(\"the\")"
   ]
  },
  {
   "cell_type": "code",
   "execution_count": 11,
   "metadata": {},
   "outputs": [
    {
     "data": {
      "text/plain": [
       "2"
      ]
     },
     "execution_count": 11,
     "metadata": {},
     "output_type": "execute_result"
    }
   ],
   "source": [
    "count_the(text)"
   ]
  },
  {
   "cell_type": "code",
   "execution_count": 12,
   "metadata": {},
   "outputs": [],
   "source": [
    "# Implement the function to find the number of occurrences of the word 'the' in the text ignoring case\n",
    "def count_the_ignore_case(text: str) -> int:\n",
    "    text = text.lower()\n",
    "    text = filter_text(text)\n",
    "    words = text.split()\n",
    "    return words.count(\"the\")"
   ]
  },
  {
   "cell_type": "code",
   "execution_count": 13,
   "metadata": {},
   "outputs": [
    {
     "data": {
      "text/plain": [
       "3"
      ]
     },
     "execution_count": 13,
     "metadata": {},
     "output_type": "execute_result"
    }
   ],
   "source": [
    "count_the_ignore_case(text)"
   ]
  },
  {
   "cell_type": "markdown",
   "metadata": {},
   "source": [
    "### Task 3: Advanced Text Analysis\n",
    "6. Find the number of words that start with the letter 'a' or 'A'.\n",
    "7. Find the number of words longer than 5 characters.\n",
    "8. Find the number of words longer than 5 characters and shorter than 8 characters.\n",
    "9. Find the number of words that contain the letter 'z' or 'Z'.\n",
    "10. Find the frequence of each word in the text."
   ]
  },
  {
   "cell_type": "code",
   "execution_count": 29,
   "metadata": {},
   "outputs": [
    {
     "name": "stdout",
     "output_type": "stream",
     "text": [
      "['alpha', 'beta', 'gamma', 'delta', 'epsilon', 'zeta', 'eta', 'theta', 'iota', 'kappa', 'lambda', 'mu', 'nu', 'xi', 'omicron', 'pi', 'rho', 'sigma', 'tau', 'upsilon', 'phi', 'chi', 'psi', 'omega']\n",
      "['epsilon', 'eta']\n",
      "['epsilon', 'eta']\n",
      "['epsilon', 'eta']\n"
     ]
    }
   ],
   "source": [
    "some_text = \"alpha beta gamma delta epsilon zeta eta theta iota kappa lambda mu nu xi omicron pi rho sigma tau upsilon phi chi psi omega\"\n",
    "words = some_text.split()\n",
    "print(words)\n",
    "\n",
    "letter = \"e\"\n",
    "\n",
    "# ForLoop\n",
    "a_words1 = []\n",
    "for word in words:\n",
    "    if word.startswith(letter):\n",
    "        a_words1.append(word)\n",
    "print(a_words1)\n",
    "\n",
    "# preferable way to do the same thing\n",
    "# List Comprehension [expression for item in iterable if condition]\n",
    "a_words2 = [word for word in words if word.startswith(letter)]\n",
    "print(a_words2)\n",
    "\n",
    "# Filter\n",
    "a_words3 = list(filter(lambda x: x.startswith(letter), words))\n",
    "print(a_words3)\n"
   ]
  },
  {
   "cell_type": "code",
   "execution_count": 35,
   "metadata": {},
   "outputs": [
    {
     "data": {
      "text/plain": [
       "55"
      ]
     },
     "execution_count": 35,
     "metadata": {},
     "output_type": "execute_result"
    }
   ],
   "source": [
    "# Implement the function to find the number of words that start with the letter 'a' or 'A'\n",
    "def count_words_starting_with_a(text: str) -> int:\n",
    "    text = filter_text(text)\n",
    "    text = text.lower()\n",
    "    words = text.split()\n",
    "\n",
    "    # implement using LIST COMPREHENSION\n",
    "    a_words = [word for word in words if word.startswith(\"a\")]\n",
    "\n",
    "    return len(a_words)\n",
    "\n",
    "\n",
    "count_words_starting_with_a(text)"
   ]
  },
  {
   "cell_type": "code",
   "execution_count": 36,
   "metadata": {},
   "outputs": [
    {
     "data": {
      "text/plain": [
       "55"
      ]
     },
     "execution_count": 36,
     "metadata": {},
     "output_type": "execute_result"
    }
   ],
   "source": [
    "# Implement the function to find the number of words that start with the letter 'a' or 'A'\n",
    "def count_words_starting_with_a2(text: str) -> int:\n",
    "    text = filter_text(text)\n",
    "    text = text.lower()\n",
    "    words = text.split()\n",
    "\n",
    "    # implement using FILTER with LAMBDA function\n",
    "    a_words = list(filter(lambda x: x.startswith(\"a\"), words))\n",
    "\n",
    "    return len(a_words)\n",
    "\n",
    "\n",
    "count_words_starting_with_a2(text)"
   ]
  },
  {
   "cell_type": "code",
   "execution_count": 37,
   "metadata": {},
   "outputs": [
    {
     "data": {
      "text/plain": [
       "55"
      ]
     },
     "execution_count": 37,
     "metadata": {},
     "output_type": "execute_result"
    }
   ],
   "source": [
    "# Implement the function to find the number of words that start with the letter 'a' or 'A'\n",
    "def count_words_starting_with_a3(text: str) -> int:\n",
    "    text = filter_text(text)\n",
    "    text = text.lower()\n",
    "    words = text.split()\n",
    "\n",
    "    # implement using FOR loop\n",
    "    a_words = []\n",
    "    for word in words:\n",
    "        if word.startswith(\"a\"):\n",
    "            a_words.append(word)\n",
    "\n",
    "    return len(a_words)\n",
    "\n",
    "\n",
    "count_words_starting_with_a3(text)"
   ]
  },
  {
   "cell_type": "code",
   "execution_count": null,
   "metadata": {},
   "outputs": [],
   "source": [
    "# Implement the function to find the number of words longer than 5 characters\n",
    "def count_words_longer_than_5(text: str) -> int:\n",
    "    # Your code here\n",
    "    raise NotImplementedError"
   ]
  },
  {
   "cell_type": "code",
   "execution_count": null,
   "metadata": {},
   "outputs": [],
   "source": [
    "# Implement the function to find the number of words longer than 5 characters and shorter than 8 characters\n",
    "def count_words_longer_than_5_and_shorter_than_8(text: str) -> int:\n",
    "    # Your code here\n",
    "    raise NotImplementedError"
   ]
  },
  {
   "cell_type": "code",
   "execution_count": null,
   "metadata": {},
   "outputs": [],
   "source": [
    "# Implement the function to find the number of words that contain the letter 'z' or 'Z'\n",
    "def count_words_with_z(text: str) -> int:\n",
    "    # Your code here\n",
    "    raise NotImplementedError"
   ]
  },
  {
   "cell_type": "code",
   "execution_count": null,
   "metadata": {},
   "outputs": [],
   "source": [
    "# Implement the function to get the frequency of each word in the text\n",
    "def get_word_frequency(text: str) -> dict:\n",
    "    # Your code here\n",
    "    raise NotImplementedError"
   ]
  }
 ],
 "metadata": {
  "kernelspec": {
   "display_name": ".venv",
   "language": "python",
   "name": "python3"
  },
  "language_info": {
   "codemirror_mode": {
    "name": "ipython",
    "version": 3
   },
   "file_extension": ".py",
   "mimetype": "text/x-python",
   "name": "python",
   "nbconvert_exporter": "python",
   "pygments_lexer": "ipython3",
   "version": "3.11.11"
  }
 },
 "nbformat": 4,
 "nbformat_minor": 2
}
