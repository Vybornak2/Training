{
 "cells": [
  {
   "cell_type": "markdown",
   "metadata": {},
   "source": [
    "# Bonus Tasks - Advanced Challenges\n",
    "\n",
    "This notebook contains more challenging tasks that combine concepts from previous lessons."
   ]
  },
  {
   "cell_type": "markdown",
   "metadata": {},
   "source": [
    "## Task 1: Dictionary Word Counter\n",
    "\n",
    "1. Implement the function `count_words` that takes a string of text and returns a dictionary.\n",
    "2. The dictionary should have words as keys and their frequency (count) as values.\n",
    "3. Make the counter case-insensitive (convert all words to lowercase).\n",
    "4. Remove all punctuation marks before counting.\n",
    "5. If implemented correctly, the next cell will not raise any error."
   ]
  },
  {
   "cell_type": "code",
   "execution_count": null,
   "metadata": {},
   "outputs": [],
   "source": [
    "import string\n",
    "\n",
    "sample_text = \"\"\"Python is amazing! Python is easy to learn, and it's powerful. \n",
    "Python has many libraries that make programming fun and productive.\n",
    "Learning Python is a great investment for your career.\"\"\""
   ]
  },
  {
   "cell_type": "code",
   "execution_count": null,
   "metadata": {},
   "outputs": [],
   "source": [
    "def count_words(text: str) -> dict:\n",
    "    # Your code here\n",
    "    raise NotImplementedError"
   ]
  },
  {
   "cell_type": "code",
   "execution_count": null,
   "metadata": {},
   "outputs": [],
   "source": [
    "word_counts = count_words(sample_text)\n",
    "print(word_counts)\n",
    "\n",
    "assert word_counts[\"python\"] == 3\n",
    "assert word_counts[\"is\"] == 3\n",
    "assert word_counts[\"and\"] == 2"
   ]
  },
  {
   "cell_type": "markdown",
   "metadata": {},
   "source": [
    "## Task 2: List Transformation Challenge\n",
    "\n",
    "1. Implement the function `transform_list` according to these requirements:\n",
    "   - Replace negative numbers with their absolute values\n",
    "   - Square all even numbers\n",
    "   - Double all odd positive numbers\n",
    "   - Return the transformed list\n",
    "2. Use appropriate list comprehension or loop techniques.\n",
    "3. If implemented correctly, the next cell will not raise any error."
   ]
  },
  {
   "cell_type": "code",
   "execution_count": null,
   "metadata": {},
   "outputs": [],
   "source": [
    "import random\n",
    "\n",
    "# Creating a test list with random positive and negative numbers\n",
    "test_list = [random.randint(-20, 20) for _ in range(15)]\n",
    "print(\"Original list:\", test_list)"
   ]
  },
  {
   "cell_type": "code",
   "execution_count": null,
   "metadata": {},
   "outputs": [],
   "source": [
    "def transform_list(numbers: list) -> list:\n",
    "    # Your code here\n",
    "    raise NotImplementedError"
   ]
  },
  {
   "cell_type": "code",
   "execution_count": null,
   "metadata": {},
   "outputs": [],
   "source": [
    "transformed = transform_list(test_list)\n",
    "print(\"Transformed list:\", transformed)\n",
    "\n",
    "# Testing the transformation\n",
    "for i, num in enumerate(test_list):\n",
    "    if num < 0:\n",
    "        assert transformed[i] == abs(num)\n",
    "    elif num % 2 == 0:  # Even positive\n",
    "        assert transformed[i] == num**2\n",
    "    else:  # Odd positive\n",
    "        assert transformed[i] == num * 2"
   ]
  },
  {
   "cell_type": "markdown",
   "metadata": {},
   "source": [
    "## Task 3: Nested Data Processing\n",
    "\n",
    "1. You are given a nested list of dictionaries containing student data.\n",
    "2. Implement the function `analyze_students` to:\n",
    "   - Find the average grade across all subjects for each student\n",
    "   - Identify the highest-scoring subject for each student\n",
    "   - Return a list of dictionaries with student name, average grade, and best subject\n",
    "3. If implemented correctly, the next cell will not raise any error."
   ]
  },
  {
   "cell_type": "code",
   "execution_count": null,
   "metadata": {},
   "outputs": [],
   "source": [
    "students_data = [\n",
    "    {\"name\": \"Alice\", \"grades\": {\"math\": 85, \"science\": 92, \"history\": 78, \"english\": 88}},\n",
    "    {\"name\": \"Bob\", \"grades\": {\"math\": 90, \"science\": 84, \"history\": 95, \"english\": 82}},\n",
    "    {\"name\": \"Charlie\", \"grades\": {\"math\": 72, \"science\": 88, \"history\": 76, \"english\": 95}},\n",
    "    {\"name\": \"Diana\", \"grades\": {\"math\": 94, \"science\": 91, \"history\": 89, \"english\": 87}},\n",
    "]"
   ]
  },
  {
   "cell_type": "code",
   "execution_count": null,
   "metadata": {},
   "outputs": [],
   "source": [
    "def analyze_students(student_list: list) -> list:\n",
    "    # Your code here\n",
    "    raise NotImplementedError"
   ]
  },
  {
   "cell_type": "code",
   "execution_count": null,
   "metadata": {},
   "outputs": [],
   "source": [
    "analysis_results = analyze_students(students_data)\n",
    "print(analysis_results)\n",
    "\n",
    "# Test the results\n",
    "for i, student in enumerate(students_data):\n",
    "    result = analysis_results[i]\n",
    "    # Check student name matches\n",
    "    assert result[\"name\"] == student[\"name\"]\n",
    "\n",
    "    # Check average calculation\n",
    "    grades = student[\"grades\"].values()\n",
    "    expected_avg = sum(grades) / len(grades)\n",
    "    assert abs(result[\"average\"] - expected_avg) < 0.01\n",
    "\n",
    "    # Check best subject\n",
    "    best_subject = max(student[\"grades\"].items(), key=lambda x: x[1])[0]\n",
    "    assert result[\"best_subject\"] == best_subject"
   ]
  },
  {
   "cell_type": "markdown",
   "metadata": {},
   "source": [
    "## Task 4: Function Composition Challenge\n",
    "\n",
    "1. Implement a function `compose` that takes multiple functions as arguments and returns a new function.\n",
    "2. The returned function should apply each of the input functions in sequence, from right to left.\n",
    "3. Each function should take exactly one argument.\n",
    "4. If implemented correctly, the next cell will not raise any error."
   ]
  },
  {
   "cell_type": "code",
   "execution_count": null,
   "metadata": {},
   "outputs": [],
   "source": [
    "def compose(*functions):\n",
    "    # Your code here\n",
    "    raise NotImplementedError"
   ]
  },
  {
   "cell_type": "code",
   "execution_count": null,
   "metadata": {},
   "outputs": [],
   "source": [
    "# Example functions to test composition\n",
    "def add_one(x):\n",
    "    return x + 1\n",
    "\n",
    "\n",
    "def double(x):\n",
    "    return x * 2\n",
    "\n",
    "\n",
    "def square(x):\n",
    "    return x**2\n",
    "\n",
    "\n",
    "# Create composed functions\n",
    "f1 = compose(square, double, add_one)  # should be equivalent to square(double(add_one(x)))\n",
    "f2 = compose(add_one, square)  # should be equivalent to add_one(square(x))\n",
    "\n",
    "# Test the composed functions\n",
    "assert f1(3) == 64  # square(double(add_one(3))) = square(double(4)) = square(8) = 64\n",
    "assert f2(3) == 10  # add_one(square(3)) = add_one(9) = 10\n",
    "\n",
    "# Empty composition should return identity function\n",
    "identity = compose()\n",
    "assert identity(42) == 42"
   ]
  }
 ],
 "metadata": {
  "language_info": {
   "name": "python"
  }
 },
 "nbformat": 4,
 "nbformat_minor": 2
}
