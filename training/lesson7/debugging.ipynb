{
 "cells": [
  {
   "cell_type": "markdown",
   "id": "c2edffd6",
   "metadata": {},
   "source": [
    "# Lesson 7: Debugging Python Code\n",
    "\n",
    "This lesson provides a concise reference for debugging Python code, focusing on practical tools and concepts. We'll use `debugging_example.py` as our practice file."
   ]
  },
  {
   "cell_type": "markdown",
   "id": "a22cba6f",
   "metadata": {},
   "source": [
    "## The `debugging_example.py` File\n",
    "\n",
    "Our hands-on examples will refer to `debugging_example.py`. This file contains a function `calculate_average` with intentional bugs (TypeError and ZeroDivisionError) designed for debugging practice. Familiarize yourself with its content, especially the comments in the file-level docstring detailing the bugs."
   ]
  },
  {
   "cell_type": "markdown",
   "id": "4513954f",
   "metadata": {},
   "source": [
    "## General Debugging Approach\n",
    "\n",
    "Debugging is a systematic process:\n",
    "1.  **Reproduce:** Consistently trigger the bug.\n",
    "2.  **Isolate:** Narrow down the error's source. Use tools to inspect program state (variables, execution flow).\n",
    "3.  **Identify Cause:** Understand *why* the error occurs.\n",
    "4.  **Fix:** Implement a solution.\n",
    "5.  **Test:** Verify the fix and check for new issues."
   ]
  },
  {
   "cell_type": "markdown",
   "id": "35ea9ce2",
   "metadata": {},
   "source": [
    "## 1. Debugging with `print()` Statements\n",
    "\n",
    "The simplest method is inserting `print()` statements to inspect variable values at different code points.\n",
    "\n",
    "**Usage:**\n",
    "```python\n",
    "# In debugging_example.py, inside calculate_average\n",
    "print(f\"DEBUG: numbers = {numbers}\")\n",
    "for num in numbers:\n",
    "    print(f\"DEBUG: current num = {num}, type = {type(num)}\")\n",
    "    total += num\n",
    "```\n",
    "**Pros:** Quick for simple issues.\n",
    "**Cons:** Can clutter code; becomes cumbersome for complex bugs; requires manual removal."
   ]
  },
  {
   "cell_type": "markdown",
   "id": "9f40b668",
   "metadata": {},
   "source": [
    "## 2. Interactive Debugging\n",
    "\n",
    "Interactive debuggers allow you to step through code, inspect state, and set breakpoints without modifying the code with print statements extensively."
   ]
  },
  {
   "cell_type": "markdown",
   "id": "6735003e",
   "metadata": {},
   "source": [
    "### a) Python Debugger (`pdb`)\n",
    "\n",
    "`pdb` is Python's built-in command-line debugger.\n",
    "\n",
    "**Invoking `pdb`:**\n",
    "1.  **From code (recommended for targeted debugging):** Insert `breakpoint()` where you want to start debugging.\n",
    "    ```python\n",
    "    # In debugging_example.py\n",
    "    def calculate_average(numbers):\n",
    "        breakpoint()  # Execution pauses here, enters pdb\n",
    "        # ... rest of the function\n",
    "    ```\n",
    "    Then run your script normally: `python debugging_example.py`\n",
    "\n",
    "2.  **From command line (to debug the whole script):**\n",
    "    ```bash\n",
    "    python -m pdb debugging_example.py\n",
    "    ```"
   ]
  },
  {
   "cell_type": "markdown",
   "id": "af8ac27b",
   "metadata": {},
   "source": [
    "#### Essential `pdb` Commands (at the `(Pdb)` prompt):\n",
    "- `h(elp) [command]`: Show help.\n",
    "- `l(ist)`: Display source code around the current line.\n",
    "- `n(ext)`: Execute current line, go to next line in current function.\n",
    "- `s(tep)`: Execute current line, step into function calls if any.\n",
    "- `c(ontinue)`: Continue execution until a breakpoint or script end.\n",
    "- `q(uit)`: Quit the debugger.\n",
    "- `p <expression>`: Print value of the expression (e.g., `p my_variable`).\n",
    "- `args`: Print arguments of the current function.\n",
    "- `b <line_num | func_name>`: Set a breakpoint (e.g., `b 15` or `b calculate_average`).\n",
    "- `cl <bp_num>`: Clear a breakpoint (use `b` alone to list breakpoints and their numbers).\n",
    "- `r(eturn)`: Continue execution until the current function returns."
   ]
  },
  {
   "cell_type": "markdown",
   "id": "17238ea2",
   "metadata": {},
   "source": [
    "### b) IDE Debuggers\n",
    "\n",
    "Modern IDEs (VS Code, PyCharm, Spyder, etc.) offer powerful graphical debuggers.\n",
    "\n",
    "**Common Features:**\n",
    "- **Visual Breakpoints:** Click in the editor's gutter next to line numbers.\n",
    "- **Step Controls:** UI buttons for `step over`, `step into`, `step out`, `continue`.\n",
    "- **Variable Inspection:** Panes showing current variable values, updating as you step.\n",
    "- **Call Stack:** Shows the sequence of function calls.\n",
    "- **Watch Expressions:** Monitor specific expressions.\n",
    "\n",
    "**Activity:** Open `debugging_example.py` in your IDE. Set a breakpoint at the start of `calculate_average`. Run the debugger and step through the code with `data1`, `data2` (uncommented), and `data3` (uncommented) to observe the bugs and IDE features."
   ]
  },
  {
   "cell_type": "markdown",
   "id": "12bc47fe",
   "metadata": {},
   "source": [
    "## 3. Error Handling vs. Type Hints\n",
    "\n",
    "**Type Hints (e.g., `numbers: list[float | int]`)**:\n",
    "- **Purpose:** Improve code readability; allow static analysis tools (e.g., MyPy) to catch type errors *before runtime*.\n",
    "- **Debugging Aid:** Clarify expected data types, helping to spot type-related bugs during development.\n",
    "- **Limitation:** Not enforced by Python at runtime by default. They don't prevent runtime `TypeError`s if incorrect types are passed.\n",
    "\n",
    "**Error Handling (e.g., `try-except` blocks)**:\n",
    "- **Purpose:** Gracefully manage errors that occur *at runtime*.\n",
    "- **Debugging Aid:** Can catch and log errors, providing context. Avoid overly broad `except Exception:` which can hide bugs.\n",
    "- **Necessity:** Crucial for robust code to handle unexpected inputs or states (e.g., `TypeError` with `data2`, `ZeroDivisionError` with `data3` in `debugging_example.py`).\n",
    "\n",
    "**Synergy:**\n",
    "- Use type hints to define function contracts.\n",
    "- Use error handling (`if` checks for expected issues, `try-except` for unexpected ones) to manage runtime deviations from these contracts or external issues."
   ]
  }
 ],
 "metadata": {
  "language_info": {
   "name": "python"
  }
 },
 "nbformat": 4,
 "nbformat_minor": 5
}
