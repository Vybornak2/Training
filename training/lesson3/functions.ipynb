{
 "cells": [
  {
   "cell_type": "markdown",
   "metadata": {},
   "source": [
    "# Functions\n",
    "Functions are a convenient way to divide your code into useful blocks, allowing us to order our code, make it more readable, reuse it and save some time.\n",
    "Also, functions are a key way to define interfaces so programmers can share their code.\n",
    "In Python, a function is defined using the `def` keyword."
   ]
  },
  {
   "cell_type": "markdown",
   "metadata": {},
   "source": [
    "## Defining a Function\n",
    "### Syntax:\n",
    "```python\n",
    "def function_name(parameters):\n",
    "    # code block to be executed\n",
    "```"
   ]
  },
  {
   "cell_type": "code",
   "execution_count": null,
   "metadata": {},
   "outputs": [],
   "source": [
    "# Example: Defining a simple function\n",
    "def hello_world(name: str) -> None:\n",
    "    print(f\"Hello {name}.\")"
   ]
  },
  {
   "cell_type": "code",
   "execution_count": null,
   "metadata": {},
   "outputs": [],
   "source": [
    "# Calling the function\n",
    "hello_world(\"Petr\")"
   ]
  },
  {
   "cell_type": "markdown",
   "metadata": {},
   "source": [
    "## Function Parameters\n",
    "Functions can take parameters, which are specified within the parentheses in the function definition.\n",
    "### Example:\n",
    "```python\n",
    "def greet(name):\n",
    "    print(f\"Hello, {name}!\")\n",
    "```"
   ]
  },
  {
   "cell_type": "code",
   "execution_count": null,
   "metadata": {},
   "outputs": [],
   "source": [
    "# Example: Function with parameters\n",
    "def greet(name: str) -> None:\n",
    "    print(f\"Hello, {name}!\")\n",
    "\n",
    "\n",
    "greet(\"Alice\")"
   ]
  },
  {
   "cell_type": "markdown",
   "metadata": {},
   "source": [
    "## Positional and Keyword Arguments\n",
    "Functions can accept both positional and keyword arguments. The way arguments are defined in the function signature determines whether they are positional or keyword arguments."
   ]
  },
  {
   "cell_type": "markdown",
   "metadata": {},
   "source": [
    "### Positional Arguments\n",
    "Positional arguments are arguments that need to be included in the proper position or order. They are defined without default values.\n",
    "Positional arguments are useful when the function requires certain arguments to be passed in a specific order.\n",
    "### Example:\n",
    "```python\n",
    "def describe_pet(animal_type, pet_name):\n",
    "    print(f\"I have a {animal_type} named {pet_name}.\")\n",
    "\n",
    "# Positional arguments\n",
    "describe_pet('dog', 'Buddy')\n",
    "```"
   ]
  },
  {
   "cell_type": "code",
   "execution_count": null,
   "metadata": {},
   "outputs": [],
   "source": [
    "# Example: Function with positional arguments\n",
    "def describe_pet(animal_type, pet_name):\n",
    "    print(f\"I have a {animal_type} named {pet_name}.\")\n",
    "\n",
    "\n",
    "# Positional arguments\n",
    "describe_pet(\"dog\", \"Buddy\")"
   ]
  },
  {
   "cell_type": "markdown",
   "metadata": {},
   "source": [
    "### Keyword Arguments\n",
    "Keyword arguments are arguments that are passed by explicitly specifying the parameter name and value. They are defined with default values in the function signature.\n",
    "Keyword arguments are useful when you want to provide default values for some parameters or when you want to make your function calls more readable.\n",
    "### Example:\n",
    "```python\n",
    "def describe_pet(animal_type, pet_name='Buddy'):\n",
    "    print(f\"I have a {animal_type} named {pet_name}.\")\n",
    "\n",
    "# Keyword arguments\n",
    "describe_pet(animal_type='cat', pet_name='Whiskers')\n",
    "describe_pet(pet_name='Goldie', animal_type='fish')\n",
    "```"
   ]
  },
  {
   "cell_type": "code",
   "execution_count": null,
   "metadata": {},
   "outputs": [],
   "source": [
    "# Example: Function with keyword arguments\n",
    "def describe_pet(animal_type, pet_name=\"Buddy\"):\n",
    "    print(f\"I have a {animal_type} named {pet_name}.\")\n",
    "\n",
    "\n",
    "# Keyword arguments\n",
    "describe_pet(animal_type=\"cat\", pet_name=\"Whiskers\")\n",
    "describe_pet(pet_name=\"Goldie\", animal_type=\"fish\")"
   ]
  },
  {
   "cell_type": "markdown",
   "metadata": {},
   "source": [
    "## Return Statement\n",
    "Functions can return a value using the `return` statement.\n",
    "### Example:\n",
    "```python\n",
    "def add(a, b):\n",
    "    return a + b\n",
    "```"
   ]
  },
  {
   "cell_type": "code",
   "execution_count": null,
   "metadata": {},
   "outputs": [],
   "source": [
    "# Example: Function with return statement\n",
    "def add(a: int, b: int) -> int:\n",
    "    return a + b\n",
    "\n",
    "\n",
    "result = add(3, 5)\n",
    "print(result)"
   ]
  },
  {
   "cell_type": "markdown",
   "metadata": {},
   "source": [
    "## Lambda Functions\n",
    "Lambda functions are small anonymous functions defined using the `lambda` keyword. They can have any number of arguments but only one expression. Lambda functions are often used as arguments to higher-order functions (functions that take other functions as arguments) such as `filter`, `map`, and `sorted`.\n",
    "### Syntax:\n",
    "```python\n",
    "lambda arguments: expression\n",
    "```\n",
    "### Example:\n",
    "```python\n",
    "# Lambda function to add two numbers\n",
    "add = lambda a, b: a + b\n",
    "print(add(3, 5))\n",
    "```\n",
    "### Typical Usage:\n",
    "Lambda functions are typically used in functions like `filter`, `map`, and `sorted`."
   ]
  },
  {
   "cell_type": "code",
   "execution_count": null,
   "metadata": {},
   "outputs": [],
   "source": [
    "# Example: Using lambda with filter\n",
    "numbers = [1, 2, 3, 4, 5, 6, 7, 8, 9, 10]\n",
    "even_numbers = list(filter(lambda x: x % 2 == 0, numbers))\n",
    "print(even_numbers)"
   ]
  },
  {
   "cell_type": "code",
   "execution_count": null,
   "metadata": {},
   "outputs": [],
   "source": [
    "# Example: Using lambda with map\n",
    "squared_numbers = list(map(lambda x: x**2, numbers))\n",
    "print(squared_numbers)"
   ]
  },
  {
   "cell_type": "code",
   "execution_count": null,
   "metadata": {},
   "outputs": [],
   "source": [
    "# Example: Using lambda with sorted\n",
    "points = [(1, 2), (3, 1), (5, 4), (2, 3)]\n",
    "sorted_points = sorted(points, key=lambda point: point[1], reverse=True)\n",
    "print(sorted_points)"
   ]
  }
 ],
 "metadata": {
  "kernelspec": {
   "display_name": ".venv",
   "language": "python",
   "name": "python3"
  },
  "language_info": {
   "codemirror_mode": {
    "name": "ipython",
    "version": 3
   },
   "file_extension": ".py",
   "mimetype": "text/x-python",
   "name": "python",
   "nbconvert_exporter": "python",
   "pygments_lexer": "ipython3",
   "version": "3.13.0"
  }
 },
 "nbformat": 4,
 "nbformat_minor": 2
}
