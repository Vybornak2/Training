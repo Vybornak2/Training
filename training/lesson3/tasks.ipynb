{
 "cells": [
  {
   "cell_type": "markdown",
   "metadata": {},
   "source": [
    "# Tasks"
   ]
  },
  {
   "cell_type": "markdown",
   "metadata": {},
   "source": [
    "## Task 1: Find the sum of all numbers in a list"
   ]
  },
  {
   "cell_type": "code",
   "execution_count": null,
   "metadata": {},
   "outputs": [],
   "source": [
    "# Do not change this cell\n",
    "import random\n",
    "\n",
    "my_list = [random.randint(0, 100) for _ in range(50)]\n",
    "print(my_list)"
   ]
  },
  {
   "cell_type": "code",
   "execution_count": null,
   "metadata": {},
   "outputs": [],
   "source": [
    "# Implement the function below without using the built-in sum function\n",
    "# If implemented correctly, next cell will not raise any error\n",
    "\n",
    "\n",
    "def get_sum(my_list: list) -> int:\n",
    "    raise NotImplementedError"
   ]
  },
  {
   "cell_type": "code",
   "execution_count": null,
   "metadata": {},
   "outputs": [],
   "source": [
    "assert get_sum(my_list) == sum(my_list)"
   ]
  },
  {
   "cell_type": "markdown",
   "metadata": {},
   "source": [
    "## Task 2: Find the sum of all even numbers in a list"
   ]
  },
  {
   "cell_type": "code",
   "execution_count": null,
   "metadata": {},
   "outputs": [],
   "source": [
    "# Implement the function below without using the built-in sum, filter function\n",
    "# Use only for loop and if statement\n",
    "# If implemented correctly, next cell will not raise any error\n",
    "\n",
    "\n",
    "def get_even_sum(my_list: list) -> int:\n",
    "    raise NotImplementedError"
   ]
  },
  {
   "cell_type": "code",
   "execution_count": null,
   "metadata": {},
   "outputs": [],
   "source": [
    "assert get_even_sum(my_list) == sum(filter(lambda x: x % 2 == 0, my_list))"
   ]
  },
  {
   "cell_type": "markdown",
   "metadata": {},
   "source": [
    "## Task 3: get index of a number and preceding sum \n",
    "\n",
    "- find a index of a first number in a list where sum of preceding numbers is greater than 500\n",
    "- return index of that number and sum of preceding numbers"
   ]
  },
  {
   "cell_type": "code",
   "execution_count": null,
   "metadata": {},
   "outputs": [],
   "source": [
    "def get_index(my_list: list) -> tuple[int, int]:\n",
    "    total = 0\n",
    "    index = 0\n",
    "    raise NotImplementedError\n",
    "    return (index, total)"
   ]
  },
  {
   "cell_type": "code",
   "execution_count": null,
   "metadata": {},
   "outputs": [],
   "source": [
    "index, total = get_index(my_list)\n",
    "assert total == sum(my_list[:index])"
   ]
  },
  {
   "cell_type": "markdown",
   "metadata": {},
   "source": [
    "## Task 4: working with text\n",
    "- text is stored in text.txt file. Function to read the text is provided\n",
    "\n",
    "1. find the number of words in the text\n",
    "2. find a number of unique words in the text\n",
    "3. find 50th word in the text\n",
    "4. find a number of occurrences of word 'the' in the text\n",
    "5. find a number of occurrences of word 'the' in the text ignoring case\n",
    "6. find a number of words that start with a letter 'a' or 'A'\n",
    "7. find a number of words longer than 5 characters\n",
    "8. find a number of words longer than 5 characters and shorter than 8 characters"
   ]
  },
  {
   "cell_type": "code",
   "execution_count": 10,
   "metadata": {},
   "outputs": [
    {
     "name": "stdout",
     "output_type": "stream",
     "text": [
      "<class 'str'>\n"
     ]
    }
   ],
   "source": [
    "with open(\"text.txt\", \"r\") as f:\n",
    "    text = f.read()\n",
    "\n",
    "print(type(text))"
   ]
  }
 ],
 "metadata": {
  "kernelspec": {
   "display_name": ".venv",
   "language": "python",
   "name": "python3"
  },
  "language_info": {
   "codemirror_mode": {
    "name": "ipython",
    "version": 3
   },
   "file_extension": ".py",
   "mimetype": "text/x-python",
   "name": "python",
   "nbconvert_exporter": "python",
   "pygments_lexer": "ipython3",
   "version": "3.11.11"
  }
 },
 "nbformat": 4,
 "nbformat_minor": 2
}
