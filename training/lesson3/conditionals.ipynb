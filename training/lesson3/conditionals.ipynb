{
 "cells": [
  {
   "cell_type": "markdown",
   "metadata": {},
   "source": [
    "# Conditional Statements\n",
    "Conditional statements are used to perform different computations or actions depending on whether a condition evaluates to `True` or `False`.\n",
    "The main conditional statements used in Python are:\n",
    "- **if**\n",
    "- **else**\n",
    "- **elif**"
   ]
  },
  {
   "cell_type": "markdown",
   "metadata": {},
   "source": [
    "## If Statement\n",
    "The `if` statement is used to test a specific condition. If the condition is true, a block of code will be executed.\n",
    "### Syntax:\n",
    "```python\n",
    "if condition:\n",
    "    # code block to be executed if condition is true\n",
    "```"
   ]
  },
  {
   "cell_type": "code",
   "execution_count": null,
   "metadata": {},
   "outputs": [],
   "source": [
    "# Example: Checking if a number is positive\n",
    "a = 10\n",
    "if a > 0:\n",
    "    print(\"a is positive\")"
   ]
  },
  {
   "cell_type": "markdown",
   "metadata": {},
   "source": [
    "## If-Else Statement\n",
    "The `if-else` statement is used to test a specific condition. If the condition is true, a block of code will be executed; otherwise, another block of code will be executed.\n",
    "### Syntax:\n",
    "```python\n",
    "if condition:\n",
    "    # code block to be executed if condition is true\n",
    "else:\n",
    "    # code block to be executed if condition is false\n",
    "```"
   ]
  },
  {
   "cell_type": "code",
   "execution_count": null,
   "metadata": {},
   "outputs": [],
   "source": [
    "# Example: Checking if a number is positive or negative\n",
    "a = -5\n",
    "if a > 0:\n",
    "    print(\"a is positive\")\n",
    "else:\n",
    "    print(\"a is negative\")"
   ]
  },
  {
   "cell_type": "markdown",
   "metadata": {},
   "source": [
    "## If-Elif-Else Statement\n",
    "The `if-elif-else` statement is used to test multiple conditions. If one of the conditions is true, a corresponding block of code will be executed.\n",
    "### Syntax:\n",
    "```python\n",
    "if condition1:\n",
    "    # code block to be executed if condition1 is true\n",
    "elif condition2:\n",
    "    # code block to be executed if condition2 is true\n",
    "else:\n",
    "    # code block to be executed if none of the conditions are true\n",
    "```"
   ]
  },
  {
   "cell_type": "code",
   "execution_count": null,
   "metadata": {},
   "outputs": [],
   "source": [
    "# Example: Checking if a number is positive, negative, or zero\n",
    "a = 0\n",
    "if a > 0:\n",
    "    print(\"a is positive\")\n",
    "elif a < 0:\n",
    "    print(\"a is negative\")\n",
    "else:\n",
    "    print(\"a is zero\")"
   ]
  },
  {
   "cell_type": "markdown",
   "metadata": {},
   "source": [
    "## Combining Conditions\n",
    "You can combine multiple conditions using logical operators `and` and `or`.\n",
    "### Syntax:\n",
    "```python\n",
    "if condition1 and condition2:\n",
    "    # code block to be executed if both conditions are true\n",
    "if condition1 or condition2:\n",
    "    # code block to be executed if at least one condition is true\n",
    "```"
   ]
  },
  {
   "cell_type": "code",
   "execution_count": null,
   "metadata": {},
   "outputs": [],
   "source": [
    "# Example: Combining conditions using and\n",
    "a = 10\n",
    "b = 20\n",
    "if a > 0 and b > 0:\n",
    "    print(\"Both a and b are positive\")"
   ]
  },
  {
   "cell_type": "code",
   "execution_count": null,
   "metadata": {},
   "outputs": [],
   "source": [
    "# Example: Combining conditions using or\n",
    "a = -10\n",
    "b = 20\n",
    "if a > 0 or b > 0:\n",
    "    print(\"At least one of a or b is positive\")"
   ]
  }
 ],
 "metadata": {
  "kernelspec": {
   "display_name": ".venv",
   "language": "python",
   "name": "python3"
  },
  "language_info": {
   "codemirror_mode": {
    "name": "ipython",
    "version": 3
   },
   "file_extension": ".py",
   "mimetype": "text/x-python",
   "name": "python",
   "nbconvert_exporter": "python",
   "pygments_lexer": "ipython3",
   "version": "3.13.0"
  }
 },
 "nbformat": 4,
 "nbformat_minor": 2
}
