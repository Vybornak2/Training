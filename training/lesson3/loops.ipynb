{
 "cells": [
  {
   "cell_type": "markdown",
   "metadata": {},
   "source": [
    "# Loops\n",
    "Loops are used to repeat a block of code multiple times.\n",
    "In Python, there are two types of loops:\n",
    "- **for loop**\n",
    "- **while loop**"
   ]
  },
  {
   "cell_type": "markdown",
   "metadata": {},
   "source": [
    "## For Loop\n",
    "The `for` loop is used to iterate over a sequence (such as a list, tuple, string) or other iterable objects.\n",
    "### Syntax:\n",
    "```python\n",
    "for variable in sequence:\n",
    "    # code block to be executed\n",
    "```"
   ]
  },
  {
   "cell_type": "code",
   "execution_count": null,
   "metadata": {},
   "outputs": [],
   "source": [
    "# Example: Iterating over a range\n",
    "for i in range(5):\n",
    "    print(i)"
   ]
  },
  {
   "cell_type": "code",
   "execution_count": null,
   "metadata": {},
   "outputs": [],
   "source": [
    "# Example: Iterating with a step\n",
    "for i in range(1, 10, 2):\n",
    "    print(i)"
   ]
  },
  {
   "cell_type": "code",
   "execution_count": null,
   "metadata": {},
   "outputs": [],
   "source": [
    "# Example: Iterating over a string\n",
    "for letter in \"hello\":\n",
    "    print(letter)"
   ]
  },
  {
   "cell_type": "code",
   "execution_count": null,
   "metadata": {},
   "outputs": [],
   "source": [
    "# Example: Iterating over a list\n",
    "some_list = [11, 12, 13, 14, 15]\n",
    "for i in some_list:\n",
    "    print(i)"
   ]
  },
  {
   "cell_type": "code",
   "execution_count": null,
   "metadata": {},
   "outputs": [],
   "source": [
    "# Example: Using enumerate\n",
    "words = [\"hello\", \"world\", \"spam\", \"eggs\"]\n",
    "for i, word in enumerate(words):\n",
    "    print(f\"{i + 1}. word is {word}\")"
   ]
  },
  {
   "cell_type": "markdown",
   "metadata": {},
   "source": [
    "## While Loop\n",
    "The `while` loop is used to repeat a block of code as long as a condition is true.\n",
    "### Syntax:\n",
    "```python\n",
    "while condition:\n",
    "    # code block to be executed\n",
    "```"
   ]
  },
  {
   "cell_type": "code",
   "execution_count": null,
   "metadata": {},
   "outputs": [],
   "source": [
    "# Example: Countdown\n",
    "until_start = 5\n",
    "while until_start > 0:\n",
    "    print(until_start)\n",
    "    until_start -= 1\n",
    "print(\"Blastoff!\")"
   ]
  },
  {
   "cell_type": "markdown",
   "metadata": {},
   "source": [
    "## Break and Continue\n",
    "The `break` statement is used to exit a loop prematurely.\n",
    "The `continue` statement is used to skip the rest of the code inside the loop for the current iteration only.\n",
    "### Syntax:\n",
    "```python\n",
    "for variable in sequence:\n",
    "    if condition:\n",
    "        break\n",
    "    if condition:\n",
    "        continue\n",
    "    # code block to be executed\n",
    "```"
   ]
  },
  {
   "cell_type": "code",
   "execution_count": null,
   "metadata": {},
   "outputs": [],
   "source": [
    "# Example: Using break\n",
    "for i in range(10):\n",
    "    if i == 5:\n",
    "        break\n",
    "    print(i)"
   ]
  },
  {
   "cell_type": "code",
   "execution_count": null,
   "metadata": {},
   "outputs": [],
   "source": [
    "# Example: Using continue\n",
    "for i in range(10):\n",
    "    if i % 2 == 0:\n",
    "        continue\n",
    "    print(i)"
   ]
  },
  {
   "cell_type": "markdown",
   "metadata": {},
   "source": [
    "## Else in Loops\n",
    "The `else` block in a loop is executed when the loop is exhausted (i.e., the loop condition becomes false). However, if the loop is terminated by a `break` statement, the `else` block will not be executed.\n",
    "### Syntax:\n",
    "```python\n",
    "for variable in sequence:\n",
    "    # code block to be executed\n",
    "else:\n",
    "    # code block to be executed when the loop is exhausted\n",
    "```"
   ]
  },
  {
   "cell_type": "code",
   "execution_count": null,
   "metadata": {},
   "outputs": [],
   "source": [
    "# Example: Using else in a loop\n",
    "for i in range(5):\n",
    "    print(i)\n",
    "else:\n",
    "    print(\"Loop is exhausted\")"
   ]
  },
  {
   "cell_type": "code",
   "execution_count": null,
   "metadata": {},
   "outputs": [],
   "source": [
    "# Example: Else block not executed due to break\n",
    "for i in range(5):\n",
    "    if i == 3:\n",
    "        break\n",
    "    print(i)\n",
    "else:\n",
    "    print(\"Loop is exhausted\")"
   ]
  }
 ],
 "metadata": {
  "kernelspec": {
   "display_name": ".venv",
   "language": "python",
   "name": "python3"
  },
  "language_info": {
   "codemirror_mode": {
    "name": "ipython",
    "version": 3
   },
   "file_extension": ".py",
   "mimetype": "text/x-python",
   "name": "python",
   "nbconvert_exporter": "python",
   "pygments_lexer": "ipython3",
   "version": "3.13.0"
  }
 },
 "nbformat": 4,
 "nbformat_minor": 2
}
