{
 "cells": [
  {
   "cell_type": "markdown",
   "metadata": {},
   "source": [
    "# Lesson 3: Loops, Conditional Statements, and Functions\n",
    "\n",
    "In this lesson, we will explore loops, conditional statements, and functions in Python. These are fundamental concepts that will help you write more efficient and organized code."
   ]
  },
  {
   "cell_type": "markdown",
   "metadata": {},
   "source": [
    "## Topics Covered\n",
    "- [Loops](./loops.ipynb)\n",
    "- [Conditional Statements](./conditionals.ipynb)\n",
    "- [Functions](./functions.ipynb)"
   ]
  },
  {
   "cell_type": "markdown",
   "metadata": {},
   "source": [
    "## Importance of These Concepts\n",
    "Understanding loops, conditional statements, and functions is crucial for any programmer. These concepts allow you to:\n",
    "- Automate repetitive tasks using loops.\n",
    "  ```python\n",
    "  # Example of a loop\n",
    "  for i in range(5):\n",
    "      print(i)\n",
    "  ```\n",
    "- Make decisions in your code using conditional statements.\n",
    "  ```python\n",
    "  # Example of a conditional statement\n",
    "  x = 10\n",
    "  if x > 5:\n",
    "      print('x is greater than 5')\n",
    "      \n",
    "  else:\n",
    "      print('x is 5 or less')\n",
    "  ```\n",
    "- Organize your code into reusable blocks using functions.\n",
    "  ```python\n",
    "  # Example of a function\n",
    "  def greet(name):\n",
    "      return f'Hello, {name}!'\n",
    "  print(greet('Alice'))\n",
    "  ```"
   ]
  }
 ],
 "metadata": {
  "language_info": {
   "name": "python"
  }
 },
 "nbformat": 4,
 "nbformat_minor": 2
}
