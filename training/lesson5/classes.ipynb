{
 "cells": [
  {
   "cell_type": "markdown",
   "metadata": {},
   "source": [
    "# Classes in Python\n",
    "\n",
    "Classes are a fundamental feature of object-oriented programming (OOP) in Python. They allow you to structure your code by creating custom data types."
   ]
  },
  {
   "cell_type": "markdown",
   "metadata": {},
   "source": [
    "## Introduction to Object-Oriented Programming\n",
    "\n",
    "Object-Oriented Programming (OOP) is a programming paradigm based on the concept of \"objects\", which can contain data and code:\n",
    "- **Data** in the form of fields (often known as attributes or properties)\n",
    "- **Code** in the form of procedures (often known as methods)"
   ]
  },
  {
   "cell_type": "markdown",
   "metadata": {},
   "source": [
    "## Basic Class Structure\n",
    "\n",
    "A class in Python is defined using the `class` keyword:"
   ]
  },
  {
   "cell_type": "code",
   "execution_count": null,
   "metadata": {},
   "outputs": [],
   "source": [
    "class Person:\n",
    "    # Class attributes (shared by all instances)\n",
    "    species = \"Homo sapiens\"\n",
    "\n",
    "    # Constructor (initialization) method\n",
    "    def __init__(self, name, age):\n",
    "        # Instance attributes (unique to each instance)\n",
    "        self.name = name\n",
    "        self.age = age\n",
    "\n",
    "    # Instance method\n",
    "    def introduce(self):\n",
    "        return f\"Hello, my name is {self.name} and I am {self.age} years old.\"\n",
    "\n",
    "\n",
    "# Creating an instance of the class\n",
    "person1 = Person(\"Alice\", 30)\n",
    "print(person1.introduce())\n",
    "print(f\"{person1.name} belongs to species: {person1.species}\")"
   ]
  },
  {
   "cell_type": "markdown",
   "metadata": {},
   "source": [
    "### Key Components of a Class\n",
    "\n",
    "1. **Class Definition**: The `class` keyword followed by the class name\n",
    "2. **Constructor**: The `__init__` method for initializing new objects\n",
    "3. **Instance Attributes**: Variables specific to each instance (defined with `self.`)\n",
    "4. **Class Attributes**: Variables shared among all instances of the class\n",
    "5. **Methods**: Functions defined within a class that can operate on its attributes"
   ]
  },
  {
   "cell_type": "markdown",
   "metadata": {},
   "source": [
    "## Creating Objects (Instances)\n",
    "\n",
    "Once a class is defined, you can create objects (instances) of that class:"
   ]
  },
  {
   "cell_type": "code",
   "execution_count": null,
   "metadata": {},
   "outputs": [],
   "source": [
    "# Creating multiple instances\n",
    "person1 = Person(\"Alice\", 30)\n",
    "person2 = Person(\"Bob\", 25)\n",
    "\n",
    "# Each instance has its own attributes\n",
    "print(person1.name, person1.age)  # Alice 30\n",
    "print(person2.name, person2.age)  # Bob 25\n",
    "\n",
    "# But they share class attributes\n",
    "print(person1.species == person2.species)  # True"
   ]
  },
  {
   "cell_type": "markdown",
   "metadata": {},
   "source": [
    "## Inheritance\n",
    "\n",
    "Inheritance allows a class to inherit attributes and methods from another class:"
   ]
  },
  {
   "cell_type": "code",
   "execution_count": null,
   "metadata": {},
   "outputs": [],
   "source": [
    "class Student(Person):  # Student inherits from Person\n",
    "    def __init__(self, name, age, student_id):\n",
    "        # Call the parent class's __init__ method\n",
    "        super().__init__(name, age)\n",
    "        # Add Student-specific attributes\n",
    "        self.student_id = student_id\n",
    "        self.grades = []\n",
    "\n",
    "    def add_grade(self, grade):\n",
    "        self.grades.append(grade)\n",
    "\n",
    "    def get_average_grade(self):\n",
    "        if not self.grades:\n",
    "            return 0\n",
    "        return sum(self.grades) / len(self.grades)\n",
    "\n",
    "    # Override the introduce method from the parent class\n",
    "    def introduce(self):\n",
    "        return f\"{super().introduce()} I am a student with ID {self.student_id}.\"\n",
    "\n",
    "\n",
    "# Creating a Student object\n",
    "student1 = Student(\"Carol\", 20, \"S12345\")\n",
    "student1.add_grade(85)\n",
    "student1.add_grade(92)\n",
    "\n",
    "print(student1.introduce())\n",
    "print(f\"Average grade: {student1.get_average_grade()}\")"
   ]
  },
  {
   "cell_type": "markdown",
   "metadata": {},
   "source": [
    "## Encapsulation\n",
    "\n",
    "Encapsulation is about restricting direct access to some of an object's components. Python uses naming conventions to indicate private attributes:"
   ]
  },
  {
   "cell_type": "code",
   "execution_count": null,
   "metadata": {},
   "outputs": [],
   "source": [
    "class BankAccount:\n",
    "    def __init__(self, owner, initial_balance=0):\n",
    "        self.owner = owner\n",
    "        self._balance = initial_balance  # Protected attribute (convention)\n",
    "\n",
    "    def deposit(self, amount):\n",
    "        if amount > 0:\n",
    "            self._balance += amount\n",
    "            return True\n",
    "        return False\n",
    "\n",
    "    def withdraw(self, amount):\n",
    "        if 0 < amount <= self._balance:\n",
    "            self._balance -= amount\n",
    "            return True\n",
    "        return False\n",
    "\n",
    "    def get_balance(self):\n",
    "        return self._balance\n",
    "\n",
    "\n",
    "# Using the BankAccount class\n",
    "account = BankAccount(\"David\", 1000)\n",
    "account.deposit(500)\n",
    "account.withdraw(200)\n",
    "print(f\"Current balance: ${account.get_balance()}\")"
   ]
  },
  {
   "cell_type": "markdown",
   "metadata": {},
   "source": [
    "## Special Methods (Magic Methods)\n",
    "\n",
    "Python classes can implement special methods, also called \"magic methods\" or \"dunder methods\" (double underscore methods):"
   ]
  },
  {
   "cell_type": "code",
   "execution_count": null,
   "metadata": {},
   "outputs": [],
   "source": [
    "class Rectangle:\n",
    "    def __init__(self, width, height):\n",
    "        self.width = width\n",
    "        self.height = height\n",
    "\n",
    "    def __str__(self):\n",
    "        return f\"Rectangle(width={self.width}, height={self.height})\"\n",
    "\n",
    "    def __repr__(self):\n",
    "        return f\"Rectangle({self.width}, {self.height})\"\n",
    "\n",
    "    def __eq__(self, other):\n",
    "        if not isinstance(other, Rectangle):\n",
    "            return False\n",
    "        return self.width == other.width and self.height == other.height\n",
    "\n",
    "    def __add__(self, other):\n",
    "        if isinstance(other, Rectangle):\n",
    "            return Rectangle(self.width + other.width, self.height + other.height)\n",
    "        return NotImplemented\n",
    "\n",
    "\n",
    "# Using the Rectangle class\n",
    "rect1 = Rectangle(5, 10)\n",
    "rect2 = Rectangle(3, 7)\n",
    "\n",
    "print(rect1)  # __str__ is called\n",
    "print(repr(rect2))  # __repr__ is called\n",
    "print(rect1 == Rectangle(5, 10))  # __eq__ is called\n",
    "rect3 = rect1 + rect2  # __add__ is called\n",
    "print(rect3)"
   ]
  },
  {
   "cell_type": "markdown",
   "metadata": {},
   "source": [
    "## Properties and Decorators\n",
    "\n",
    "Properties allow controlled access to class attributes:"
   ]
  },
  {
   "cell_type": "code",
   "execution_count": null,
   "metadata": {},
   "outputs": [],
   "source": [
    "class Circle:\n",
    "    def __init__(self, radius):\n",
    "        self._radius = radius\n",
    "\n",
    "    @property\n",
    "    def radius(self):\n",
    "        return self._radius\n",
    "\n",
    "    @radius.setter\n",
    "    def radius(self, value):\n",
    "        if value > 0:\n",
    "            self._radius = value\n",
    "        else:\n",
    "            raise ValueError(\"Radius must be positive\")\n",
    "\n",
    "    @property\n",
    "    def diameter(self):\n",
    "        return 2 * self._radius\n",
    "\n",
    "    @property\n",
    "    def area(self):\n",
    "        import math\n",
    "\n",
    "        return math.pi * (self._radius**2)\n",
    "\n",
    "\n",
    "# Using the Circle class\n",
    "circle = Circle(5)\n",
    "print(f\"Radius: {circle.radius}\")\n",
    "print(f\"Diameter: {circle.diameter}\")\n",
    "print(f\"Area: {circle.area:.2f}\")\n",
    "\n",
    "# Setting a new radius\n",
    "circle.radius = 7\n",
    "print(f\"New radius: {circle.radius}\")\n",
    "print(f\"New diameter: {circle.diameter}\")\n",
    "\n",
    "try:\n",
    "    circle.radius = -2  # This will raise a ValueError\n",
    "except ValueError as e:\n",
    "    print(f\"Error: {e}\")"
   ]
  },
  {
   "cell_type": "markdown",
   "metadata": {},
   "source": [
    "## Class Methods and Static Methods\n",
    "\n",
    "Python classes can have instance methods, class methods, and static methods:"
   ]
  },
  {
   "cell_type": "code",
   "execution_count": null,
   "metadata": {},
   "outputs": [],
   "source": [
    "class Date:\n",
    "    def __init__(self, day, month, year):\n",
    "        self.day = day\n",
    "        self.month = month\n",
    "        self.year = year\n",
    "\n",
    "    # Instance method (operates on an instance)\n",
    "    def display(self):\n",
    "        return f\"{self.day:02d}/{self.month:02d}/{self.year}\"\n",
    "\n",
    "    # Class method (operates on the class)\n",
    "    @classmethod\n",
    "    def from_string(cls, date_string):\n",
    "        day, month, year = map(int, date_string.split(\"-\"))\n",
    "        return cls(day, month, year)\n",
    "\n",
    "    # Static method (doesn't depend on instance or class)\n",
    "    @staticmethod\n",
    "    def is_valid_date(day, month, year):\n",
    "        if month < 1 or month > 12:\n",
    "            return False\n",
    "        if day < 1:\n",
    "            return False\n",
    "        if month in [4, 6, 9, 11] and day > 30:\n",
    "            return False\n",
    "        if month == 2:\n",
    "            # Leap year check\n",
    "            is_leap = year % 4 == 0 and (year % 100 != 0 or year % 400 == 0)\n",
    "            if day > 29 or (not is_leap and day > 28):\n",
    "                return False\n",
    "        elif day > 31:\n",
    "            return False\n",
    "        return True\n",
    "\n",
    "\n",
    "# Using instance method\n",
    "date1 = Date(15, 8, 2023)\n",
    "print(date1.display())\n",
    "\n",
    "# Using class method\n",
    "date2 = Date.from_string(\"25-12-2023\")\n",
    "print(date2.display())\n",
    "\n",
    "# Using static method\n",
    "print(Date.is_valid_date(31, 4, 2023))  # April has only 30 days\n",
    "print(Date.is_valid_date(29, 2, 2020))  # 2020 is a leap year"
   ]
  },
  {
   "cell_type": "markdown",
   "metadata": {},
   "source": [
    "## Best Practices for Classes\n",
    "\n",
    "1. **Follow naming conventions:**\n",
    "   - Class names should use CamelCase\n",
    "   - Method and attribute names should use snake_case\n",
    "   - Protected attributes should be prefixed with a single underscore (`_`)\n",
    "\n",
    "2. **Write docstrings** for classes and methods to document their purpose and usage\n",
    "\n",
    "3. **Keep classes focused** on a single responsibility\n",
    "\n",
    "4. **Use inheritance** when there's a genuine \"is-a\" relationship\n",
    "\n",
    "5. **Prefer composition** over inheritance when possible\n",
    "\n",
    "6. **Use properties** for computed attributes rather than methods"
   ]
  },
  {
   "cell_type": "markdown",
   "metadata": {},
   "source": [
    "## Exercise: Creating a Library System\n",
    "\n",
    "Try creating a simple library system with the following classes:\n",
    "\n",
    "1. A `Book` class with attributes for title, author, ISBN, and availability status\n",
    "2. A `Library` class that can add books, remove books, and track loans\n",
    "3. A `Member` class that can borrow and return books"
   ]
  }
 ],
 "metadata": {
  "language_info": {
   "name": "python"
  }
 },
 "nbformat": 4,
 "nbformat_minor": 2
}
