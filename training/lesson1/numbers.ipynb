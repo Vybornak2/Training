{
 "cells": [
  {
   "cell_type": "markdown",
   "metadata": {},
   "source": [
    "# Numbers\n",
    "In this lesson, we will explore different types of numbers in Python and their operations."
   ]
  },
  {
   "cell_type": "markdown",
   "metadata": {},
   "source": [
    "## Integer\n",
    "Integers are whole numbers that can be positive or negative and do not have a decimal point."
   ]
  },
  {
   "cell_type": "code",
   "execution_count": null,
   "metadata": {},
   "outputs": [],
   "source": [
    "# fmt: off\n",
    "a = 1 \n",
    "b = 0xF # hexadecimal number\n",
    "c = 0b10 # binary number\n",
    "d = 0o10 # octal number\n",
    "e = 1_000_000 # underscore for readability\n",
    "f = -20 \n",
    "# fmt: on\n",
    "\n",
    "# Display the type and value of each variable\n",
    "for k, v in {\"a\": a, \"b\": b, \"c\": c, \"d\": d, \"e\": e, \"f\": f}.items():\n",
    "    print(f\"type of {k}: {type(v)} = {v}\")"
   ]
  },
  {
   "cell_type": "markdown",
   "metadata": {},
   "source": [
    "## Float\n",
    "Floats are decimal numbers that can be positive or negative and have a decimal point."
   ]
  },
  {
   "cell_type": "code",
   "execution_count": null,
   "metadata": {},
   "outputs": [],
   "source": [
    "# fmt: off\n",
    "a = 1.0\n",
    "b = .1\n",
    "c = 1.\n",
    "d = 1.0e-3 # scientific notation\n",
    "# fmt: on\n",
    "\n",
    "# Display the type and value of each variable\n",
    "for k, v in {\"a\": a, \"b\": b, \"c\": c, \"d\": d}.items():\n",
    "    print(f\"type of {k}: {type(v)} = {v}\")"
   ]
  },
  {
   "cell_type": "markdown",
   "metadata": {},
   "source": [
    "## Operations\n",
    "Here are some common operations you can perform with numbers:\n",
    "- Addition: `+`\n",
    "- Subtraction: `-`\n",
    "- Multiplication: `*`\n",
    "- Division: `/`\n",
    "- Floor Division: `//`\n",
    "- Modulus: `%`\n",
    "- Exponentiation: `**`\n",
    "- Increment: `+=`\n",
    "- Decrement: `-=`\n",
    "\n",
    "_Note: Operations between a float and an integer result in a float._"
   ]
  },
  {
   "cell_type": "code",
   "execution_count": null,
   "metadata": {},
   "outputs": [],
   "source": [
    "a = 5\n",
    "b = 2.5\n",
    "\n",
    "print(\"a =\", a, \", type:\", type(a))\n",
    "print(\"b =\", b, \", type:\", type(b))\n",
    "\n",
    "print()\n",
    "\n",
    "print(\"a + b =\", a + b, \", type:\", type(a + b))\n",
    "print(\"a - b =\", a - b, \", type:\", type(a - b))\n",
    "print(\"a * b =\", a * b, \", type:\", type(a * b))\n",
    "print(\"a / b =\", a / b, \", type:\", type(a / b))\n",
    "print(\"a // b =\", a // b, \", type:\", type(a // b))\n",
    "print(\"a % b =\", a % b, \", type:\", type(a % b))\n",
    "print(\"a ** b =\", a**b, \", type:\", type(a**b))"
   ]
  },
  {
   "cell_type": "code",
   "execution_count": null,
   "metadata": {},
   "outputs": [],
   "source": [
    "a = 5\n",
    "b = 2\n",
    "\n",
    "print(\"a =\", a, \", type:\", type(a))\n",
    "print(\"b =\", b, \", type:\", type(b))\n",
    "\n",
    "print()\n",
    "\n",
    "print(\"a + b =\", a + b, \", type:\", type(a + b))\n",
    "print(\"a - b =\", a - b, \", type:\", type(a - b))\n",
    "print(\"a * b =\", a * b, \", type:\", type(a * b))\n",
    "print(\"a / b =\", a / b, \", type:\", type(a / b))\n",
    "print(\"a // b =\", a // b, \", type:\", type(a // b))\n",
    "print(\"a % b =\", a % b, \", type:\", type(a % b))\n",
    "print(\"a ** b =\", a**b, \", type:\", type(a**b))"
   ]
  },
  {
   "cell_type": "markdown",
   "metadata": {},
   "source": [
    "## Inplace Operations\n",
    "Inplace operations modify the variable directly:\n",
    "- Inplace addition: `+=`\n",
    "- Inplace subtraction: `-=`\n",
    "- Inplace multiplication: `*=`\n",
    "- Inplace division: `/=`\n",
    "- Inplace floor division: `//=`\n",
    "- Inplace modulus: `%=`\n",
    "- Inplace exponentiation: `**=`"
   ]
  },
  {
   "cell_type": "code",
   "execution_count": null,
   "metadata": {},
   "outputs": [],
   "source": [
    "a = 100\n",
    "print(f\"a = {a}\")\n",
    "\n",
    "a += 10\n",
    "print(f\"a += 10: {a}\")\n",
    "\n",
    "a -= 10\n",
    "print(f\"a -= 10: {a}\")\n",
    "\n",
    "a *= 10\n",
    "print(f\"a *= 10: {a}\")\n",
    "\n",
    "a /= 10\n",
    "print(f\"a /= 10: {a}\")\n",
    "\n",
    "a //= 10\n",
    "print(f\"a //= 10: {a}\")\n",
    "\n",
    "a %= 10\n",
    "print(f\"a %= 10: {a}\")\n",
    "\n",
    "a **= 10\n",
    "print(f\"a **= 10: {a}\")"
   ]
  },
  {
   "cell_type": "markdown",
   "metadata": {},
   "source": [
    "## Casting\n",
    "Casting allows you to convert one type of number to another:\n",
    "- `int()`: convert to integer\n",
    "- `float()`: convert to float"
   ]
  },
  {
   "cell_type": "code",
   "execution_count": null,
   "metadata": {},
   "outputs": [],
   "source": [
    "a0 = 5.9\n",
    "a1 = int(a0)\n",
    "print(f\"int({a0}) = {a1}\")\n",
    "print(f\"round({a0}) = {round(a0)}\")\n",
    "print(f\"type(a1) = {type(a1)}\")\n",
    "\n",
    "del a0, a1"
   ]
  },
  {
   "cell_type": "markdown",
   "metadata": {},
   "source": [
    "### What can be casted to integer/float?\n",
    "You can cast the following to an integer or float:\n",
    "- Integer\n",
    "- Float\n",
    "- String (if the string contains only numbers)\n",
    "- Boolean (True: 1, False: 0)"
   ]
  },
  {
   "cell_type": "code",
   "execution_count": null,
   "metadata": {},
   "outputs": [],
   "source": [
    "print(f\"int(5.9) = {int(5.9)}\")\n",
    "print(f\"int('5') = {int('5')}\")\n",
    "print(f\"int(True) = {int(True)}\")\n",
    "print(f\"int(False) = {int(False)}\")"
   ]
  },
  {
   "cell_type": "markdown",
   "metadata": {},
   "source": [
    "## Complex Numbers\n",
    "Complex numbers are represented as `a + bj` where `a` is the real part and `b` is the imaginary part."
   ]
  },
  {
   "cell_type": "code",
   "execution_count": null,
   "metadata": {},
   "outputs": [],
   "source": [
    "a = 1 + 2j\n",
    "b = 3 - 4j\n",
    "\n",
    "print(f\"a = {a}, type: {type(a)}\")\n",
    "print(f\"b = {b}, type: {type(b)}\")\n",
    "\n",
    "print()\n",
    "\n",
    "print(f\"a + b = {a + b}\")\n",
    "print(f\"a - b = {a - b}\")\n",
    "print(f\"a * b = {a * b}\")\n",
    "print(f\"a / b = {a / b}\")"
   ]
  },
  {
   "cell_type": "markdown",
   "metadata": {},
   "source": [
    "## Additional Operations\n",
    "Here are some additional operations you can perform with numbers:\n",
    "- Absolute value: `abs()`\n",
    "- Rounding: `round()`\n",
    "\n",
    "_Note: More operations can be found in the `math` module._"
   ]
  },
  {
   "cell_type": "code",
   "execution_count": null,
   "metadata": {},
   "outputs": [],
   "source": [
    "a = -5.5\n",
    "b = 2.34567\n",
    "\n",
    "print(f\"abs({a}) = {abs(a)}\")\n",
    "print(f\"round({b}, 2) = {round(b, 2)}\")"
   ]
  }
 ],
 "metadata": {
  "kernelspec": {
   "display_name": ".venv",
   "language": "python",
   "name": "python3"
  },
  "language_info": {
   "codemirror_mode": {
    "name": "ipython",
    "version": 3
   },
   "file_extension": ".py",
   "mimetype": "text/x-python",
   "name": "python",
   "nbconvert_exporter": "python",
   "pygments_lexer": "ipython3",
   "version": "3.13.0"
  }
 },
 "nbformat": 4,
 "nbformat_minor": 2
}
