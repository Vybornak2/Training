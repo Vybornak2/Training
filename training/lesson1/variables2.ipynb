{
 "cells": [
  {
   "cell_type": "markdown",
   "metadata": {},
   "source": [
    "# Lists\n",
    "- Lists are ordered collections of items.\n",
    "- Lists are mutable.\n",
    "- Lists can contain any type of data.\n",
    "- Lists can contain duplicate elements.\n",
    "- Lists can contain nested lists."
   ]
  },
  {
   "cell_type": "markdown",
   "metadata": {},
   "source": [
    "\n",
    "## Declaration\n",
    "- `list = []` creates an empty list.\n",
    "- `list = [1, 2, 3]` creates a list with three elements.\n",
    "- `list = [1, \"Hello\", 3.4]` creates a list with different types of elements.\n",
    "- `list = [1, [2, 3], 4]` creates a list with a nested list."
   ]
  },
  {
   "cell_type": "code",
   "execution_count": 1,
   "metadata": {},
   "outputs": [
    {
     "name": "stdout",
     "output_type": "stream",
     "text": [
      "['apple', 'banana', 'cherry']\n"
     ]
    }
   ],
   "source": [
    "my_list = [\"apple\", \"banana\", \"cherry\"]\n",
    "print(my_list)"
   ]
  },
  {
   "cell_type": "markdown",
   "metadata": {},
   "source": [
    "## List access\n",
    "- `list[start:end:step]` accesses elements from `start` to `end` with a step of `step`.\n",
    "\n",
    "- `list[0]` accesses the first element.\n",
    "- `list[-1]` accesses the last element.\n",
    "- `list[1:3]` accesses the second and third elements.\n",
    "- `list[::2]` accesses all elements with a step of 2."
   ]
  },
  {
   "cell_type": "code",
   "execution_count": 28,
   "metadata": {},
   "outputs": [
    {
     "name": "stdout",
     "output_type": "stream",
     "text": [
      "['apple', 'banana', 'cherry', 'cuttlefish', 'dog', 'elephant', 'fish', 'giraffe', 'horse', 'iguana']\n",
      "banana\n",
      "['cherry', 'cuttlefish', 'dog']\n",
      "['apple', 'banana', 'cherry', 'cuttlefish']\n"
     ]
    }
   ],
   "source": [
    "my_list = [\n",
    "    \"apple\",\n",
    "    \"banana\",\n",
    "    \"cherry\",\n",
    "    \"cuttlefish\",\n",
    "    \"dog\",\n",
    "    \"elephant\",\n",
    "    \"fish\",\n",
    "    \"giraffe\",\n",
    "    \"horse\",\n",
    "    \"iguana\",\n",
    "]\n",
    "print(my_list)\n",
    "print(my_list[1])\n",
    "print(my_list[2:5])\n",
    "print(my_list[:4])"
   ]
  },
  {
   "cell_type": "code",
   "execution_count": 30,
   "metadata": {},
   "outputs": [
    {
     "name": "stdout",
     "output_type": "stream",
     "text": [
      "[1, 'blueberry', 3]\n"
     ]
    }
   ],
   "source": [
    "my_list = [1, 2, 3]\n",
    "my_list[1] = \"blueberry\"\n",
    "print(my_list)"
   ]
  },
  {
   "cell_type": "markdown",
   "metadata": {},
   "source": [
    "## List operations\n",
    "- `list + list` concatenates two lists.\n",
    "- `list * 3` repeats the list three times.\n",
    "- `element in list` checks if an element is in the list.\n",
    "- `element not in list` checks if an element is not in the list.\n",
    "- `len(list)` returns the number of elements in the list.\n",
    "- `min(list)` returns the smallest element in the list.\n",
    "- `max(list)` returns the largest element in the list.\n",
    "- `sum(list)` returns the sum of all elements in the list."
   ]
  },
  {
   "cell_type": "code",
   "execution_count": 5,
   "metadata": {},
   "outputs": [
    {
     "name": "stdout",
     "output_type": "stream",
     "text": [
      "[1, 2, 3, 4, 5]\n",
      "[1, 2, 3, 4, 5, 6, 7, 8, 9, 10]\n",
      "[1, 2, 3, 4, 5, 1, 2, 3, 4, 5, 1, 2, 3, 4, 5]\n",
      "5\n"
     ]
    }
   ],
   "source": [
    "my_list = [1, 2, 3, 4, 5]\n",
    "print(my_list)\n",
    "print(my_list + [6, 7, 8, 9, 10])\n",
    "print(my_list * 3)\n",
    "print(len(my_list))"
   ]
  },
  {
   "cell_type": "code",
   "execution_count": 6,
   "metadata": {},
   "outputs": [
    {
     "name": "stdout",
     "output_type": "stream",
     "text": [
      "True\n",
      "False\n",
      "True\n"
     ]
    }
   ],
   "source": [
    "print(3 in my_list)\n",
    "print(6 in my_list)\n",
    "print(6 not in my_list)"
   ]
  },
  {
   "cell_type": "code",
   "execution_count": 7,
   "metadata": {},
   "outputs": [
    {
     "name": "stdout",
     "output_type": "stream",
     "text": [
      "[1, 2, 3, 4, 5]\n",
      "1\n",
      "5\n",
      "15\n"
     ]
    }
   ],
   "source": [
    "print(my_list)\n",
    "print(min(my_list))\n",
    "print(max(my_list))\n",
    "print(sum(my_list))"
   ]
  },
  {
   "cell_type": "markdown",
   "metadata": {},
   "source": [
    "## List Methods\n",
    "- `list.append(element)` appends an element to the end of the list.\n",
    "- `list.insert(index, element)` inserts an element at the specified index.\n",
    "- `list.remove(element)` removes the first occurrence of the element.\n",
    "- `list.pop(index)` removes and returns the element at the specified index.\n",
    "- `list.index(element)` returns the index of the first occurrence of the element.\n",
    "- `list.count(element)` returns the number of occurrences of the element.\n",
    "- `list.sort()` sorts the list in ascending order.\n",
    "- `list.reverse()` reverses the list.\n",
    "- `list.clear()` removes all elements from the list."
   ]
  },
  {
   "cell_type": "code",
   "execution_count": 15,
   "metadata": {},
   "outputs": [
    {
     "name": "stdout",
     "output_type": "stream",
     "text": [
      "[1, 2, 3, 4, 5, 6]\n",
      "[1, 2, 7, 3, 4, 5, 6]\n",
      "[1, 2, 3, 4, 5, 6]\n"
     ]
    }
   ],
   "source": [
    "my_list = [1, 2, 3, 4, 5]\n",
    "\n",
    "my_list.append(6)\n",
    "print(my_list)\n",
    "\n",
    "my_list.insert(2, 7)\n",
    "print(my_list)\n",
    "\n",
    "my_list.remove(7)\n",
    "print(my_list)"
   ]
  },
  {
   "cell_type": "code",
   "execution_count": 16,
   "metadata": {},
   "outputs": [
    {
     "name": "stdout",
     "output_type": "stream",
     "text": [
      "[1, 2, 3, 4, 5]\n",
      "6\n"
     ]
    }
   ],
   "source": [
    "popped = my_list.pop()\n",
    "print(my_list)\n",
    "print(popped)"
   ]
  },
  {
   "cell_type": "code",
   "execution_count": 18,
   "metadata": {},
   "outputs": [
    {
     "name": "stdout",
     "output_type": "stream",
     "text": [
      "3\n",
      "1\n"
     ]
    }
   ],
   "source": [
    "print(my_list.index(4))\n",
    "print(my_list.count(4))"
   ]
  },
  {
   "cell_type": "code",
   "execution_count": 21,
   "metadata": {},
   "outputs": [
    {
     "name": "stdout",
     "output_type": "stream",
     "text": [
      "[2, 4, 1, 3, 5]\n",
      "[1, 2, 3, 4, 5]\n",
      "[5, 4, 3, 2, 1]\n",
      "[]\n"
     ]
    }
   ],
   "source": [
    "my_list = [2, 4, 1, 3, 5]\n",
    "print(my_list)\n",
    "\n",
    "my_list.sort()\n",
    "print(my_list)\n",
    "\n",
    "my_list.reverse()\n",
    "print(my_list)\n",
    "\n",
    "my_list.clear()\n",
    "print(my_list)"
   ]
  },
  {
   "cell_type": "markdown",
   "metadata": {},
   "source": [
    "## List Comprehension\n",
    "- `[expression for item in list]` creates a new list by applying an expression to each item in the list.\n",
    "- `[expression for item in list if condition]` creates a new list by applying an expression to each item in the list that satisfies the condition."
   ]
  },
  {
   "cell_type": "code",
   "execution_count": 22,
   "metadata": {},
   "outputs": [
    {
     "name": "stdout",
     "output_type": "stream",
     "text": [
      "[0, 1, 2, 3, 4, 5, 6, 7, 8, 9]\n"
     ]
    }
   ],
   "source": [
    "my_list = [i for i in range(10)]\n",
    "print(my_list)"
   ]
  },
  {
   "cell_type": "code",
   "execution_count": 24,
   "metadata": {},
   "outputs": [
    {
     "name": "stdout",
     "output_type": "stream",
     "text": [
      "[0, 2, 4, 6, 8]\n"
     ]
    }
   ],
   "source": [
    "my_list = [i for i in range(10) if i % 2 == 0]\n",
    "print(my_list)"
   ]
  },
  {
   "cell_type": "code",
   "execution_count": 26,
   "metadata": {},
   "outputs": [
    {
     "name": "stdout",
     "output_type": "stream",
     "text": [
      "['Item 0', 'Item 1', 'Item 2', 'Item 3', 'Item 4', 'Item 5', 'Item 6', 'Item 7', 'Item 8', 'Item 9']\n"
     ]
    }
   ],
   "source": [
    "my_list = [f\"Item {i}\" for i in range(10)]\n",
    "print(my_list)"
   ]
  },
  {
   "cell_type": "markdown",
   "metadata": {},
   "source": [
    "# Tuples\n",
    "- Tuples are ordered collections of items.\n",
    "- Tuples are immutable.\n",
    "- Tuples can contain any type of data.\n",
    "- Tuples can contain duplicate elements.\n",
    "- Tuples can contain nested tuples."
   ]
  },
  {
   "cell_type": "markdown",
   "metadata": {},
   "source": [
    "\n",
    "## Declaration\n",
    "- `tuple = ()` creates an empty tuple.\n",
    "- `tuple = (1, 2, 3)` creates a tuple with three elements.\n",
    "- `tuple = (1, \"Hello\", 3.4)` creates a tuple with different types of elements.\n",
    "- `tuple = (1, (2, 3), 4)` creates a tuple with a nested tuple."
   ]
  },
  {
   "cell_type": "code",
   "execution_count": 31,
   "metadata": {},
   "outputs": [
    {
     "name": "stdout",
     "output_type": "stream",
     "text": [
      "('apple', 'banana', 'cherry')\n",
      "('apple',)\n",
      "('apple', 'banana', 'cherry')\n"
     ]
    }
   ],
   "source": [
    "my_tuple = (\"apple\", \"banana\", \"cherry\")\n",
    "print(my_tuple)\n",
    "\n",
    "my_tuple = (\"apple\",)\n",
    "print(my_tuple)\n",
    "\n",
    "my_tuple = tuple([\"apple\", \"banana\", \"cherry\"])\n",
    "print(my_tuple)"
   ]
  },
  {
   "cell_type": "code",
   "execution_count": 34,
   "metadata": {},
   "outputs": [
    {
     "name": "stdout",
     "output_type": "stream",
     "text": [
      "('a', 'p', 'p', 'l', 'e')\n"
     ]
    }
   ],
   "source": [
    "my_tuple = tuple(\"apple\")\n",
    "print(my_tuple)"
   ]
  },
  {
   "cell_type": "code",
   "execution_count": 37,
   "metadata": {},
   "outputs": [
    {
     "name": "stdout",
     "output_type": "stream",
     "text": [
      "'tuple' object does not support item assignment\n"
     ]
    }
   ],
   "source": [
    "# immutability\n",
    "try:\n",
    "    my_tuple[1] = \"blueberry\"\n",
    "except TypeError as e:\n",
    "    print(e)"
   ]
  },
  {
   "cell_type": "markdown",
   "metadata": {},
   "source": [
    "# Sets\n",
    "- Sets are unordered collections of unique items.\n",
    "- Sets are mutable.\n",
    "- Sets can contain any type of data.\n",
    "- Sets do not allow duplicate elements.\n",
    "- Sets do not support indexing."
   ]
  },
  {
   "cell_type": "markdown",
   "metadata": {},
   "source": [
    "## Declaration\n",
    "- `set = set()` creates an empty set.\n",
    "- `set = {1, 2, 3}` creates a set with three elements.\n",
    "- `set = {1, \"Hello\", 3.4}` creates a set with different types of elements."
   ]
  },
  {
   "cell_type": "code",
   "execution_count": 40,
   "metadata": {},
   "outputs": [
    {
     "name": "stdout",
     "output_type": "stream",
     "text": [
      "{1, 2, 3, 4, 5}\n",
      "{1, 2, 3, 4, 5}\n"
     ]
    }
   ],
   "source": [
    "my_set = {1, 2, 3, 4, 5}\n",
    "print(my_set)\n",
    "\n",
    "my_list = [1, 2, 3, 4, 5, 5, 5, 5]\n",
    "my_set = set(my_list)\n",
    "print(my_set)"
   ]
  },
  {
   "cell_type": "markdown",
   "metadata": {},
   "source": [
    "## Set methods\n",
    "- `set.add(element)` adds an element to the set.\n",
    "- `set.update(iterable)` adds elements from an iterable to the set.\n",
    "- `set.remove(element)` removes an element from the set.\n",
    "- `set.discard(element)` removes an element from the set if it is a member.\n",
    "- `set.pop()` removes and returns an arbitrary element from the set.\n",
    "- `set.clear()` removes all elements from the set."
   ]
  },
  {
   "cell_type": "code",
   "execution_count": 54,
   "metadata": {},
   "outputs": [
    {
     "name": "stdout",
     "output_type": "stream",
     "text": [
      "{1, 2, 3, 4, 5, 6}\n",
      "{1, 2, 3, 4, 5, 6, 7, 8, 9, 10}\n",
      "{1, 2, 3, 4, 5, 6, 7, 8, 9}\n",
      "{1, 2, 3, 4, 5, 6, 7, 8, 9}\n"
     ]
    }
   ],
   "source": [
    "my_set = {1, 2, 3, 4, 5}\n",
    "\n",
    "my_set.add(6)\n",
    "print(my_set)\n",
    "\n",
    "my_set.update([7, 8, 9, 10, 1, 3, 5])\n",
    "print(my_set)\n",
    "\n",
    "my_set.remove(10)\n",
    "print(my_set)\n",
    "\n",
    "my_set.discard(10)  # does not raise an error if the element is not in the set\n",
    "print(my_set)"
   ]
  },
  {
   "cell_type": "code",
   "execution_count": 58,
   "metadata": {},
   "outputs": [
    {
     "name": "stdout",
     "output_type": "stream",
     "text": [
      "{2, 3, 4, 5}\n",
      "1\n",
      "set()\n"
     ]
    }
   ],
   "source": [
    "my_set = {1, 2, 3, 4, 5}\n",
    "popped = my_set.pop()\n",
    "print(my_set)\n",
    "print(popped)\n",
    "\n",
    "my_set.clear()\n",
    "print(my_set)"
   ]
  },
  {
   "cell_type": "markdown",
   "metadata": {},
   "source": [
    "# Dictionaries\n",
    "- Dictionaries are unordered collections of key-value pairs.\n",
    "- Dictionaries are mutable.\n",
    "- Dictionaries can contain any type of data.\n",
    "- Dictionaries do not allow duplicate keys.\n",
    "- Dictionaries can contain nested dictionaries.\n",
    "- Keys must be unique and immutable (strings, numbers, or tuples)."
   ]
  },
  {
   "cell_type": "markdown",
   "metadata": {},
   "source": [
    "## Declaration\n",
    "- `dict = {}` creates an empty dictionary.\n",
    "- `dict = {1: 'apple', 2: 'banana'}` creates a dictionary with two key-value pairs.\n",
    "- `dict = dict([(1, 'apple'), (2, 'banana')])` creates a dictionary from a list of key-value pairs."
   ]
  },
  {
   "cell_type": "code",
   "execution_count": 65,
   "metadata": {},
   "outputs": [
    {
     "name": "stdout",
     "output_type": "stream",
     "text": [
      "{'name': 'John', 'age': 36}\n",
      "{'name': 'John', 'age': 36}\n",
      "{'name': 'John', 'age': 36}\n"
     ]
    }
   ],
   "source": [
    "# most common\n",
    "my_dict = {\"name\": \"John\", \"age\": 36}\n",
    "print(my_dict)\n",
    "\n",
    "# less common\n",
    "my_dict = dict(name=\"John\", age=36)\n",
    "print(my_dict)\n",
    "\n",
    "# less common\n",
    "my_dict = dict([(\"name\", \"John\"), (\"age\", 36)])\n",
    "print(my_dict)"
   ]
  },
  {
   "cell_type": "markdown",
   "metadata": {},
   "source": [
    "## Dictionary access\n",
    "- `dict[key]` accesses the value associated with the key.\n",
    "- `dict.get(key)` accesses the value associated with the key.\n",
    "- `dict.keys()` returns a list of all keys in the dictionary.\n",
    "- `dict.values()` returns a list of all values in the dictionary.\n",
    "- `dict.items()` returns a list of all key-value pairs in the dictionary."
   ]
  },
  {
   "cell_type": "code",
   "execution_count": 77,
   "metadata": {},
   "outputs": [
    {
     "name": "stdout",
     "output_type": "stream",
     "text": [
      "{'name': 'John', 'age': 36, 'city': 'New York', 'email': 'johns@email.com', 'phone': 1234567890}\n",
      "John\n",
      "johns@email.com\n"
     ]
    }
   ],
   "source": [
    "my_dict = {\n",
    "    \"name\": \"John\",\n",
    "    \"age\": 36,\n",
    "    \"city\": \"New York\",\n",
    "    \"email\": \"johns@email.com\",\n",
    "    \"phone\": 1234567890,\n",
    "}\n",
    "\n",
    "print(my_dict)\n",
    "print(my_dict[\"name\"])\n",
    "print(my_dict.get(\"email\"))"
   ]
  },
  {
   "cell_type": "code",
   "execution_count": 78,
   "metadata": {},
   "outputs": [
    {
     "name": "stdout",
     "output_type": "stream",
     "text": [
      "{'name': 'Jane', 'age': 36, 'city': 'New York', 'email': 'johns@email.com', 'phone': 1234567890}\n"
     ]
    }
   ],
   "source": [
    "my_dict[\"name\"] = \"Jane\"\n",
    "print(my_dict)"
   ]
  },
  {
   "cell_type": "code",
   "execution_count": 71,
   "metadata": {},
   "outputs": [
    {
     "name": "stdout",
     "output_type": "stream",
     "text": [
      "dict_keys(['name', 'age', 'city', 'email', 'phone'])\n",
      "dict_values(['John', 36, 'New York', 'johns@email.com', 1234567890])\n",
      "dict_items([('name', 'John'), ('age', 36), ('city', 'New York'), ('email', 'johns@email.com'), ('phone', 1234567890)])\n"
     ]
    }
   ],
   "source": [
    "print(my_dict.keys())\n",
    "print(my_dict.values())\n",
    "print(my_dict.items())"
   ]
  },
  {
   "cell_type": "code",
   "execution_count": 72,
   "metadata": {},
   "outputs": [
    {
     "name": "stdout",
     "output_type": "stream",
     "text": [
      "name\n",
      "age\n",
      "city\n",
      "email\n",
      "phone\n"
     ]
    }
   ],
   "source": [
    "for key in my_dict:\n",
    "    print(key)"
   ]
  },
  {
   "cell_type": "code",
   "execution_count": 73,
   "metadata": {},
   "outputs": [
    {
     "name": "stdout",
     "output_type": "stream",
     "text": [
      "name\n",
      "age\n",
      "city\n",
      "email\n",
      "phone\n"
     ]
    }
   ],
   "source": [
    "for key in my_dict.keys():\n",
    "    print(key)"
   ]
  },
  {
   "cell_type": "code",
   "execution_count": 74,
   "metadata": {},
   "outputs": [
    {
     "name": "stdout",
     "output_type": "stream",
     "text": [
      "John\n",
      "36\n",
      "New York\n",
      "johns@email.com\n",
      "1234567890\n"
     ]
    }
   ],
   "source": [
    "for value in my_dict.values():\n",
    "    print(value)"
   ]
  },
  {
   "cell_type": "code",
   "execution_count": 76,
   "metadata": {},
   "outputs": [
    {
     "name": "stdout",
     "output_type": "stream",
     "text": [
      "name : John\n",
      "age : 36\n",
      "city : New York\n",
      "email : johns@email.com\n",
      "phone : 1234567890\n"
     ]
    }
   ],
   "source": [
    "for key, value in my_dict.items():\n",
    "    print(key, \":\", value)"
   ]
  },
  {
   "cell_type": "markdown",
   "metadata": {},
   "source": [
    "## Dictionary methods\n",
    "- `dict.update(other_dict)` updates the dictionary with key-value pairs from another dictionary.\n",
    "- `dict.pop(key)` removes the key-value pair with the specified key.\n",
    "- `dict.popitem()` removes and returns an arbitrary key-value pair.\n",
    "- `dict.clear()` removes all key-value pairs from the dictionary.\n",
    "- `dict.copy()` returns a shallow copy of the dictionary."
   ]
  },
  {
   "cell_type": "code",
   "execution_count": 83,
   "metadata": {},
   "outputs": [
    {
     "name": "stdout",
     "output_type": "stream",
     "text": [
      "{'name': 'John', 'age': 25, 'city': 'New York'}\n",
      "{'name': 'John', 'age': 25, 'city': 'New York', 'email': 'john@email.com', 'phone': 1234567890}\n",
      "{'name': 'John', 'age': 25, 'city': 'New York', 'email': 'john@email.com'}\n",
      "1234567890\n",
      "{'name': 'John', 'age': 25, 'city': 'New York'}\n",
      "('email', 'john@email.com')\n"
     ]
    }
   ],
   "source": [
    "my_dict = {\"name\": \"John\", \"age\": 25, \"city\": \"New York\"}\n",
    "print(my_dict)\n",
    "\n",
    "my_dict.update(\n",
    "    {\n",
    "        \"email\": \"john@email.com\",\n",
    "        \"phone\": 1234567890,\n",
    "    }\n",
    ")\n",
    "print(my_dict)\n",
    "\n",
    "popped = my_dict.pop(\"phone\")\n",
    "print(my_dict)\n",
    "print(popped)\n",
    "\n",
    "popped = my_dict.popitem()\n",
    "print(my_dict)\n",
    "print(popped)"
   ]
  },
  {
   "cell_type": "markdown",
   "metadata": {},
   "source": [
    "## Dictionary Comprehension\n",
    "- `{key: value for key, value in zip(keys, values)}` creates a new dictionary by zipping two lists of keys and values.\n",
    "- `{key: value for key, value in dict.items() if condition}` creates a new dictionary by applying a condition to the key-value pairs."
   ]
  },
  {
   "cell_type": "code",
   "execution_count": 87,
   "metadata": {},
   "outputs": [
    {
     "name": "stdout",
     "output_type": "stream",
     "text": [
      "{'a': 1, 'b': 2, 'c': 3, 'd': 4, 'e': 5, 'f': 6}\n",
      "{'b': 2, 'd': 4, 'f': 6}\n"
     ]
    }
   ],
   "source": [
    "keys = [\"a\", \"b\", \"c\", \"d\", \"e\", \"f\"]\n",
    "values = [1, 2, 3, 4, 5, 6]\n",
    "\n",
    "my_dict = dict(zip(keys, values))\n",
    "print(my_dict)\n",
    "\n",
    "my_dict = {key: value for key, value in zip(keys, values) if value % 2 == 0}\n",
    "print(my_dict)\n"
   ]
  }
 ],
 "metadata": {
  "kernelspec": {
   "display_name": ".venv",
   "language": "python",
   "name": "python3"
  },
  "language_info": {
   "codemirror_mode": {
    "name": "ipython",
    "version": 3
   },
   "file_extension": ".py",
   "mimetype": "text/x-python",
   "name": "python",
   "nbconvert_exporter": "python",
   "pygments_lexer": "ipython3",
   "version": "3.11.11"
  }
 },
 "nbformat": 4,
 "nbformat_minor": 2
}
