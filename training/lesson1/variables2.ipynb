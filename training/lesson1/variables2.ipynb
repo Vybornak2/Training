{
 "cells": [
  {
   "cell_type": "markdown",
   "metadata": {},
   "source": [
    "## Lists\n",
    "\n",
    "### Declaration\n",
    "- `list = []` creates an empty list.\n",
    "- `list = [1, 2, 3]` creates a list with three elements.\n",
    "- `list = [1, \"Hello\", 3.4]` creates a list with different types of elements.\n",
    "- `list = [1, [2, 3], 4]` creates a list with a nested list."
   ]
  },
  {
   "cell_type": "code",
   "execution_count": 1,
   "metadata": {},
   "outputs": [
    {
     "name": "stdout",
     "output_type": "stream",
     "text": [
      "['apple', 'banana', 'cherry']\n"
     ]
    }
   ],
   "source": [
    "my_list = [\"apple\", \"banana\", \"cherry\"]\n",
    "print(my_list)"
   ]
  },
  {
   "cell_type": "markdown",
   "metadata": {},
   "source": [
    "### List access\n",
    "- `list[start:end:step]` accesses elements from `start` to `end` with a step of `step`.\n",
    "\n",
    "- `list[0]` accesses the first element.\n",
    "- `list[-1]` accesses the last element.\n",
    "- `list[1:3]` accesses the second and third elements.\n",
    "- `list[::2]` accesses all elements with a step of 2."
   ]
  },
  {
   "cell_type": "code",
   "execution_count": 2,
   "metadata": {},
   "outputs": [
    {
     "name": "stdout",
     "output_type": "stream",
     "text": [
      "['apple', 'banana', 'cherry', 'cuttlefish', 'dog', 'elephant', 'fish', 'giraffe', 'horse', 'iguana']\n",
      "banana\n",
      "['cherry', 'cuttlefish', 'dog']\n",
      "['apple', 'banana', 'cherry', 'cuttlefish']\n"
     ]
    }
   ],
   "source": [
    "my_list = [\n",
    "    \"apple\",\n",
    "    \"banana\",\n",
    "    \"cherry\",\n",
    "    \"cuttlefish\",\n",
    "    \"dog\",\n",
    "    \"elephant\",\n",
    "    \"fish\",\n",
    "    \"giraffe\",\n",
    "    \"horse\",\n",
    "    \"iguana\",\n",
    "]\n",
    "print(my_list)\n",
    "print(my_list[1])\n",
    "print(my_list[2:5])\n",
    "print(my_list[:4])"
   ]
  },
  {
   "cell_type": "code",
   "execution_count": null,
   "metadata": {},
   "outputs": [],
   "source": []
  }
 ],
 "metadata": {
  "kernelspec": {
   "display_name": ".venv",
   "language": "python",
   "name": "python3"
  },
  "language_info": {
   "codemirror_mode": {
    "name": "ipython",
    "version": 3
   },
   "file_extension": ".py",
   "mimetype": "text/x-python",
   "name": "python",
   "nbconvert_exporter": "python",
   "pygments_lexer": "ipython3",
   "version": "3.11.11"
  }
 },
 "nbformat": 4,
 "nbformat_minor": 2
}
