{
 "cells": [
  {
   "cell_type": "markdown",
   "metadata": {},
   "source": [
    "# Booleans\n",
    "Booleans represent one of two values: `True` or `False`.\n",
    "- `True` or `False`\n",
    "- `1` or `0`"
   ]
  },
  {
   "cell_type": "markdown",
   "metadata": {},
   "source": [
    "## Basics of Booleans\n",
    "Booleans are a fundamental data type in Python. They are used to represent truth values.\n",
    "You can create a boolean value by assigning `True` or `False` to a variable."
   ]
  },
  {
   "cell_type": "code",
   "execution_count": null,
   "metadata": {},
   "outputs": [],
   "source": [
    "is_true = True\n",
    "print(is_true)  # Output: True"
   ]
  },
  {
   "cell_type": "code",
   "execution_count": null,
   "metadata": {},
   "outputs": [],
   "source": [
    "is_false = False\n",
    "print(is_false)  # Output: False"
   ]
  },
  {
   "cell_type": "markdown",
   "metadata": {},
   "source": [
    "## Boolean Operations\n",
    "Boolean operations allow you to combine or modify boolean values.\n",
    "- `and`: `a and b`\n",
    "- `or`: `a or b`\n",
    "- `not`: `not a`"
   ]
  },
  {
   "cell_type": "code",
   "execution_count": null,
   "metadata": {},
   "outputs": [],
   "source": [
    "print(is_true and is_false)  # Output: False\n",
    "print(is_true or is_false)  # Output: True\n",
    "print(not is_true)  # Output: False"
   ]
  },
  {
   "cell_type": "code",
   "execution_count": null,
   "metadata": {},
   "outputs": [],
   "source": [
    "print(True and True)  # Output: True\n",
    "print(True and False)  # Output: False\n",
    "print(False and False)  # Output: False"
   ]
  },
  {
   "cell_type": "code",
   "execution_count": null,
   "metadata": {},
   "outputs": [],
   "source": [
    "print(True or True)  # Output: True\n",
    "print(True or False)  # Output: True\n",
    "print(False or False)  # Output: False"
   ]
  },
  {
   "cell_type": "markdown",
   "metadata": {},
   "source": [
    "## Comparison Operators\n",
    "Comparison operators compare two values and return a boolean result.\n",
    "- equal: `==`\n",
    "- not equal: `!=`\n",
    "- greater than: `>`\n",
    "- less than: `<`\n",
    "- greater than or equal: `>=`\n",
    "- less than or equal: `<=`"
   ]
  },
  {
   "cell_type": "code",
   "execution_count": null,
   "metadata": {},
   "outputs": [],
   "source": [
    "a = 5\n",
    "b = 10\n",
    "\n",
    "print(a == b)  # Output: False\n",
    "print(a != b)  # Output: True\n",
    "print(a > b)  # Output: False\n",
    "print(a >= b)  # Output: False\n",
    "print(a < b)  # Output: True\n",
    "print(a <= b)  # Output: True"
   ]
  },
  {
   "cell_type": "code",
   "execution_count": null,
   "metadata": {},
   "outputs": [],
   "source": [
    "slovo1 = \"abc\"\n",
    "slovo2 = \"abcd\"\n",
    "\n",
    "print(slovo1 < slovo2)  # Output: True"
   ]
  },
  {
   "cell_type": "markdown",
   "metadata": {},
   "source": [
    "## Identity Operators\n",
    "Identity operators compare the memory locations of two objects.\n",
    "- `is`: `a is b`\n",
    "- `is not`: `a is not b`"
   ]
  },
  {
   "cell_type": "code",
   "execution_count": null,
   "metadata": {},
   "outputs": [],
   "source": [
    "a = 5\n",
    "b = 5.0\n",
    "\n",
    "print(a == b)  # Output: True\n",
    "print(a is b)  # Output: False"
   ]
  },
  {
   "cell_type": "markdown",
   "metadata": {},
   "source": [
    "## Membership Operators\n",
    "Membership operators test if a sequence contains a value.\n",
    "- `in`: `a in b`\n",
    "- `not in`: `a not in b`"
   ]
  },
  {
   "cell_type": "code",
   "execution_count": null,
   "metadata": {},
   "outputs": [],
   "source": [
    "slovo = \"abc\"\n",
    "\n",
    "print(\"a\" in slovo)  # Output: True\n",
    "print(\"d\" in slovo)  # Output: False"
   ]
  }
 ],
 "metadata": {
  "kernelspec": {
   "display_name": ".venv",
   "language": "python",
   "name": "python3"
  },
  "language_info": {
   "codemirror_mode": {
    "name": "ipython",
    "version": 3
   },
   "file_extension": ".py",
   "mimetype": "text/x-python",
   "name": "python",
   "nbconvert_exporter": "python",
   "pygments_lexer": "ipython3",
   "version": "3.13.0"
  }
 },
 "nbformat": 4,
 "nbformat_minor": 2
}
