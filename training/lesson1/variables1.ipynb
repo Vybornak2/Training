{
 "cells": [
  {
   "cell_type": "markdown",
   "metadata": {},
   "source": [
    "# Variables, Data types\n",
    "\n",
    "### declaration:\n",
    "variable_name: type_hint = value\n",
    "\n",
    "### data types:\n",
    "- int: integer\n",
    "- float: decimal number\n",
    "- str: string\n",
    "- bool: boolean (True or False)\n",
    "- list: list of values\n",
    "- tuple: immutable list\n",
    "- dict: dictionary (key-value pair)"
   ]
  },
  {
   "cell_type": "markdown",
   "metadata": {},
   "source": [
    "__Note:__ For help on any function or data type, use `help()` function. For example, `help(int)` will give you information about integer data type. Additionally you can use `dir()` function to get list of attributes and methods of any object. For example, `dir(int)` will give you list of attributes and methods of integer data type."
   ]
  },
  {
   "cell_type": "code",
   "execution_count": null,
   "metadata": {},
   "outputs": [
    {
     "name": "stdout",
     "output_type": "stream",
     "text": [
      "1\n",
      "<class 'int'>\n"
     ]
    }
   ],
   "source": [
    "# Correct type hinting for a variable\n",
    "variable: int = 1\n",
    "print(variable)\n",
    "print(type(variable))"
   ]
  },
  {
   "cell_type": "code",
   "execution_count": null,
   "metadata": {},
   "outputs": [
    {
     "name": "stdout",
     "output_type": "stream",
     "text": [
      "1\n",
      "<class 'str'>\n"
     ]
    }
   ],
   "source": [
    "# Incorrect type hinting for a variable (will not raise an error)\n",
    "variable: int = \"1\"\n",
    "print(variable)\n",
    "print(type(variable))"
   ]
  },
  {
   "cell_type": "markdown",
   "metadata": {},
   "source": [
    "## Numbers\n",
    "\n",
    "### int\n",
    "- whole numbers\n",
    "- positive or negative\n",
    "- no decimal point\n",
    "\n",
    "### float\n",
    "- decimal numbers\n",
    "- positive or negative\n",
    "- with decimal point"
   ]
  },
  {
   "cell_type": "code",
   "execution_count": null,
   "metadata": {},
   "outputs": [
    {
     "name": "stdout",
     "output_type": "stream",
     "text": [
      "type of a: <class 'int'> = 1\n",
      "type of b: <class 'int'> = 15\n",
      "type of c: <class 'int'> = 2\n",
      "type of d: <class 'int'> = 8\n",
      "type of e: <class 'int'> = 1000000\n",
      "type of f: <class 'int'> = -20\n"
     ]
    }
   ],
   "source": [
    "# integers\n",
    "\n",
    "# fmt: off\n",
    "a = 1 \n",
    "b = 0xF # hexadecimal number\n",
    "c = 0b10 # binary number\n",
    "d = 0o10 # octal number\n",
    "e = 1_000_000 # underscore for readability\n",
    "f = -20 \n",
    "# fmt: on\n",
    "\n",
    "# for now ignore this\n",
    "for k, v in {\"a\": a, \"b\": b, \"c\": c, \"d\": d, \"e\": e, \"f\": f}.items():\n",
    "    print(f\"type of {k}: {type(v)} = {v}\")"
   ]
  },
  {
   "cell_type": "code",
   "execution_count": null,
   "metadata": {},
   "outputs": [
    {
     "name": "stdout",
     "output_type": "stream",
     "text": [
      "type of a = <class 'float'>\n",
      "type of b = <class 'float'>\n",
      "type of c = <class 'float'>\n",
      "type of d = <class 'float'>\n"
     ]
    }
   ],
   "source": [
    "# floating point numbers\n",
    "\n",
    "# fmt: off\n",
    "a = 1.0\n",
    "b = .1\n",
    "c = 1.\n",
    "d = 1.0e-3\n",
    "# fmt: on\n",
    "\n",
    "# for now ignore this\n",
    "for k, v in {\"a\": a, \"b\": b, \"c\": c, \"d\": d}.items():\n",
    "    print(f\"type of {k}: {type(v)} = {v}\")"
   ]
  },
  {
   "cell_type": "markdown",
   "metadata": {},
   "source": [
    "### operations\n",
    "- addition: +\n",
    "- subtraction: -\n",
    "- multiplication: *\n",
    "- division: /\n",
    "- floor division: //\n",
    "- modulus: %\n",
    "- exponentiation: **\n",
    "- increment: +=\n",
    "- decrement: -="
   ]
  },
  {
   "cell_type": "code",
   "execution_count": 54,
   "metadata": {},
   "outputs": [
    {
     "name": "stdout",
     "output_type": "stream",
     "text": [
      "a + b =  7.5 , type:  <class 'float'>\n",
      "a - b =  2.5 , type:  <class 'float'>\n",
      "a * b =  12.5 , type:  <class 'float'>\n",
      "a / b =  2.0 , type:  <class 'float'>\n",
      "a // b =  2.0 , type:  <class 'float'>\n",
      "a % b =  0.0 , type:  <class 'float'>\n",
      "a ** b =  55.90169943749474 , type:  <class 'float'>\n",
      "\n",
      "a + c =  7 , type:  <class 'int'>\n",
      "a - c =  3 , type:  <class 'int'>\n",
      "a * c =  10 , type:  <class 'int'>\n",
      "a / c =  2.5 , type:  <class 'float'>\n",
      "a // c =  2 , type:  <class 'int'>\n",
      "a % c =  1 , type:  <class 'int'>\n",
      "a ** c =  25 , type:  <class 'int'>\n"
     ]
    }
   ],
   "source": [
    "a = 5\n",
    "b = 2.5\n",
    "c = 2\n",
    "\n",
    "# b is floating point number, so the result is also floating point number\n",
    "print(\"a + b = \", a + b, \", type: \", type(a + b))\n",
    "print(\"a - b = \", a - b, \", type: \", type(a - b))\n",
    "print(\"a * b = \", a * b, \", type: \", type(a * b))\n",
    "print(\"a / b = \", a / b, \", type: \", type(a / b))\n",
    "print(\"a // b = \", a // b, \", type: \", type(a // b))\n",
    "print(\"a % b = \", a % b, \", type: \", type(a % b))\n",
    "print(\"a ** b = \", a**b, \", type: \", type(a**b))\n",
    "print()\n",
    "\n",
    "# a, c are integers, so the result is also integer (except for division)\n",
    "print(\"a + c = \", a + c, \", type: \", type(a + c))\n",
    "print(\"a - c = \", a - c, \", type: \", type(a - c))\n",
    "print(\"a * c = \", a * c, \", type: \", type(a * c))\n",
    "print(\"a / c = \", a / c, \", type: \", type(a / c))\n",
    "print(\"a // c = \", a // c, \", type: \", type(a // c))\n",
    "print(\"a % c = \", a % c, \", type: \", type(a % c))\n",
    "print(\"a ** c = \", a**c, \", type: \", type(a**c))"
   ]
  },
  {
   "cell_type": "code",
   "execution_count": 56,
   "metadata": {},
   "outputs": [
    {
     "name": "stdout",
     "output_type": "stream",
     "text": [
      "d =  1\n",
      "d =  2\n",
      "d =  1\n"
     ]
    }
   ],
   "source": [
    "d = 1\n",
    "print(\"d = \", d)\n",
    "d += 1\n",
    "print(\"d = \", d)\n",
    "d -= 1\n",
    "print(\"d = \", d)"
   ]
  },
  {
   "cell_type": "markdown",
   "metadata": {},
   "source": [
    "### casting\n",
    "- int(): convert to integer\n",
    "- float(): convert to float"
   ]
  },
  {
   "cell_type": "code",
   "execution_count": null,
   "metadata": {},
   "outputs": [
    {
     "name": "stdout",
     "output_type": "stream",
     "text": [
      "a =  5 , type:  <class 'int'>\n",
      "a =  5.0 , type:  <class 'float'>\n"
     ]
    }
   ],
   "source": [
    "a = 5\n",
    "print(\"a = \", a, \", type: \", type(a))\n",
    "a = float(a)\n",
    "print(\"a = \", a, \", type: \", type(a))"
   ]
  },
  {
   "cell_type": "code",
   "execution_count": 66,
   "metadata": {},
   "outputs": [
    {
     "name": "stdout",
     "output_type": "stream",
     "text": [
      "b =  2.5 , type:  <class 'float'>\n",
      "b =  2 , type:  <class 'int'>\n"
     ]
    }
   ],
   "source": [
    "b = 2.5\n",
    "print(\"b = \", b, \", type: \", type(b))\n",
    "b = int(b)\n",
    "print(\"b = \", b, \", type: \", type(b))"
   ]
  },
  {
   "cell_type": "code",
   "execution_count": 69,
   "metadata": {},
   "outputs": [
    {
     "name": "stdout",
     "output_type": "stream",
     "text": [
      "c =  2.0 , type:  <class 'str'>\n",
      "Testing addition of string\n",
      "2.02.0\n",
      "\n",
      "c =  2.0 , type:  <class 'float'>\n",
      "Testing addition of float\n",
      "4.0\n"
     ]
    }
   ],
   "source": [
    "c = \"2.0\"\n",
    "print(\"c = \", c, \", type: \", type(c))\n",
    "\n",
    "print(\"Testing addition of string\")\n",
    "print(c + c)\n",
    "print()\n",
    "\n",
    "c = float(c)\n",
    "print(\"c = \", c, \", type: \", type(c))\n",
    "print(\"Testing addition of float\")\n",
    "print(c + c)"
   ]
  },
  {
   "cell_type": "markdown",
   "metadata": {},
   "source": [
    "## Strings\n",
    "\n",
    "### declaration\n",
    "- single quotes: 'string'\n",
    "- double quotes: \"string\"\n",
    "- triple quotes: '''string''' or \"\"\"string\"\"\""
   ]
  },
  {
   "cell_type": "code",
   "execution_count": 75,
   "metadata": {},
   "outputs": [
    {
     "name": "stdout",
     "output_type": "stream",
     "text": [
      "Nejake slovo 1\n",
      "Nejake slovo 2\n",
      "\n",
      "    Nejake slovo 3\n",
      "    A dalsi slova\n",
      "\n"
     ]
    }
   ],
   "source": [
    "# fmt: off\n",
    "slovo1 = \"Nejake slovo 1\"\n",
    "slovo2 = 'Nejake slovo 2'\n",
    "slovo3 = \"\"\"\n",
    "    Nejake slovo 3\n",
    "    A dalsi slova\n",
    "\"\"\"\n",
    "# fmt: on\n",
    "\n",
    "print(slovo1)\n",
    "print(slovo2)\n",
    "print(slovo3)"
   ]
  },
  {
   "cell_type": "markdown",
   "metadata": {},
   "source": [
    "### operations\n",
    "- concatenation: +\n",
    "- repetition: *\n",
    "- slicing: [start:stop:step]\n",
    "- length: len()"
   ]
  },
  {
   "cell_type": "code",
   "execution_count": 81,
   "metadata": {},
   "outputs": [
    {
     "name": "stdout",
     "output_type": "stream",
     "text": [
      "slovo + slovo =  AbcAbc\n",
      "slovo * 3 =  AbcAbcAbc\n",
      "slovo[0] =  A\n",
      "len(slovo) =  3\n"
     ]
    }
   ],
   "source": [
    "slovo = \"Abc\"\n",
    "\n",
    "print(\"slovo + slovo = \", slovo + slovo)\n",
    "print(\"slovo * 3 = \", slovo * 3)\n",
    "print(\"slovo[0] = \", slovo[0])\n",
    "print(\"len(slovo) = \", len(slovo))"
   ]
  },
  {
   "cell_type": "code",
   "execution_count": 95,
   "metadata": {},
   "outputs": [
    {
     "name": "stdout",
     "output_type": "stream",
     "text": [
      "From 2 to 5:\n",
      "cde\n",
      "\n",
      "Every second character:\n",
      "Aceg\n",
      "\n",
      "Last character\n",
      "h\n",
      "\n",
      "Last two characters\n",
      "gh\n",
      "\n",
      "Reverse\n",
      "hgfedcbA\n",
      "\n"
     ]
    }
   ],
   "source": [
    "# slicing\n",
    "slovo = \"Abcdefgh\"\n",
    "\n",
    "print(\"From 2 to 5:\")\n",
    "print(slovo[2:5], end=\"\\n\\n\")\n",
    "\n",
    "print(\"Every second character:\")\n",
    "print(slovo[::2], end=\"\\n\\n\")\n",
    "\n",
    "print(\"Last character\")\n",
    "print(slovo[-1], end=\"\\n\\n\")\n",
    "print(\"Last two characters\")\n",
    "print(slovo[-2:], end=\"\\n\\n\")\n",
    "\n",
    "print(\"Reverse\")\n",
    "print(slovo[::-1], end=\"\\n\\n\")\n"
   ]
  },
  {
   "cell_type": "markdown",
   "metadata": {},
   "source": [
    "\n",
    "### methods\n",
    "- upper(): convert to uppercase\n",
    "- lower(): convert to lowercase\n",
    "- title(): convert to title case\n",
    "- capitalize(): convert to title case\n",
    "- strip(): remove whitespace\n",
    "- replace(): replace substring\n",
    "- split(): split string into list\n",
    "- join(): join list into string"
   ]
  },
  {
   "cell_type": "code",
   "execution_count": 111,
   "metadata": {},
   "outputs": [
    {
     "name": "stdout",
     "output_type": "stream",
     "text": [
      "              some text with spaces    \n",
      "some text with spaces\n",
      "SOME TEXT WITH SPACES\n",
      "some text with spaces\n",
      "Some Text With Spaces\n",
      "Some text with spaces\n",
      "another text with spaces\n"
     ]
    }
   ],
   "source": [
    "slovo = \"              some text with spaces    \"\n",
    "\n",
    "print(slovo)\n",
    "\n",
    "slovo = slovo.strip()\n",
    "print(slovo)\n",
    "\n",
    "slovo = slovo.upper()\n",
    "print(slovo)\n",
    "\n",
    "slovo = slovo.lower()\n",
    "print(slovo)\n",
    "\n",
    "print(slovo.title())\n",
    "print(slovo.capitalize())\n",
    "print(slovo.replace(\"some\", \"another\"))"
   ]
  },
  {
   "cell_type": "code",
   "execution_count": 114,
   "metadata": {},
   "outputs": [
    {
     "name": "stdout",
     "output_type": "stream",
     "text": [
      "['some', 'text', 'with', 'spaces']\n",
      "<class 'list'>\n",
      "\n",
      "some\n",
      "text\n",
      "with\n",
      "spaces\n"
     ]
    }
   ],
   "source": [
    "slovo = \"some text with spaces\"\n",
    "slova = slovo.split(\" \")\n",
    "\n",
    "print(slova)\n",
    "print(type(slova))\n",
    "\n",
    "print()\n",
    "print(\"\\n\".join(slova))"
   ]
  }
 ],
 "metadata": {
  "kernelspec": {
   "display_name": ".venv",
   "language": "python",
   "name": "python3"
  },
  "language_info": {
   "codemirror_mode": {
    "name": "ipython",
    "version": 3
   },
   "file_extension": ".py",
   "mimetype": "text/x-python",
   "name": "python",
   "nbconvert_exporter": "python",
   "pygments_lexer": "ipython3",
   "version": "3.11.11"
  }
 },
 "nbformat": 4,
 "nbformat_minor": 2
}
