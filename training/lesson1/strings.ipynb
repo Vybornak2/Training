{
 "cells": [
  {
   "cell_type": "markdown",
   "metadata": {},
   "source": [
    "# Strings\n",
    "\n",
    "## Declaration\n",
    "Strings in Python can be declared using different types of quotes:\n",
    "- Single quotes: `'string'`\n",
    "- Double quotes: `\"string\"`\n",
    "- Triple quotes: `'''string'''` or `\"\"\"string\"\"\"` (for multi-line strings)"
   ]
  },
  {
   "cell_type": "code",
   "execution_count": null,
   "metadata": {},
   "outputs": [],
   "source": [
    "# fmt: off\n",
    "word1 = \"Some word 1\"\n",
    "word2 = 'Some word 2'\n",
    "word3 = \"\"\"\n",
    "    Some word 3\n",
    "    And more words\n",
    "\"\"\"\n",
    "# fmt: on\n",
    "\n",
    "print(word1)\n",
    "print(word2)\n",
    "print(word3)"
   ]
  },
  {
   "cell_type": "markdown",
   "metadata": {},
   "source": [
    "## String Formatting\n",
    "There are several ways to format strings in Python:\n",
    "- Using `%` operator\n",
    "- Using `str.format()` method\n",
    "- Using f-strings (formatted string literals, available in Python 3.6+)"
   ]
  },
  {
   "cell_type": "code",
   "execution_count": null,
   "metadata": {},
   "outputs": [],
   "source": [
    "name = \"John\"\n",
    "age = 30\n",
    "\n",
    "# Using f-strings (formatted string literals)\n",
    "print(f\"Hello, {name}. You are {age} years old.\")\n",
    "\n",
    "# Using % operator\n",
    "print(\"Hello, %s. You are %d years old.\" % (name, age))\n",
    "\n",
    "# Using str.format() method\n",
    "print(\"Hello, {}. You are {} years old.\".format(name, age))"
   ]
  },
  {
   "cell_type": "markdown",
   "metadata": {},
   "source": [
    "## Operations\n",
    "Common string operations include:\n",
    "- Concatenation: `+`\n",
    "- Repetition: `*`\n",
    "- Slicing: `[start:stop:step]`\n",
    "- Length: `len()`"
   ]
  },
  {
   "cell_type": "code",
   "execution_count": null,
   "metadata": {},
   "outputs": [],
   "source": [
    "word = \"Abc\"\n",
    "\n",
    "print(\"word + word = \", word + word)\n",
    "print(\"word * 3 = \", word * 3)\n",
    "print(\"word[0] = \", word[0])\n",
    "print(\"len(word) = \", len(word))"
   ]
  },
  {
   "cell_type": "markdown",
   "metadata": {},
   "source": [
    "## Slicing\n",
    "Slicing allows you to extract a part of a string using the syntax `string[start:stop:step]`.\n",
    "\n",
    "### Parameters:\n",
    "- `start`: The starting index of the slice.\n",
    "- `stop`: The ending index of the slice (exclusive).\n",
    "- `step`: The step size (default is 1)."
   ]
  },
  {
   "cell_type": "code",
   "execution_count": null,
   "metadata": {},
   "outputs": [],
   "source": [
    "word = \"Abcdefghijklmnopqrstuvwxyz\"\n",
    "\n",
    "from_id = 0\n",
    "to_id = 10\n",
    "step = 2\n",
    "\n",
    "print(f\"From {from_id} to {to_id} with step {step}\")\n",
    "print(f\"word[{from_id}:{to_id}:{step}] =\", word[from_id:to_id:step])"
   ]
  },
  {
   "cell_type": "code",
   "execution_count": null,
   "metadata": {},
   "outputs": [],
   "source": [
    "# Only 4th character\n",
    "print(\"Only 4th character:\", word[3])\n",
    "\n",
    "# From 2 to 5\n",
    "print(\"From 2 to 5:\", word[2:5])\n",
    "\n",
    "# Every second character\n",
    "print(\"Every second character:\", word[::2])\n",
    "\n",
    "# Last character\n",
    "print(\"Last character:\", word[-1])\n",
    "\n",
    "# Last two characters\n",
    "print(\"Last two characters:\", word[-2:])\n",
    "\n",
    "# Reverse\n",
    "print(\"Reverse:\", word[::-1])"
   ]
  },
  {
   "cell_type": "markdown",
   "metadata": {},
   "source": [
    "## Methods\n",
    "Common string methods include:\n",
    "- `upper()`: Convert to uppercase\n",
    "- `lower()`: Convert to lowercase\n",
    "- `title()`: Convert to title case\n",
    "- `capitalize()`: Capitalize the first character\n",
    "- `strip()`: Remove leading and trailing whitespace\n",
    "- `replace()`: Replace a substring with another substring"
   ]
  },
  {
   "cell_type": "code",
   "execution_count": null,
   "metadata": {},
   "outputs": [],
   "source": [
    "word = \"SOME text WITH spaces\"\n",
    "print(word)\n",
    "print(word.upper())\n",
    "print(word.lower())\n",
    "print(word.title())\n",
    "print(word.capitalize())\n",
    "print(word.replace(\"SOME\", \"Another\"))\n"
   ]
  },
  {
   "cell_type": "markdown",
   "metadata": {},
   "source": [
    "- `split()`: Split string into a list\n",
    "- `join()`: Join list into a string"
   ]
  },
  {
   "cell_type": "code",
   "execution_count": null,
   "metadata": {},
   "outputs": [],
   "source": [
    "word = \"                    Some text with spaces                    \"\n",
    "print(word, \"END\")\n",
    "print(word.strip(), \"END\")\n",
    "print(word.lstrip(), \"END\")\n",
    "print(word.rstrip(), \"END\")"
   ]
  },
  {
   "cell_type": "code",
   "execution_count": null,
   "metadata": {},
   "outputs": [],
   "source": [
    "words = \"some text with spaces\"\n",
    "print(words)\n",
    "print(f\"type(words) = {type(words)}\")\n",
    "print(50 * \"-\")\n",
    "\n",
    "split_words = words.split(\" \")\n",
    "print(split_words)\n",
    "print(f\"type(split_words) = {type(split_words)}\")\n",
    "print(50 * \"-\")\n",
    "\n",
    "joined_words = \" \".join(split_words)\n",
    "print(joined_words)\n",
    "print(f\"type(joined_words) = {type(joined_words)}\")"
   ]
  },
  {
   "cell_type": "markdown",
   "metadata": {},
   "source": [
    "Additional string methods:\n",
    "- `startswith()`: Check if the string starts with a specified substring.\n",
    "- `endswith()`: Check if the string ends with a specified substring.\n",
    "- `find()`: Find the first occurrence of a specified substring.\n",
    "- `count()`: Count the occurrences of a specified substring.\n",
    "- `isalpha()`: Check if all characters in the string are alphabetic.\n",
    "- `isdigit()`: Check if all characters in the string are digits.\n",
    "- `isalnum()`: Check if all characters in the string are alphanumeric."
   ]
  },
  {
   "cell_type": "code",
   "execution_count": null,
   "metadata": {},
   "outputs": [],
   "source": [
    "word = \"Hello123\"\n",
    "print(word.startswith(\"Hel\"))  # True\n",
    "print(word.endswith(\"123\"))  # True\n",
    "print(word.find(\"lo\"))  # 3\n",
    "print(word.count(\"l\"))  # 2\n",
    "print(word.isalpha())  # False\n",
    "print(word.isdigit())  # False\n",
    "print(word.isalnum())  # True"
   ]
  },
  {
   "cell_type": "code",
   "execution_count": null,
   "metadata": {},
   "outputs": [],
   "source": []
  }
 ],
 "metadata": {
  "kernelspec": {
   "display_name": ".venv",
   "language": "python",
   "name": "python3"
  },
  "language_info": {
   "codemirror_mode": {
    "name": "ipython",
    "version": 3
   },
   "file_extension": ".py",
   "mimetype": "text/x-python",
   "name": "python",
   "nbconvert_exporter": "python",
   "pygments_lexer": "ipython3",
   "version": "3.13.0"
  }
 },
 "nbformat": 4,
 "nbformat_minor": 2
}
