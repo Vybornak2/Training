{
 "cells": [
  {
   "cell_type": "markdown",
   "metadata": {},
   "source": [
    "# Variables, Data types\n",
    "\n",
    "### declaration:\n",
    "variable_name: type_hint = value\n",
    "\n",
    "### data types:\n",
    "- int: integer\n",
    "- float: decimal number\n",
    "- str: string\n",
    "- bool: boolean (True or False)\n",
    "- list: list of values\n",
    "- tuple: immutable list\n",
    "- dict: dictionary (key-value pair)\n",
    "- set: set of values"
   ]
  },
  {
   "cell_type": "markdown",
   "metadata": {},
   "source": [
    "__Note:__ For help on any function or data type, use `help()` function. For example, `help(int)` will give you information about integer data type. Additionally you can use `dir()` function to get list of attributes and methods of any object. For example, `dir(int)` will give you list of attributes and methods of integer data type."
   ]
  },
  {
   "cell_type": "code",
   "execution_count": null,
   "metadata": {},
   "outputs": [],
   "source": [
    "# Correct type hinting for a variable\n",
    "variable: int = 1\n",
    "print(variable)\n",
    "print(type(variable))"
   ]
  },
  {
   "cell_type": "code",
   "execution_count": null,
   "metadata": {},
   "outputs": [],
   "source": [
    "# Incorrect type hinting for a variable (will not raise an error)\n",
    "variable: int = \"1\"\n",
    "print(variable)\n",
    "print(type(variable))"
   ]
  },
  {
   "cell_type": "markdown",
   "metadata": {},
   "source": [
    "## Numbers\n",
    "\n",
    "### int\n",
    "- whole numbers\n",
    "- positive or negative\n",
    "- no decimal point\n",
    "\n",
    "### float\n",
    "- decimal numbers\n",
    "- positive or negative\n",
    "- with decimal point"
   ]
  },
  {
   "cell_type": "code",
   "execution_count": null,
   "metadata": {},
   "outputs": [],
   "source": [
    "# integers\n",
    "\n",
    "# fmt: off\n",
    "a = 1 \n",
    "b = 0xF # hexadecimal number\n",
    "c = 0b10 # binary number\n",
    "d = 0o10 # octal number\n",
    "e = 1_000_000 # underscore for readability\n",
    "f = -20 \n",
    "# fmt: on\n",
    "\n",
    "# for now ignore this\n",
    "for k, v in {\"a\": a, \"b\": b, \"c\": c, \"d\": d, \"e\": e, \"f\": f}.items():\n",
    "    print(f\"type of {k}: {type(v)} = {v}\")"
   ]
  },
  {
   "cell_type": "code",
   "execution_count": null,
   "metadata": {},
   "outputs": [],
   "source": [
    "# floating point numbers\n",
    "\n",
    "# fmt: off\n",
    "a = 1.0\n",
    "b = .1\n",
    "c = 1.\n",
    "d = 1.0e-3\n",
    "# fmt: on\n",
    "\n",
    "# for now ignore this\n",
    "for k, v in {\"a\": a, \"b\": b, \"c\": c, \"d\": d}.items():\n",
    "    print(f\"type of {k}: {type(v)} = {v}\")"
   ]
  },
  {
   "cell_type": "markdown",
   "metadata": {},
   "source": [
    "### operations\n",
    "- addition: +\n",
    "- subtraction: -\n",
    "- multiplication: *\n",
    "- division: /\n",
    "- floor division: //\n",
    "- modulus: %\n",
    "- exponentiation: **\n",
    "- increment: +=\n",
    "- decrement: -="
   ]
  },
  {
   "cell_type": "code",
   "execution_count": null,
   "metadata": {},
   "outputs": [],
   "source": [
    "a = 5\n",
    "b = 2.5\n",
    "c = 2\n",
    "\n",
    "# b is floating point number, so the result is also floating point number\n",
    "print(\"a + b = \", a + b, \", type: \", type(a + b))\n",
    "print(\"a - b = \", a - b, \", type: \", type(a - b))\n",
    "print(\"a * b = \", a * b, \", type: \", type(a * b))\n",
    "print(\"a / b = \", a / b, \", type: \", type(a / b))\n",
    "print(\"a // b = \", a // b, \", type: \", type(a // b))\n",
    "print(\"a % b = \", a % b, \", type: \", type(a % b))\n",
    "print(\"a ** b = \", a**b, \", type: \", type(a**b))\n",
    "print()\n",
    "\n",
    "# a, c are integers, so the result is also integer (except for division)\n",
    "print(\"a + c = \", a + c, \", type: \", type(a + c))\n",
    "print(\"a - c = \", a - c, \", type: \", type(a - c))\n",
    "print(\"a * c = \", a * c, \", type: \", type(a * c))\n",
    "print(\"a / c = \", a / c, \", type: \", type(a / c))\n",
    "print(\"a // c = \", a // c, \", type: \", type(a // c))\n",
    "print(\"a % c = \", a % c, \", type: \", type(a % c))\n",
    "print(\"a ** c = \", a**c, \", type: \", type(a**c))"
   ]
  },
  {
   "cell_type": "code",
   "execution_count": null,
   "metadata": {},
   "outputs": [],
   "source": [
    "d = 1\n",
    "print(\"d = \", d)\n",
    "d += 1\n",
    "print(\"d = \", d)\n",
    "d -= 1\n",
    "print(\"d = \", d)"
   ]
  },
  {
   "cell_type": "markdown",
   "metadata": {},
   "source": [
    "### casting\n",
    "- int(): convert to integer\n",
    "- float(): convert to float"
   ]
  },
  {
   "cell_type": "code",
   "execution_count": null,
   "metadata": {},
   "outputs": [],
   "source": [
    "a = 5\n",
    "print(\"a = \", a, \", type: \", type(a))\n",
    "a = float(a)\n",
    "print(\"a = \", a, \", type: \", type(a))"
   ]
  },
  {
   "cell_type": "code",
   "execution_count": null,
   "metadata": {},
   "outputs": [],
   "source": [
    "b = 2.5\n",
    "print(\"b = \", b, \", type: \", type(b))\n",
    "b = int(b)\n",
    "print(\"b = \", b, \", type: \", type(b))"
   ]
  },
  {
   "cell_type": "code",
   "execution_count": null,
   "metadata": {},
   "outputs": [],
   "source": [
    "c = \"2.0\"\n",
    "print(\"c = \", c, \", type: \", type(c))\n",
    "\n",
    "print(\"Testing addition of string\")\n",
    "print(c + c)\n",
    "print()\n",
    "\n",
    "c = float(c)\n",
    "print(\"c = \", c, \", type: \", type(c))\n",
    "print(\"Testing addition of float\")\n",
    "print(c + c)"
   ]
  },
  {
   "cell_type": "markdown",
   "metadata": {},
   "source": [
    "## Strings\n",
    "\n",
    "### declaration\n",
    "- single quotes: 'string'\n",
    "- double quotes: \"string\"\n",
    "- triple quotes: '''string''' or \"\"\"string\"\"\""
   ]
  },
  {
   "cell_type": "code",
   "execution_count": null,
   "metadata": {},
   "outputs": [],
   "source": [
    "# fmt: off\n",
    "slovo1 = \"Nejake slovo 1\"\n",
    "slovo2 = 'Nejake slovo 2'\n",
    "slovo3 = \"\"\"\n",
    "    Nejake slovo 3\n",
    "    A dalsi slova\n",
    "\"\"\"\n",
    "# fmt: on\n",
    "\n",
    "print(slovo1)\n",
    "print(slovo2)\n",
    "print(slovo3)"
   ]
  },
  {
   "cell_type": "markdown",
   "metadata": {},
   "source": [
    "### operations\n",
    "- concatenation: +\n",
    "- repetition: *\n",
    "- slicing: [start:stop:step]\n",
    "- length: len()"
   ]
  },
  {
   "cell_type": "code",
   "execution_count": null,
   "metadata": {},
   "outputs": [],
   "source": [
    "slovo = \"Abc\"\n",
    "\n",
    "print(\"slovo + slovo = \", slovo + slovo)\n",
    "print(\"slovo * 3 = \", slovo * 3)\n",
    "print(\"slovo[0] = \", slovo[0])\n",
    "print(\"len(slovo) = \", len(slovo))"
   ]
  },
  {
   "cell_type": "code",
   "execution_count": null,
   "metadata": {},
   "outputs": [],
   "source": [
    "# slicing\n",
    "slovo = \"Abcdefgh\"\n",
    "\n",
    "print(\"From 2 to 5:\")\n",
    "print(slovo[2:5], end=\"\\n\\n\")\n",
    "\n",
    "print(\"Every second character:\")\n",
    "print(slovo[::2], end=\"\\n\\n\")\n",
    "\n",
    "print(\"Last character\")\n",
    "print(slovo[-1], end=\"\\n\\n\")\n",
    "print(\"Last two characters\")\n",
    "print(slovo[-2:], end=\"\\n\\n\")\n",
    "\n",
    "print(\"Reverse\")\n",
    "print(slovo[::-1], end=\"\\n\\n\")\n"
   ]
  },
  {
   "cell_type": "markdown",
   "metadata": {},
   "source": [
    "\n",
    "### methods\n",
    "- upper(): convert to uppercase\n",
    "- lower(): convert to lowercase\n",
    "- title(): convert to title case\n",
    "- capitalize(): convert to title case\n",
    "- strip(): remove whitespace\n",
    "- replace(): replace substring\n",
    "- split(): split string into list\n",
    "- join(): join list into string"
   ]
  },
  {
   "cell_type": "code",
   "execution_count": null,
   "metadata": {},
   "outputs": [],
   "source": [
    "slovo = \"              some text with spaces    \"\n",
    "\n",
    "print(slovo)\n",
    "\n",
    "slovo = slovo.strip()\n",
    "print(slovo)\n",
    "\n",
    "slovo = slovo.upper()\n",
    "print(slovo)\n",
    "\n",
    "slovo = slovo.lower()\n",
    "print(slovo)\n",
    "\n",
    "print(slovo.title())\n",
    "print(slovo.capitalize())\n",
    "print(slovo.replace(\"some\", \"another\"))"
   ]
  },
  {
   "cell_type": "code",
   "execution_count": null,
   "metadata": {},
   "outputs": [],
   "source": [
    "slovo = \"some text with spaces\"\n",
    "slova = slovo.split(\" \")\n",
    "\n",
    "print(slova)\n",
    "print(type(slova))\n",
    "\n",
    "print()\n",
    "print(\"\\n\".join(slova))"
   ]
  },
  {
   "cell_type": "markdown",
   "metadata": {},
   "source": [
    "## Booleans\n",
    "- True or False\n",
    "- 1 or 0"
   ]
  },
  {
   "cell_type": "code",
   "execution_count": null,
   "metadata": {},
   "outputs": [],
   "source": [
    "is_true = True\n",
    "print(is_true)"
   ]
  },
  {
   "cell_type": "code",
   "execution_count": null,
   "metadata": {},
   "outputs": [],
   "source": [
    "is_false = False\n",
    "print(is_false)"
   ]
  },
  {
   "cell_type": "markdown",
   "metadata": {},
   "source": [
    "### operations\n",
    "- and: a and b\n",
    "- or: a or b\n",
    "- not: not a"
   ]
  },
  {
   "cell_type": "code",
   "execution_count": null,
   "metadata": {},
   "outputs": [],
   "source": [
    "print(is_true and is_false)\n",
    "print(is_true or is_false)\n",
    "print(not is_true)"
   ]
  },
  {
   "cell_type": "markdown",
   "metadata": {},
   "source": [
    "\n",
    "### comparison\n",
    "- equal: ==\n",
    "- not equal: !=\n",
    "- greater than: >\n",
    "- less than: <\n",
    "- greater than or equal: >=\n",
    "- less than or equal: <="
   ]
  },
  {
   "cell_type": "code",
   "execution_count": null,
   "metadata": {},
   "outputs": [],
   "source": [
    "a = 5\n",
    "b = 10\n",
    "\n",
    "print(a == b)\n",
    "print(a != b)\n",
    "print(a > b)\n",
    "print(a < b)"
   ]
  },
  {
   "cell_type": "markdown",
   "metadata": {},
   "source": [
    "### identity\n",
    "- is: a is b\n",
    "- is not: a is not b"
   ]
  },
  {
   "cell_type": "code",
   "execution_count": null,
   "metadata": {},
   "outputs": [],
   "source": [
    "a = 5\n",
    "b = 5.0\n",
    "\n",
    "print(a == b)\n",
    "print(a is b)"
   ]
  },
  {
   "cell_type": "markdown",
   "metadata": {},
   "source": [
    "### membership\n",
    "- in: a in b\n",
    "- not in: a not in b"
   ]
  },
  {
   "cell_type": "code",
   "execution_count": null,
   "metadata": {},
   "outputs": [],
   "source": [
    "slovo = \"abc\"\n",
    "\n",
    "print(\"a\" in slovo)\n",
    "print(\"d\" in slovo)"
   ]
  }
 ],
 "metadata": {
  "kernelspec": {
   "display_name": ".venv",
   "language": "python",
   "name": "python3"
  },
  "language_info": {
   "codemirror_mode": {
    "name": "ipython",
    "version": 3
   },
   "file_extension": ".py",
   "mimetype": "text/x-python",
   "name": "python",
   "nbconvert_exporter": "python",
   "pygments_lexer": "ipython3",
   "version": "3.11.11"
  }
 },
 "nbformat": 4,
 "nbformat_minor": 2
}
