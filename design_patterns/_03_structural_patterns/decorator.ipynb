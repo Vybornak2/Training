{
 "cells": [
  {
   "cell_type": "markdown",
   "metadata": {},
   "source": [
    "# Decorator Pattern\n",
    "\n",
    "- __Type:__ Structural\n",
    "- __Popularity:__ ★★★★☆\n",
    "- __Complexity:__ ★★★☆☆\n",
    "\n",
    "## Intent\n",
    "\n",
    "The __Decorator__ pattern is a structural design pattern that attaches additional responsibilities to objects dynamically without modifying their structure. It provides a flexible alternative to subclassing for extending functionality.\n",
    "\n",
    "- Add responsibilities to objects dynamically\n",
    "- Provide flexible alternative to subclassing for extending functionality\n",
    "- Support the open/closed principle (open for extension, closed for modification)\n",
    "- Allow responsibilities to be withdrawn when no longer needed"
   ]
  },
  {
   "cell_type": "markdown",
   "metadata": {},
   "source": [
    "## Problem\n",
    "\n",
    "Sometimes we need to add responsibilities or behaviors to individual objects rather than an entire class. For example:\n",
    "\n",
    "- You need to add features to objects without changing their underlying code\n",
    "- You want to add combinations of features that would lead to an explosion of subclasses\n",
    "- You need to modify objects in ways that are not known at compile-time\n",
    "- You want to avoid creating a complex inheritance hierarchy just to support different feature combinations\n",
    "\n",
    "Using inheritance to extend functionality isn't always flexible enough. Inheritance is static and applies to an entire class."
   ]
  },
  {
   "cell_type": "markdown",
   "metadata": {},
   "source": [
    "## Solution\n",
    "\n",
    "The Decorator pattern solves these problems by:\n",
    "\n",
    "1. Creating a wrapper that implements the same interface as the original object\n",
    "2. Referencing the original object through composition\n",
    "3. Delegating operations to the wrapped object\n",
    "4. Adding its own behavior before or after delegating\n",
    "\n",
    "This approach provides several advantages:\n",
    "\n",
    "- Decorators can be stacked in any order to create complex combinations of behaviors\n",
    "- Decorators can be added and removed at runtime\n",
    "- The pattern follows the single responsibility principle by separating concerns into different classes\n",
    "- The client doesn't need to know about the specific decorators being used\n",
    "\n",
    "### Notes\n",
    "1. Same Interface\n",
    "    - Decorator objects should be designed to be interchangeable with the original object\n",
    "    - Decorator and the original object should implement the same interface\n",
    "    - Decorator should forward requests to the original object\n",
    "\n",
    "2. Recursive Composition\n",
    "    - Decorators can be stacked on top of each other\n",
    "    - Decorators can wrap other decorators\n",
    "\n",
    "3. Alternatives\n",
    "    - Monkey Patching objects at runtime\n",
    "    - Monkey Patching classes at runtime\n",
    "\n",
    "4. Additional resources\n",
    "    - [Python Patterns Guide](https://python-patterns.guide/gang-of-four/decorator-pattern/)"
   ]
  },
  {
   "cell_type": "markdown",
   "metadata": {},
   "source": [
    "## Diagram\n",
    "\n",
    "```mermaid\n",
    "classDiagram\n",
    "    class Component {\n",
    "        +operation()\n",
    "    }\n",
    "    class ConcreteComponent {\n",
    "        +operation()\n",
    "    }\n",
    "    class Decorator {\n",
    "        -component: Component\n",
    "        +operation()\n",
    "    }\n",
    "    class ConcreteDecoratorA {\n",
    "        +operation()\n",
    "        +addedBehavior()\n",
    "    }\n",
    "    class ConcreteDecoratorB {\n",
    "        +operation()\n",
    "        +addedBehavior()\n",
    "    }\n",
    "    \n",
    "    Component <|-- ConcreteComponent\n",
    "    Component <|-- Decorator\n",
    "    Decorator <|-- ConcreteDecoratorA\n",
    "    Decorator <|-- ConcreteDecoratorB\n",
    "    Decorator o-- Component\n",
    "```"
   ]
  },
  {
   "cell_type": "markdown",
   "metadata": {},
   "source": [
    "## Implementation 1: Classic Decorator Pattern"
   ]
  },
  {
   "cell_type": "code",
   "execution_count": 2,
   "metadata": {},
   "outputs": [],
   "source": [
    "from abc import ABC, abstractmethod\n",
    "\n",
    "\n",
    "class Component(ABC):\n",
    "    \"\"\"Base Component interface defines operations that can be altered by decorators\"\"\"\n",
    "\n",
    "    @abstractmethod\n",
    "    def operation(self) -> str:\n",
    "        pass\n",
    "\n",
    "\n",
    "class ConcreteComponent(Component):\n",
    "    \"\"\"Concrete Component provides default implementation of operations\"\"\"\n",
    "\n",
    "    def operation(self) -> str:\n",
    "        return \"ConcreteComponent\"\n",
    "\n",
    "\n",
    "class Decorator(Component):\n",
    "    \"\"\"Base Decorator class follows the same interface as other components\"\"\"\n",
    "\n",
    "    def __init__(self, component: Component):\n",
    "        self._component = component\n",
    "\n",
    "    @property\n",
    "    def component(self) -> Component:\n",
    "        return self._component\n",
    "\n",
    "    def operation(self) -> str:\n",
    "        return self._component.operation()\n",
    "\n",
    "\n",
    "class ConcreteDecoratorA(Decorator):\n",
    "    \"\"\"Concrete Decorators add responsibilities to components\"\"\"\n",
    "\n",
    "    def operation(self) -> str:\n",
    "        return f\"ConcreteDecoratorA({self.component.operation()})\"\n",
    "\n",
    "\n",
    "class ConcreteDecoratorB(Decorator):\n",
    "    \"\"\"Concrete Decorators can add behaviors before and/or after delegating to the component\"\"\"\n",
    "\n",
    "    def operation(self) -> str:\n",
    "        return f\"ConcreteDecoratorB({self.component.operation()})\""
   ]
  },
  {
   "cell_type": "markdown",
   "metadata": {},
   "source": [
    "### Usage"
   ]
  },
  {
   "cell_type": "code",
   "execution_count": 3,
   "metadata": {},
   "outputs": [
    {
     "name": "stdout",
     "output_type": "stream",
     "text": [
      "Client: I've got a simple component:\n",
      "RESULT: ConcreteComponent\n",
      "\n",
      "\n",
      "Client: Now I've got a decorated component with A:\n",
      "RESULT: ConcreteDecoratorA(ConcreteComponent)\n",
      "\n",
      "\n",
      "Client: Now I've got a decorated component with B:\n",
      "RESULT: ConcreteDecoratorB(ConcreteDecoratorA(ConcreteComponent))\n"
     ]
    }
   ],
   "source": [
    "def client_code(component: Component) -> None:\n",
    "    \"\"\"The client code works with all objects using the Component interface\"\"\"\n",
    "    print(f\"RESULT: {component.operation()}\")\n",
    "\n",
    "\n",
    "if __name__ == \"__main__\":\n",
    "    # Using the simple component\n",
    "    simple = ConcreteComponent()\n",
    "    print(\"Client: I've got a simple component:\")\n",
    "    client_code(simple)\n",
    "    print(\"\\n\")\n",
    "\n",
    "    # Decorating the component with decorator A\n",
    "    decorator1 = ConcreteDecoratorA(simple)\n",
    "    print(\"Client: Now I've got a decorated component with A:\")\n",
    "    client_code(decorator1)\n",
    "    print(\"\\n\")\n",
    "\n",
    "    # Decorating the already decorated component with decorator B\n",
    "    decorator2 = ConcreteDecoratorB(decorator1)\n",
    "    print(\"Client: Now I've got a decorated component with B:\")\n",
    "    client_code(decorator2)"
   ]
  },
  {
   "cell_type": "markdown",
   "metadata": {},
   "source": [
    "## Implementation 2: Real-World Text Processing Example"
   ]
  },
  {
   "cell_type": "code",
   "execution_count": 4,
   "metadata": {},
   "outputs": [],
   "source": [
    "class TextComponent:\n",
    "    \"\"\"Base text component interface\"\"\"\n",
    "\n",
    "    def render(self) -> str:\n",
    "        return \"\"\n",
    "\n",
    "\n",
    "class PlainText(TextComponent):\n",
    "    \"\"\"Concrete component that stores and renders plain text\"\"\"\n",
    "\n",
    "    def __init__(self, text: str):\n",
    "        self._text = text\n",
    "\n",
    "    def render(self) -> str:\n",
    "        return self._text\n",
    "\n",
    "\n",
    "class TextDecorator(TextComponent):\n",
    "    \"\"\"Base decorator for text components\"\"\"\n",
    "\n",
    "    def __init__(self, text_component: TextComponent):\n",
    "        self._text_component = text_component\n",
    "\n",
    "    def render(self) -> str:\n",
    "        return self._text_component.render()\n",
    "\n",
    "\n",
    "class BoldDecorator(TextDecorator):\n",
    "    \"\"\"Makes text bold\"\"\"\n",
    "\n",
    "    def render(self) -> str:\n",
    "        return f\"<b>{self._text_component.render()}</b>\"\n",
    "\n",
    "\n",
    "class ItalicDecorator(TextDecorator):\n",
    "    \"\"\"Makes text italic\"\"\"\n",
    "\n",
    "    def render(self) -> str:\n",
    "        return f\"<i>{self._text_component.render()}</i>\"\n",
    "\n",
    "\n",
    "class UnderlineDecorator(TextDecorator):\n",
    "    \"\"\"Underlines text\"\"\"\n",
    "\n",
    "    def render(self) -> str:\n",
    "        return f\"<u>{self._text_component.render()}</u>\""
   ]
  },
  {
   "cell_type": "markdown",
   "metadata": {},
   "source": [
    "### Usage"
   ]
  },
  {
   "cell_type": "code",
   "execution_count": 5,
   "metadata": {},
   "outputs": [
    {
     "name": "stdout",
     "output_type": "stream",
     "text": [
      "Plain text: Hello, World!\n",
      "Bold text: <b>Hello, World!</b>\n",
      "Bold and italic text: <i><b>Hello, World!</b></i>\n",
      "Fancy text: <u><i><b>Hello, World!</b></i></u>\n",
      "Italic and underlined: <i><u>Hello, World!</u></i>\n"
     ]
    }
   ],
   "source": [
    "if __name__ == \"__main__\":\n",
    "    # Create a simple text component\n",
    "    text = PlainText(\"Hello, World!\")\n",
    "    print(f\"Plain text: {text.render()}\")\n",
    "\n",
    "    # Make it bold\n",
    "    bold_text = BoldDecorator(text)\n",
    "    print(f\"Bold text: {bold_text.render()}\")\n",
    "\n",
    "    # Make it bold and italic\n",
    "    italic_bold_text = ItalicDecorator(bold_text)\n",
    "    print(f\"Bold and italic text: {italic_bold_text.render()}\")\n",
    "\n",
    "    # Make it bold, italic, and underlined\n",
    "    fancy_text = UnderlineDecorator(italic_bold_text)\n",
    "    print(f\"Fancy text: {fancy_text.render()}\")\n",
    "\n",
    "    # We can also apply decorators in different order\n",
    "    underlined_text = UnderlineDecorator(text)\n",
    "    italic_underlined_text = ItalicDecorator(underlined_text)\n",
    "    print(f\"Italic and underlined: {italic_underlined_text.render()}\")"
   ]
  },
  {
   "cell_type": "markdown",
   "metadata": {},
   "source": [
    "## Real-world analogies\n",
    "\n",
    "1. Clothing Layers:\n",
    "\n",
    "   Like putting on multiple layers of clothing (t-shirt, sweater, jacket), each decorator wraps around the previous one. The base object is like your body, and each additional layer adds functionality (warmth, water resistance, style) without changing the underlying structure.\n",
    "\n",
    "2. Coffee Shop Customization:\n",
    "\n",
    "   At a coffee shop, you start with a base coffee (component). Then you can add various decorators like milk, sugar, whipped cream, or flavored syrups. Each addition enhances the basic coffee without changing what it fundamentally is.\n",
    "\n",
    "3. Car Service Options:\n",
    "\n",
    "   When servicing a car, you start with a basic service (oil change), then can add additional services (tire rotation, brake check, fluid top-up) as needed. Each service enhances the overall maintenance without changing the basic service process."
   ]
  },
  {
   "cell_type": "markdown",
   "metadata": {},
   "source": [
    "## When to use\n",
    "\n",
    "- When you need to add responsibilities to objects dynamically and transparently without affecting other objects\n",
    "- When extension by subclassing is impractical or impossible due to class explosion\n",
    "- When you need to add functionality that can be withdrawn later\n",
    "- When you want to avoid a feature-laden class hierarchy by keeping core classes simple\n",
    "- When you want to combine multiple behaviors in different ways\n",
    "- When a system needs to recognize new behavior without reconfiguring or recompiling code"
   ]
  },
  {
   "cell_type": "markdown",
   "metadata": {},
   "source": [
    "## Python-specific implementation notes\n",
    "\n",
    "- Python's **function decorators** are inspired by the decorator pattern but are a language feature rather than a design pattern implementation\n",
    "- Python supports dynamic modification of objects and classes, making decorator implementation more flexible than in static languages\n",
    "- The `functools` module provides the `@wraps` decorator to preserve function metadata when implementing function decorators\n",
    "- In Python, you can often achieve decorator-like behavior through:  \n",
    "  - Function decorators (`@decorator`)  \n",
    "  - Class decorators (`@decorator` for classes)  \n",
    "  - Mixins (multiple inheritance)  \n",
    "  - Monkey patching  \n",
    "- Python's dynamic nature sometimes makes the formal decorator pattern unnecessary when simple function decorators or runtime modifications can achieve the same goal"
   ]
  },
  {
   "cell_type": "markdown",
   "metadata": {},
   "source": [
    "## Related patterns\n",
    "\n",
    "- **Adapter Pattern**: Both change the interface of an object, but for different reasons. Adapter makes incompatible interfaces compatible, while Decorator adds responsibilities without changing the interface.\n",
    "\n",
    "- **Composite Pattern**: Decorator can be viewed as a degenerate composite with only one component. However, Decorator adds responsibilities, while Composite aggregates objects.\n",
    "\n",
    "- **Strategy Pattern**: Both patterns change behavior, but Strategy uses composition to change the entire algorithm, while Decorator enhances specific objects without changing their core behavior.\n",
    "\n",
    "- **Proxy Pattern**: Both wrap an object, but a Proxy controls access to the object, while a Decorator adds responsibilities to the object.\n",
    "\n",
    "- **Chain of Responsibility**: Decorators can be chained together, similar to how handlers are chained in Chain of Responsibility, but their purposes are different."
   ]
  }
 ],
 "metadata": {
  "kernelspec": {
   "display_name": ".venv",
   "language": "python",
   "name": "python3"
  },
  "language_info": {
   "codemirror_mode": {
    "name": "ipython",
    "version": 3
   },
   "file_extension": ".py",
   "mimetype": "text/x-python",
   "name": "python",
   "nbconvert_exporter": "python",
   "pygments_lexer": "ipython3",
   "version": "3.13.0"
  }
 },
 "nbformat": 4,
 "nbformat_minor": 2
}
