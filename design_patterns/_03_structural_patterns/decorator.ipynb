{
 "cells": [
  {
   "cell_type": "markdown",
   "metadata": {},
   "source": [
    "# Decorator Pattern\n",
    "\n",
    "Attaches additional responsibilities to objects dynamically without modifying their structure.\n",
    "\n",
    "## Intent\n",
    "\n",
    "- Add responsibilities to objects dynamically\n",
    "- Provide flexible alternative to subclassing for extending functionality\n",
    "- Support the open/closed principle (open for extension, closed for modification)\n",
    "- Allow responsibilities to be withdrawn when no longer needed\n",
    "\n",
    "## Notes\n",
    "1. Same Interface\n",
    "    - Decorator objects should be designed to be interchangeable with the original object\n",
    "    - Decorator and the original object should implement the same interface\n",
    "    - Decorator should forward requests to the original object\n",
    "\n",
    "2. Recursive Composition\n",
    "    - Decorators can be stacked on top of each other\n",
    "    - Decorators can wrap other decorators\n",
    "\n",
    "3. Alternatives\n",
    "    - Monkey Patching objects at runtime\n",
    "    - Monkey Patching classes at runtime\n",
    "\n",
    "4. Additional resources\n",
    "    - [Python Patterns Guide](https://python-patterns.guide/gang-of-four/decorator-pattern/)\n"
   ]
  },
  {
   "cell_type": "markdown",
   "metadata": {},
   "source": [
    "## Implementation 1: Classic Decorator Pattern"
   ]
  },
  {
   "cell_type": "code",
   "execution_count": 1,
   "metadata": {},
   "outputs": [],
   "source": [
    "from abc import ABC, abstractmethod\n",
    "\n",
    "\n",
    "class Component(ABC):\n",
    "    \"\"\"Base Component interface defines operations that can be altered by decorators\"\"\"\n",
    "\n",
    "    @abstractmethod\n",
    "    def operation(self) -> str:\n",
    "        pass\n",
    "\n",
    "\n",
    "class ConcreteComponent(Component):\n",
    "    \"\"\"Concrete Component provides default implementation of operations\"\"\"\n",
    "\n",
    "    def operation(self) -> str:\n",
    "        return \"ConcreteComponent\"\n",
    "\n",
    "\n",
    "class Decorator(Component):\n",
    "    \"\"\"Base Decorator class follows the same interface as other components\"\"\"\n",
    "\n",
    "    def __init__(self, component: Component):\n",
    "        self._component = component\n",
    "\n",
    "    @property\n",
    "    def component(self) -> Component:\n",
    "        return self._component\n",
    "\n",
    "    def operation(self) -> str:\n",
    "        return self._component.operation()\n",
    "\n",
    "\n",
    "class ConcreteDecoratorA(Decorator):\n",
    "    \"\"\"Concrete Decorators add responsibilities to components\"\"\"\n",
    "\n",
    "    def operation(self) -> str:\n",
    "        return f\"ConcreteDecoratorA({self.component.operation()})\"\n",
    "\n",
    "\n",
    "class ConcreteDecoratorB(Decorator):\n",
    "    \"\"\"Concrete Decorators can add behaviors before and/or after delegating to the component\"\"\"\n",
    "\n",
    "    def operation(self) -> str:\n",
    "        return f\"ConcreteDecoratorB({self.component.operation()})\""
   ]
  },
  {
   "cell_type": "markdown",
   "metadata": {},
   "source": [
    "### Usage"
   ]
  },
  {
   "cell_type": "code",
   "execution_count": 2,
   "metadata": {},
   "outputs": [
    {
     "name": "stdout",
     "output_type": "stream",
     "text": [
      "Client: I've got a simple component:\n",
      "RESULT: ConcreteComponent\n",
      "\n",
      "\n",
      "Client: Now I've got a decorated component with A:\n",
      "RESULT: ConcreteDecoratorA(ConcreteComponent)\n",
      "\n",
      "\n",
      "Client: Now I've got a decorated component with B:\n",
      "RESULT: ConcreteDecoratorB(ConcreteDecoratorA(ConcreteComponent))\n"
     ]
    }
   ],
   "source": [
    "def client_code(component: Component) -> None:\n",
    "    \"\"\"The client code works with all objects using the Component interface\"\"\"\n",
    "    print(f\"RESULT: {component.operation()}\")\n",
    "\n",
    "\n",
    "if __name__ == \"__main__\":\n",
    "    # Using the simple component\n",
    "    simple = ConcreteComponent()\n",
    "    print(\"Client: I've got a simple component:\")\n",
    "    client_code(simple)\n",
    "    print(\"\\n\")\n",
    "\n",
    "    # Decorating the component with decorator A\n",
    "    decorator1 = ConcreteDecoratorA(simple)\n",
    "    print(\"Client: Now I've got a decorated component with A:\")\n",
    "    client_code(decorator1)\n",
    "    print(\"\\n\")\n",
    "\n",
    "    # Decorating the already decorated component with decorator B\n",
    "    decorator2 = ConcreteDecoratorB(decorator1)\n",
    "    print(\"Client: Now I've got a decorated component with B:\")\n",
    "    client_code(decorator2)"
   ]
  },
  {
   "cell_type": "markdown",
   "metadata": {},
   "source": [
    "## Implementation 2: Real-World Text Processing Example"
   ]
  },
  {
   "cell_type": "code",
   "execution_count": 3,
   "metadata": {},
   "outputs": [],
   "source": [
    "class TextComponent:\n",
    "    \"\"\"Base text component interface\"\"\"\n",
    "\n",
    "    def render(self) -> str:\n",
    "        return \"\"\n",
    "\n",
    "\n",
    "class PlainText(TextComponent):\n",
    "    \"\"\"Concrete component that stores and renders plain text\"\"\"\n",
    "\n",
    "    def __init__(self, text: str):\n",
    "        self._text = text\n",
    "\n",
    "    def render(self) -> str:\n",
    "        return self._text\n",
    "\n",
    "\n",
    "class TextDecorator(TextComponent):\n",
    "    \"\"\"Base decorator for text components\"\"\"\n",
    "\n",
    "    def __init__(self, text_component: TextComponent):\n",
    "        self._text_component = text_component\n",
    "\n",
    "    def render(self) -> str:\n",
    "        return self._text_component.render()\n",
    "\n",
    "\n",
    "class BoldDecorator(TextDecorator):\n",
    "    \"\"\"Makes text bold\"\"\"\n",
    "\n",
    "    def render(self) -> str:\n",
    "        return f\"<b>{self._text_component.render()}</b>\"\n",
    "\n",
    "\n",
    "class ItalicDecorator(TextDecorator):\n",
    "    \"\"\"Makes text italic\"\"\"\n",
    "\n",
    "    def render(self) -> str:\n",
    "        return f\"<i>{self._text_component.render()}</i>\"\n",
    "\n",
    "\n",
    "class UnderlineDecorator(TextDecorator):\n",
    "    \"\"\"Underlines text\"\"\"\n",
    "\n",
    "    def render(self) -> str:\n",
    "        return f\"<u>{self._text_component.render()}</u>\""
   ]
  },
  {
   "cell_type": "markdown",
   "metadata": {},
   "source": [
    "### Usage"
   ]
  },
  {
   "cell_type": "code",
   "execution_count": 4,
   "metadata": {},
   "outputs": [
    {
     "name": "stdout",
     "output_type": "stream",
     "text": [
      "Plain text: Hello, World!\n",
      "Bold text: <b>Hello, World!</b>\n",
      "Bold and italic text: <i><b>Hello, World!</b></i>\n",
      "Fancy text: <u><i><b>Hello, World!</b></i></u>\n",
      "Italic and underlined: <i><u>Hello, World!</u></i>\n"
     ]
    }
   ],
   "source": [
    "if __name__ == \"__main__\":\n",
    "    # Create a simple text component\n",
    "    text = PlainText(\"Hello, World!\")\n",
    "    print(f\"Plain text: {text.render()}\")\n",
    "\n",
    "    # Make it bold\n",
    "    bold_text = BoldDecorator(text)\n",
    "    print(f\"Bold text: {bold_text.render()}\")\n",
    "\n",
    "    # Make it bold and italic\n",
    "    italic_bold_text = ItalicDecorator(bold_text)\n",
    "    print(f\"Bold and italic text: {italic_bold_text.render()}\")\n",
    "\n",
    "    # Make it bold, italic, and underlined\n",
    "    fancy_text = UnderlineDecorator(italic_bold_text)\n",
    "    print(f\"Fancy text: {fancy_text.render()}\")\n",
    "\n",
    "    # We can also apply decorators in different order\n",
    "    underlined_text = UnderlineDecorator(text)\n",
    "    italic_underlined_text = ItalicDecorator(underlined_text)\n",
    "    print(f\"Italic and underlined: {italic_underlined_text.render()}\")"
   ]
  }
 ],
 "metadata": {
  "kernelspec": {
   "display_name": ".venv",
   "language": "python",
   "name": "python3"
  },
  "language_info": {
   "codemirror_mode": {
    "name": "ipython",
    "version": 3
   },
   "file_extension": ".py",
   "mimetype": "text/x-python",
   "name": "python",
   "nbconvert_exporter": "python",
   "pygments_lexer": "ipython3",
   "version": "3.11.11"
  }
 },
 "nbformat": 4,
 "nbformat_minor": 2
}
