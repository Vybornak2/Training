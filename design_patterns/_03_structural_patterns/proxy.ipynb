{
 "cells": [
  {
   "cell_type": "markdown",
   "metadata": {},
   "source": [
    "# Proxy Pattern\n",
    "\n",
    "- __Type:__ Structural\n",
    "- __Popularity: ★★★★☆__\n",
    "- __Complexity: ★★★☆☆__\n",
    "\n",
    "## Intent\n",
    "\n",
    "The Proxy pattern provides a surrogate or placeholder for another object to control access to it. It allows you to:\n",
    "\n",
    "- Control access to the original object\n",
    "- Add functionality when accessing the object\n",
    "- Delay the creation and initialization of expensive objects until needed\n",
    "- Implement access control for the original object's clients"
   ]
  },
  {
   "cell_type": "markdown",
   "metadata": {},
   "source": [
    "## Problem\n",
    "\n",
    "Sometimes direct access to an object isn't possible or desirable for various reasons:\n",
    "\n",
    "- The object might be expensive to create or use (memory, computation, etc.)\n",
    "- The object might require access control (authorization, authentication)\n",
    "- The object might be remote, and network operations need to be managed\n",
    "- You might need additional behavior before/after accessing the real object\n",
    "\n",
    "Without the Proxy pattern, clients would need to manage these concerns themselves, leading to code duplication and tight coupling between clients and the service objects."
   ]
  },
  {
   "cell_type": "markdown",
   "metadata": {},
   "source": [
    "## Solution\n",
    "\n",
    "The Proxy pattern suggests creating a new proxy class with the same interface as the original service object. The proxy maintains a reference to the service object and controls access to it by:\n",
    "\n",
    "1. Creating the service object only when it's really needed (lazy initialization)\n",
    "2. Checking access permissions before forwarding requests\n",
    "3. Logging requests or performing other tasks before/after forwarding\n",
    "4. Managing remote service interaction details (network communication)\n",
    "\n",
    "The proxy acts as a substitute for the real service object, allowing it to perform additional operations before or after passing the request to the original object."
   ]
  },
  {
   "cell_type": "markdown",
   "metadata": {},
   "source": [
    "## Diagram\n",
    "\n",
    "```mermaid\n",
    "classDiagram\n",
    "    class Subject {\n",
    "        <<interface>>\n",
    "        +request()\n",
    "    }\n",
    "    class RealSubject {\n",
    "        +request()\n",
    "    }\n",
    "    class Proxy {\n",
    "        -realSubject: RealSubject\n",
    "        +request()\n",
    "    }\n",
    "    \n",
    "    Subject <|.. RealSubject\n",
    "    Subject <|.. Proxy\n",
    "    Proxy o-- RealSubject\n",
    "```\n",
    "\n",
    "- **Subject**: The interface that both the RealSubject and Proxy implement\n",
    "- **RealSubject**: The actual object that does the real work\n",
    "- **Proxy**: Holds a reference to the RealSubject and controls access to it"
   ]
  },
  {
   "cell_type": "markdown",
   "metadata": {},
   "source": [
    "## Example 1: Basic Proxy Pattern"
   ]
  },
  {
   "cell_type": "code",
   "execution_count": 1,
   "metadata": {},
   "outputs": [],
   "source": [
    "from abc import ABC, abstractmethod\n",
    "\n",
    "\n",
    "class Subject(ABC):\n",
    "    \"\"\"Interface implemented by both RealSubject and Proxy\"\"\"\n",
    "\n",
    "    @abstractmethod\n",
    "    def request(self) -> None:\n",
    "        pass\n",
    "\n",
    "\n",
    "class RealSubject(Subject):\n",
    "    \"\"\"The real object that the proxy represents\"\"\"\n",
    "\n",
    "    def request(self) -> None:\n",
    "        print(\"RealSubject: Handling request.\")\n",
    "\n",
    "\n",
    "class Proxy(Subject):\n",
    "    \"\"\"The Proxy maintains a reference to the RealSubject and controls access to it\"\"\"\n",
    "\n",
    "    def __init__(self, real_subject: RealSubject) -> None:\n",
    "        self._real_subject = real_subject\n",
    "\n",
    "    def check_access(self) -> bool:\n",
    "        print(\"Proxy: Checking access prior to firing a real request.\")\n",
    "        return True\n",
    "\n",
    "    def log_access(self) -> None:\n",
    "        print(\"Proxy: Logging the request.\")\n",
    "\n",
    "    def request(self) -> None:\n",
    "        \"\"\"The proxy adds functionality before and after delegating to the real subject\"\"\"\n",
    "        if self.check_access():\n",
    "            self._real_subject.request()\n",
    "            self.log_access()"
   ]
  },
  {
   "cell_type": "markdown",
   "metadata": {},
   "source": [
    "### Usage"
   ]
  },
  {
   "cell_type": "code",
   "execution_count": 2,
   "metadata": {},
   "outputs": [
    {
     "name": "stdout",
     "output_type": "stream",
     "text": [
      "Client: Executing the client code with a real subject:\n",
      "RealSubject: Handling request.\n",
      "\n",
      "Client: Executing the same client code with a proxy:\n",
      "Proxy: Checking access prior to firing a real request.\n",
      "RealSubject: Handling request.\n",
      "Proxy: Logging the request.\n"
     ]
    }
   ],
   "source": [
    "def client_code(subject: Subject) -> None:\n",
    "    \"\"\"Client code that works with all objects (both the real and proxy ones)\"\"\"\n",
    "    subject.request()\n",
    "\n",
    "\n",
    "if __name__ == \"__main__\":\n",
    "    print(\"Client: Executing the client code with a real subject:\")\n",
    "    real_subject = RealSubject()\n",
    "    client_code(real_subject)\n",
    "\n",
    "    print(\"\\nClient: Executing the same client code with a proxy:\")\n",
    "    proxy = Proxy(real_subject)\n",
    "    client_code(proxy)"
   ]
  },
  {
   "cell_type": "markdown",
   "metadata": {},
   "source": [
    "## Example 2: Protection (Access Control) Proxy"
   ]
  },
  {
   "cell_type": "code",
   "execution_count": 3,
   "metadata": {},
   "outputs": [],
   "source": [
    "class SensitiveInfo:\n",
    "    \"\"\"Contains sensitive information that needs protection\"\"\"\n",
    "\n",
    "    def __init__(self):\n",
    "        self.users = {\"admin\": \"admin_password\", \"user\": \"user_password\"}\n",
    "\n",
    "    def read(self):\n",
    "        print(\"Reading sensitive information: \", self.users)\n",
    "\n",
    "    def add(self, user, password):\n",
    "        self.users[user] = password\n",
    "        print(f\"Added user: {user}\")\n",
    "\n",
    "\n",
    "class SensitiveInfoProxy:\n",
    "    \"\"\"Acts as a protection proxy for SensitiveInfo\"\"\"\n",
    "\n",
    "    def __init__(self, username, password):\n",
    "        self.sensitive_info = SensitiveInfo()\n",
    "        self.username = username\n",
    "        self.password = password\n",
    "\n",
    "    def read(self):\n",
    "        if self._authenticate():\n",
    "            if self._authorize_read():\n",
    "                self.sensitive_info.read()\n",
    "            else:\n",
    "                print(\"Authorization failed: Cannot read sensitive info\")\n",
    "        else:\n",
    "            print(\"Authentication failed\")\n",
    "\n",
    "    def add(self, user, password):\n",
    "        if self._authenticate():\n",
    "            if self._authorize_write():\n",
    "                self.sensitive_info.add(user, password)\n",
    "            else:\n",
    "                print(\"Authorization failed: Cannot modify sensitive info\")\n",
    "        else:\n",
    "            print(\"Authentication failed\")\n",
    "\n",
    "    def _authenticate(self):\n",
    "        stored_password = self.sensitive_info.users.get(self.username)\n",
    "        return stored_password == self.password\n",
    "\n",
    "    def _authorize_read(self):\n",
    "        # All authenticated users can read\n",
    "        return True\n",
    "\n",
    "    def _authorize_write(self):\n",
    "        # Only admin can modify\n",
    "        return self.username == \"admin\""
   ]
  },
  {
   "cell_type": "markdown",
   "metadata": {},
   "source": [
    "### Usage"
   ]
  },
  {
   "cell_type": "code",
   "execution_count": 4,
   "metadata": {},
   "outputs": [
    {
     "name": "stdout",
     "output_type": "stream",
     "text": [
      "Admin operations:\n",
      "Reading sensitive information:  {'admin': 'admin_password', 'user': 'user_password'}\n",
      "Added user: new_user\n",
      "\n",
      "Regular user operations:\n",
      "Reading sensitive information:  {'admin': 'admin_password', 'user': 'user_password'}\n",
      "Authorization failed: Cannot modify sensitive info\n",
      "\n",
      "Invalid credentials:\n",
      "Authentication failed\n"
     ]
    }
   ],
   "source": [
    "if __name__ == \"__main__\":\n",
    "    # Admin can both read and write\n",
    "    print(\"Admin operations:\")\n",
    "    admin_proxy = SensitiveInfoProxy(\"admin\", \"admin_password\")\n",
    "    admin_proxy.read()\n",
    "    admin_proxy.add(\"new_user\", \"new_password\")\n",
    "\n",
    "    print(\"\\nRegular user operations:\")\n",
    "    # Regular user can read but not write\n",
    "    user_proxy = SensitiveInfoProxy(\"user\", \"user_password\")\n",
    "    user_proxy.read()\n",
    "    user_proxy.add(\"another_user\", \"password123\")  # Will fail\n",
    "\n",
    "    print(\"\\nInvalid credentials:\")\n",
    "    # Invalid credentials\n",
    "    invalid_proxy = SensitiveInfoProxy(\"user\", \"wrong_password\")\n",
    "    invalid_proxy.read()  # Will fail"
   ]
  },
  {
   "cell_type": "markdown",
   "metadata": {},
   "source": [
    "## Example 3: Virtual Proxy (Lazy Loading)"
   ]
  },
  {
   "cell_type": "code",
   "execution_count": 5,
   "metadata": {},
   "outputs": [],
   "source": [
    "class ExpensiveObject:\n",
    "    \"\"\"Simulates an expensive object to create\"\"\"\n",
    "\n",
    "    def __init__(self):\n",
    "        self._heavy_data = None\n",
    "        self._initialize()\n",
    "\n",
    "    def _initialize(self):\n",
    "        import time\n",
    "\n",
    "        print(\"Creating expensive object...\")\n",
    "        time.sleep(2)  # Simulate heavy initialization\n",
    "        self._heavy_data = [i for i in range(10000)]\n",
    "        print(\"Expensive object created\")\n",
    "\n",
    "    def process(self):\n",
    "        print(f\"Processing data with {len(self._heavy_data)} items...\")\n",
    "\n",
    "\n",
    "class VirtualProxy:\n",
    "    \"\"\"Proxy that delays creation of the expensive object until needed\"\"\"\n",
    "\n",
    "    def __init__(self):\n",
    "        self._real_object = None\n",
    "\n",
    "    def process(self):\n",
    "        # Create the object only when needed\n",
    "        if self._real_object is None:\n",
    "            self._real_object = ExpensiveObject()\n",
    "        self._real_object.process()"
   ]
  },
  {
   "cell_type": "markdown",
   "metadata": {},
   "source": [
    "### Usage"
   ]
  },
  {
   "cell_type": "code",
   "execution_count": 6,
   "metadata": {},
   "outputs": [
    {
     "name": "stdout",
     "output_type": "stream",
     "text": [
      "Creating proxy object (no expensive object created yet)...\n",
      "Proxy created, but expensive object not created yet.\n",
      "\n",
      "Calling process for the first time:\n",
      "Creating expensive object...\n",
      "Expensive object created\n",
      "Processing data with 10000 items...\n",
      "\n",
      "Calling process again (expensive object already created):\n",
      "Processing data with 10000 items...\n"
     ]
    }
   ],
   "source": [
    "if __name__ == \"__main__\":\n",
    "    print(\"Creating proxy object (no expensive object created yet)...\")\n",
    "    proxy = VirtualProxy()\n",
    "    print(\"Proxy created, but expensive object not created yet.\")\n",
    "\n",
    "    print(\"\\nCalling process for the first time:\")\n",
    "    proxy.process()  # This will create the expensive object\n",
    "\n",
    "    print(\"\\nCalling process again (expensive object already created):\")\n",
    "    proxy.process()  # This will reuse the existing expensive object"
   ]
  },
  {
   "cell_type": "markdown",
   "metadata": {},
   "source": [
    "## Real-world analogies\n",
    "\n",
    "1. **Credit Card**:\n",
    "   A credit card is a proxy for a bank account. It provides the same interface (payment) but adds functionality like transaction limits, fraud detection, and delayed actual payment.\n",
    "\n",
    "2. **Administrative Assistant**:\n",
    "   An assistant controls access to a busy executive, screening calls, arranging meetings, and filtering information. The assistant acts as a proxy to the executive, handling routine matters directly and forwarding only important matters.\n",
    "\n",
    "3. **Web Cache**:\n",
    "   A web cache stores copies of resources (like images, pages) from the internet, serving as a proxy between users and the remote web servers. It improves performance by delivering content locally instead of fetching it repeatedly."
   ]
  },
  {
   "cell_type": "markdown",
   "metadata": {},
   "source": [
    "## When to use\n",
    "\n",
    "- **Lazy initialization** (Virtual Proxy): When the real object is expensive to create and might not be used\n",
    "- **Access control** (Protection Proxy): When you need to control who and when can access the real object\n",
    "- **Logging/Auditing** (Logging Proxy): When you need to keep a record of requests to the real object\n",
    "- **Caching** (Caching Proxy): When the results of expensive operations need to be reused\n",
    "- **Remote resource access** (Remote Proxy): When the real object is located on a remote server\n",
    "- **Smart references**: When you need to add additional actions when an object is accessed or destroyed"
   ]
  },
  {
   "cell_type": "markdown",
   "metadata": {},
   "source": [
    "## Python-specific implementation notes\n",
    "\n",
    "- In Python, the `__getattr__` and `__setattr__` magic methods can be used to create dynamic proxies\n",
    "- Python's dynamic nature means you can often create proxies without explicitly implementing all interface methods\n",
    "- The standard library's `functools.lru_cache` decorator acts as a caching proxy for function calls\n",
    "- Python's property decorators (`@property`) can serve as a simplified form of proxy pattern\n",
    "- The `multiprocessing.Manager` objects in Python act as proxies for sharing data between processes\n",
    "- Libraries like `SQLAlchemy` use proxies to manage database connections and transactions"
   ]
  },
  {
   "cell_type": "markdown",
   "metadata": {},
   "source": [
    "## Related patterns\n",
    "\n",
    "- **Adapter Pattern**: While Proxy provides the same interface, Adapter provides a different interface to the wrapped object\n",
    "- **Decorator Pattern**: Adds responsibilities to objects without subclassing, focuses on adding behavior rather than controlling access\n",
    "- **Facade Pattern**: Provides a simplified interface to a complex subsystem rather than controlling access to an object\n",
    "- **Singleton Pattern**: Often used with Proxy to ensure only one instance of the real subject exists\n",
    "- **Factory Method**: Can be used to create proxy objects without exposing the real object's instantiation logic"
   ]
  }
 ],
 "metadata": {
  "kernelspec": {
   "display_name": ".venv",
   "language": "python",
   "name": "python3"
  },
  "language_info": {
   "codemirror_mode": {
    "name": "ipython",
    "version": 3
   },
   "file_extension": ".py",
   "mimetype": "text/x-python",
   "name": "python",
   "nbconvert_exporter": "python",
   "pygments_lexer": "ipython3",
   "version": "3.13.0"
  }
 },
 "nbformat": 4,
 "nbformat_minor": 2
}
