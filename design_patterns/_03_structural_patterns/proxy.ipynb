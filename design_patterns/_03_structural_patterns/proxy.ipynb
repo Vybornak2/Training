{
 "cells": [
  {
   "cell_type": "markdown",
   "metadata": {},
   "source": [
    "# Proxy Pattern\n",
    "\n",
    "Provides a surrogate or placeholder for another object to control access to it.\n",
    "\n",
    "## Intent\n",
    "\n",
    "- Control access to the original object\n",
    "- Add functionality when accessing the object\n",
    "- Delay the creation and initialization of expensive objects until needed\n",
    "- Implement access control for the original object's clients"
   ]
  },
  {
   "cell_type": "markdown",
   "metadata": {},
   "source": [
    "## Implementation 1: Basic Proxy Pattern"
   ]
  },
  {
   "cell_type": "code",
   "execution_count": 1,
   "metadata": {},
   "outputs": [],
   "source": [
    "from abc import ABC, abstractmethod\n",
    "\n",
    "\n",
    "class Subject(ABC):\n",
    "    \"\"\"Interface implemented by both RealSubject and Proxy\"\"\"\n",
    "\n",
    "    @abstractmethod\n",
    "    def request(self) -> None:\n",
    "        pass\n",
    "\n",
    "\n",
    "class RealSubject(Subject):\n",
    "    \"\"\"The real object that the proxy represents\"\"\"\n",
    "\n",
    "    def request(self) -> None:\n",
    "        print(\"RealSubject: Handling request.\")\n",
    "\n",
    "\n",
    "class Proxy(Subject):\n",
    "    \"\"\"The Proxy maintains a reference to the RealSubject and controls access to it\"\"\"\n",
    "\n",
    "    def __init__(self, real_subject: RealSubject) -> None:\n",
    "        self._real_subject = real_subject\n",
    "\n",
    "    def check_access(self) -> bool:\n",
    "        print(\"Proxy: Checking access prior to firing a real request.\")\n",
    "        return True\n",
    "\n",
    "    def log_access(self) -> None:\n",
    "        print(\"Proxy: Logging the request.\")\n",
    "\n",
    "    def request(self) -> None:\n",
    "        \"\"\"The proxy adds functionality before and after delegating to the real subject\"\"\"\n",
    "        if self.check_access():\n",
    "            self._real_subject.request()\n",
    "            self.log_access()"
   ]
  },
  {
   "cell_type": "markdown",
   "metadata": {},
   "source": [
    "### Usage"
   ]
  },
  {
   "cell_type": "code",
   "execution_count": 2,
   "metadata": {},
   "outputs": [
    {
     "name": "stdout",
     "output_type": "stream",
     "text": [
      "Client: Executing the client code with a real subject:\n",
      "RealSubject: Handling request.\n",
      "\n",
      "Client: Executing the same client code with a proxy:\n",
      "Proxy: Checking access prior to firing a real request.\n",
      "RealSubject: Handling request.\n",
      "Proxy: Logging the request.\n"
     ]
    }
   ],
   "source": [
    "def client_code(subject: Subject) -> None:\n",
    "    \"\"\"Client code that works with all objects (both the real and proxy ones)\"\"\"\n",
    "    subject.request()\n",
    "\n",
    "\n",
    "if __name__ == \"__main__\":\n",
    "    print(\"Client: Executing the client code with a real subject:\")\n",
    "    real_subject = RealSubject()\n",
    "    client_code(real_subject)\n",
    "\n",
    "    print(\"\\nClient: Executing the same client code with a proxy:\")\n",
    "    proxy = Proxy(real_subject)\n",
    "    client_code(proxy)"
   ]
  },
  {
   "cell_type": "markdown",
   "metadata": {},
   "source": [
    "## Implementation 2: Protection (Access Control) Proxy"
   ]
  },
  {
   "cell_type": "code",
   "execution_count": 3,
   "metadata": {},
   "outputs": [],
   "source": [
    "class SensitiveInfo:\n",
    "    \"\"\"Contains sensitive information that needs protection\"\"\"\n",
    "\n",
    "    def __init__(self):\n",
    "        self.users = {\"admin\": \"admin_password\", \"user\": \"user_password\"}\n",
    "\n",
    "    def read(self):\n",
    "        print(\"Reading sensitive information: \", self.users)\n",
    "\n",
    "    def add(self, user, password):\n",
    "        self.users[user] = password\n",
    "        print(f\"Added user: {user}\")\n",
    "\n",
    "\n",
    "class SensitiveInfoProxy:\n",
    "    \"\"\"Acts as a protection proxy for SensitiveInfo\"\"\"\n",
    "\n",
    "    def __init__(self, username, password):\n",
    "        self.sensitive_info = SensitiveInfo()\n",
    "        self.username = username\n",
    "        self.password = password\n",
    "\n",
    "    def read(self):\n",
    "        if self._authenticate():\n",
    "            if self._authorize_read():\n",
    "                self.sensitive_info.read()\n",
    "            else:\n",
    "                print(\"Authorization failed: Cannot read sensitive info\")\n",
    "        else:\n",
    "            print(\"Authentication failed\")\n",
    "\n",
    "    def add(self, user, password):\n",
    "        if self._authenticate():\n",
    "            if self._authorize_write():\n",
    "                self.sensitive_info.add(user, password)\n",
    "            else:\n",
    "                print(\"Authorization failed: Cannot modify sensitive info\")\n",
    "        else:\n",
    "            print(\"Authentication failed\")\n",
    "\n",
    "    def _authenticate(self):\n",
    "        stored_password = self.sensitive_info.users.get(self.username)\n",
    "        return stored_password == self.password\n",
    "\n",
    "    def _authorize_read(self):\n",
    "        # All authenticated users can read\n",
    "        return True\n",
    "\n",
    "    def _authorize_write(self):\n",
    "        # Only admin can modify\n",
    "        return self.username == \"admin\""
   ]
  },
  {
   "cell_type": "markdown",
   "metadata": {},
   "source": [
    "### Usage"
   ]
  },
  {
   "cell_type": "code",
   "execution_count": 4,
   "metadata": {},
   "outputs": [
    {
     "name": "stdout",
     "output_type": "stream",
     "text": [
      "Admin operations:\n",
      "Reading sensitive information:  {'admin': 'admin_password', 'user': 'user_password'}\n",
      "Added user: new_user\n",
      "\n",
      "Regular user operations:\n",
      "Reading sensitive information:  {'admin': 'admin_password', 'user': 'user_password'}\n",
      "Authorization failed: Cannot modify sensitive info\n",
      "\n",
      "Invalid credentials:\n",
      "Authentication failed\n"
     ]
    }
   ],
   "source": [
    "if __name__ == \"__main__\":\n",
    "    # Admin can both read and write\n",
    "    print(\"Admin operations:\")\n",
    "    admin_proxy = SensitiveInfoProxy(\"admin\", \"admin_password\")\n",
    "    admin_proxy.read()\n",
    "    admin_proxy.add(\"new_user\", \"new_password\")\n",
    "\n",
    "    print(\"\\nRegular user operations:\")\n",
    "    # Regular user can read but not write\n",
    "    user_proxy = SensitiveInfoProxy(\"user\", \"user_password\")\n",
    "    user_proxy.read()\n",
    "    user_proxy.add(\"another_user\", \"password123\")  # Will fail\n",
    "\n",
    "    print(\"\\nInvalid credentials:\")\n",
    "    # Invalid credentials\n",
    "    invalid_proxy = SensitiveInfoProxy(\"user\", \"wrong_password\")\n",
    "    invalid_proxy.read()  # Will fail"
   ]
  },
  {
   "cell_type": "markdown",
   "metadata": {},
   "source": [
    "## Implementation 3: Virtual Proxy (Lazy Loading)"
   ]
  },
  {
   "cell_type": "code",
   "execution_count": 5,
   "metadata": {},
   "outputs": [],
   "source": [
    "class ExpensiveObject:\n",
    "    \"\"\"Simulates an expensive object to create\"\"\"\n",
    "\n",
    "    def __init__(self):\n",
    "        self._heavy_data = None\n",
    "        self._initialize()\n",
    "\n",
    "    def _initialize(self):\n",
    "        import time\n",
    "\n",
    "        print(\"Creating expensive object...\")\n",
    "        time.sleep(2)  # Simulate heavy initialization\n",
    "        self._heavy_data = [i for i in range(10000)]\n",
    "        print(\"Expensive object created\")\n",
    "\n",
    "    def process(self):\n",
    "        print(f\"Processing data with {len(self._heavy_data)} items...\")\n",
    "\n",
    "\n",
    "class VirtualProxy:\n",
    "    \"\"\"Proxy that delays creation of the expensive object until needed\"\"\"\n",
    "\n",
    "    def __init__(self):\n",
    "        self._real_object = None\n",
    "\n",
    "    def process(self):\n",
    "        # Create the object only when needed\n",
    "        if self._real_object is None:\n",
    "            self._real_object = ExpensiveObject()\n",
    "        self._real_object.process()"
   ]
  },
  {
   "cell_type": "markdown",
   "metadata": {},
   "source": [
    "### Usage"
   ]
  },
  {
   "cell_type": "code",
   "execution_count": 6,
   "metadata": {},
   "outputs": [
    {
     "name": "stdout",
     "output_type": "stream",
     "text": [
      "Creating proxy object (no expensive object created yet)...\n",
      "Proxy created, but expensive object not created yet.\n",
      "\n",
      "Calling process for the first time:\n",
      "Creating expensive object...\n",
      "Expensive object created\n",
      "Processing data with 10000 items...\n",
      "\n",
      "Calling process again (expensive object already created):\n",
      "Processing data with 10000 items...\n"
     ]
    }
   ],
   "source": [
    "if __name__ == \"__main__\":\n",
    "    print(\"Creating proxy object (no expensive object created yet)...\")\n",
    "    proxy = VirtualProxy()\n",
    "    print(\"Proxy created, but expensive object not created yet.\")\n",
    "\n",
    "    print(\"\\nCalling process for the first time:\")\n",
    "    proxy.process()  # This will create the expensive object\n",
    "\n",
    "    print(\"\\nCalling process again (expensive object already created):\")\n",
    "    proxy.process()  # This will reuse the existing expensive object"
   ]
  }
 ],
 "metadata": {
  "kernelspec": {
   "display_name": ".venv",
   "language": "python",
   "name": "python3"
  },
  "language_info": {
   "codemirror_mode": {
    "name": "ipython",
    "version": 3
   },
   "file_extension": ".py",
   "mimetype": "text/x-python",
   "name": "python",
   "nbconvert_exporter": "python",
   "pygments_lexer": "ipython3",
   "version": "3.11.11"
  }
 },
 "nbformat": 4,
 "nbformat_minor": 2
}
