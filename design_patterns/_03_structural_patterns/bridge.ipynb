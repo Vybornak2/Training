{
 "cells": [
  {
   "cell_type": "markdown",
   "metadata": {},
   "source": [
    "# Bridge Pattern\n",
    "\n",
    "- __Type:__ Structural\n",
    "- __Popularity: ★★★☆☆__\n",
    "- __Complexity: ★★★☆☆__\n",
    "\n",
    "### Intent:\n",
    "Bridge pattern is a structural design pattern that decouples an abstraction from its implementation so that the two can vary independently. It allows separation of concerns and enables both abstraction and implementation to evolve without affecting each other.\n",
    "\n",
    "### Problem:\n",
    "When an abstraction can have multiple implementations, the traditional approach using inheritance leads to an explosion of classes, especially when both the abstraction and implementation dimensions need to vary independently. This creates tight coupling between abstractions and implementations, making the system difficult to extend and maintain.\n",
    "\n",
    "For example, if you have multiple types of UI controls (buttons, checkboxes, etc.) that need to work across multiple platforms (Windows, macOS, Web), creating a separate class for each combination (WindowsButton, MacButton, WebButton, etc.) leads to a proliferation of classes.\n",
    "\n",
    "### Solution:\n",
    "The Bridge pattern addresses this by separating the abstraction and implementation into separate class hierarchies and connecting them through composition rather than inheritance. This creates a \"bridge\" between the two hierarchies that allows them to vary independently.\n",
    "\n",
    "Key components:\n",
    "- **Abstraction**: Defines the interface used by the client and maintains a reference to an Implementation object\n",
    "- **Refined Abstraction**: Extends the Abstraction interface\n",
    "- **Implementation**: Defines the interface for implementation classes\n",
    "- **Concrete Implementation**: Implements the Implementation interface"
   ]
  },
  {
   "cell_type": "markdown",
   "metadata": {},
   "source": [
    "### Diagram:\n",
    "\n",
    "```mermaid\n",
    "classDiagram\n",
    "    class Abstraction {\n",
    "        -implementation: Implementation\n",
    "        +operation()\n",
    "    }\n",
    "    class RefinedAbstraction {\n",
    "        +operation()\n",
    "    }\n",
    "    class Implementation {\n",
    "        <<interface>>\n",
    "        +operationImplementation()\n",
    "    }\n",
    "    class ConcreteImplementationA {\n",
    "        +operationImplementation()\n",
    "    }\n",
    "    class ConcreteImplementationB {\n",
    "        +operationImplementation()\n",
    "    }\n",
    "    \n",
    "    Abstraction <|-- RefinedAbstraction\n",
    "    Abstraction o-- Implementation\n",
    "    Implementation <|.. ConcreteImplementationA\n",
    "    Implementation <|.. ConcreteImplementationB\n",
    "```"
   ]
  },
  {
   "cell_type": "markdown",
   "metadata": {},
   "source": [
    "## Example 1: Basic Bridge Pattern Implementation"
   ]
  },
  {
   "cell_type": "code",
   "execution_count": 1,
   "metadata": {},
   "outputs": [],
   "source": [
    "from abc import ABC, abstractmethod\n",
    "\n",
    "\n",
    "# Implementation interface\n",
    "class Implementation(ABC):\n",
    "    @abstractmethod\n",
    "    def operation_implementation(self) -> str:\n",
    "        pass\n",
    "\n",
    "\n",
    "# Concrete Implementations\n",
    "class ConcreteImplementationA(Implementation):\n",
    "    def operation_implementation(self) -> str:\n",
    "        return \"ConcreteImplementationA\"\n",
    "\n",
    "\n",
    "class ConcreteImplementationB(Implementation):\n",
    "    def operation_implementation(self) -> str:\n",
    "        return \"ConcreteImplementationB\"\n",
    "\n",
    "\n",
    "# Abstraction\n",
    "class Abstraction:\n",
    "    def __init__(self, implementation: Implementation):\n",
    "        self.implementation = implementation\n",
    "\n",
    "    def operation(self) -> str:\n",
    "        return f\"Abstraction: Base operation with: {self.implementation.operation_implementation()}\"\n",
    "\n",
    "\n",
    "# Extended Abstraction\n",
    "class ExtendedAbstraction(Abstraction):\n",
    "    def operation(self) -> str:\n",
    "        return f\"ExtendedAbstraction: Extended operation with: {self.implementation.operation_implementation()}\""
   ]
  },
  {
   "cell_type": "markdown",
   "metadata": {},
   "source": [
    "### Usage"
   ]
  },
  {
   "cell_type": "code",
   "execution_count": 2,
   "metadata": {},
   "outputs": [
    {
     "name": "stdout",
     "output_type": "stream",
     "text": [
      "Abstraction: Base operation with: ConcreteImplementationA\n",
      "Abstraction: Base operation with: ConcreteImplementationB\n",
      "ExtendedAbstraction: Extended operation with: ConcreteImplementationB\n"
     ]
    }
   ],
   "source": [
    "def client_code(abstraction: Abstraction) -> None:\n",
    "    print(abstraction.operation())\n",
    "\n",
    "\n",
    "if __name__ == \"__main__\":\n",
    "    # Create implementations\n",
    "    implementation_a = ConcreteImplementationA()\n",
    "    implementation_b = ConcreteImplementationB()\n",
    "\n",
    "    # Use base abstraction with different implementations\n",
    "    abstraction1 = Abstraction(implementation_a)\n",
    "    client_code(abstraction1)  # Output: Abstraction: Base operation with: ConcreteImplementationA\n",
    "\n",
    "    abstraction2 = Abstraction(implementation_b)\n",
    "    client_code(abstraction2)  # Output: Abstraction: Base operation with: ConcreteImplementationB\n",
    "\n",
    "    # Use extended abstraction with a different implementation\n",
    "    extended = ExtendedAbstraction(implementation_b)\n",
    "    client_code(extended)  # Output: ExtendedAbstraction: Extended operation with: ConcreteImplementationB"
   ]
  },
  {
   "cell_type": "markdown",
   "metadata": {},
   "source": [
    "## Example 2: Shape Drawing"
   ]
  },
  {
   "cell_type": "code",
   "execution_count": 3,
   "metadata": {},
   "outputs": [],
   "source": [
    "from abc import ABC, abstractmethod\n",
    "\n",
    "\n",
    "# Implementation: Drawing API\n",
    "class DrawingAPI(ABC):\n",
    "    @abstractmethod\n",
    "    def draw_circle(self, x, y, radius):\n",
    "        pass\n",
    "\n",
    "    @abstractmethod\n",
    "    def draw_rectangle(self, x, y, width, height):\n",
    "        pass\n",
    "\n",
    "\n",
    "# Concrete Implementations\n",
    "class SVGDrawingAPI(DrawingAPI):\n",
    "    def draw_circle(self, x, y, radius):\n",
    "        return f\"SVG: Drawing circle at ({x}, {y}) with radius {radius}\"\n",
    "\n",
    "    def draw_rectangle(self, x, y, width, height):\n",
    "        return f\"SVG: Drawing rectangle at ({x}, {y}) with width {width} and height {height}\"\n",
    "\n",
    "\n",
    "class CanvasDrawingAPI(DrawingAPI):\n",
    "    def draw_circle(self, x, y, radius):\n",
    "        return f\"Canvas: Drawing circle at ({x}, {y}) with radius {radius}\"\n",
    "\n",
    "    def draw_rectangle(self, x, y, width, height):\n",
    "        return f\"Canvas: Drawing rectangle at ({x}, {y}) with width {width} and height {height}\"\n",
    "\n",
    "\n",
    "# Abstraction: Shape\n",
    "class Shape(ABC):\n",
    "    def __init__(self, drawing_api: DrawingAPI):\n",
    "        self.drawing_api = drawing_api\n",
    "\n",
    "    @abstractmethod\n",
    "    def draw(self):\n",
    "        pass\n",
    "\n",
    "\n",
    "# Refined Abstractions\n",
    "class Circle(Shape):\n",
    "    def __init__(self, x, y, radius, drawing_api: DrawingAPI):\n",
    "        super().__init__(drawing_api)\n",
    "        self.x = x\n",
    "        self.y = y\n",
    "        self.radius = radius\n",
    "\n",
    "    def draw(self):\n",
    "        return self.drawing_api.draw_circle(self.x, self.y, self.radius)\n",
    "\n",
    "\n",
    "class Rectangle(Shape):\n",
    "    def __init__(self, x, y, width, height, drawing_api: DrawingAPI):\n",
    "        super().__init__(drawing_api)\n",
    "        self.x = x\n",
    "        self.y = y\n",
    "        self.width = width\n",
    "        self.height = height\n",
    "\n",
    "    def draw(self):\n",
    "        return self.drawing_api.draw_rectangle(self.x, self.y, self.width, self.height)"
   ]
  },
  {
   "cell_type": "markdown",
   "metadata": {},
   "source": [
    "### Usage"
   ]
  },
  {
   "cell_type": "code",
   "execution_count": 4,
   "metadata": {},
   "outputs": [
    {
     "name": "stdout",
     "output_type": "stream",
     "text": [
      "SVG: Drawing circle at (1, 2) with radius 3\n",
      "Canvas: Drawing circle at (4, 5) with radius 6\n",
      "SVG: Drawing rectangle at (10, 20) with width 30 and height 40\n",
      "Canvas: Drawing rectangle at (50, 60) with width 70 and height 80\n"
     ]
    }
   ],
   "source": [
    "if __name__ == \"__main__\":\n",
    "    # Initialize the concrete implementations\n",
    "    svg_api = SVGDrawingAPI()\n",
    "    canvas_api = CanvasDrawingAPI()\n",
    "\n",
    "    # Create a circle with each implementation\n",
    "    circle1 = Circle(1, 2, 3, svg_api)\n",
    "    circle2 = Circle(4, 5, 6, canvas_api)\n",
    "\n",
    "    # Create a rectangle with each implementation\n",
    "    rectangle1 = Rectangle(10, 20, 30, 40, svg_api)\n",
    "    rectangle2 = Rectangle(50, 60, 70, 80, canvas_api)\n",
    "\n",
    "    # Draw the shapes\n",
    "    print(circle1.draw())  # Output: SVG: Drawing circle at (1, 2) with radius 3\n",
    "    print(circle2.draw())  # Output: Canvas: Drawing circle at (4, 5) with radius 6\n",
    "    print(rectangle1.draw())  # Output: SVG: Drawing rectangle at (10, 20) with width 30 and height 40\n",
    "    print(rectangle2.draw())  # Output: Canvas: Drawing rectangle at (50, 60) with width 70 and height 80"
   ]
  },
  {
   "cell_type": "markdown",
   "metadata": {},
   "source": [
    "### Real-world analogies:\n",
    "\n",
    "1. **Remote Control and Electronic Devices**:\n",
    "   - The remote control (Abstraction) works with various electronic devices like TVs, sound systems, and DVD players (Implementations)\n",
    "   - You can use different types of remotes (universal, simplified, advanced) with the same devices\n",
    "   - The remote control and devices can evolve independently - new devices can be added without changing remotes, and remotes can be updated without affecting devices\n",
    "\n",
    "2. **Drivers and Operating Systems**:\n",
    "   - A software driver (Abstraction) provides a consistent interface to hardware (Implementation)\n",
    "   - The same hardware can work with different operating systems through different driver implementations\n",
    "   - New hardware can be added without changing the driver interface, and driver interfaces can evolve without requiring hardware changes"
   ]
  },
  {
   "cell_type": "markdown",
   "metadata": {},
   "source": [
    "### When to use:\n",
    "- When you want to avoid a permanent binding between an abstraction and its implementation\n",
    "- When both the abstractions and their implementations should be extensible through subclasses\n",
    "- When changes in the implementation should not impact client code\n",
    "- When you have multiple dimensions of variation (e.g., different platforms, databases, UI controls) that would lead to a combinatorial explosion of classes if modeled using inheritance\n",
    "- When you want to share an implementation among multiple objects, potentially hiding it from the client"
   ]
  },
  {
   "cell_type": "markdown",
   "metadata": {},
   "source": [
    "### Python-specific implementation notes:\n",
    "- Python's dynamic typing makes the Bridge pattern somewhat less formal than in static languages, as interfaces are implicit\n",
    "- The `abc` module provides abstract base classes that can be used to define the formal interfaces for both abstraction and implementation\n",
    "- Python's multiple inheritance could be used as an alternative to the Bridge pattern in some cases, but this can lead to the diamond problem and more complex class hierarchies\n",
    "- Since Python supports duck typing, strictly following the Bridge pattern's structure is less necessary than in more rigid languages\n",
    "- In Python, you might use protocols (PEP 544) as an alternative to abstract base classes for defining interfaces"
   ]
  },
  {
   "cell_type": "markdown",
   "metadata": {},
   "source": [
    "### Related patterns:\n",
    "- **Adapter Pattern**: While Bridge is designed up-front to let abstraction and implementation vary independently, Adapter makes incompatible interfaces work together after they're designed\n",
    "- **Strategy Pattern**: Similar to Bridge but focuses on switching algorithms rather than implementations\n",
    "- **Abstract Factory**: Can be used with Bridge to create implementations independently of the abstraction code\n",
    "- **Composite Pattern**: Often combined with Bridge where the Bridge separates the interface from implementation and Composite builds tree structures"
   ]
  }
 ],
 "metadata": {
  "kernelspec": {
   "display_name": ".venv",
   "language": "python",
   "name": "python3"
  },
  "language_info": {
   "codemirror_mode": {
    "name": "ipython",
    "version": 3
   },
   "file_extension": ".py",
   "mimetype": "text/x-python",
   "name": "python",
   "nbconvert_exporter": "python",
   "pygments_lexer": "ipython3",
   "version": "3.13.0"
  }
 },
 "nbformat": 4,
 "nbformat_minor": 2
}
