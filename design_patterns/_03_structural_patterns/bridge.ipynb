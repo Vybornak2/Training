{
 "cells": [
  {
   "cell_type": "markdown",
   "metadata": {},
   "source": [
    "# Bridge Pattern\n",
    "\n",
    "Decouples an abstraction from its implementation so that the two can vary independently.\n",
    "\n",
    "## Intent\n",
    "\n",
    "- Separate an abstraction from its implementation\n",
    "- Allow both abstraction and implementation to evolve independently\n",
    "- Avoid a permanent binding between abstraction and implementation\n",
    "- Share an implementation among multiple objects"
   ]
  },
  {
   "cell_type": "markdown",
   "metadata": {},
   "source": [
    "## Implementation: Basic Bridge Pattern"
   ]
  },
  {
   "cell_type": "code",
   "execution_count": null,
   "metadata": {},
   "outputs": [],
   "source": [
    "from abc import ABC, abstractmethod\n",
    "\n",
    "\n",
    "# Implementation interface\n",
    "class Implementation(ABC):\n",
    "    @abstractmethod\n",
    "    def operation_implementation(self) -> str:\n",
    "        pass\n",
    "\n",
    "\n",
    "# Concrete Implementations\n",
    "class ConcreteImplementationA(Implementation):\n",
    "    def operation_implementation(self) -> str:\n",
    "        return \"ConcreteImplementationA\"\n",
    "\n",
    "\n",
    "class ConcreteImplementationB(Implementation):\n",
    "    def operation_implementation(self) -> str:\n",
    "        return \"ConcreteImplementationB\"\n",
    "\n",
    "\n",
    "# Abstraction\n",
    "class Abstraction:\n",
    "    def __init__(self, implementation: Implementation):\n",
    "        self.implementation = implementation\n",
    "\n",
    "    def operation(self) -> str:\n",
    "        return f\"Abstraction: Base operation with: {self.implementation.operation_implementation()}\"\n",
    "\n",
    "\n",
    "# Extended Abstraction\n",
    "class ExtendedAbstraction(Abstraction):\n",
    "    def operation(self) -> str:\n",
    "        return f\"ExtendedAbstraction: Extended operation with: {self.implementation.operation_implementation()}\""
   ]
  },
  {
   "cell_type": "markdown",
   "metadata": {},
   "source": [
    "### Usage"
   ]
  },
  {
   "cell_type": "code",
   "execution_count": null,
   "metadata": {},
   "outputs": [],
   "source": [
    "def client_code(abstraction: Abstraction) -> None:\n",
    "    print(abstraction.operation())\n",
    "\n",
    "\n",
    "if __name__ == \"__main__\":\n",
    "    implementation_a = ConcreteImplementationA()\n",
    "    abstraction = Abstraction(implementation_a)\n",
    "    client_code(abstraction)\n",
    "\n",
    "    implementation_b = ConcreteImplementationB()\n",
    "    abstraction = Abstraction(implementation_b)\n",
    "    client_code(abstraction)\n",
    "\n",
    "    extended = ExtendedAbstraction(implementation_b)\n",
    "    client_code(extended)"
   ]
  },
  {
   "cell_type": "markdown",
   "metadata": {},
   "source": [
    "## Example 2: Shape Drawing"
   ]
  },
  {
   "cell_type": "code",
   "execution_count": null,
   "metadata": {},
   "outputs": [],
   "source": [
    "from abc import ABC, abstractmethod\n",
    "\n",
    "\n",
    "# Implementation: Drawing API\n",
    "class DrawingAPI(ABC):\n",
    "    @abstractmethod\n",
    "    def draw_circle(self, x, y, radius):\n",
    "        pass\n",
    "\n",
    "    @abstractmethod\n",
    "    def draw_rectangle(self, x, y, width, height):\n",
    "        pass\n",
    "\n",
    "\n",
    "# Concrete Implementations\n",
    "class SVGDrawingAPI(DrawingAPI):\n",
    "    def draw_circle(self, x, y, radius):\n",
    "        return f\"SVG: Drawing circle at ({x}, {y}) with radius {radius}\"\n",
    "\n",
    "    def draw_rectangle(self, x, y, width, height):\n",
    "        return f\"SVG: Drawing rectangle at ({x}, {y}) with width {width} and height {height}\"\n",
    "\n",
    "\n",
    "class CanvasDrawingAPI(DrawingAPI):\n",
    "    def draw_circle(self, x, y, radius):\n",
    "        return f\"Canvas: Drawing circle at ({x}, {y}) with radius {radius}\"\n",
    "\n",
    "    def draw_rectangle(self, x, y, width, height):\n",
    "        return f\"Canvas: Drawing rectangle at ({x}, {y}) with width {width} and height {height}\"\n",
    "\n",
    "\n",
    "# Abstraction: Shape\n",
    "class Shape(ABC):\n",
    "    def __init__(self, drawing_api: DrawingAPI):\n",
    "        self.drawing_api = drawing_api\n",
    "\n",
    "    @abstractmethod\n",
    "    def draw(self):\n",
    "        pass\n",
    "\n",
    "\n",
    "# Refined Abstractions\n",
    "class Circle(Shape):\n",
    "    def __init__(self, x, y, radius, drawing_api: DrawingAPI):\n",
    "        super().__init__(drawing_api)\n",
    "        self.x = x\n",
    "        self.y = y\n",
    "        self.radius = radius\n",
    "\n",
    "    def draw(self):\n",
    "        return self.drawing_api.draw_circle(self.x, self.y, self.radius)\n",
    "\n",
    "\n",
    "class Rectangle(Shape):\n",
    "    def __init__(self, x, y, width, height, drawing_api: DrawingAPI):\n",
    "        super().__init__(drawing_api)\n",
    "        self.x = x\n",
    "        self.y = y\n",
    "        self.width = width\n",
    "        self.height = height\n",
    "\n",
    "    def draw(self):\n",
    "        return self.drawing_api.draw_rectangle(self.x, self.y, self.width, self.height)"
   ]
  },
  {
   "cell_type": "markdown",
   "metadata": {},
   "source": [
    "### Usage"
   ]
  },
  {
   "cell_type": "code",
   "execution_count": null,
   "metadata": {},
   "outputs": [],
   "source": [
    "if __name__ == \"__main__\":\n",
    "    # Initialize the concrete implementations\n",
    "    svg_api = SVGDrawingAPI()\n",
    "    canvas_api = CanvasDrawingAPI()\n",
    "\n",
    "    # Create a circle with each implementation\n",
    "    circle1 = Circle(1, 2, 3, svg_api)\n",
    "    circle2 = Circle(4, 5, 6, canvas_api)\n",
    "\n",
    "    # Create a rectangle with each implementation\n",
    "    rectangle1 = Rectangle(10, 20, 30, 40, svg_api)\n",
    "    rectangle2 = Rectangle(50, 60, 70, 80, canvas_api)\n",
    "\n",
    "    # Draw the shapes\n",
    "    print(circle1.draw())\n",
    "    print(circle2.draw())\n",
    "    print(rectangle1.draw())\n",
    "    print(rectangle2.draw())"
   ]
  }
 ],
 "metadata": {
  "language_info": {
   "name": "python"
  }
 },
 "nbformat": 4,
 "nbformat_minor": 2
}
