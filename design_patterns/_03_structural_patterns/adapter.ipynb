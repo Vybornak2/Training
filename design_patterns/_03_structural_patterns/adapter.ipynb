{
 "cells": [
  {
   "cell_type": "markdown",
   "metadata": {},
   "source": [
    "## Adapter\n",
    "\n",
    "- __Type:__ Structural\n",
    "- __Popularity: ★★★★☆__\n",
    "- __Complexity: ★★☆☆☆__\n",
    "\n",
    "### Intent:\n",
    "__Adapter__ is a structural design pattern that allows objects with incompatible interfaces to collaborate. It acts as a bridge between two incompatible interfaces by wrapping an instance of one class into a class with an interface expected by clients."
   ]
  },
  {
   "cell_type": "markdown",
   "metadata": {},
   "source": [
    "### Problem:\n",
    "Imagine you have a system with established interfaces, but you need to integrate a new component or library whose interface doesn't match what your system expects. For example:\n",
    "\n",
    "- You're using a library that returns data in XML format, but your application works with JSON\n",
    "- You need to integrate a third-party payment gateway but its API doesn't match your payment processing interface\n",
    "- You're incorporating legacy code that cannot be modified, yet needs to work with your new system\n",
    "\n",
    "Without a proper solution, you'd need to change either your client code or the incompatible component's code, which might be impossible or impractical."
   ]
  },
  {
   "cell_type": "markdown",
   "metadata": {},
   "source": [
    "### Solution:\n",
    "The Adapter pattern suggests creating a special object (an adapter) that converts the interface of one object to match what another object expects. The adapter wraps one of the objects to hide the complexity of conversion happening behind the scenes.\n",
    "\n",
    "There are two primary ways to implement the Adapter pattern:\n",
    "\n",
    "1. **Class Adapter**: Uses multiple inheritance to adapt one interface to another (less common in Python due to potential complications with multiple inheritance)\n",
    "2. **Object Adapter**: Uses composition to reference the adaptee object and implements the target interface (more commonly used in Python)\n",
    "\n",
    "This pattern enables objects with incompatible interfaces to work together without modifying their source code."
   ]
  },
  {
   "cell_type": "markdown",
   "metadata": {},
   "source": [
    "### Diagram:\n",
    "```mermaid\n",
    "classDiagram\n",
    "    class Target {\n",
    "        +request()\n",
    "    }\n",
    "    class Client\n",
    "    class Adaptee {\n",
    "        +specific_request()\n",
    "    }\n",
    "    class Adapter {\n",
    "        -adaptee: Adaptee\n",
    "        +request()\n",
    "    }\n",
    "    \n",
    "    Client --> Target\n",
    "    Target <|.. Adapter\n",
    "    Adapter o-- Adaptee\n",
    "```"
   ]
  },
  {
   "cell_type": "markdown",
   "metadata": {},
   "source": [
    "### Example code:"
   ]
  },
  {
   "cell_type": "code",
   "execution_count": 4,
   "metadata": {},
   "outputs": [
    {
     "name": "stdout",
     "output_type": "stream",
     "text": [
      "Client: I can work with Target objects:\n",
      "Target: The default target's behavior.\n",
      "\n",
      "Client: The Adaptee class has an incompatible interface\n",
      "Adaptee: .eetpadA eht fo roivaheb laicepS\n",
      "\n",
      "Client: But I can work with it via the Adapter:\n",
      "Adapter: (TRANSLATED) Special behavior of the Adaptee.\n"
     ]
    }
   ],
   "source": [
    "# Implementation 1: Class Adapter Pattern\n",
    "\n",
    "# Target interface expected by the client\n",
    "class Target:\n",
    "    def request(self) -> str:\n",
    "        return \"Target: The default target's behavior.\"\n",
    "\n",
    "\n",
    "# The incompatible interface that needs adaptation\n",
    "class Adaptee:\n",
    "    def specific_request(self) -> str:\n",
    "        return \".eetpadA eht fo roivaheb laicepS\"\n",
    "\n",
    "\n",
    "# The Adapter makes the Adaptee's interface compatible with the Target's\n",
    "class Adapter(Target, Adaptee):\n",
    "    def request(self) -> str:\n",
    "        # Calls the method from Adaptee and adapts the result\n",
    "        return f\"Adapter: (TRANSLATED) {self.specific_request()[::-1]}\"\n",
    "\n",
    "\n",
    "def client_code(target: Target) -> None:\n",
    "    \"\"\"Client code that works with all objects implementing the Target interface\"\"\"\n",
    "    print(target.request())\n",
    "\n",
    "\n",
    "if __name__ == \"__main__\":\n",
    "    print(\"Client: I can work with Target objects:\")\n",
    "    target = Target()\n",
    "    client_code(target)\n",
    "\n",
    "    print(\"\\nClient: The Adaptee class has an incompatible interface\")\n",
    "    adaptee = Adaptee()\n",
    "    print(f\"Adaptee: {adaptee.specific_request()}\")\n",
    "\n",
    "    print(\"\\nClient: But I can work with it via the Adapter:\")\n",
    "    adapter = Adapter()\n",
    "    client_code(adapter)"
   ]
  },
  {
   "cell_type": "code",
   "execution_count": 5,
   "metadata": {},
   "outputs": [
    {
     "name": "stdout",
     "output_type": "stream",
     "text": [
      "Client: Using Object Adapter pattern:\n",
      "ObjectAdapter: (TRANSLATED) Special behavior of the Adaptee.\n"
     ]
    }
   ],
   "source": [
    "# Implementation 2: Object Adapter Pattern\n",
    "\n",
    "# Target interface expected by the client\n",
    "class Target:\n",
    "    def request(self) -> str:\n",
    "        return \"Target: The default target's behavior.\"\n",
    "\n",
    "\n",
    "# The incompatible interface that needs adaptation\n",
    "class Adaptee:\n",
    "    def specific_request(self) -> str:\n",
    "        return \".eetpadA eht fo roivaheb laicepS\"\n",
    "\n",
    "\n",
    "# The Object Adapter uses composition instead of inheritance\n",
    "class ObjectAdapter(Target):\n",
    "    def __init__(self, adaptee: Adaptee):\n",
    "        self.adaptee = adaptee\n",
    "\n",
    "    def request(self) -> str:\n",
    "        # Calls the method from Adaptee and adapts the result\n",
    "        return f\"ObjectAdapter: (TRANSLATED) {self.adaptee.specific_request()[::-1]}\"\n",
    "\n",
    "\n",
    "def client_code(target: Target) -> None:\n",
    "    \"\"\"Client code that works with all objects implementing the Target interface\"\"\"\n",
    "    print(target.request())\n",
    "\n",
    "\n",
    "if __name__ == \"__main__\":\n",
    "    print(\"Client: Using Object Adapter pattern:\")\n",
    "    adaptee = Adaptee()\n",
    "    adapter = ObjectAdapter(adaptee)\n",
    "    client_code(adapter)"
   ]
  },
  {
   "cell_type": "code",
   "execution_count": 6,
   "metadata": {},
   "outputs": [
    {
     "name": "stdout",
     "output_type": "stream",
     "text": [
      "Client working with modern data source:\n",
      "Client received: {\"name\": \"Modern Data\", \"value\": 42}\n",
      "\n",
      "Client working with legacy data through adapter:\n",
      "Client received: {\"name\": \"Legacy Data\", \"value\": 42}\n"
     ]
    }
   ],
   "source": [
    "# Real-World Example: Legacy Data Adapter\n",
    "\n",
    "# Modern client expects data in this format\n",
    "class ModernDataInterface:\n",
    "    def get_json_data(self):\n",
    "        return '{\"name\": \"Modern Data\", \"value\": 42}'\n",
    "\n",
    "\n",
    "# Legacy system that provides XML data\n",
    "class LegacySystem:\n",
    "    def get_xml_data(self):\n",
    "        return \"<data><name>Legacy Data</name><value>42</value></data>\"\n",
    "\n",
    "\n",
    "# Adapter to make Legacy System work with Modern Interface\n",
    "class LegacyDataAdapter(ModernDataInterface):\n",
    "    def __init__(self, legacy_system):\n",
    "        self.legacy = legacy_system\n",
    "\n",
    "    def get_json_data(self):\n",
    "        xml_data = self.legacy.get_xml_data()\n",
    "        # In a real application, we'd properly parse XML and convert to JSON\n",
    "        # This is a simplified example\n",
    "        if \"<name>Legacy Data</name>\" in xml_data:\n",
    "            return '{\"name\": \"Legacy Data\", \"value\": 42}'\n",
    "        return '{\"name\": \"Unknown\", \"value\": 0}'\n",
    "\n",
    "\n",
    "def modern_client(data_provider: ModernDataInterface):\n",
    "    print(f\"Client received: {data_provider.get_json_data()}\")\n",
    "\n",
    "\n",
    "if __name__ == \"__main__\":\n",
    "    print(\"Client working with modern data source:\")\n",
    "    modern = ModernDataInterface()\n",
    "    modern_client(modern)\n",
    "\n",
    "    print(\"\\nClient working with legacy data through adapter:\")\n",
    "    legacy = LegacySystem()\n",
    "    adapter = LegacyDataAdapter(legacy)\n",
    "    modern_client(adapter)"
   ]
  },
  {
   "cell_type": "markdown",
   "metadata": {},
   "source": [
    "### Real-world analogies:\n",
    "\n",
    "1. Power Adapters:\n",
    "\n",
    "   When traveling internationally, you need a power adapter to connect your laptop (client) to a foreign electrical outlet (adaptee). The power adapter (adapter) converts the foreign socket's shape to one that fits your laptop's power plug, while managing the voltage differences behind the scenes.\n",
    "\n",
    "2. Language Translator:\n",
    "\n",
    "   Imagine two people speaking different languages trying to communicate. A translator (adapter) allows them to understand each other by converting one language (adaptee's interface) to another (target interface)."
   ]
  },
  {
   "cell_type": "markdown",
   "metadata": {},
   "source": [
    "### When to use:\n",
    "- When you need to use an existing class with an incompatible interface\n",
    "- When you want to create a reusable class that cooperates with classes that don't necessarily have compatible interfaces\n",
    "- When you need to integrate legacy code without modifying it\n",
    "- When you want to use several existing subclasses but it's impractical to adapt their interface by subclassing each one (object adapter can adapt the interface of its parent class)"
   ]
  },
  {
   "cell_type": "markdown",
   "metadata": {},
   "source": [
    "### Python-specific implementation notes:\n",
    "- Python's dynamic nature and duck typing reduce the need for formal adapters in some cases; sometimes simple wrapper functions suffice\n",
    "- Multiple inheritance in Python makes class adapters possible, unlike in languages like Java\n",
    "- Type hints and abstract base classes (from the `abc` module) can clarify adapter interfaces\n",
    "- The `__getattr__` magic method can be used to create adaptive proxy objects\n",
    "- Python's standard library contains adapter examples like `io.StringIO` which adapts strings to file-like objects\n",
    "\n",
    "### Related patterns:\n",
    "- Bridge: While Adapter makes unrelated classes work together, Bridge is designed up-front to let abstractions and implementations vary independently\n",
    "- Decorator: Adds responsibilities to objects without subclassing; adapters change an object's interface while decorators enhance it\n",
    "- Proxy: Provides a surrogate for another object, controlling access to it; differs from Adapter in that it uses the same interface\n",
    "- Facade: Simplifies a complex subsystem with a unified interface; differs from Adapter in that it's trying to simplify rather than translate between incompatible interfaces"
   ]
  }
 ],
 "metadata": {
  "kernelspec": {
   "display_name": ".venv",
   "language": "python",
   "name": "python3"
  },
  "language_info": {
   "codemirror_mode": {
    "name": "ipython",
    "version": 3
   },
   "file_extension": ".py",
   "mimetype": "text/x-python",
   "name": "python",
   "nbconvert_exporter": "python",
   "pygments_lexer": "ipython3",
   "version": "3.13.0"
  }
 },
 "nbformat": 4,
 "nbformat_minor": 2
}
