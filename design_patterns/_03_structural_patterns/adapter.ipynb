{
 "cells": [
  {
   "cell_type": "markdown",
   "metadata": {},
   "source": [
    "# Adapter Pattern\n",
    "\n",
    "Allows objects with incompatible interfaces to collaborate.\n",
    "\n",
    "## Intent\n",
    "\n",
    "- Convert the interface of a class into another interface clients expect\n",
    "- Make classes work together that couldn't otherwise because of incompatible interfaces\n",
    "- Integrate legacy or third-party code with new systems\n",
    "- Provide alternative interfaces to existing classes"
   ]
  },
  {
   "cell_type": "markdown",
   "metadata": {},
   "source": [
    "## Implementation 1: Class Adapter Pattern"
   ]
  },
  {
   "cell_type": "code",
   "execution_count": 2,
   "metadata": {},
   "outputs": [],
   "source": [
    "# Target interface expected by the client\n",
    "class Target:\n",
    "    def request(self) -> str:\n",
    "        return \"Target: The default target's behavior.\"\n",
    "\n",
    "\n",
    "# The incompatible interface that needs adaptation\n",
    "class Adaptee:\n",
    "    def specific_request(self) -> str:\n",
    "        return \".eetpadA eht fo roivaheb laicepS\"\n",
    "\n",
    "\n",
    "# The Adapter makes the Adaptee's interface compatible with the Target's\n",
    "class Adapter(Target, Adaptee):\n",
    "    def request(self) -> str:\n",
    "        # Calls the method from Adaptee and adapts the result\n",
    "        return f\"Adapter: (TRANSLATED) {self.specific_request()[::-1]}\""
   ]
  },
  {
   "cell_type": "markdown",
   "metadata": {},
   "source": [
    "### Usage"
   ]
  },
  {
   "cell_type": "code",
   "execution_count": 3,
   "metadata": {},
   "outputs": [
    {
     "name": "stdout",
     "output_type": "stream",
     "text": [
      "Client: I can work with Target objects:\n",
      "Target: The default target's behavior.\n",
      "\n",
      "Client: The Adaptee class has an incompatible interface\n",
      "Adaptee: .eetpadA eht fo roivaheb laicepS\n",
      "\n",
      "Client: But I can work with it via the Adapter:\n",
      "Adapter: (TRANSLATED) Special behavior of the Adaptee.\n"
     ]
    }
   ],
   "source": [
    "def client_code(target: Target) -> None:\n",
    "    \"\"\"Client code that works with all objects implementing the Target interface\"\"\"\n",
    "    print(target.request())\n",
    "\n",
    "\n",
    "if __name__ == \"__main__\":\n",
    "    print(\"Client: I can work with Target objects:\")\n",
    "    target = Target()\n",
    "    client_code(target)\n",
    "\n",
    "    print(\"\\nClient: The Adaptee class has an incompatible interface\")\n",
    "    adaptee = Adaptee()\n",
    "    print(f\"Adaptee: {adaptee.specific_request()}\")\n",
    "\n",
    "    print(\"\\nClient: But I can work with it via the Adapter:\")\n",
    "    adapter = Adapter()\n",
    "    client_code(adapter)"
   ]
  },
  {
   "cell_type": "markdown",
   "metadata": {},
   "source": [
    "## Implementation 2: Object Adapter Pattern"
   ]
  },
  {
   "cell_type": "code",
   "execution_count": 4,
   "metadata": {},
   "outputs": [],
   "source": [
    "# Target interface expected by the client\n",
    "class Target:\n",
    "    def request(self) -> str:\n",
    "        return \"Target: The default target's behavior.\"\n",
    "\n",
    "\n",
    "# The incompatible interface that needs adaptation\n",
    "class Adaptee:\n",
    "    def specific_request(self) -> str:\n",
    "        return \".eetpadA eht fo roivaheb laicepS\"\n",
    "\n",
    "\n",
    "# The Object Adapter uses composition instead of inheritance\n",
    "class ObjectAdapter(Target):\n",
    "    def __init__(self, adaptee: Adaptee):\n",
    "        self.adaptee = adaptee\n",
    "\n",
    "    def request(self) -> str:\n",
    "        # Calls the method from Adaptee and adapts the result\n",
    "        return f\"ObjectAdapter: (TRANSLATED) {self.adaptee.specific_request()[::-1]}\""
   ]
  },
  {
   "cell_type": "markdown",
   "metadata": {},
   "source": [
    "### Usage"
   ]
  },
  {
   "cell_type": "code",
   "execution_count": 5,
   "metadata": {},
   "outputs": [
    {
     "name": "stdout",
     "output_type": "stream",
     "text": [
      "Client: Using Object Adapter pattern:\n",
      "ObjectAdapter: (TRANSLATED) Special behavior of the Adaptee.\n"
     ]
    }
   ],
   "source": [
    "def client_code(target: Target) -> None:\n",
    "    \"\"\"Client code that works with all objects implementing the Target interface\"\"\"\n",
    "    print(target.request())\n",
    "\n",
    "\n",
    "if __name__ == \"__main__\":\n",
    "    print(\"Client: Using Object Adapter pattern:\")\n",
    "    adaptee = Adaptee()\n",
    "    adapter = ObjectAdapter(adaptee)\n",
    "    client_code(adapter)"
   ]
  },
  {
   "cell_type": "markdown",
   "metadata": {},
   "source": [
    "## Real-World Example: Legacy Data Adapter"
   ]
  },
  {
   "cell_type": "code",
   "execution_count": 6,
   "metadata": {},
   "outputs": [],
   "source": [
    "# Modern client expects data in this format\n",
    "class ModernDataInterface:\n",
    "    def get_json_data(self):\n",
    "        return '{\"name\": \"Modern Data\", \"value\": 42}'\n",
    "\n",
    "\n",
    "# Legacy system that provides XML data\n",
    "class LegacySystem:\n",
    "    def get_xml_data(self):\n",
    "        return \"<data><name>Legacy Data</name><value>42</value></data>\"\n",
    "\n",
    "\n",
    "# Adapter to make Legacy System work with Modern Interface\n",
    "class LegacyDataAdapter(ModernDataInterface):\n",
    "    def __init__(self, legacy_system):\n",
    "        self.legacy = legacy_system\n",
    "\n",
    "    def get_json_data(self):\n",
    "        xml_data = self.legacy.get_xml_data()\n",
    "        # In a real application, we'd properly parse XML and convert to JSON\n",
    "        # This is a simplified example\n",
    "        if \"<name>Legacy Data</name>\" in xml_data:\n",
    "            return '{\"name\": \"Legacy Data\", \"value\": 42}'\n",
    "        return '{\"name\": \"Unknown\", \"value\": 0}'"
   ]
  },
  {
   "cell_type": "markdown",
   "metadata": {},
   "source": [
    "### Usage"
   ]
  },
  {
   "cell_type": "code",
   "execution_count": 7,
   "metadata": {},
   "outputs": [
    {
     "name": "stdout",
     "output_type": "stream",
     "text": [
      "Client working with modern data source:\n",
      "Client received: {\"name\": \"Modern Data\", \"value\": 42}\n",
      "\n",
      "Client working with legacy data through adapter:\n",
      "Client received: {\"name\": \"Legacy Data\", \"value\": 42}\n"
     ]
    }
   ],
   "source": [
    "def modern_client(data_provider: ModernDataInterface):\n",
    "    print(f\"Client received: {data_provider.get_json_data()}\")\n",
    "\n",
    "\n",
    "if __name__ == \"__main__\":\n",
    "    print(\"Client working with modern data source:\")\n",
    "    modern = ModernDataInterface()\n",
    "    modern_client(modern)\n",
    "\n",
    "    print(\"\\nClient working with legacy data through adapter:\")\n",
    "    legacy = LegacySystem()\n",
    "    adapter = LegacyDataAdapter(legacy)\n",
    "    modern_client(adapter)"
   ]
  }
 ],
 "metadata": {
  "kernelspec": {
   "display_name": ".venv",
   "language": "python",
   "name": "python3"
  },
  "language_info": {
   "codemirror_mode": {
    "name": "ipython",
    "version": 3
   },
   "file_extension": ".py",
   "mimetype": "text/x-python",
   "name": "python",
   "nbconvert_exporter": "python",
   "pygments_lexer": "ipython3",
   "version": "3.11.11"
  }
 },
 "nbformat": 4,
 "nbformat_minor": 2
}
