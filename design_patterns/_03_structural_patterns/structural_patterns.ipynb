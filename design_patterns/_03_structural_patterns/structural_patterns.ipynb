{
 "cells": [
  {
   "cell_type": "markdown",
   "metadata": {},
   "source": [
    "# Structural Patterns Overview\n",
    "\n",
    "Structural design patterns explain how to assemble objects and classes into larger structures while keeping these structures flexible and efficient."
   ]
  },
  {
   "cell_type": "markdown",
   "metadata": {},
   "source": [
    "## Patterns\n",
    "\n",
    "- [Adapter](./adapter.ipynb): Allows objects with incompatible interfaces to collaborate\n",
    "- [Decorator](./decorator.ipynb): Attaches additional responsibilities to objects dynamically\n",
    "- [Bridge](./bridge.ipynb): Separates an abstraction from its implementation\n",
    "- [Facade](./facade.ipynb): Provides a simplified interface to a complex subsystem\n",
    "- [Flyweight](./flyweight.ipynb): Minimizes memory usage by sharing common parts of state\n",
    "- [Proxy](./proxy.ipynb): Provides a surrogate for another object to control access to it\n",
    "- [Composite](./composite.ipynb): Composes objects into tree structures to represent hierarchies"
   ]
  },
  {
   "cell_type": "markdown",
   "metadata": {},
   "source": [
    "## Comparison\n",
    "\n",
    "1. **Adapter** vs **Bridge**:\n",
    "    - **Adapter** adds compatibility between classes that have different interfaces.\n",
    "    - **Bridge** decouples an abstraction from its implementation so that the two can vary independently.\n",
    "\n",
    "2. **Decorator** vs **Proxy**:\n",
    "    - **Decorator** adds responsibilities to objects dynamically.\n",
    "    - **Proxy** controls access to objects.\n"
   ]
  }
 ],
 "metadata": {
  "language_info": {
   "name": "python"
  }
 },
 "nbformat": 4,
 "nbformat_minor": 2
}
