{
 "cells": [
  {
   "cell_type": "markdown",
   "metadata": {},
   "source": [
    "# Facade Pattern\n",
    "\n",
    "- __Type:__ Structural\n",
    "- __Popularity: ★★★★☆__\n",
    "- __Complexity: ★★☆☆☆__\n",
    "\n",
    "### Intent:\n",
    "__Facade__ is a structural design pattern that provides a simplified interface to a complex subsystem. It defines a higher-level interface that makes the subsystem easier to use by reducing complexity and hiding the implementation details."
   ]
  },
  {
   "cell_type": "markdown",
   "metadata": {},
   "source": [
    "### Problem:\n",
    "When working with a complex system that has many components:\n",
    "\n",
    "- Client code may need to interact with multiple subsystem classes, creating tight coupling\n",
    "- Understanding and using a complex subsystem requires detailed knowledge of its implementation\n",
    "- Directly accessing subsystem components makes code harder to maintain as the subsystem evolves\n",
    "- Client code becomes cluttered with subsystem initialization and operation sequencing"
   ]
  },
  {
   "cell_type": "markdown",
   "metadata": {},
   "source": [
    "### Solution:\n",
    "The Facade pattern addresses these problems by:\n",
    "\n",
    "- Providing a simple, unified interface to the complex subsystem\n",
    "- Encapsulating the necessary interactions with subsystem components\n",
    "- Not preventing direct access to subsystem components when necessary\n",
    "- Promoting loose coupling between client code and the subsystem\n",
    "- Acting as an entry point that delegates client requests to appropriate subsystem objects\n",
    "\n",
    "The Facade doesn't add new functionality but coordinates existing components to perform complex tasks in a simpler way."
   ]
  },
  {
   "cell_type": "markdown",
   "metadata": {},
   "source": [
    "### Diagram:\n",
    "```mermaid\n",
    "classDiagram\n",
    "    class Client\n",
    "    class Facade {\n",
    "        +operation()\n",
    "    }\n",
    "    class SubsystemA {\n",
    "        +operationA()\n",
    "    }\n",
    "    class SubsystemB {\n",
    "        +operationB()\n",
    "        +anotherOperationB()\n",
    "    }\n",
    "    class SubsystemC {\n",
    "        +operationC()\n",
    "    }\n",
    "    \n",
    "    Client --> Facade\n",
    "    Facade --> SubsystemA\n",
    "    Facade --> SubsystemB\n",
    "    Facade --> SubsystemC\n",
    "```"
   ]
  },
  {
   "cell_type": "markdown",
   "metadata": {},
   "source": [
    "### Example code:"
   ]
  },
  {
   "cell_type": "code",
   "execution_count": 1,
   "metadata": {},
   "outputs": [],
   "source": [
    "# Complex subsystem classes\n",
    "class SubsystemA:\n",
    "    def operation_a(self) -> str:\n",
    "        return \"Subsystem A: Ready!\\n\"\n",
    "\n",
    "\n",
    "class SubsystemB:\n",
    "    def operation_b(self) -> str:\n",
    "        return \"Subsystem B: Getting ready...\\n\"\n",
    "\n",
    "    def another_operation_b(self) -> str:\n",
    "        return \"Subsystem B: Go!\\n\"\n",
    "\n",
    "\n",
    "class SubsystemC:\n",
    "    def operation_c(self) -> str:\n",
    "        return \"Subsystem C: Ready!\\n\"\n",
    "\n",
    "\n",
    "# Facade class provides a simple interface to the complex subsystem\n",
    "class Facade:\n",
    "    def __init__(self, subsystem_a: SubsystemA = None, subsystem_b: SubsystemB = None, subsystem_c: SubsystemC = None):\n",
    "        # Initialize with provided subsystems or create new ones\n",
    "        self._subsystem_a = subsystem_a or SubsystemA()\n",
    "        self._subsystem_b = subsystem_b or SubsystemB()\n",
    "        self._subsystem_c = subsystem_c or SubsystemC()\n",
    "\n",
    "    def operation(self) -> str:\n",
    "        \"\"\"Facade delegates client requests to appropriate subsystem objects\"\"\"\n",
    "        result = \"Facade initializes subsystems:\\n\"\n",
    "        result += self._subsystem_a.operation_a()\n",
    "        result += self._subsystem_b.operation_b()\n",
    "        result += \"\\nFacade orders subsystems to perform action:\\n\"\n",
    "        result += self._subsystem_b.another_operation_b()\n",
    "        result += self._subsystem_c.operation_c()\n",
    "        return result"
   ]
  },
  {
   "cell_type": "code",
   "execution_count": 2,
   "metadata": {},
   "outputs": [
    {
     "name": "stdout",
     "output_type": "stream",
     "text": [
      "Facade initializes subsystems:\n",
      "Subsystem A: Ready!\n",
      "Subsystem B: Getting ready...\n",
      "\n",
      "Facade orders subsystems to perform action:\n",
      "Subsystem B: Go!\n",
      "Subsystem C: Ready!\n",
      "\n",
      "Facade initializes subsystems:\n",
      "Subsystem A: Ready!\n",
      "Subsystem B: Getting ready...\n",
      "\n",
      "Facade orders subsystems to perform action:\n",
      "Subsystem B: Go!\n",
      "Subsystem C: Ready!\n",
      "\n"
     ]
    }
   ],
   "source": [
    "def client_code(facade: Facade) -> None:\n",
    "    \"\"\"Client code works with the Facade instead of the subsystems directly\"\"\"\n",
    "    print(facade.operation())\n",
    "\n",
    "\n",
    "if __name__ == \"__main__\":\n",
    "    # Client code doesn't need to know about subsystem classes\n",
    "    facade = Facade()\n",
    "    client_code(facade)\n",
    "\n",
    "    # Client can also work with customized subsystems\n",
    "    subsystem_a = SubsystemA()\n",
    "    subsystem_b = SubsystemB()\n",
    "    subsystem_c = SubsystemC()\n",
    "    custom_facade = Facade(subsystem_a, subsystem_b, subsystem_c)\n",
    "    client_code(custom_facade)"
   ]
  },
  {
   "cell_type": "markdown",
   "metadata": {},
   "source": [
    "### Real-world example: Home Entertainment System"
   ]
  },
  {
   "cell_type": "code",
   "execution_count": 3,
   "metadata": {},
   "outputs": [],
   "source": [
    "# Complex subsystem components\n",
    "class AudioSystem:\n",
    "    def set_volume(self, level):\n",
    "        return f\"Setting volume to {level}%\"\n",
    "\n",
    "    def tune_frequency(self, frequency):\n",
    "        return f\"Tuning frequency to {frequency} Hz\"\n",
    "\n",
    "    def set_equalization(self, bass, mid, treble):\n",
    "        return f\"Setting EQ: Bass={bass}, Mid={mid}, Treble={treble}\"\n",
    "\n",
    "\n",
    "class VideoSystem:\n",
    "    def set_brightness(self, brightness):\n",
    "        return f\"Setting brightness to {brightness}%\"\n",
    "\n",
    "    def set_contrast(self, contrast):\n",
    "        return f\"Setting contrast to {contrast}%\"\n",
    "\n",
    "    def set_resolution(self, width, height):\n",
    "        return f\"Setting resolution to {width}x{height}\"\n",
    "\n",
    "\n",
    "class StreamingService:\n",
    "    def connect(self, service):\n",
    "        return f\"Connecting to {service} streaming service\"\n",
    "\n",
    "    def authenticate(self, username, password):\n",
    "        return f\"Authenticating user {username}\"\n",
    "\n",
    "    def search(self, query):\n",
    "        return f\"Searching for '{query}'\"\n",
    "\n",
    "    def load_media(self, media_id):\n",
    "        return f\"Loading media ID: {media_id}\"\n",
    "\n",
    "\n",
    "# Facade provides simple interface to this complex system\n",
    "class HomeEntertainmentFacade:\n",
    "    def __init__(self):\n",
    "        self.audio = AudioSystem()\n",
    "        self.video = VideoSystem()\n",
    "        self.streaming = StreamingService()\n",
    "\n",
    "    def watch_movie(self, movie_id, username=\"guest\", password=\"\"):\n",
    "        results = []\n",
    "\n",
    "        # Set up optimal video settings\n",
    "        results.append(self.video.set_brightness(60))\n",
    "        results.append(self.video.set_contrast(50))\n",
    "        results.append(self.video.set_resolution(1920, 1080))\n",
    "\n",
    "        # Set up audio for movie\n",
    "        results.append(self.audio.set_volume(30))\n",
    "        results.append(self.audio.set_equalization(8, 6, 7))\n",
    "\n",
    "        # Connect to streaming service and play movie\n",
    "        results.append(self.streaming.connect(\"MovieFlix\"))\n",
    "        results.append(self.streaming.authenticate(username, password))\n",
    "        results.append(self.streaming.load_media(movie_id))\n",
    "\n",
    "        return \"\\n\".join(results)\n",
    "\n",
    "    def listen_to_music(self, track_id):\n",
    "        results = []\n",
    "\n",
    "        # Set up audio for music\n",
    "        results.append(self.audio.set_volume(40))\n",
    "        results.append(self.audio.set_equalization(9, 7, 5))\n",
    "\n",
    "        # Connect to music service\n",
    "        results.append(self.streaming.connect(\"MusicStream\"))\n",
    "        results.append(self.streaming.load_media(track_id))\n",
    "\n",
    "        return \"\\n\".join(results)"
   ]
  },
  {
   "cell_type": "code",
   "execution_count": 4,
   "metadata": {},
   "outputs": [
    {
     "name": "stdout",
     "output_type": "stream",
     "text": [
      "Setting up for movie night:\n",
      "Setting brightness to 60%\n",
      "Setting contrast to 50%\n",
      "Setting resolution to 1920x1080\n",
      "Setting volume to 30%\n",
      "Setting EQ: Bass=8, Mid=6, Treble=7\n",
      "Connecting to MovieFlix streaming service\n",
      "Authenticating user user\n",
      "Loading media ID: 12345\n",
      "\n",
      "--------------------------------------------------\n",
      "\n",
      "Setting up for music listening:\n",
      "Setting volume to 40%\n",
      "Setting EQ: Bass=9, Mid=7, Treble=5\n",
      "Connecting to MusicStream streaming service\n",
      "Loading media ID: 67890\n"
     ]
    }
   ],
   "source": [
    "if __name__ == \"__main__\":\n",
    "    # Create the facade\n",
    "    entertainment_system = HomeEntertainmentFacade()\n",
    "\n",
    "    # Watch a movie with one simple call\n",
    "    print(\"Setting up for movie night:\")\n",
    "    print(entertainment_system.watch_movie(\"12345\", \"user\", \"pass\"))\n",
    "\n",
    "    print(\"\\n\" + \"-\" * 50 + \"\\n\")\n",
    "\n",
    "    # Listen to music with one simple call\n",
    "    print(\"Setting up for music listening:\")\n",
    "    print(entertainment_system.listen_to_music(\"67890\"))"
   ]
  },
  {
   "cell_type": "markdown",
   "metadata": {},
   "source": [
    "### Real-world analogies:\n",
    "\n",
    "1. **Restaurant Waiter**:\n",
    "   - The waiter (Facade) provides a simple interface between customers and the complex restaurant system\n",
    "   - Behind the scenes, many subsystems exist: kitchen staff, bartenders, inventory management\n",
    "   - Customers don't need to interact directly with chefs or understand kitchen procedures\n",
    "   - The waiter coordinates with all subsystems and presents a unified interface\n",
    "\n",
    "2. **Car Dashboard**:\n",
    "   - The dashboard (Facade) provides simple controls and displays for the driver\n",
    "   - Hides the complexity of multiple subsystems: engine, fuel injection, cooling, electrical systems\n",
    "   - Driver interacts with simple interfaces (steering wheel, pedals, gauges) without needing to understand underlying mechanical components"
   ]
  },
  {
   "cell_type": "markdown",
   "metadata": {},
   "source": [
    "### When to use:\n",
    "\n",
    "- When you need to provide a simple interface to a complex subsystem\n",
    "- When you want to layer your subsystems and provide entry points at each layer\n",
    "- When there are many dependencies between clients and implementation classes\n",
    "- When you want to structure a subsystem into layers, with facades as entry points to each layer"
   ]
  },
  {
   "cell_type": "markdown",
   "metadata": {},
   "source": [
    "### Python-specific implementation notes:\n",
    "\n",
    "- Python's dynamic nature makes implementing Facade pattern particularly straightforward\n",
    "- No interface definitions are required compared to strictly typed languages\n",
    "- Default parameter values in Python make constructors more flexible for configuration\n",
    "- Python's string handling makes it easy to return compound results as seen in examples\n",
    "- Python libraries often use facades internally: `urllib` facade over HTTP, `logging` facade over log handlers"
   ]
  },
  {
   "cell_type": "markdown",
   "metadata": {},
   "source": [
    "### Related patterns:\n",
    "\n",
    "- **Adapter**: Converts one interface to another, while Facade simplifies an interface\n",
    "- **Mediator**: Similar to Facade but promotes many-to-many communication between objects rather than one-way simplification\n",
    "- **Singleton**: Facades are often implemented as singletons as there's typically only one facade needed per subsystem\n",
    "- **Abstract Factory**: Can be used together with Facade to provide an interface for creating subsystem objects"
   ]
  }
 ],
 "metadata": {
  "kernelspec": {
   "display_name": ".venv",
   "language": "python",
   "name": "python3"
  },
  "language_info": {
   "codemirror_mode": {
    "name": "ipython",
    "version": 3
   },
   "file_extension": ".py",
   "mimetype": "text/x-python",
   "name": "python",
   "nbconvert_exporter": "python",
   "pygments_lexer": "ipython3",
   "version": "3.11.11"
  }
 },
 "nbformat": 4,
 "nbformat_minor": 2
}
