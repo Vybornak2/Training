{
    "cells": [
        {
            "cell_type": "markdown",
            "metadata": {},
            "source": [
                "# GoF Foundational Design Principles\n",
                "\n",
                "The Gang of Four (GoF) design principles are fundamental principles that help in creating flexible, reusable, and maintainable object-oriented software.\n",
                "\n",
                "```plaintext\n",
                "- Encapsulate what varies\n",
                "- Favor composition over inheritance\n",
                "- Program to interfaces, not implementations\n",
                "- Strive for loosely coupled designs between objects that interact\n",
                "```"
            ]
        },
        {
            "cell_type": "markdown",
            "metadata": {},
            "source": [
                "## Encapsulate What Varies\n",
                "\n",
                "- **Definition**: Identify the aspects of your application that vary and separate them from what stays the same.\n",
                "- **Motivation**: Isolate changes to make the system more flexible and easier to maintain.\n",
                "- **Benefits**: Reduces the impact of changes and improves code reusability.\n",
                "- **Affects**: Flexibility, maintainability, reusability."
            ]
        },
        {
            "cell_type": "code",
            "execution_count": null,
            "metadata": {},
            "outputs": [],
            "source": [
                "# Example of encapsulating what varies\n",
                "class Duck:\n",
                "    def __init__(self, quack_behavior):\n",
                "        self.quack_behavior = quack_behavior\n",
                "\n",
                "    def perform_quack(self):\n",
                "        self.quack_behavior.quack()\n",
                "\n",
                "\n",
                "class QuackBehavior:\n",
                "    def quack(self):\n",
                "        pass\n",
                "\n",
                "\n",
                "class LoudQuack(QuackBehavior):\n",
                "    def quack(self):\n",
                "        print(\"QUACK!\")\n",
                "\n",
                "\n",
                "class SoftQuack(QuackBehavior):\n",
                "    def quack(self):\n",
                "        print(\"quack...\")\n",
                "\n",
                "\n",
                "# Usage example\n",
                "loud_duck = Duck(LoudQuack())\n",
                "soft_duck = Duck(SoftQuack())\n",
                "\n",
                "loud_duck.perform_quack()\n",
                "soft_duck.perform_quack()"
            ]
        },
        {
            "cell_type": "markdown",
            "metadata": {},
            "source": [
                "## Favor Composition Over Inheritance\n",
                "\n",
                "- **Definition**: Use composition to achieve polymorphic behavior instead of relying on inheritance.\n",
                "- **Motivation**: Composition provides greater flexibility by allowing behavior to be changed at runtime.\n",
                "- **Benefits**: Reduces tight coupling and enhances code flexibility.\n",
                "- **Affects**: Flexibility, modularity, maintainability."
            ]
        },
        {
            "cell_type": "code",
            "execution_count": null,
            "metadata": {},
            "outputs": [],
            "source": [
                "# Example of favoring composition over inheritance\n",
                "class Engine:\n",
                "    def start(self):\n",
                "        pass\n",
                "\n",
                "\n",
                "class ElectricEngine(Engine):\n",
                "    def start(self):\n",
                "        print(\"Starting electric engine...\")\n",
                "\n",
                "\n",
                "class GasEngine(Engine):\n",
                "    def start(self):\n",
                "        print(\"Starting gas engine...\")\n",
                "\n",
                "\n",
                "class Car:\n",
                "    def __init__(self, engine: Engine):\n",
                "        self.engine = engine\n",
                "\n",
                "    def start(self):\n",
                "        self.engine.start()\n",
                "\n",
                "\n",
                "# Usage example\n",
                "electric_car = Car(ElectricEngine())\n",
                "gas_car = Car(GasEngine())\n",
                "\n",
                "electric_car.start()\n",
                "gas_car.start()"
            ]
        },
        {
            "cell_type": "markdown",
            "metadata": {},
            "source": [
                "## Program to Interfaces, Not Implementations\n",
                "\n",
                "- **Definition**: Depend on abstractions (interfaces) rather than concrete implementations.\n",
                "- **Motivation**: Decouple the code to make it more flexible and easier to extend.\n",
                "- **Benefits**: Enhances code flexibility and reduces the impact of changes.\n",
                "- **Affects**: Decoupling, flexibility, reusability."
            ]
        },
        {
            "cell_type": "code",
            "execution_count": null,
            "metadata": {},
            "outputs": [],
            "source": [
                "# Example of programming to interfaces, not implementations\n",
                "from typing import Protocol\n",
                "\n",
                "\n",
                "class PaymentProcessor(Protocol):\n",
                "    def process_payment(self, amount: float) -> None: ...\n",
                "\n",
                "\n",
                "class StripePaymentProcessor:\n",
                "    def process_payment(self, amount: float) -> None:\n",
                "        print(f\"Processing payment of ${amount} through Stripe.\")\n",
                "\n",
                "\n",
                "class PaypalPaymentProcessor:\n",
                "    def process_payment(self, amount: float) -> None:\n",
                "        print(f\"Processing payment of ${amount} through PayPal.\")\n",
                "\n",
                "\n",
                "class PaymentService:\n",
                "    def __init__(self, processor: PaymentProcessor):\n",
                "        self.processor = processor\n",
                "\n",
                "    def make_payment(self, amount: float) -> None:\n",
                "        self.processor.process_payment(amount)\n",
                "\n",
                "\n",
                "# Usage example\n",
                "stripe_processor = StripePaymentProcessor()\n",
                "paypal_processor = PaypalPaymentProcessor()\n",
                "\n",
                "payment_service = PaymentService(stripe_processor)\n",
                "payment_service.make_payment(100.0)\n",
                "\n",
                "payment_service = PaymentService(paypal_processor)\n",
                "payment_service.make_payment(200.0)"
            ]
        },
        {
            "cell_type": "markdown",
            "metadata": {},
            "source": [
                "## Loose Coupling\n",
                "\n",
                "- **Definition**: Minimize the dependencies between different parts of a system.\n",
                "- **Motivation**: Make the system more modular and easier to maintain.\n",
                "- **Benefits**: Enhances flexibility and makes the system easier to understand and modify.\n",
                "- **Affects**: Modularity, maintainability, flexibility."
            ]
        },
        {
            "cell_type": "code",
            "execution_count": null,
            "metadata": {},
            "outputs": [],
            "source": [
                "# Example of loose coupling using dependency injection\n",
                "class NotificationService:\n",
                "    def __init__(self, notifier):\n",
                "        self.notifier = notifier\n",
                "\n",
                "    def send_notification(self, message):\n",
                "        self.notifier.notify(message)\n",
                "\n",
                "\n",
                "class EmailNotifier:\n",
                "    def notify(self, message):\n",
                "        print(f\"Sending email with message: {message}\")\n",
                "\n",
                "\n",
                "class SMSNotifier:\n",
                "    def notify(self, message):\n",
                "        print(f\"Sending SMS with message: {message}\")\n",
                "\n",
                "\n",
                "# Usage example\n",
                "email_notifier = EmailNotifier()\n",
                "sms_notifier = SMSNotifier()\n",
                "\n",
                "notification_service = NotificationService(email_notifier)\n",
                "notification_service.send_notification(\"Hello via Email!\")\n",
                "\n",
                "notification_service = NotificationService(sms_notifier)\n",
                "notification_service.send_notification(\"Hello via SMS!\")"
            ]
        }
    ],
    "metadata": {
        "kernelspec": {
            "display_name": "Python 3",
            "language": "python",
            "name": "python3"
        },
        "language_info": {
            "name": "python",
            "version": "3.8.5"
        }
    },
    "nbformat": 4,
    "nbformat_minor": 4
}
