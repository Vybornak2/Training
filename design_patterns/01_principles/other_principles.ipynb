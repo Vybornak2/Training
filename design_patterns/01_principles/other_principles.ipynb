{
 "cells": [
  {
   "cell_type": "markdown",
   "metadata": {},
   "source": [
    "# DRY (Don't Repeat Yourself)\n",
    "\n",
    "- **Definition**: Avoid duplication of code by abstracting common functionality.\n",
    "- **Motivation**: Reduce redundancy and improve maintainability.\n",
    "- **Benefits**: Easier to maintain and update code.\n",
    "- **Affects**: Maintainability, readability."
   ]
  },
  {
   "cell_type": "code",
   "execution_count": null,
   "metadata": {},
   "outputs": [],
   "source": [
    "# Calculating the area of a rectangle multiple times without DRY principle\n",
    "\n",
    "# First rectangle\n",
    "width1 = 5\n",
    "height1 = 10\n",
    "area1 = width1 * height1\n",
    "print(f\"Area of first rectangle: {area1}\")\n",
    "\n",
    "# Second rectangle\n",
    "width2 = 3\n",
    "height2 = 8\n",
    "area2 = width2 * height2\n",
    "print(f\"Area of second rectangle: {area2}\")\n",
    "\n",
    "# Third rectangle\n",
    "width3 = 7\n",
    "height3 = 6\n",
    "area3 = width3 * height3\n",
    "print(f\"Area of third rectangle: {area3}\")"
   ]
  },
  {
   "cell_type": "code",
   "execution_count": null,
   "metadata": {},
   "outputs": [],
   "source": [
    "# Using a function to calculate the area of a rectangle to follow DRY principle\n",
    "\n",
    "\n",
    "def calculate_area(width, height):\n",
    "    return width * height\n",
    "\n",
    "\n",
    "# First rectangle\n",
    "width1 = 5\n",
    "height1 = 10\n",
    "area1 = calculate_area(width1, height1)\n",
    "print(f\"Area of first rectangle: {area1}\")\n",
    "\n",
    "# Second rectangle\n",
    "width2 = 3\n",
    "height2 = 8\n",
    "area2 = calculate_area(width2, height2)\n",
    "print(f\"Area of second rectangle: {area2}\")\n",
    "\n",
    "# Third rectangle\n",
    "width3 = 7\n",
    "height3 = 6\n",
    "area3 = calculate_area(width3, height3)\n",
    "print(f\"Area of third rectangle: {area3}\")"
   ]
  },
  {
   "cell_type": "markdown",
   "metadata": {},
   "source": [
    "# KISS (Keep It Simple, Stupid)\n",
    "\n",
    "- **Definition**: Keep the design and implementation simple.\n",
    "- **Motivation**: Simplify code to make it more understandable and maintainable.\n",
    "- **Benefits**: Easier to understand, maintain, and extend.\n",
    "- **Affects**: Simplicity, readability."
   ]
  },
  {
   "cell_type": "code",
   "execution_count": null,
   "metadata": {},
   "outputs": [],
   "source": [
    "# Violates KISS principle\n",
    "def complex_function(a, b, c):\n",
    "    if a > b:\n",
    "        if b > c:\n",
    "            return a + b + c\n",
    "        else:\n",
    "            return a - b - c\n",
    "    else:\n",
    "        if a > c:\n",
    "            return a * b * c\n",
    "        else:\n",
    "            return a / b / c\n",
    "\n",
    "\n",
    "# Adheres to KISS principle\n",
    "def simple_function(a, b):\n",
    "    return a + b"
   ]
  },
  {
   "cell_type": "markdown",
   "metadata": {},
   "source": [
    "# YAGNI (You Aren't Gonna Need It)\n",
    "\n",
    "- **Definition**: Do not add functionality until it is necessary.\n",
    "- **Motivation**: Avoid overengineering and reduce complexity.\n",
    "- **Benefits**: Simplifies code and reduces maintenance.\n",
    "- **Affects**: Simplicity, maintainability."
   ]
  },
  {
   "cell_type": "code",
   "execution_count": null,
   "metadata": {},
   "outputs": [],
   "source": [
    "# Violates YAGNI principle\n",
    "class Car:\n",
    "    def __init__(self):\n",
    "        self.color = \"red\"\n",
    "        self.engine = \"V8\"\n",
    "        self.has_sunroof = True  # Not needed now\n",
    "\n",
    "\n",
    "# Adheres to YAGNI principle\n",
    "class Car:\n",
    "    def __init__(self):\n",
    "        self.color = \"red\"\n",
    "        self.engine = \"V8\""
   ]
  },
  {
   "cell_type": "markdown",
   "metadata": {},
   "source": [
    "# Law of Demeter\n",
    "\n",
    "- **Definition**: A module should not know about the internal details of the objects it manipulates.\n",
    "- **Motivation**: Reduce coupling and increase encapsulation.\n",
    "- **Benefits**: Easier to maintain and modify code.\n",
    "- **Affects**: Coupling, encapsulation."
   ]
  },
  {
   "cell_type": "code",
   "execution_count": null,
   "metadata": {},
   "outputs": [],
   "source": [
    "# Violates Law of Demeter\n",
    "class Engine:\n",
    "    def start(self):\n",
    "        print(\"Engine started\")\n",
    "\n",
    "\n",
    "class Car:\n",
    "    def __init__(self):\n",
    "        self.engine = Engine()\n",
    "\n",
    "\n",
    "class Driver:\n",
    "    def start_car(self):\n",
    "        car = Car()\n",
    "        car.engine.start()\n",
    "\n",
    "\n",
    "car = Car()\n",
    "driver = Driver()\n",
    "driver.start_car()"
   ]
  },
  {
   "cell_type": "code",
   "execution_count": null,
   "metadata": {},
   "outputs": [],
   "source": [
    "# Adheres to Law of Demeter\n",
    "class Engine:\n",
    "    def start(self):\n",
    "        print(\"Engine started\")\n",
    "\n",
    "\n",
    "class Car:\n",
    "    def __init__(self):\n",
    "        self.engine = Engine()\n",
    "\n",
    "    def start(self):\n",
    "        self.engine.start()\n",
    "\n",
    "\n",
    "class Driver:\n",
    "    def start_car(self):\n",
    "        car = Car()\n",
    "        car.start()\n",
    "\n",
    "\n",
    "car = Car()\n",
    "driver = Driver()\n",
    "driver.start_car()"
   ]
  },
  {
   "cell_type": "markdown",
   "metadata": {},
   "source": [
    "# Single Level of Abstraction\n",
    "\n",
    "- **Definition**: Each function or method should operate at a single level of abstraction.\n",
    "- **Motivation**: Improve readability and maintainability by keeping code at a consistent level of abstraction.\n",
    "- **Benefits**: Easier to understand and maintain code.\n",
    "- **Affects**: Readability, maintainability."
   ]
  },
  {
   "cell_type": "code",
   "execution_count": null,
   "metadata": {},
   "outputs": [],
   "source": [
    "# Violates Single Level of Abstraction\n",
    "\n",
    "\n",
    "def clean_data(data):\n",
    "    # ...existing code...\n",
    "    return data\n",
    "\n",
    "\n",
    "def process_data(data):\n",
    "    # High-level operation\n",
    "    cleaned_data = clean_data(data)\n",
    "\n",
    "    # Low-level operation\n",
    "    for i in range(len(cleaned_data)):\n",
    "        cleaned_data[i] = cleaned_data[i].strip()\n",
    "    return cleaned_data"
   ]
  },
  {
   "cell_type": "code",
   "execution_count": null,
   "metadata": {},
   "outputs": [],
   "source": [
    "# Adheres to Single Level of Abstraction\n",
    "\n",
    "\n",
    "def clean_data(data):\n",
    "    # ...existing code...\n",
    "    pass\n",
    "\n",
    "\n",
    "def strip_data(data):\n",
    "    # ...existing code...\n",
    "    pass\n",
    "\n",
    "\n",
    "def process_data(data):\n",
    "    cleaned_data = clean_data(data)\n",
    "    stripped_data = strip_data(cleaned_data)\n",
    "    return stripped_data"
   ]
  },
  {
   "cell_type": "markdown",
   "metadata": {},
   "source": [
    "# Principle of Least Astonishment\n",
    "\n",
    "- **Definition**: Software should behave in a way that least surprises the user.\n",
    "- **Motivation**: Make software intuitive and predictable.\n",
    "- **Benefits**: Improves user experience and reduces errors.\n",
    "- **Affects**: Usability, predictability."
   ]
  },
  {
   "cell_type": "code",
   "execution_count": null,
   "metadata": {},
   "outputs": [],
   "source": [
    "# Violates Principle of Least Astonishment\n",
    "def get_discount(price):\n",
    "    if price < 1000:\n",
    "        return price * 0.9\n",
    "    else:\n",
    "        return price\n",
    "\n",
    "\n",
    "# Adheres to Principle of Least Astonishment\n",
    "def get_discount_for_price_under_1000(price):\n",
    "    if price < 1000:\n",
    "        return price * 0.9\n",
    "    else:\n",
    "        return price"
   ]
  }
 ],
 "metadata": {
  "kernelspec": {
   "display_name": ".venv",
   "language": "python",
   "name": "python3"
  },
  "language_info": {
   "codemirror_mode": {
    "name": "ipython",
    "version": 3
   },
   "file_extension": ".py",
   "mimetype": "text/x-python",
   "name": "python",
   "nbconvert_exporter": "python",
   "pygments_lexer": "ipython3",
   "version": "3.13.0"
  }
 },
 "nbformat": 4,
 "nbformat_minor": 2
}
