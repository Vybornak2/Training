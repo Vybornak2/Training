{
 "cells": [
  {
   "cell_type": "markdown",
   "metadata": {},
   "source": [
    "# SOLID Principles\n",
    "\n",
    "The SOLID principles are a set of five design principles intended to make software designs more understandable, flexible, and maintainable.\n",
    "\n",
    "```plaintext\n",
    "- S - SRP: Single Responsibility Principle\n",
    "- O - OCP: Open/Closed Principle\n",
    "- L - LSP: Liskov Substitution Principle\n",
    "- I - ISP: Interface Segregation Principle\n",
    "- D - DIP: Dependency Inversion Principle\n",
    "```"
   ]
  },
  {
   "cell_type": "markdown",
   "metadata": {},
   "source": [
    "## Single Responsibility Principle (SRP)\n",
    "\n",
    "- **Definition**: A class should have only one reason to change.\n",
    "- **Motivation**: Reduce complexity by ensuring a class has a single responsibility.\n",
    "- **Benefits**: Easier to maintain, test, and understand.\n",
    "- **Affects**: Cohesion, coupling, maintainability."
   ]
  },
  {
   "cell_type": "code",
   "execution_count": null,
   "metadata": {},
   "outputs": [],
   "source": [
    "# A class that does more than one thing (violates SRP)\n",
    "class BadJournal:\n",
    "    def __init__(self):\n",
    "        self.entries = []\n",
    "\n",
    "    def add_entry(self, entry):\n",
    "        self.entries.append(entry)\n",
    "\n",
    "    def remove_entry(self, entry):\n",
    "        self.entries.remove(entry)\n",
    "\n",
    "    def save_to_file(self, filename):\n",
    "        print(f\"Saving to {filename}\")\n",
    "\n",
    "    def __str__(self):\n",
    "        return \"\\n\".join(self.entries)"
   ]
  },
  {
   "cell_type": "code",
   "execution_count": null,
   "metadata": {},
   "outputs": [
    {
     "name": "stdout",
     "output_type": "stream",
     "text": [
      "Saving journal to journal.txt\n"
     ]
    }
   ],
   "source": [
    "# Splitting the class into two classes, each with a single responsibility (adheres to SRP)\n",
    "class GoodJournal:\n",
    "    def __init__(self):\n",
    "        self.entries = []\n",
    "\n",
    "    def add_entry(self, entry):\n",
    "        self.entries.append(entry)\n",
    "\n",
    "    def remove_entry(self, entry):\n",
    "        self.entries.remove(entry)\n",
    "\n",
    "    def __str__(self):\n",
    "        return \"\\n\".join(self.entries)\n",
    "\n",
    "\n",
    "class JournalFileSaver:\n",
    "    @staticmethod\n",
    "    def save_to_file(journal, filename):\n",
    "        print(f\"Saving journal to {filename}\")\n",
    "\n",
    "\n",
    "# Usage example\n",
    "journal = GoodJournal()\n",
    "journal.add_entry(\"I started learning SOLID principles.\")\n",
    "journal.add_entry(\"I understood the Single Responsibility Principle.\")\n",
    "\n",
    "JournalFileSaver.save_to_file(journal, \"journal.txt\")"
   ]
  },
  {
   "cell_type": "markdown",
   "metadata": {},
   "source": [
    "## Open/Closed Principle (OCP)\n",
    "\n",
    "- **Definition**: Software entities should be open for extension, but closed for modification.\n",
    "- **Motivation**: Allow the system to be extended with new functionality without changing existing code.\n",
    "- **Benefits**: Enhances flexibility and reduces the risk of introducing bugs.\n",
    "- **Affects**: Extensibility, stability, maintainability."
   ]
  },
  {
   "cell_type": "code",
   "execution_count": null,
   "metadata": {},
   "outputs": [],
   "source": [
    "# A class that violates OCP by requiring modification to add new shapes\n",
    "class Rectangle:\n",
    "    def __init__(self, width, height):\n",
    "        self.width = width\n",
    "        self.height = height\n",
    "\n",
    "\n",
    "class Circle:\n",
    "    def __init__(self, radius):\n",
    "        self.radius = radius\n",
    "\n",
    "\n",
    "class BadAreaCalculator:\n",
    "    @staticmethod\n",
    "    def calculate_area(shape):\n",
    "        if isinstance(shape, Rectangle):\n",
    "            return shape.width * shape.height\n",
    "        elif isinstance(shape, Circle):\n",
    "            return 3.14 * shape.radius**2"
   ]
  },
  {
   "cell_type": "code",
   "execution_count": null,
   "metadata": {},
   "outputs": [],
   "source": [
    "from typing import Protocol\n",
    "\n",
    "\n",
    "# Define a common interface for shapes (adheres to OCP)\n",
    "class Shape(Protocol):\n",
    "    def area(self) -> float: ...\n",
    "\n",
    "\n",
    "class Rectangle:\n",
    "    def __init__(self, width, height):\n",
    "        self.width = width\n",
    "        self.height = height\n",
    "\n",
    "    def area(self) -> float:\n",
    "        return self.width * self.height\n",
    "\n",
    "\n",
    "class Circle:\n",
    "    def __init__(self, radius):\n",
    "        self.radius = radius\n",
    "\n",
    "    def area(self) -> float:\n",
    "        return 3.14 * self.radius**2\n",
    "\n",
    "\n",
    "# Calculator that works with any shape implementing the Shape interface\n",
    "class GoodAreaCalculator:\n",
    "    @staticmethod\n",
    "    def calculate_area(shape: Shape) -> float:\n",
    "        return shape.area()"
   ]
  },
  {
   "cell_type": "markdown",
   "metadata": {},
   "source": [
    "## Liskov Substitution Principle (LSP)\n",
    "\n",
    "- **Definition**: Objects of a superclass should be replaceable with objects of a subclass without affecting the correctness of the program.\n",
    "- **Motivation**: Ensure that derived classes extend the base class without changing its behavior.\n",
    "- **Benefits**: Promotes the use of polymorphism and improves code reliability.\n",
    "- **Affects**: Polymorphism, reliability, substitutability."
   ]
  },
  {
   "cell_type": "code",
   "execution_count": null,
   "metadata": {},
   "outputs": [],
   "source": [
    "# A class hierarchy that violates LSP\n",
    "class BadBird:\n",
    "    def fly(self):\n",
    "        pass\n",
    "\n",
    "\n",
    "class Sparrow(BadBird):\n",
    "    def fly(self):\n",
    "        print(\"Sparrow flying\")\n",
    "\n",
    "\n",
    "class BadOstrich(BadBird):\n",
    "    def fly(self):\n",
    "        raise Exception(\"Ostriches can't fly\")"
   ]
  },
  {
   "cell_type": "code",
   "execution_count": null,
   "metadata": {},
   "outputs": [],
   "source": [
    "# A class hierarchy that adheres to LSP\n",
    "class GoodBird:\n",
    "    def move(self):\n",
    "        pass\n",
    "\n",
    "\n",
    "class GoodSparrow(GoodBird):\n",
    "    def move(self):\n",
    "        print(\"Sparrow flying\")\n",
    "\n",
    "\n",
    "class GoodOstrich(GoodBird):\n",
    "    def move(self):\n",
    "        print(\"Ostrich running\")"
   ]
  },
  {
   "cell_type": "markdown",
   "metadata": {},
   "source": [
    "## Interface Segregation Principle (ISP)\n",
    "\n",
    "- **Definition**: Clients should not be forced to depend on interfaces they do not use.\n",
    "- **Motivation**: Split large interfaces into smaller, more specific ones to reduce the impact of changes.\n",
    "- **Benefits**: Increases flexibility and reduces the risk of breaking changes.\n",
    "- **Affects**: Flexibility, modularity, maintainability."
   ]
  },
  {
   "cell_type": "code",
   "execution_count": null,
   "metadata": {},
   "outputs": [
    {
     "name": "stdout",
     "output_type": "stream",
     "text": [
      "Hello, world!\n",
      "Hello, world!\n"
     ]
    }
   ],
   "source": [
    "from typing import Protocol\n",
    "\n",
    "\n",
    "# Define smaller, specific interfaces (adheres to ISP)\n",
    "class Printer(Protocol):\n",
    "    def print(self, document) -> None: ...\n",
    "\n",
    "\n",
    "class Scanner(Protocol):\n",
    "    def scan(self, document) -> None: ...\n",
    "\n",
    "\n",
    "class Fax(Protocol):\n",
    "    def fax(self, document) -> None: ...\n",
    "\n",
    "\n",
    "# A class that implements all interfaces\n",
    "class AllInOnePrinter:\n",
    "    def print(self, document):\n",
    "        print(document)\n",
    "\n",
    "    def scan(self, document):\n",
    "        pass\n",
    "\n",
    "    def fax(self, document):\n",
    "        pass\n",
    "\n",
    "\n",
    "# A class that implements only the Printer interface\n",
    "class JustAPrinter:\n",
    "    def print(self, document):\n",
    "        print(document)\n",
    "\n",
    "\n",
    "# Function that depends only on the Printer interface\n",
    "def make_a_copy(machine: Printer, document):\n",
    "    machine.print(document)\n",
    "\n",
    "\n",
    "# Usage example\n",
    "printer = JustAPrinter()\n",
    "make_a_copy(printer, \"Hello, world!\")\n",
    "\n",
    "all_in_one_printer = AllInOnePrinter()\n",
    "make_a_copy(all_in_one_printer, \"Hello, world!\")"
   ]
  },
  {
   "cell_type": "markdown",
   "metadata": {},
   "source": [
    "## Dependency Inversion Principle (DIP)\n",
    "\n",
    "- **Definition**: High-level modules should not depend on low-level modules. Both should depend on abstractions.\n",
    "- **Motivation**: Decouple high-level and low-level modules to improve flexibility and reusability.\n",
    "- **Benefits**: Enhances code maintainability and reduces the impact of changes.\n",
    "- **Affects**: Decoupling, flexibility, reusability."
   ]
  },
  {
   "cell_type": "code",
   "execution_count": null,
   "metadata": {},
   "outputs": [
    {
     "name": "stdout",
     "output_type": "stream",
     "text": [
      "Writing backend code\n",
      "Writing frontend code\n"
     ]
    }
   ],
   "source": [
    "from typing import Protocol\n",
    "\n",
    "\n",
    "# Define a common interface for developers (adheres to DIP)\n",
    "class Developer(Protocol):\n",
    "    def develop(self) -> None: ...\n",
    "\n",
    "\n",
    "class BackendDeveloper:\n",
    "    def develop(self):\n",
    "        print(\"Writing backend code\")\n",
    "\n",
    "\n",
    "class FrontendDeveloper:\n",
    "    def develop(self):\n",
    "        print(\"Writing frontend code\")\n",
    "\n",
    "\n",
    "# High-level module that depends on the Developer interface\n",
    "class Project:\n",
    "    def __init__(self, developer: Developer):\n",
    "        self.developer = developer\n",
    "\n",
    "    def develop(self):\n",
    "        self.developer.develop()\n",
    "\n",
    "\n",
    "# Usage example\n",
    "backend_developer = BackendDeveloper()\n",
    "frontend_developer = FrontendDeveloper()\n",
    "\n",
    "project = Project(backend_developer)\n",
    "project.develop()\n",
    "\n",
    "project = Project(frontend_developer)\n",
    "project.develop()"
   ]
  }
 ],
 "metadata": {
  "kernelspec": {
   "display_name": ".venv",
   "language": "python",
   "name": "python3"
  },
  "language_info": {
   "codemirror_mode": {
    "name": "ipython",
    "version": 3
   },
   "file_extension": ".py",
   "mimetype": "text/x-python",
   "name": "python",
   "nbconvert_exporter": "python",
   "pygments_lexer": "ipython3",
   "version": "3.13.0"
  }
 },
 "nbformat": 4,
 "nbformat_minor": 2
}
