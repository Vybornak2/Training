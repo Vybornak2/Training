{
 "cells": [
  {
   "cell_type": "markdown",
   "metadata": {},
   "source": [
    "# Iterator Pattern\n",
    "\n",
    "- __Type:__ Behavioral\n",
    "- __Popularity: ★★★★☆__\n",
    "- __Complexity: ★★☆☆☆__\n",
    "\n",
    "### Intent:\n",
    "The Iterator pattern provides a way to access elements of an aggregate object sequentially without exposing its underlying representation. It allows clients to traverse a collection without knowing its internal structure."
   ]
  },
  {
   "cell_type": "markdown",
   "metadata": {},
   "source": [
    "### Problem:\n",
    "\n",
    "You need to traverse a complex data structure without exposing its internal details, and you want to provide multiple traversal methods without bloating the data structure's interface. Specific challenges include:\n",
    "- Providing uniform traversal for different data structures\n",
    "- Allowing multiple traversals simultaneously\n",
    "- Separating the traversal algorithm from the collection structure\n",
    "- Avoiding exposing collection's internal representation"
   ]
  },
  {
   "cell_type": "markdown",
   "metadata": {},
   "source": [
    "### Solution:\n",
    "\n",
    "Implement Python's iterator protocol by defining `__iter__()` and `__next__()` methods in your classes. This approach allows collections to:\n",
    "- Expose a standard interface for traversal without revealing internal structure\n",
    "- Support multiple concurrent traversals with different strategies\n",
    "- Simplify client code by providing a uniform access mechanism\n",
    "- Leverage Python's built-in iteration support (`for` loops, comprehensions)"
   ]
  },
  {
   "cell_type": "markdown",
   "metadata": {},
   "source": [
    "### Diagram:\n",
    "```mermaid\n",
    "classDiagram\n",
    "    class Iterable {\n",
    "        +__iter__() Iterator\n",
    "    }\n",
    "    class Iterator {\n",
    "        +__next__() Item\n",
    "        +__iter__() Iterator\n",
    "    }\n",
    "    class ConcreteIterable {\n",
    "        +__iter__() Iterator\n",
    "    }\n",
    "    class ConcreteIterator {\n",
    "        -collection\n",
    "        -position\n",
    "        +__next__() Item\n",
    "        +__iter__() Iterator\n",
    "    }\n",
    "    \n",
    "    Iterable <|-- ConcreteIterable\n",
    "    Iterator <|-- ConcreteIterator\n",
    "    ConcreteIterable ..> ConcreteIterator : creates\n",
    "    ConcreteIterator o-- ConcreteIterable : references\n",
    "```"
   ]
  },
  {
   "cell_type": "markdown",
   "metadata": {},
   "source": [
    "### Example 1: Collection with Built-in Iterator"
   ]
  },
  {
   "cell_type": "code",
   "execution_count": 4,
   "metadata": {},
   "outputs": [],
   "source": [
    "class Library:\n",
    "    \"\"\"A book collection that implements the iterator protocol.\"\"\"\n",
    "\n",
    "    def __init__(self):\n",
    "        self.books = []\n",
    "        self._index = 0\n",
    "\n",
    "    def add_book(self, title, author, year):\n",
    "        self.books.append({\"title\": title, \"author\": author, \"year\": year})\n",
    "\n",
    "    def __iter__(self):\n",
    "        \"\"\"Return self as iterator.\"\"\"\n",
    "        self._index = 0  # Reset iteration index\n",
    "        return self\n",
    "\n",
    "    def __next__(self):\n",
    "        \"\"\"Get next book during iteration.\"\"\"\n",
    "        if self._index < len(self.books):\n",
    "            book = self.books[self._index]\n",
    "            self._index += 1\n",
    "            return book\n",
    "        else:\n",
    "            raise StopIteration()"
   ]
  },
  {
   "cell_type": "code",
   "execution_count": 5,
   "metadata": {},
   "outputs": [
    {
     "name": "stdout",
     "output_type": "stream",
     "text": [
      "Books in order of addition:\n",
      "\"Design Patterns\" by Gang of Four (1994)\n",
      "\"Clean Code\" by Robert Martin (2008)\n",
      "\"Refactoring\" by Martin Fowler (1999)\n",
      "\"Domain-Driven Design\" by Eric Evans (2003)\n"
     ]
    }
   ],
   "source": [
    "def print_books(books):\n",
    "    \"\"\"Print a collection of books.\"\"\"\n",
    "    for book in books:\n",
    "        print(f'\"{book[\"title\"]}\" by {book[\"author\"]} ({book[\"year\"]})')\n",
    "\n",
    "\n",
    "# Create and populate library\n",
    "library = Library()\n",
    "library.add_book(\"Design Patterns\", \"Gang of Four\", 1994)\n",
    "library.add_book(\"Clean Code\", \"Robert Martin\", 2008)\n",
    "library.add_book(\"Refactoring\", \"Martin Fowler\", 1999)\n",
    "library.add_book(\"Domain-Driven Design\", \"Eric Evans\", 2003)\n",
    "\n",
    "# Forward iteration using Library's __iter__ and __next__ methods\n",
    "print(\"Books in order of addition:\")\n",
    "print_books(library)"
   ]
  },
  {
   "cell_type": "markdown",
   "metadata": {},
   "source": [
    "### Example 2: Separate Iterator Class"
   ]
  },
  {
   "cell_type": "code",
   "execution_count": 6,
   "metadata": {},
   "outputs": [
    {
     "name": "stdout",
     "output_type": "stream",
     "text": [
      "\n",
      "Standard iteration:\n",
      "\"Design Patterns\" by Gang of Four (1994)\n",
      "\"Clean Code\" by Robert Martin (2008)\n",
      "\"Refactoring\" by Martin Fowler (1999)\n",
      "\"Domain-Driven Design\" by Eric Evans (2003)\n",
      "\n",
      "Reverse iteration:\n",
      "\"Domain-Driven Design\" by Eric Evans (2003)\n",
      "\"Refactoring\" by Martin Fowler (1999)\n",
      "\"Clean Code\" by Robert Martin (2008)\n",
      "\"Design Patterns\" by Gang of Four (1994)\n",
      "\n",
      "Sorted by year:\n",
      "\"Design Patterns\" by Gang of Four (1994)\n",
      "\"Refactoring\" by Martin Fowler (1999)\n",
      "\"Domain-Driven Design\" by Eric Evans (2003)\n",
      "\"Clean Code\" by Robert Martin (2008)\n"
     ]
    }
   ],
   "source": [
    "class BookCollection:\n",
    "    \"\"\"A collection of books with separate iterators.\"\"\"\n",
    "\n",
    "    def __init__(self):\n",
    "        self.books = []\n",
    "\n",
    "    def add_book(self, title, author, year):\n",
    "        self.books.append({\"title\": title, \"author\": author, \"year\": year})\n",
    "\n",
    "    def __iter__(self):\n",
    "        \"\"\"Return a standard iterator for the collection.\"\"\"\n",
    "        return BookIterator(self.books)\n",
    "\n",
    "    def reverse_iterator(self):\n",
    "        \"\"\"Return a reverse order iterator.\"\"\"\n",
    "        return ReverseBookIterator(self.books)\n",
    "\n",
    "    def year_iterator(self):\n",
    "        \"\"\"Return an iterator that yields books sorted by year.\"\"\"\n",
    "        sorted_books = sorted(self.books, key=lambda book: book[\"year\"])\n",
    "        return BookIterator(sorted_books)\n",
    "\n",
    "\n",
    "class BookIterator:\n",
    "    \"\"\"Forward iterator for BookCollection.\"\"\"\n",
    "\n",
    "    def __init__(self, books):\n",
    "        self.books = books\n",
    "        self.index = 0\n",
    "\n",
    "    def __iter__(self):\n",
    "        return self\n",
    "\n",
    "    def __next__(self):\n",
    "        if self.index < len(self.books):\n",
    "            book = self.books[self.index]\n",
    "            self.index += 1\n",
    "            return book\n",
    "        raise StopIteration()\n",
    "\n",
    "\n",
    "class ReverseBookIterator:\n",
    "    \"\"\"Reverse iterator for BookCollection.\"\"\"\n",
    "\n",
    "    def __init__(self, books):\n",
    "        self.books = books\n",
    "        self.index = len(books) - 1\n",
    "\n",
    "    def __iter__(self):\n",
    "        return self\n",
    "\n",
    "    def __next__(self):\n",
    "        if self.index >= 0:\n",
    "            book = self.books[self.index]\n",
    "            self.index -= 1\n",
    "            return book\n",
    "        raise StopIteration()\n",
    "\n",
    "\n",
    "# Create and populate book collection\n",
    "collection = BookCollection()\n",
    "collection.add_book(\"Design Patterns\", \"Gang of Four\", 1994)\n",
    "collection.add_book(\"Clean Code\", \"Robert Martin\", 2008)\n",
    "collection.add_book(\"Refactoring\", \"Martin Fowler\", 1999)\n",
    "collection.add_book(\"Domain-Driven Design\", \"Eric Evans\", 2003)\n",
    "\n",
    "print(\"\\nStandard iteration:\")\n",
    "print_books(collection)\n",
    "\n",
    "print(\"\\nReverse iteration:\")\n",
    "print_books(collection.reverse_iterator())\n",
    "\n",
    "print(\"\\nSorted by year:\")\n",
    "print_books(collection.year_iterator())"
   ]
  },
  {
   "cell_type": "markdown",
   "metadata": {},
   "source": [
    "## Iterator Protocol in Python\n",
    "\n",
    "* **`__iter__`**: Returns the iterator object itself, allowing both the collection and iterator to be in the same class\n",
    "* **`__next__`**: Returns the next item in the sequence, raising StopIteration when exhausted\n",
    "* **Separation of Concerns**: For more complex cases, we can create separate iterator classes\n",
    "* **Stateful Iteration**: Iterator maintains state (current position) between calls to `__next__`\n",
    "* **Automatic Support**: Python's `for` loops automatically call these methods"
   ]
  },
  {
   "cell_type": "markdown",
   "metadata": {},
   "source": [
    "### Real-world analogies:\n",
    "\n",
    "1. **TV Remote Control**:\n",
    "   - The remote control is an iterator that traverses TV channels (the collection)\n",
    "   - It provides \"next\" and \"previous\" buttons to move through channels without needing to know how channels are stored\n",
    "   - It maintains the state (current channel) between operations\n",
    "\n",
    "2. **Library Catalog System**:\n",
    "   - A card catalog system lets you browse through book records without accessing the actual shelves\n",
    "   - Different indexes (author, title, subject) provide different iteration methods over the same collection\n",
    "   - Librarians can update the physical arrangement without changing how patrons browse the catalog"
   ]
  },
  {
   "cell_type": "markdown",
   "metadata": {},
   "source": [
    "### When to use:\n",
    "\n",
    "- When you need to access a collection's elements without exposing its internal structure\n",
    "- When you need multiple ways to traverse the same collection\n",
    "- When you want to provide a uniform interface for traversing different data structures\n",
    "- When you need to support multiple concurrent traversals of the same collection\n",
    "- When the collection's structure might change or is complex but the traversal interface should remain stable"
   ]
  },
  {
   "cell_type": "markdown",
   "metadata": {},
   "source": [
    "### Python-specific implementation notes:\n",
    "\n",
    "- Python's `for` loop syntax automatically calls `iter()` and `next()` methods\n",
    "- Generator functions and expressions provide a simpler way to create iterators using `yield`\n",
    "- The `collections.abc` module provides `Iterator` and `Iterable` abstract base classes\n",
    "- Python's built-in functions like `map()`, `filter()`, and `zip()` return iterators\n",
    "- Most Python built-in collections implement the iterator protocol already\n",
    "- The iteration protocol is composable with other protocols like context managers"
   ]
  },
  {
   "cell_type": "markdown",
   "metadata": {},
   "source": [
    "### Related patterns:\n",
    "\n",
    "- **Composite**: Iterators are often used with composite structures to traverse hierarchies\n",
    "- **Factory Method**: Often used to create appropriate iterators for different collections\n",
    "- **Visitor**: Like Iterator, allows operations on elements of an object structure without changing classes\n",
    "- **Command**: Iterator can use commands to perform various operations on each element"
   ]
  }
 ],
 "metadata": {
  "kernelspec": {
   "display_name": ".venv",
   "language": "python",
   "name": "python3"
  },
  "language_info": {
   "codemirror_mode": {
    "name": "ipython",
    "version": 3
   },
   "file_extension": ".py",
   "mimetype": "text/x-python",
   "name": "python",
   "nbconvert_exporter": "python",
   "pygments_lexer": "ipython3",
   "version": "3.13.0"
  }
 },
 "nbformat": 4,
 "nbformat_minor": 2
}
