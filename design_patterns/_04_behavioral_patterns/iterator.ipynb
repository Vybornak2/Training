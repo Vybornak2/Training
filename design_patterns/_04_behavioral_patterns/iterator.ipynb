{
 "cells": [
  {
   "cell_type": "markdown",
   "metadata": {},
   "source": [
    "# Iterator Pattern\n",
    "\n",
    "The Iterator pattern provides a way to access elements of an aggregate object sequentially without exposing its underlying representation."
   ]
  },
  {
   "cell_type": "markdown",
   "metadata": {},
   "source": [
    "## Problem\n",
    "\n",
    "You need to traverse a complex data structure without exposing its internal details, and you want to provide multiple traversal methods without bloating the data structure's interface."
   ]
  },
  {
   "cell_type": "markdown",
   "metadata": {},
   "source": [
    "## Solution\n",
    "\n",
    "Implement Python's iterator protocol by defining `__iter__()` and `__next__()` methods in your classes."
   ]
  },
  {
   "cell_type": "code",
   "execution_count": 9,
   "metadata": {},
   "outputs": [],
   "source": [
    "from typing import Dict, Any, List"
   ]
  },
  {
   "cell_type": "code",
   "execution_count": 10,
   "metadata": {},
   "outputs": [],
   "source": [
    "class Library:\n",
    "    \"\"\"A book collection that implements the iterator protocol.\"\"\"\n",
    "\n",
    "    def __init__(self):\n",
    "        self.books = []\n",
    "        self._index = 0\n",
    "\n",
    "    def add_book(self, title, author, year):\n",
    "        self.books.append({\"title\": title, \"author\": author, \"year\": year})\n",
    "\n",
    "    def __iter__(self):\n",
    "        \"\"\"Return self as iterator.\"\"\"\n",
    "        self._index = 0  # Reset iteration index\n",
    "        return self\n",
    "\n",
    "    def __next__(self):\n",
    "        \"\"\"Get next book during iteration.\"\"\"\n",
    "        if self._index < len(self.books):\n",
    "            book = self.books[self._index]\n",
    "            self._index += 1\n",
    "            return book\n",
    "        else:\n",
    "            raise StopIteration()"
   ]
  },
  {
   "cell_type": "code",
   "execution_count": 11,
   "metadata": {},
   "outputs": [
    {
     "name": "stdout",
     "output_type": "stream",
     "text": [
      "Books in order of addition:\n",
      "\"Design Patterns\" by Gang of Four (1994)\n",
      "\"Clean Code\" by Robert Martin (2008)\n",
      "\"Refactoring\" by Martin Fowler (1999)\n",
      "\"Domain-Driven Design\" by Eric Evans (2003)\n"
     ]
    }
   ],
   "source": [
    "def print_books(books):\n",
    "    \"\"\"Print a collection of books.\"\"\"\n",
    "    for book in books:\n",
    "        print(f'\"{book[\"title\"]}\" by {book[\"author\"]} ({book[\"year\"]})')\n",
    "\n",
    "\n",
    "# Create and populate library\n",
    "library = Library()\n",
    "library.add_book(\"Design Patterns\", \"Gang of Four\", 1994)\n",
    "library.add_book(\"Clean Code\", \"Robert Martin\", 2008)\n",
    "library.add_book(\"Refactoring\", \"Martin Fowler\", 1999)\n",
    "library.add_book(\"Domain-Driven Design\", \"Eric Evans\", 2003)\n",
    "\n",
    "# Forward iteration using Library's __iter__ and __next__ methods\n",
    "print(\"Books in order of addition:\")\n",
    "print_books(library)"
   ]
  },
  {
   "cell_type": "markdown",
   "metadata": {},
   "source": [
    "## Iterator Protocol in Python\n",
    "\n",
    "* **`__iter__`**: Returns the iterator object itself, allowing both the collection and iterator to be in the same class\n",
    "* **`__next__`**: Returns the next item in the sequence, raising StopIteration when exhausted\n",
    "* **Separation of Concerns**: For more complex cases, we can create separate iterator classes\n",
    "* **Stateful Iteration**: Iterator maintains state (current position) between calls to `__next__`\n",
    "* **Automatic Support**: Python's `for` loops automatically call these methods"
   ]
  }
 ],
 "metadata": {
  "kernelspec": {
   "display_name": ".venv",
   "language": "python",
   "name": "python3"
  },
  "language_info": {
   "codemirror_mode": {
    "name": "ipython",
    "version": 3
   },
   "file_extension": ".py",
   "mimetype": "text/x-python",
   "name": "python",
   "nbconvert_exporter": "python",
   "pygments_lexer": "ipython3",
   "version": "3.13.0"
  }
 },
 "nbformat": 4,
 "nbformat_minor": 2
}
