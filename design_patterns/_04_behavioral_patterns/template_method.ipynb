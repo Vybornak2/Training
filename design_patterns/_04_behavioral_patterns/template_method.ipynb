{
 "cells": [
  {
   "cell_type": "markdown",
   "metadata": {},
   "source": [
    "# Template Method Pattern\n",
    "\n",
    "The Template Method pattern defines the skeleton of an algorithm in a method, deferring some steps to subclasses. It lets subclasses redefine certain steps of an algorithm without changing the algorithm's structure."
   ]
  },
  {
   "cell_type": "markdown",
   "metadata": {},
   "source": [
    "## Problem\n",
    "\n",
    "You want to define the skeleton of an algorithm but allow subclasses to redefine certain steps without changing the algorithm's structure."
   ]
  },
  {
   "cell_type": "markdown",
   "metadata": {},
   "source": [
    "## Solution\n",
    "\n",
    "Define the skeleton of an algorithm in a base class method, but let subclasses override specific steps of the algorithm without changing its structure."
   ]
  },
  {
   "cell_type": "code",
   "execution_count": 1,
   "metadata": {},
   "outputs": [],
   "source": [
    "from abc import ABC, abstractmethod\n",
    "\n",
    "\n",
    "# Abstract class with template method\n",
    "class Beverage(ABC):\n",
    "    # Template method - defines the algorithm skeleton\n",
    "    def prepare(self):\n",
    "        print(\"Preparing beverage:\")\n",
    "        self.boil_water()\n",
    "        self.brew()\n",
    "        self.pour()\n",
    "        self.add_condiments()\n",
    "        print(\"Your beverage is ready!\")\n",
    "\n",
    "    # Common steps implemented in base class\n",
    "    def boil_water(self):\n",
    "        print(\"Boiling water\")\n",
    "\n",
    "    def pour(self):\n",
    "        print(\"Pouring into cup\")\n",
    "\n",
    "    # Steps that subclasses must implement\n",
    "    @abstractmethod\n",
    "    def brew(self):\n",
    "        pass\n",
    "\n",
    "    @abstractmethod\n",
    "    def add_condiments(self):\n",
    "        pass"
   ]
  },
  {
   "cell_type": "code",
   "execution_count": 2,
   "metadata": {},
   "outputs": [],
   "source": [
    "# Concrete implementations\n",
    "class Coffee(Beverage):\n",
    "    def brew(self):\n",
    "        print(\"Brewing coffee grounds\")\n",
    "\n",
    "    def add_condiments(self):\n",
    "        print(\"Adding sugar and milk\")\n",
    "\n",
    "\n",
    "class Tea(Beverage):\n",
    "    def brew(self):\n",
    "        print(\"Steeping tea bag\")\n",
    "\n",
    "    def add_condiments(self):\n",
    "        print(\"Adding lemon\")"
   ]
  },
  {
   "cell_type": "code",
   "execution_count": 3,
   "metadata": {},
   "outputs": [
    {
     "name": "stdout",
     "output_type": "stream",
     "text": [
      "Making coffee:\n",
      "Preparing beverage:\n",
      "Boiling water\n",
      "Brewing coffee grounds\n",
      "Pouring into cup\n",
      "Adding sugar and milk\n",
      "Your beverage is ready!\n",
      "\n",
      "Making tea:\n",
      "Preparing beverage:\n",
      "Boiling water\n",
      "Steeping tea bag\n",
      "Pouring into cup\n",
      "Adding lemon\n",
      "Your beverage is ready!\n"
     ]
    }
   ],
   "source": [
    "# Client code\n",
    "print(\"Making coffee:\")\n",
    "coffee = Coffee()\n",
    "coffee.prepare()\n",
    "\n",
    "print(\"\\nMaking tea:\")\n",
    "tea = Tea()\n",
    "tea.prepare()"
   ]
  }
 ],
 "metadata": {
  "kernelspec": {
   "display_name": ".venv",
   "language": "python",
   "name": "python3"
  },
  "language_info": {
   "codemirror_mode": {
    "name": "ipython",
    "version": 3
   },
   "file_extension": ".py",
   "mimetype": "text/x-python",
   "name": "python",
   "nbconvert_exporter": "python",
   "pygments_lexer": "ipython3",
   "version": "3.13.0"
  }
 },
 "nbformat": 4,
 "nbformat_minor": 2
}
