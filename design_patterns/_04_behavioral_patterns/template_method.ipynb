{
 "cells": [
  {
   "cell_type": "markdown",
   "metadata": {},
   "source": [
    "## Template Method Pattern\n",
    "\n",
    "- __Type:__ Behavioral\n",
    "- __Popularity: ★★★★☆__\n",
    "- __Complexity: ★★☆☆☆__\n",
    "\n",
    "### Intent:\n",
    "__Template Method__ is a behavioral design pattern that defines the skeleton of an algorithm in a method, deferring some steps to subclasses. It lets subclasses redefine certain steps of an algorithm without changing the algorithm's structure."
   ]
  },
  {
   "cell_type": "markdown",
   "metadata": {},
   "source": [
    "### Problem:\n",
    "Imagine you're creating various applications with similar processing logic but with differences in specific implementation details. You find yourself duplicating code across classes, which leads to:\n",
    "\n",
    "- Code duplication when implementing similar algorithms\n",
    "- Difficulty maintaining consistency across implementations\n",
    "- Changes to the core algorithm structure requiring updates in multiple places\n",
    "- Inability to enforce a standard sequence of operations while allowing customization\n",
    "\n",
    "Without this pattern, you would end up with redundant code across classes that perform similar operations with minor variations."
   ]
  },
  {
   "cell_type": "markdown",
   "metadata": {},
   "source": [
    "### Solution:\n",
    "The Template Method pattern solves this by:\n",
    "\n",
    "- Defining a skeleton of an algorithm in a base class method (the \"template method\")\n",
    "- Breaking the algorithm into steps represented by methods\n",
    "- Implementing common steps in the base class\n",
    "- Declaring abstract methods for steps that must be implemented by subclasses\n",
    "- Optionally providing hooks (methods with default implementations that subclasses can override)\n",
    "\n",
    "The base class controls the overall algorithm structure, while subclasses provide specific implementations for varying steps, creating a clean separation between the algorithm's structure and its implementation details."
   ]
  },
  {
   "cell_type": "markdown",
   "metadata": {},
   "source": [
    "### Diagram:\n",
    "```mermaid\n",
    "classDiagram\n",
    "    class AbstractClass {\n",
    "        +templateMethod()\n",
    "        +primitiveOperation1()\n",
    "        +primitiveOperation2()\n",
    "        +hook()\n",
    "    }\n",
    "    class ConcreteClassA {\n",
    "        +primitiveOperation1()\n",
    "        +primitiveOperation2()\n",
    "    }\n",
    "    class ConcreteClassB {\n",
    "        +primitiveOperation1()\n",
    "        +primitiveOperation2()\n",
    "        +hook()\n",
    "    }\n",
    "    \n",
    "    AbstractClass <|-- ConcreteClassA\n",
    "    AbstractClass <|-- ConcreteClassB\n",
    "```"
   ]
  },
  {
   "cell_type": "code",
   "execution_count": 2,
   "metadata": {},
   "outputs": [],
   "source": [
    "from abc import ABC, abstractmethod\n",
    "\n",
    "\n",
    "# Abstract class with template method\n",
    "class Beverage(ABC):\n",
    "    # Template method - defines the algorithm skeleton\n",
    "    def prepare(self):\n",
    "        print(\"Preparing beverage:\")\n",
    "        self.boil_water()\n",
    "        self.brew()\n",
    "        self.pour()\n",
    "        self.add_condiments()\n",
    "        print(\"Your beverage is ready!\")\n",
    "\n",
    "    # Common steps implemented in base class\n",
    "    def boil_water(self):\n",
    "        print(\"Boiling water\")\n",
    "\n",
    "    def pour(self):\n",
    "        print(\"Pouring into cup\")\n",
    "\n",
    "    # Steps that subclasses must implement\n",
    "    @abstractmethod\n",
    "    def brew(self):\n",
    "        pass\n",
    "\n",
    "    @abstractmethod\n",
    "    def add_condiments(self):\n",
    "        pass"
   ]
  },
  {
   "cell_type": "code",
   "execution_count": 3,
   "metadata": {},
   "outputs": [],
   "source": [
    "# Concrete implementations\n",
    "class Coffee(Beverage):\n",
    "    def brew(self):\n",
    "        print(\"Brewing coffee grounds\")\n",
    "\n",
    "    def add_condiments(self):\n",
    "        print(\"Adding sugar and milk\")\n",
    "\n",
    "\n",
    "class Tea(Beverage):\n",
    "    def brew(self):\n",
    "        print(\"Steeping tea bag\")\n",
    "\n",
    "    def add_condiments(self):\n",
    "        print(\"Adding lemon\")"
   ]
  },
  {
   "cell_type": "code",
   "execution_count": 4,
   "metadata": {},
   "outputs": [
    {
     "name": "stdout",
     "output_type": "stream",
     "text": [
      "Making coffee:\n",
      "Preparing beverage:\n",
      "Boiling water\n",
      "Brewing coffee grounds\n",
      "Pouring into cup\n",
      "Adding sugar and milk\n",
      "Your beverage is ready!\n",
      "\n",
      "Making tea:\n",
      "Preparing beverage:\n",
      "Boiling water\n",
      "Steeping tea bag\n",
      "Pouring into cup\n",
      "Adding lemon\n",
      "Your beverage is ready!\n"
     ]
    }
   ],
   "source": [
    "# Client code\n",
    "print(\"Making coffee:\")\n",
    "coffee = Coffee()\n",
    "coffee.prepare()\n",
    "\n",
    "print(\"\\nMaking tea:\")\n",
    "tea = Tea()\n",
    "tea.prepare()"
   ]
  },
  {
   "cell_type": "markdown",
   "metadata": {},
   "source": [
    "### Example with Hooks:\n",
    "\n",
    "Here's an enhanced example that includes hook methods, which are optional methods that subclasses can override:"
   ]
  },
  {
   "cell_type": "code",
   "execution_count": 5,
   "metadata": {},
   "outputs": [
    {
     "name": "stdout",
     "output_type": "stream",
     "text": [
      "Preprocessing data...\n",
      "Processing numbers: [1, 2, 3, 4, 5]\n",
      "Post-processing results...\n",
      "Result: 15\n",
      "\n",
      "Error: All elements must be numbers\n",
      "Data validation failed. Processing skipped.\n",
      "Result: None\n",
      "\n",
      "Preprocessing data...\n",
      "Processing text: ['Hello', 'from', 'Template', 'Method']\n",
      "Post-processing results...\n",
      "Result: Hello from Template Method\n"
     ]
    }
   ],
   "source": [
    "from abc import ABC, abstractmethod\n",
    "\n",
    "\n",
    "class DataProcessor(ABC):\n",
    "    def template_method(self, data):\n",
    "        \"\"\"The template method defining the algorithm structure\"\"\"\n",
    "        # Hook method with default implementation\n",
    "        if self.should_process(data):\n",
    "            processed_data = self.preprocess(data)\n",
    "            result = self.process(processed_data)\n",
    "            self.post_process(result)\n",
    "            return result\n",
    "        else:\n",
    "            print(\"Data validation failed. Processing skipped.\")\n",
    "            return None\n",
    "\n",
    "    # Hook method with default implementation that subclasses can override\n",
    "    def should_process(self, data):\n",
    "        \"\"\"Hook method that subclasses can override to add validation\"\"\"\n",
    "        return True\n",
    "\n",
    "    # Common operation with default implementation\n",
    "    def preprocess(self, data):\n",
    "        print(\"Preprocessing data...\")\n",
    "        return data\n",
    "\n",
    "    # Abstract method that subclasses must implement\n",
    "    @abstractmethod\n",
    "    def process(self, data):\n",
    "        \"\"\"Core processing logic to be implemented by subclasses\"\"\"\n",
    "        pass\n",
    "\n",
    "    # Common operation with default implementation\n",
    "    def post_process(self, result):\n",
    "        print(\"Post-processing results...\")\n",
    "\n",
    "\n",
    "class NumberProcessor(DataProcessor):\n",
    "    def should_process(self, data):\n",
    "        # Override hook to add validation\n",
    "        if not all(isinstance(x, (int, float)) for x in data):\n",
    "            print(\"Error: All elements must be numbers\")\n",
    "            return False\n",
    "        return True\n",
    "\n",
    "    def process(self, data):\n",
    "        print(f\"Processing numbers: {data}\")\n",
    "        return sum(data)\n",
    "\n",
    "\n",
    "class TextProcessor(DataProcessor):\n",
    "    def process(self, data):\n",
    "        print(f\"Processing text: {data}\")\n",
    "        return \" \".join(data)\n",
    "\n",
    "\n",
    "# Client code\n",
    "number_processor = NumberProcessor()\n",
    "result1 = number_processor.template_method([1, 2, 3, 4, 5])\n",
    "print(f\"Result: {result1}\\n\")\n",
    "\n",
    "# This will fail validation\n",
    "result2 = number_processor.template_method([1, 2, \"three\", 4])\n",
    "print(f\"Result: {result2}\\n\")\n",
    "\n",
    "text_processor = TextProcessor()\n",
    "result3 = text_processor.template_method([\"Hello\", \"from\", \"Template\", \"Method\"])\n",
    "print(f\"Result: {result3}\")"
   ]
  },
  {
   "cell_type": "markdown",
   "metadata": {},
   "source": [
    "### Real-world analogies:\n",
    "\n",
    "1. Cooking with a Recipe:\n",
    "\n",
    "   A recipe defines the sequence of steps (algorithm) to prepare a dish. The basic steps like \"preheat oven,\" \"mix ingredients,\" and \"bake for X minutes\" are fixed (template method), while the specific ingredients and seasoning (abstract methods) can vary based on the dish being prepared. Some optional steps like \"add garnish\" (hooks) are up to the cook's discretion.\n",
    "\n",
    "2. Building Construction Process:\n",
    "\n",
    "   Construction follows a standard sequence: lay foundation, build structure, install utilities, and finish interior. This sequence (template method) remains the same whether building a house, office, or school. However, the specific way each step is implemented (abstract methods) varies depending on the building type. Some optional steps like landscaping (hooks) might be included based on specific requirements."
   ]
  },
  {
   "cell_type": "markdown",
   "metadata": {},
   "source": [
    "### When to use:\n",
    "\n",
    "- When you want to implement the invariant parts of an algorithm once and leave the variant parts to subclasses\n",
    "- When you have several classes that contain similar algorithms with minor differences\n",
    "- When you want to control the point of extension by letting subclasses override only certain parts of a large algorithm\n",
    "- When you need to factor out duplicate code into a common class\n",
    "- When you want to enforce certain steps to always be called in a specific sequence"
   ]
  },
  {
   "cell_type": "markdown",
   "metadata": {},
   "source": [
    "### Python-specific implementation notes:\n",
    "\n",
    "- Python's `abc` module provides the `ABC` class and `@abstractmethod` decorator for creating abstract base classes and methods\n",
    "- Unlike some languages, Python allows calling methods of a superclass directly using `super()`, making it easier to extend functionality while reusing code\n",
    "- Python's duck typing allows alternative implementations where the template pattern could be used with composition instead of inheritance\n",
    "- Python's higher-order functions and decorators offer additional ways to implement template-like patterns\n",
    "- The standard library's `collections.abc` provides abstract base classes that follow template pattern principles\n",
    "\n",
    "### Related patterns:\n",
    "\n",
    "- Strategy Pattern: Template Method uses inheritance to vary parts of an algorithm, while Strategy uses composition to change the entire algorithm\n",
    "- Factory Method: Often used within Template Methods to create objects whose type is determined by subclasses\n",
    "- Hook Method: A specialized form of Template Method that focuses on providing extension points\n",
    "- Command Pattern: Can use Template Methods to implement common command processing with specific command execution logic"
   ]
  }
 ],
 "metadata": {
  "kernelspec": {
   "display_name": ".venv",
   "language": "python",
   "name": "python3"
  },
  "language_info": {
   "codemirror_mode": {
    "name": "ipython",
    "version": 3
   },
   "file_extension": ".py",
   "mimetype": "text/x-python",
   "name": "python",
   "nbconvert_exporter": "python",
   "pygments_lexer": "ipython3",
   "version": "3.13.0"
  }
 },
 "nbformat": 4,
 "nbformat_minor": 2
}
