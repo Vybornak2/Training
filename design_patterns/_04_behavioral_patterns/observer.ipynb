{
 "cells": [
  {
   "cell_type": "markdown",
   "metadata": {},
   "source": [
    "# Observer Pattern\n",
    "\n",
    "The Observer pattern defines a one-to-many dependency between objects so that when one object changes state, all its dependents are notified and updated automatically."
   ]
  },
  {
   "cell_type": "markdown",
   "metadata": {},
   "source": [
    "## Problem\n",
    "\n",
    "You need to be notified when the state of another object changes, but you don't want to continuously check for changes or tightly couple the objects involved."
   ]
  },
  {
   "cell_type": "markdown",
   "metadata": {},
   "source": [
    "## Solution\n",
    "\n",
    "Define a subscription mechanism to notify multiple objects about events that happen to the object they're observing. The subject maintains a list of its dependents (observers) and notifies them automatically when its state changes."
   ]
  },
  {
   "cell_type": "code",
   "execution_count": 1,
   "metadata": {},
   "outputs": [],
   "source": [
    "from abc import ABC, abstractmethod\n",
    "from typing import List\n",
    "\n",
    "\n",
    "# Observer interface\n",
    "class Observer(ABC):\n",
    "    @abstractmethod\n",
    "    def update(self, subject) -> None:\n",
    "        pass\n",
    "\n",
    "\n",
    "# Subject interface\n",
    "class Subject(ABC):\n",
    "    @abstractmethod\n",
    "    def attach(self, observer: Observer) -> None:\n",
    "        pass\n",
    "\n",
    "    @abstractmethod\n",
    "    def detach(self, observer: Observer) -> None:\n",
    "        pass\n",
    "\n",
    "    @abstractmethod\n",
    "    def notify(self) -> None:\n",
    "        pass"
   ]
  },
  {
   "cell_type": "code",
   "execution_count": 2,
   "metadata": {},
   "outputs": [],
   "source": [
    "# Concrete Subject - Weather Station\n",
    "class WeatherStation(Subject):\n",
    "    def __init__(self):\n",
    "        self._observers: List[Observer] = []\n",
    "        self._temperature = 0\n",
    "        self._humidity = 0\n",
    "        self._pressure = 0\n",
    "\n",
    "    def attach(self, observer: Observer) -> None:\n",
    "        if observer not in self._observers:\n",
    "            self._observers.append(observer)\n",
    "            print(f\"Subject: Attached an observer.\")\n",
    "\n",
    "    def detach(self, observer: Observer) -> None:\n",
    "        self._observers.remove(observer)\n",
    "        print(f\"Subject: Detached an observer.\")\n",
    "\n",
    "    def notify(self) -> None:\n",
    "        print(\"Subject: Notifying observers...\")\n",
    "        for observer in self._observers:\n",
    "            observer.update(self)\n",
    "\n",
    "    def set_measurements(self, temperature, humidity, pressure):\n",
    "        print(\"\\nWeather Station: Setting new measurements...\")\n",
    "        self._temperature = temperature\n",
    "        self._humidity = humidity\n",
    "        self._pressure = pressure\n",
    "        self.notify()\n",
    "\n",
    "    @property\n",
    "    def temperature(self):\n",
    "        return self._temperature\n",
    "\n",
    "    @property\n",
    "    def humidity(self):\n",
    "        return self._humidity\n",
    "\n",
    "    @property\n",
    "    def pressure(self):\n",
    "        return self._pressure"
   ]
  },
  {
   "cell_type": "code",
   "execution_count": 3,
   "metadata": {},
   "outputs": [],
   "source": [
    "# Concrete Observers\n",
    "class CurrentConditionsDisplay(Observer):\n",
    "    def update(self, weather_station):\n",
    "        print(f\"Current Conditions: {weather_station.temperature}°C, {weather_station.humidity}% humidity\")\n",
    "\n",
    "\n",
    "class StatisticsDisplay(Observer):\n",
    "    def __init__(self):\n",
    "        self.temperatures = []\n",
    "\n",
    "    def update(self, weather_station):\n",
    "        self.temperatures.append(weather_station.temperature)\n",
    "        avg = sum(self.temperatures) / len(self.temperatures)\n",
    "        print(\n",
    "            f\"Statistics: Avg temperature = {avg:.1f}°C, \"\n",
    "            f\"Max = {max(self.temperatures)}°C, \"\n",
    "            f\"Min = {min(self.temperatures)}°C\"\n",
    "        )\n",
    "\n",
    "\n",
    "class ForecastDisplay(Observer):\n",
    "    def __init__(self):\n",
    "        self.last_pressure = 0\n",
    "\n",
    "    def update(self, weather_station):\n",
    "        if self.last_pressure == 0:\n",
    "            print(\"Forecast: Waiting for more data...\")\n",
    "        elif weather_station.pressure > self.last_pressure:\n",
    "            print(\"Forecast: Improving weather on the way!\")\n",
    "        elif weather_station.pressure < self.last_pressure:\n",
    "            print(\"Forecast: Watch out for cooler, rainy weather\")\n",
    "        else:\n",
    "            print(\"Forecast: More of the same\")\n",
    "\n",
    "        self.last_pressure = weather_station.pressure"
   ]
  },
  {
   "cell_type": "code",
   "execution_count": 4,
   "metadata": {},
   "outputs": [
    {
     "name": "stdout",
     "output_type": "stream",
     "text": [
      "Subject: Attached an observer.\n",
      "Subject: Attached an observer.\n",
      "Subject: Attached an observer.\n",
      "\n",
      "Weather Station: Setting new measurements...\n",
      "Subject: Notifying observers...\n",
      "Current Conditions: 25°C, 65% humidity\n",
      "Statistics: Avg temperature = 25.0°C, Max = 25°C, Min = 25°C\n",
      "Forecast: Waiting for more data...\n",
      "\n",
      "Weather Station: Setting new measurements...\n",
      "Subject: Notifying observers...\n",
      "Current Conditions: 26°C, 70% humidity\n",
      "Statistics: Avg temperature = 25.5°C, Max = 26°C, Min = 25°C\n",
      "Forecast: Improving weather on the way!\n",
      "\n",
      "Weather Station: Setting new measurements...\n",
      "Subject: Notifying observers...\n",
      "Current Conditions: 24°C, 90% humidity\n",
      "Statistics: Avg temperature = 25.0°C, Max = 26°C, Min = 24°C\n",
      "Forecast: Watch out for cooler, rainy weather\n",
      "Subject: Detached an observer.\n",
      "\n",
      "Weather Station: Setting new measurements...\n",
      "Subject: Notifying observers...\n",
      "Current Conditions: 22°C, 80% humidity\n",
      "Statistics: Avg temperature = 24.2°C, Max = 26°C, Min = 22°C\n"
     ]
    }
   ],
   "source": [
    "# Client code\n",
    "# Create the subject\n",
    "weather_station = WeatherStation()\n",
    "\n",
    "# Create observers\n",
    "current_display = CurrentConditionsDisplay()\n",
    "statistics_display = StatisticsDisplay()\n",
    "forecast_display = ForecastDisplay()\n",
    "\n",
    "# Register observers\n",
    "weather_station.attach(current_display)\n",
    "weather_station.attach(statistics_display)\n",
    "weather_station.attach(forecast_display)\n",
    "\n",
    "# Simulate weather changes\n",
    "weather_station.set_measurements(25, 65, 1013)\n",
    "weather_station.set_measurements(26, 70, 1014)\n",
    "weather_station.set_measurements(24, 90, 1010)\n",
    "\n",
    "# Unregister an observer\n",
    "weather_station.detach(forecast_display)\n",
    "\n",
    "# One more measurement\n",
    "weather_station.set_measurements(22, 80, 1012)"
   ]
  },
  {
   "cell_type": "markdown",
   "metadata": {},
   "source": [
    "## Benefits\n",
    "\n",
    "* **Loose Coupling**: Subjects don't need to know anything about their observers\n",
    "* **Open/Closed Principle**: You can add new observer classes without changing the subject\n",
    "* **Dynamic Relationships**: You can establish relationships between objects at runtime\n",
    "* **Broadcast Communication**: A subject can notify all interested objects automatically\n",
    "* **Event-Driven Architecture**: Supports building event-driven systems and reactive programming"
   ]
  }
 ],
 "metadata": {
  "kernelspec": {
   "display_name": ".venv",
   "language": "python",
   "name": "python3"
  },
  "language_info": {
   "codemirror_mode": {
    "name": "ipython",
    "version": 3
   },
   "file_extension": ".py",
   "mimetype": "text/x-python",
   "name": "python",
   "nbconvert_exporter": "python",
   "pygments_lexer": "ipython3",
   "version": "3.13.0"
  }
 },
 "nbformat": 4,
 "nbformat_minor": 2
}
