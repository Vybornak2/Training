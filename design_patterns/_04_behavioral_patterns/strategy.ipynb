{
 "cells": [
  {
   "cell_type": "markdown",
   "metadata": {},
   "source": [
    "# Strategy Pattern\n",
    "\n",
    "- __Type:__ Behavioral\n",
    "- __Popularity: ★★★★☆__\n",
    "- __Complexity: ★★☆☆☆__"
   ]
  },
  {
   "cell_type": "markdown",
   "metadata": {},
   "source": [
    "### Intent:\n",
    "\n",
    "__Strategy__ is a behavioral design pattern that defines a family of algorithms, encapsulates each one, and makes them interchangeable. Strategy lets the algorithm vary independently from clients that use it."
   ]
  },
  {
   "cell_type": "markdown",
   "metadata": {},
   "source": [
    "### Problem:\n",
    "\n",
    "When you need to use different variations of an algorithm within an object and be able to switch from one algorithm to another during runtime. For example:\n",
    "\n",
    "- A sorting application might need multiple sorting algorithms based on data size or type\n",
    "- Different payment methods in an e-commerce system\n",
    "- Various compression algorithms for different file types\n",
    "\n",
    "Without this pattern, your code would be littered with conditional statements and tightly coupled to specific algorithm implementations, making it difficult to maintain or extend."
   ]
  },
  {
   "cell_type": "markdown",
   "metadata": {},
   "source": [
    "### Solution:\n",
    "\n",
    "The Strategy pattern suggests defining a family of algorithms, encapsulating each one, and making them interchangeable. This allows the client to choose the appropriate algorithm at runtime without changing its code.\n",
    "\n",
    "Key components:\n",
    "- **Strategy**: A common interface for all concrete strategies\n",
    "- **Concrete Strategies**: Specific implementations of the algorithm\n",
    "- **Context**: Maintains a reference to a strategy object and delegates the algorithm execution to it"
   ]
  },
  {
   "cell_type": "markdown",
   "metadata": {},
   "source": [
    "### Diagram:\n",
    "\n",
    "```mermaid\n",
    "classDiagram\n",
    "    class SortStrategy {\n",
    "        <<interface>>\n",
    "        +sort(data: List) List\n",
    "    }\n",
    "    \n",
    "    class QuickSortStrategy {\n",
    "        +sort(data: List) List\n",
    "    }\n",
    "    \n",
    "    class MergeSortStrategy {\n",
    "        +sort(data: List) List\n",
    "    }\n",
    "    \n",
    "    class BubbleSortStrategy {\n",
    "        +sort(data: List) List\n",
    "    }\n",
    "    \n",
    "    class Sorter {\n",
    "        -strategy: SortStrategy\n",
    "        +setStrategy(strategy: SortStrategy)\n",
    "        +sort(data: List) List\n",
    "    }\n",
    "    \n",
    "    SortStrategy <|.. QuickSortStrategy\n",
    "    SortStrategy <|.. MergeSortStrategy\n",
    "    SortStrategy <|.. BubbleSortStrategy\n",
    "    Sorter o-- SortStrategy\n",
    "```"
   ]
  },
  {
   "cell_type": "code",
   "execution_count": 1,
   "metadata": {},
   "outputs": [],
   "source": [
    "# Example code:\n",
    "from abc import ABC, abstractmethod\n",
    "from typing import List\n",
    "\n",
    "\n",
    "# Strategy interface\n",
    "class SortStrategy(ABC):\n",
    "    @abstractmethod\n",
    "    def sort(self, data: List) -> List:\n",
    "        pass"
   ]
  },
  {
   "cell_type": "code",
   "execution_count": 2,
   "metadata": {},
   "outputs": [],
   "source": [
    "# Concrete strategies\n",
    "class QuickSortStrategy(SortStrategy):\n",
    "    def sort(self, data: List) -> List:\n",
    "        print(\"Sorting using quick sort\")\n",
    "        return sorted(data)  # In a real implementation, this would be quick sort\n",
    "\n",
    "\n",
    "class MergeSortStrategy(SortStrategy):\n",
    "    def sort(self, data: List) -> List:\n",
    "        print(\"Sorting using merge sort\")\n",
    "        return sorted(data)  # In a real implementation, this would be merge sort\n",
    "\n",
    "\n",
    "class BubbleSortStrategy(SortStrategy):\n",
    "    def sort(self, data: List) -> List:\n",
    "        print(\"Sorting using bubble sort\")\n",
    "        # Simple bubble sort implementation\n",
    "        result = data.copy()\n",
    "        n = len(result)\n",
    "        for i in range(n):\n",
    "            for j in range(0, n - i - 1):\n",
    "                if result[j] > result[j + 1]:\n",
    "                    result[j], result[j + 1] = result[j + 1], result[j]\n",
    "        return result"
   ]
  },
  {
   "cell_type": "code",
   "execution_count": 3,
   "metadata": {},
   "outputs": [],
   "source": [
    "# Context\n",
    "class Sorter:\n",
    "    def __init__(self, strategy: SortStrategy = None):\n",
    "        self._strategy = strategy or BubbleSortStrategy()\n",
    "\n",
    "    @property\n",
    "    def strategy(self) -> SortStrategy:\n",
    "        return self._strategy\n",
    "\n",
    "    @strategy.setter\n",
    "    def strategy(self, strategy: SortStrategy):\n",
    "        self._strategy = strategy\n",
    "\n",
    "    def sort(self, data: List) -> List:\n",
    "        return self._strategy.sort(data)"
   ]
  },
  {
   "cell_type": "code",
   "execution_count": 4,
   "metadata": {},
   "outputs": [
    {
     "name": "stdout",
     "output_type": "stream",
     "text": [
      "Original data: [5, 2, 7, 4, 1, 3, 8, 6]\n",
      "Sorting using bubble sort\n",
      "Default strategy result: [1, 2, 3, 4, 5, 6, 7, 8]\n",
      "Sorting using quick sort\n",
      "Quick sort result: [1, 2, 3, 4, 5, 6, 7, 8]\n",
      "Sorting using merge sort\n",
      "Merge sort result: [1, 2, 3, 4, 5, 6, 7, 8]\n"
     ]
    }
   ],
   "source": [
    "# Client code\n",
    "data = [5, 2, 7, 4, 1, 3, 8, 6]\n",
    "print(f\"Original data: {data}\")\n",
    "\n",
    "# Create context with default strategy\n",
    "sorter = Sorter()\n",
    "print(f\"Default strategy result: {sorter.sort(data)}\")\n",
    "\n",
    "# Change strategy to quick sort\n",
    "sorter.strategy = QuickSortStrategy()\n",
    "print(f\"Quick sort result: {sorter.sort(data)}\")\n",
    "\n",
    "# Change strategy to merge sort\n",
    "sorter.strategy = MergeSortStrategy()\n",
    "print(f\"Merge sort result: {sorter.sort(data)}\")"
   ]
  },
  {
   "cell_type": "markdown",
   "metadata": {},
   "source": [
    "### Real-world analogies:\n",
    "\n",
    "1. Transportation Strategy:\n",
    "   - You need to travel from home to office. Depending on circumstances (weather, time, budget), you might choose different strategies: driving, taking public transport, cycling, or walking.\n",
    "   - Context: Your daily commute\n",
    "   - Strategies: Different transportation methods\n",
    "   - Selection criteria: Weather, time constraints, budget\n",
    "\n",
    "2. Payment Methods:\n",
    "   - An e-commerce checkout system supports multiple payment methods\n",
    "   - Context: Checkout process\n",
    "   - Strategies: Credit card, PayPal, cryptocurrency, bank transfer\n",
    "   - Each payment method has its own processing algorithm but can be used interchangeably"
   ]
  },
  {
   "cell_type": "markdown",
   "metadata": {},
   "source": [
    "### When to use:\n",
    "\n",
    "- When you want to define a family of interchangeable algorithms or behaviors\n",
    "- When you need to vary an algorithm according to runtime conditions\n",
    "- When you want to isolate the business logic of a class from the implementation details of algorithms\n",
    "- When a class defines many behaviors that appear as conditional statements in its operations"
   ]
  },
  {
   "cell_type": "markdown",
   "metadata": {},
   "source": [
    "### Python-specific implementation notes:\n",
    "\n",
    "- Python's first-class functions allow for a more lightweight implementation of the Strategy pattern using simple functions instead of classes\n",
    "- Python's duck typing allows for flexibility in strategy implementation without strict adherence to abstract base classes\n",
    "- The `functools.partial` function can be used to create variations of strategies with preset parameters\n",
    "- Python's standard library has built-in strategies in modules like `heapq`, `operator`, and sorting key functions"
   ]
  },
  {
   "cell_type": "markdown",
   "metadata": {},
   "source": [
    "### Benefits:\n",
    "\n",
    "- Isolates the implementation details of an algorithm from the code that uses it\n",
    "- Replaces inheritance with composition\n",
    "- Open/Closed Principle: You can introduce new strategies without changing the context\n",
    "- Eliminates conditional statements by moving branching logic into strategies"
   ]
  },
  {
   "cell_type": "markdown",
   "metadata": {},
   "source": [
    "### Related patterns:\n",
    "\n",
    "- **Factory Method**: Often used to create strategy objects\n",
    "- **Flyweight**: Can be used to share strategies efficiently when many clients need the same strategy\n",
    "- **State Pattern**: Similar in structure but different in intent - State represents an object's internal state while Strategy represents an algorithm\n",
    "- **Template Method**: Strategy is a behavioral alternative to subclassing, decomposing algorithms into separate strategy classes rather than using inheritance"
   ]
  }
 ],
 "metadata": {
  "kernelspec": {
   "display_name": ".venv",
   "language": "python",
   "name": "python3"
  },
  "language_info": {
   "codemirror_mode": {
    "name": "ipython",
    "version": 3
   },
   "file_extension": ".py",
   "mimetype": "text/x-python",
   "name": "python",
   "nbconvert_exporter": "python",
   "pygments_lexer": "ipython3",
   "version": "3.13.0"
  }
 },
 "nbformat": 4,
 "nbformat_minor": 2
}
