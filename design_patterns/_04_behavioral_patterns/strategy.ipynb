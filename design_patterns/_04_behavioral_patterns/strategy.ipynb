{
 "cells": [
  {
   "cell_type": "markdown",
   "metadata": {},
   "source": [
    "# Strategy Pattern\n",
    "\n",
    "The Strategy pattern defines a family of algorithms, encapsulates each one, and makes them interchangeable. Strategy lets the algorithm vary independently from clients that use it."
   ]
  },
  {
   "cell_type": "markdown",
   "metadata": {},
   "source": [
    "## Problem\n",
    "\n",
    "You need to use different variations of an algorithm within an object and be able to switch from one algorithm to another during runtime."
   ]
  },
  {
   "cell_type": "markdown",
   "metadata": {},
   "source": [
    "## Solution\n",
    "\n",
    "Define a family of algorithms, encapsulate each one, and make them interchangeable. Strategy lets the algorithm vary independently from clients that use it."
   ]
  },
  {
   "cell_type": "code",
   "execution_count": null,
   "metadata": {},
   "outputs": [],
   "source": [
    "from abc import ABC, abstractmethod\n",
    "from typing import List\n",
    "\n",
    "\n",
    "# Strategy interface\n",
    "class SortStrategy(ABC):\n",
    "    @abstractmethod\n",
    "    def sort(self, data: List) -> List:\n",
    "        pass"
   ]
  },
  {
   "cell_type": "code",
   "execution_count": null,
   "metadata": {},
   "outputs": [],
   "source": [
    "# Concrete strategies\n",
    "class QuickSortStrategy(SortStrategy):\n",
    "    def sort(self, data: List) -> List:\n",
    "        print(\"Sorting using quick sort\")\n",
    "        return sorted(data)  # In a real implementation, this would be quick sort\n",
    "\n",
    "\n",
    "class MergeSortStrategy(SortStrategy):\n",
    "    def sort(self, data: List) -> List:\n",
    "        print(\"Sorting using merge sort\")\n",
    "        return sorted(data)  # In a real implementation, this would be merge sort\n",
    "\n",
    "\n",
    "class BubbleSortStrategy(SortStrategy):\n",
    "    def sort(self, data: List) -> List:\n",
    "        print(\"Sorting using bubble sort\")\n",
    "        # Simple bubble sort implementation\n",
    "        result = data.copy()\n",
    "        n = len(result)\n",
    "        for i in range(n):\n",
    "            for j in range(0, n - i - 1):\n",
    "                if result[j] > result[j + 1]:\n",
    "                    result[j], result[j + 1] = result[j + 1], result[j]\n",
    "        return result"
   ]
  },
  {
   "cell_type": "code",
   "execution_count": null,
   "metadata": {},
   "outputs": [],
   "source": [
    "# Context\n",
    "class Sorter:\n",
    "    def __init__(self, strategy: SortStrategy = None):\n",
    "        self._strategy = strategy or BubbleSortStrategy()\n",
    "\n",
    "    @property\n",
    "    def strategy(self) -> SortStrategy:\n",
    "        return self._strategy\n",
    "\n",
    "    @strategy.setter\n",
    "    def strategy(self, strategy: SortStrategy):\n",
    "        self._strategy = strategy\n",
    "\n",
    "    def sort(self, data: List) -> List:\n",
    "        return self._strategy.sort(data)"
   ]
  },
  {
   "cell_type": "code",
   "execution_count": null,
   "metadata": {},
   "outputs": [],
   "source": [
    "# Client code\n",
    "data = [5, 2, 7, 4, 1, 3, 8, 6]\n",
    "print(f\"Original data: {data}\")\n",
    "\n",
    "# Create context with default strategy\n",
    "sorter = Sorter()\n",
    "print(f\"Default strategy result: {sorter.sort(data)}\")\n",
    "\n",
    "# Change strategy to quick sort\n",
    "sorter.strategy = QuickSortStrategy()\n",
    "print(f\"Quick sort result: {sorter.sort(data)}\")\n",
    "\n",
    "# Change strategy to merge sort\n",
    "sorter.strategy = MergeSortStrategy()\n",
    "print(f\"Merge sort result: {sorter.sort(data)}\")"
   ]
  },
  {
   "cell_type": "markdown",
   "metadata": {},
   "source": [
    "## Benefits\n",
    "\n",
    "- Isolates the implementation details of an algorithm from the code that uses it\n",
    "- Replaces inheritance with composition\n",
    "- Open/Closed Principle: You can introduce new strategies without changing the context\n",
    "- Eliminates conditional statements by moving branching logic into strategies"
   ]
  }
 ],
 "metadata": {
  "language_info": {
   "name": "python"
  }
 },
 "nbformat": 4,
 "nbformat_minor": 2
}
