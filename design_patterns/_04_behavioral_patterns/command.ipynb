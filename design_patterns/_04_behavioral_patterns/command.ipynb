{
 "cells": [
  {
   "cell_type": "markdown",
   "metadata": {},
   "source": [
    "# Command Pattern\n",
    "\n",
    "The Command pattern encapsulates a request as an object, thereby allowing for parameterization of clients with different requests, queuing of requests, and support for undoable operations."
   ]
  },
  {
   "cell_type": "markdown",
   "metadata": {},
   "source": [
    "## Problem\n",
    "\n",
    "You need to decouple an object that invokes an operation from the provider that actually performs it, or you need to parameterize objects with operations, support undoable actions, or create queues of operations."
   ]
  },
  {
   "cell_type": "markdown",
   "metadata": {},
   "source": [
    "## Solution\n",
    "\n",
    "Create a command class that encapsulates all information needed to perform an action, including the method to call, the method arguments, and the object that implements the method. This allows for decoupling and flexibility in executing operations."
   ]
  },
  {
   "cell_type": "code",
   "execution_count": 1,
   "metadata": {},
   "outputs": [],
   "source": [
    "from abc import ABC, abstractmethod\n",
    "\n",
    "\n",
    "# Command interface\n",
    "class Command(ABC):\n",
    "    @abstractmethod\n",
    "    def execute(self) -> None:\n",
    "        pass\n",
    "\n",
    "    @abstractmethod\n",
    "    def undo(self) -> None:\n",
    "        pass"
   ]
  },
  {
   "cell_type": "code",
   "execution_count": 2,
   "metadata": {},
   "outputs": [],
   "source": [
    "# Receiver class\n",
    "class Editor:\n",
    "    def __init__(self):\n",
    "        self.text = \"\"\n",
    "\n",
    "    def write(self, text):\n",
    "        self.text += text\n",
    "        print(f\"Editor: Added text '{text}'\")\n",
    "        print(f\"Current text: '{self.text}'\")\n",
    "\n",
    "    def delete_last(self, length):\n",
    "        deleted_text = self.text[-length:]\n",
    "        self.text = self.text[:-length]\n",
    "        print(f\"Editor: Deleted text '{deleted_text}'\")\n",
    "        print(f\"Current text: '{self.text}'\")\n",
    "        return deleted_text"
   ]
  },
  {
   "cell_type": "code",
   "execution_count": 3,
   "metadata": {},
   "outputs": [],
   "source": [
    "# Concrete Commands\n",
    "class WriteCommand(Command):\n",
    "    def __init__(self, editor: Editor, text: str):\n",
    "        self.editor = editor\n",
    "        self.text = text\n",
    "\n",
    "    def execute(self) -> None:\n",
    "        self.editor.write(self.text)\n",
    "\n",
    "    def undo(self) -> None:\n",
    "        self.editor.delete_last(len(self.text))\n",
    "\n",
    "\n",
    "class DeleteCommand(Command):\n",
    "    def __init__(self, editor: Editor, length: int):\n",
    "        self.editor = editor\n",
    "        self.length = length\n",
    "        self.backup = \"\"\n",
    "\n",
    "    def execute(self) -> None:\n",
    "        self.backup = self.editor.delete_last(self.length)\n",
    "\n",
    "    def undo(self) -> None:\n",
    "        self.editor.write(self.backup)"
   ]
  },
  {
   "cell_type": "code",
   "execution_count": 4,
   "metadata": {},
   "outputs": [],
   "source": [
    "# Invoker\n",
    "class CommandHistory:\n",
    "    def __init__(self):\n",
    "        self.history = []\n",
    "\n",
    "    def push(self, command: Command):\n",
    "        self.history.append(command)\n",
    "\n",
    "    def pop(self) -> Command:\n",
    "        return self.history.pop() if self.history else None\n",
    "\n",
    "\n",
    "class Application:\n",
    "    def __init__(self):\n",
    "        self.editor = Editor()\n",
    "        self.history = CommandHistory()\n",
    "\n",
    "    def execute_command(self, command: Command):\n",
    "        command.execute()\n",
    "        self.history.push(command)\n",
    "\n",
    "    def undo(self):\n",
    "        command = self.history.pop()\n",
    "        if command:\n",
    "            print(\"Undoing the last command...\")\n",
    "            command.undo()\n",
    "        else:\n",
    "            print(\"Nothing to undo.\")"
   ]
  },
  {
   "cell_type": "code",
   "execution_count": 5,
   "metadata": {},
   "outputs": [
    {
     "name": "stdout",
     "output_type": "stream",
     "text": [
      "Editor: Added text 'Hello, '\n",
      "Current text: 'Hello, '\n",
      "Editor: Added text 'World!'\n",
      "Current text: 'Hello, World!'\n",
      "Editor: Deleted text 'World!'\n",
      "Current text: 'Hello, '\n",
      "Undoing the last command...\n",
      "Editor: Added text 'World!'\n",
      "Current text: 'Hello, World!'\n",
      "Undoing the last command...\n",
      "Editor: Deleted text 'World!'\n",
      "Current text: 'Hello, '\n"
     ]
    }
   ],
   "source": [
    "# Client code\n",
    "app = Application()\n",
    "\n",
    "# Execute write command\n",
    "app.execute_command(WriteCommand(app.editor, \"Hello, \"))\n",
    "\n",
    "# Execute another write command\n",
    "app.execute_command(WriteCommand(app.editor, \"World!\"))\n",
    "\n",
    "# Execute delete command\n",
    "app.execute_command(DeleteCommand(app.editor, 6))\n",
    "\n",
    "# Undo last command (delete)\n",
    "app.undo()\n",
    "\n",
    "# Undo previous command (write \"World!\")\n",
    "app.undo()"
   ]
  },
  {
   "cell_type": "markdown",
   "metadata": {},
   "source": [
    "## Benefits\n",
    "\n",
    "* **Decoupling**: Separates the object that invokes the operation from the one that performs it\n",
    "* **Extensibility**: New commands can be added without changing existing code\n",
    "* **Composite Commands**: Commands can be combined to create macro commands\n",
    "* **Undo/Redo Support**: Commands can store state for reversing their effects\n",
    "* **Deferred Execution**: Commands can be scheduled, queued, or executed remotely"
   ]
  }
 ],
 "metadata": {
  "kernelspec": {
   "display_name": ".venv",
   "language": "python",
   "name": "python3"
  },
  "language_info": {
   "codemirror_mode": {
    "name": "ipython",
    "version": 3
   },
   "file_extension": ".py",
   "mimetype": "text/x-python",
   "name": "python",
   "nbconvert_exporter": "python",
   "pygments_lexer": "ipython3",
   "version": "3.13.0"
  }
 },
 "nbformat": 4,
 "nbformat_minor": 2
}
