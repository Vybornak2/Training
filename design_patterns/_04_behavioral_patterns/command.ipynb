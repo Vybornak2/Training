{
 "cells": [
  {
   "cell_type": "markdown",
   "metadata": {},
   "source": [
    "## Command Pattern\n",
    "\n",
    "- __Type:__ Behavioral\n",
    "- __Popularity: ★★★★☆__\n",
    "- __Complexity: ★★★☆☆__\n",
    "\n",
    "### Intent:\n",
    "__Command__ is a behavioral design pattern that turns a request into a stand-alone object containing all information about the request. This transformation allows you to parameterize methods with different requests, delay or queue a request's execution, and support undoable operations."
   ]
  },
  {
   "cell_type": "markdown",
   "metadata": {},
   "source": [
    "### Problem:\n",
    "You need to decouple an object that invokes an operation from the provider that actually performs it. You might also need to:\n",
    "\n",
    "- Parameterize objects with operations to be performed\n",
    "- Queue operations for later execution\n",
    "- Support undoing operations\n",
    "- Store a history of commands for auditing or logging\n",
    "- Implement callback functionality in a structured way\n",
    "\n",
    "Without the Command pattern, systems that need these capabilities often end up with complex, tightly coupled code that's difficult to maintain and extend."
   ]
  },
  {
   "cell_type": "markdown",
   "metadata": {},
   "source": [
    "### Solution:\n",
    "The Command pattern suggests encapsulating a request as an object. The key idea is to extract all the request details (the object being called, the name of the method, and the list of arguments) into a separate command class with a single method that triggers this request.\n",
    "\n",
    "Command objects serve as links between various GUI and business logic objects. From now on, the GUI object doesn't need to know what business logic object will receive the request and how it'll be processed. The GUI object just triggers the command, which handles all the details.\n",
    "\n",
    "This pattern introduces several components:\n",
    "- **Command**: The interface that declares the execute method\n",
    "- **ConcreteCommand**: Implements the Command interface and defines binding between a Receiver object and an action\n",
    "- **Client**: Creates and configures concrete command objects\n",
    "- **Invoker**: Asks the command to carry out the request\n",
    "- **Receiver**: Knows how to perform the operation associated with the command"
   ]
  },
  {
   "cell_type": "markdown",
   "metadata": {},
   "source": [
    "### Diagram:\n",
    "```mermaid\n",
    "classDiagram\n",
    "    class Command {\n",
    "        <<interface>>\n",
    "        +execute()\n",
    "        +undo()\n",
    "    }\n",
    "    \n",
    "    class ConcreteCommand {\n",
    "        -receiver\n",
    "        +execute()\n",
    "        +undo()\n",
    "    }\n",
    "    \n",
    "    class Invoker {\n",
    "        -commands\n",
    "        +setCommand(command)\n",
    "        +executeCommand()\n",
    "        +undoCommand()\n",
    "    }\n",
    "    \n",
    "    class Receiver {\n",
    "        +action()\n",
    "    }\n",
    "    \n",
    "    class Client {\n",
    "    }\n",
    "    \n",
    "    Command <|-- ConcreteCommand\n",
    "    ConcreteCommand o-- Receiver : has >\n",
    "    Invoker o-- Command : uses >\n",
    "    Client ..> ConcreteCommand : creates\n",
    "    Client ..> Receiver : creates\n",
    "```"
   ]
  },
  {
   "cell_type": "code",
   "execution_count": null,
   "metadata": {},
   "outputs": [],
   "source": [
    "from abc import ABC, abstractmethod\n",
    "\n",
    "\n",
    "# Command interface\n",
    "class Command(ABC):\n",
    "    @abstractmethod\n",
    "    def execute(self) -> None:\n",
    "        pass\n",
    "\n",
    "    @abstractmethod\n",
    "    def undo(self) -> None:\n",
    "        pass"
   ]
  },
  {
   "cell_type": "code",
   "execution_count": 1,
   "metadata": {},
   "outputs": [],
   "source": [
    "# Receiver class\n",
    "class Editor:\n",
    "    def __init__(self):\n",
    "        self.text = \"\"\n",
    "\n",
    "    def write(self, text):\n",
    "        self.text += text\n",
    "        print(f\"Editor: Added text '{text}'\")\n",
    "        print(f\"Current text: '{self.text}'\")\n",
    "\n",
    "    def delete_last(self, length):\n",
    "        deleted_text = self.text[-length:]\n",
    "        self.text = self.text[:-length]\n",
    "        print(f\"Editor: Deleted text '{deleted_text}'\")\n",
    "        print(f\"Current text: '{self.text}'\")\n",
    "        return deleted_text"
   ]
  },
  {
   "cell_type": "code",
   "execution_count": 2,
   "metadata": {},
   "outputs": [
    {
     "ename": "NameError",
     "evalue": "name 'Command' is not defined",
     "output_type": "error",
     "traceback": [
      "\u001b[31m---------------------------------------------------------------------------\u001b[39m",
      "\u001b[31mNameError\u001b[39m                                 Traceback (most recent call last)",
      "\u001b[36mCell\u001b[39m\u001b[36m \u001b[39m\u001b[32mIn[2]\u001b[39m\u001b[32m, line 2\u001b[39m\n\u001b[32m      1\u001b[39m \u001b[38;5;66;03m# Concrete Commands\u001b[39;00m\n\u001b[32m----> \u001b[39m\u001b[32m2\u001b[39m \u001b[38;5;28;01mclass\u001b[39;00m\u001b[38;5;250m \u001b[39m\u001b[34;01mWriteCommand\u001b[39;00m(\u001b[43mCommand\u001b[49m):\n\u001b[32m      3\u001b[39m     \u001b[38;5;28;01mdef\u001b[39;00m\u001b[38;5;250m \u001b[39m\u001b[34m__init__\u001b[39m(\u001b[38;5;28mself\u001b[39m, editor: Editor, text: \u001b[38;5;28mstr\u001b[39m):\n\u001b[32m      4\u001b[39m         \u001b[38;5;28mself\u001b[39m.editor = editor\n",
      "\u001b[31mNameError\u001b[39m: name 'Command' is not defined"
     ]
    }
   ],
   "source": [
    "# Concrete Commands\n",
    "class WriteCommand(Command):\n",
    "    def __init__(self, editor: Editor, text: str):\n",
    "        self.editor = editor\n",
    "        self.text = text\n",
    "\n",
    "    def execute(self) -> None:\n",
    "        self.editor.write(self.text)\n",
    "\n",
    "    def undo(self) -> None:\n",
    "        self.editor.delete_last(len(self.text))\n",
    "\n",
    "\n",
    "class DeleteCommand(Command):\n",
    "    def __init__(self, editor: Editor, length: int):\n",
    "        self.editor = editor\n",
    "        self.length = length\n",
    "        self.backup = \"\"\n",
    "\n",
    "    def execute(self) -> None:\n",
    "        self.backup = self.editor.delete_last(self.length)\n",
    "\n",
    "    def undo(self) -> None:\n",
    "        self.editor.write(self.backup)"
   ]
  },
  {
   "cell_type": "code",
   "execution_count": null,
   "metadata": {},
   "outputs": [],
   "source": [
    "# Invoker\n",
    "class CommandHistory:\n",
    "    def __init__(self):\n",
    "        self.history = []\n",
    "\n",
    "    def push(self, command: Command):\n",
    "        self.history.append(command)\n",
    "\n",
    "    def pop(self) -> Command:\n",
    "        return self.history.pop() if self.history else None\n",
    "\n",
    "\n",
    "class Application:\n",
    "    def __init__(self):\n",
    "        self.editor = Editor()\n",
    "        self.history = CommandHistory()\n",
    "\n",
    "    def execute_command(self, command: Command):\n",
    "        command.execute()\n",
    "        self.history.push(command)\n",
    "\n",
    "    def undo(self):\n",
    "        command = self.history.pop()\n",
    "        if command:\n",
    "            print(\"Undoing the last command...\")\n",
    "            command.undo()\n",
    "        else:\n",
    "            print(\"Nothing to undo.\")"
   ]
  },
  {
   "cell_type": "code",
   "execution_count": null,
   "metadata": {},
   "outputs": [
    {
     "name": "stdout",
     "output_type": "stream",
     "text": [
      "Editor: Added text 'Hello, '\n",
      "Current text: 'Hello, '\n",
      "Editor: Added text 'World!'\n",
      "Current text: 'Hello, World!'\n",
      "Editor: Deleted text 'World!'\n",
      "Current text: 'Hello, '\n",
      "Undoing the last command...\n",
      "Editor: Added text 'World!'\n",
      "Current text: 'Hello, World!'\n",
      "Undoing the last command...\n",
      "Editor: Deleted text 'World!'\n",
      "Current text: 'Hello, '\n"
     ]
    }
   ],
   "source": [
    "# Client code\n",
    "app = Application()\n",
    "\n",
    "# Execute write command\n",
    "app.execute_command(WriteCommand(app.editor, \"Hello, \"))\n",
    "\n",
    "# Execute another write command\n",
    "app.execute_command(WriteCommand(app.editor, \"World!\"))\n",
    "\n",
    "# Execute delete command\n",
    "app.execute_command(DeleteCommand(app.editor, 6))\n",
    "\n",
    "# Undo last command (delete)\n",
    "app.undo()\n",
    "\n",
    "# Undo previous command (write \"World!\")\n",
    "app.undo()"
   ]
  },
  {
   "cell_type": "markdown",
   "metadata": {},
   "source": [
    "### Example code with function commands:\n",
    "Here's another common way to implement commands in Python using functions and callable objects:"
   ]
  },
  {
   "cell_type": "code",
   "execution_count": null,
   "metadata": {},
   "outputs": [],
   "source": [
    "# Using functions as commands (more Pythonic approach)\n",
    "from typing import Callable, Any, List\n",
    "\n",
    "\n",
    "class FunctionalCommand:\n",
    "    def __init__(self, execute_func: Callable, undo_func: Callable):\n",
    "        self.execute_func = execute_func\n",
    "        self.undo_func = undo_func\n",
    "\n",
    "    def execute(self):\n",
    "        return self.execute_func()\n",
    "\n",
    "    def undo(self):\n",
    "        return self.undo_func()\n",
    "\n",
    "\n",
    "# Calculator example\n",
    "class Calculator:\n",
    "    def __init__(self):\n",
    "        self.value = 0\n",
    "        self.history: List[FunctionalCommand] = []\n",
    "\n",
    "    def execute(self, command: FunctionalCommand):\n",
    "        result = command.execute()\n",
    "        self.history.append(command)\n",
    "        return result\n",
    "\n",
    "    def undo(self):\n",
    "        if not self.history:\n",
    "            return None\n",
    "        command = self.history.pop()\n",
    "        return command.undo()\n",
    "\n",
    "    def add(self, value):\n",
    "        # Create closure to capture the current state\n",
    "        def execute_func():\n",
    "            old_value = self.value\n",
    "            self.value += value\n",
    "            print(f\"Added {value}, result: {self.value}\")\n",
    "            return old_value\n",
    "\n",
    "        def undo_func():\n",
    "            self.value -= value\n",
    "            print(f\"Undid add {value}, result: {self.value}\")\n",
    "            return self.value\n",
    "\n",
    "        return FunctionalCommand(execute_func, undo_func)\n",
    "\n",
    "    def multiply(self, value):\n",
    "        def execute_func():\n",
    "            old_value = self.value\n",
    "            self.value *= value\n",
    "            print(f\"Multiplied by {value}, result: {self.value}\")\n",
    "            return old_value\n",
    "\n",
    "        def undo_func():\n",
    "            self.value /= value\n",
    "            print(f\"Undid multiply by {value}, result: {self.value}\")\n",
    "            return self.value\n",
    "\n",
    "        return FunctionalCommand(execute_func, undo_func)\n",
    "\n",
    "\n",
    "# Using the functional command pattern\n",
    "calc = Calculator()\n",
    "calc.execute(calc.add(5))\n",
    "calc.execute(calc.multiply(2))\n",
    "calc.execute(calc.add(10))\n",
    "calc.undo()\n",
    "calc.undo()"
   ]
  },
  {
   "cell_type": "markdown",
   "metadata": {},
   "source": [
    "### Real-world analogies:\n",
    "\n",
    "1. Restaurant Order System:\n",
    "\n",
    "   In a restaurant, a waiter takes your order (command) written on an order slip. The waiter doesn't prepare the food but gives the order to the chef (receiver). The order slip contains all details needed to prepare the dish. The chef executes the order and the waiter doesn't need to know how the food is prepared. The order can be queued if the chef is busy, and could theoretically be \"undone\" if the customer changes their mind before preparation begins.\n",
    "\n",
    "2. Remote Control:\n",
    "\n",
    "   A TV remote control has buttons (invokers) that send specific commands to the TV (receiver). Each button press encapsulates a command (turn on/off, change channel, adjust volume). The remote doesn't need to know how the TV works internally, it just sends commands. Different devices can use the same remote if they understand the same command protocol."
   ]
  },
  {
   "cell_type": "markdown",
   "metadata": {},
   "source": [
    "### When to use:\n",
    "- When you need to parameterize objects with operations\n",
    "- When you want to queue operations, schedule their execution, or execute them remotely\n",
    "- When you need to implement reversible operations with undo/redo functionality\n",
    "- When you're building a system that needs to support transaction-like behavior\n",
    "- When you want to structure a system around high-level operations built on primitive operations\n",
    "- When implementing callbacks and event handler systems in a structured way"
   ]
  },
  {
   "cell_type": "markdown",
   "metadata": {},
   "source": [
    "### Python-specific implementation notes:\n",
    "- Python's first-class functions make implementing the Command pattern more flexible than in some other languages\n",
    "- Lambda functions can be used for simple commands without creating separate command classes\n",
    "- The `functools.partial` function can be useful for binding parameters to commands\n",
    "- Python's built-in `cmd` module provides a framework for line-oriented command interpreters\n",
    "- Many Python GUI frameworks use the Command pattern for event handling\n",
    "- Python's dynamic typing allows for more flexible command implementations compared to statically typed languages"
   ]
  },
  {
   "cell_type": "markdown",
   "metadata": {},
   "source": [
    "### Related patterns:\n",
    "- **Chain of Responsibility**: Like Command, can be used to decouple sender and receiver, but Chain of Responsibility passes a request along a chain while Command normally specifies a sender-receiver connection\n",
    "- **Memento**: Can be used alongside Command to maintain the state required for undo operations\n",
    "- **Strategy**: Both patterns can be implemented with similar structures, but Strategy usually specifies how something is done, while Command specifies when and what is done\n",
    "- **Factory Method**: Can be used to create commands without coupling the invoker to concrete command classes\n",
    "- **Composite**: Can be used to implement macro commands (commands that consist of other commands)"
   ]
  }
 ],
 "metadata": {
  "kernelspec": {
   "display_name": ".venv",
   "language": "python",
   "name": "python3"
  },
  "language_info": {
   "codemirror_mode": {
    "name": "ipython",
    "version": 3
   },
   "file_extension": ".py",
   "mimetype": "text/x-python",
   "name": "python",
   "nbconvert_exporter": "python",
   "pygments_lexer": "ipython3",
   "version": "3.13.0"
  }
 },
 "nbformat": 4,
 "nbformat_minor": 2
}
