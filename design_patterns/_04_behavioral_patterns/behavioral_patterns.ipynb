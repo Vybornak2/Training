{
 "cells": [
  {
   "cell_type": "markdown",
   "metadata": {},
   "source": [
    "# Behavioral Patterns Overview\n",
    "\n",
    "Behavioral design patterns are concerned with algorithms and the assignment of responsibilities between objects. They describe not just patterns of objects or classes but also the patterns of communication between them."
   ]
  },
  {
   "cell_type": "markdown",
   "metadata": {},
   "source": [
    "## Patterns\n",
    "\n",
    "- [Chain of Responsibility](./chain_of_responsibility.ipynb): Passes request along a chain of handlers\n",
    "- [Command](./command.ipynb): Encapsulates a request as an object\n",
    "- [Observer](./observer.ipynb): Defines a one-to-many dependency for automatic updates\n",
    "- [State](./state.ipynb): Alters object behavior when its internal state changes\n",
    "- [Interpreter](./interpreter.ipynb): Implements a specialized language interpreter\n",
    "- [Strategy](./strategy.ipynb): Defines interchangeable family of algorithms\n",
    "- [Memento](./memento.ipynb): Captures and externalizes object state for later restoration\n",
    "- [Iterator](./iterator.ipynb): Provides sequential access to collection elements\n",
    "- [Template Method](./template_method.ipynb): Defines algorithm skeleton with steps deferred to subclasses"
   ]
  }
 ],
 "metadata": {
  "language_info": {
   "name": "python"
  }
 },
 "nbformat": 4,
 "nbformat_minor": 2
}
