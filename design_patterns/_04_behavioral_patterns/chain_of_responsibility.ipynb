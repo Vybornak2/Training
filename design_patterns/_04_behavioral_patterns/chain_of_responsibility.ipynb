{
 "cells": [
  {
   "cell_type": "markdown",
   "metadata": {},
   "source": [
    "# Chain of Responsibility Pattern\n",
    "\n",
    "The Chain of Responsibility pattern passes a request along a chain of handlers. Upon receiving a request, each handler decides either to process the request or to pass it to the next handler in the chain."
   ]
  },
  {
   "cell_type": "markdown",
   "metadata": {},
   "source": [
    "## Problem\n",
    "\n",
    "You need to process a request through multiple handlers, but you don't want to hardcode the sequence or make the client aware of the chain's structure."
   ]
  },
  {
   "cell_type": "markdown",
   "metadata": {},
   "source": [
    "## Solution\n",
    "\n",
    "The Chain of Responsibility pattern suggests organizing handlers into a chain where each handler has a reference to the next handler. The request travels down the chain until a handler processes it or it reaches the end of the chain."
   ]
  },
  {
   "cell_type": "markdown",
   "metadata": {},
   "source": [
    "## Simple Example\n",
    "\n",
    "Here's a straightforward implementation to illustrate the core concepts of the Chain of Responsibility pattern:"
   ]
  },
  {
   "cell_type": "code",
   "execution_count": 22,
   "metadata": {},
   "outputs": [
    {
     "name": "stdout",
     "output_type": "stream",
     "text": [
      "Handled by Handler A\n",
      "Handled by Handler B\n",
      "None\n"
     ]
    }
   ],
   "source": [
    "class Handler:\n",
    "    def __init__(self, successor=None):\n",
    "        self.successor = successor  # Next handler in the chain\n",
    "\n",
    "    def handle_request(self, request):\n",
    "        if self.successor:\n",
    "            return self.successor.handle_request(request)\n",
    "        return None\n",
    "\n",
    "\n",
    "class ConcreteHandlerA(Handler):\n",
    "    def handle_request(self, request):\n",
    "        if request == \"A\":\n",
    "            return \"Handled by Handler A\"\n",
    "        return super().handle_request(request)\n",
    "\n",
    "\n",
    "class ConcreteHandlerB(Handler):\n",
    "    def handle_request(self, request):\n",
    "        if request == \"B\":\n",
    "            return \"Handled by Handler B\"\n",
    "        return super().handle_request(request)\n",
    "\n",
    "\n",
    "# Setting up the chain\n",
    "handler_chain = ConcreteHandlerA(ConcreteHandlerB())\n",
    "\n",
    "# Testing the chain\n",
    "print(handler_chain.handle_request(\"A\"))  # Output: Handled by Handler A\n",
    "print(handler_chain.handle_request(\"B\"))  # Output: Handled by Handler B\n",
    "print(handler_chain.handle_request(\"C\"))  # Output: None"
   ]
  },
  {
   "cell_type": "markdown",
   "metadata": {},
   "source": [
    "In this simple example:\n",
    "\n",
    "1. We define a base `Handler` class with a successor reference and a `handle_request` method\n",
    "2. Concrete handlers check if they can process the request; if not, they pass it to the next handler\n",
    "3. The client creates a chain by linking handlers and sends requests to the first handler"
   ]
  },
  {
   "cell_type": "markdown",
   "metadata": {},
   "source": [
    "## Real-World Example: Support Ticket System\n",
    "\n",
    "Let's implement a support ticket system where tickets are handled by different support levels based on priority:"
   ]
  },
  {
   "cell_type": "code",
   "execution_count": 23,
   "metadata": {},
   "outputs": [],
   "source": [
    "class SupportTicket:\n",
    "    def __init__(self, id, customer, issue, priority):\n",
    "        self.id = id\n",
    "        self.customer = customer\n",
    "        self.issue = issue\n",
    "        self.priority = priority  # 1 (low) to 3 (high)\n",
    "\n",
    "    def __str__(self):\n",
    "        return f\"Ticket #{self.id}: {self.issue} ({self.customer}) - Priority: {self.priority}\""
   ]
  },
  {
   "cell_type": "code",
   "execution_count": 24,
   "metadata": {},
   "outputs": [],
   "source": [
    "class SupportHandler:\n",
    "    def __init__(self, name, successor=None):\n",
    "        self.name = name\n",
    "        self.successor = successor\n",
    "\n",
    "    def handle_ticket(self, ticket):\n",
    "        if self.successor:\n",
    "            return self.successor.handle_ticket(ticket)\n",
    "        return f\"Ticket #{ticket.id} could not be handled by any support level\"\n",
    "\n",
    "\n",
    "class FirstLevelSupport(SupportHandler):\n",
    "    def handle_ticket(self, ticket):\n",
    "        if ticket.priority == 1:\n",
    "            return f\"{self.name} handled ticket #{ticket.id}: {ticket.issue}\"\n",
    "        print(f\"{self.name}: Escalating ticket #{ticket.id} (priority {ticket.priority})\")\n",
    "        return super().handle_ticket(ticket)\n",
    "\n",
    "\n",
    "class SecondLevelSupport(SupportHandler):\n",
    "    def handle_ticket(self, ticket):\n",
    "        if ticket.priority <= 2:\n",
    "            return f\"{self.name} handled ticket #{ticket.id}: {ticket.issue}\"\n",
    "        print(f\"{self.name}: Escalating ticket #{ticket.id} (priority {ticket.priority})\")\n",
    "        return super().handle_ticket(ticket)\n",
    "\n",
    "\n",
    "class ProductSpecialist(SupportHandler):\n",
    "    def handle_ticket(self, ticket):\n",
    "        return f\"{self.name} handled ticket #{ticket.id}: {ticket.issue}\""
   ]
  },
  {
   "cell_type": "code",
   "execution_count": 25,
   "metadata": {},
   "outputs": [
    {
     "name": "stdout",
     "output_type": "stream",
     "text": [
      "\n",
      "Processing: Ticket #1: Password reset (John Doe) - Priority: 1\n",
      "Result: Help Desk handled ticket #1: Password reset\n",
      "\n",
      "Processing: Ticket #2: Software installation issue (Jane Smith) - Priority: 2\n",
      "Help Desk: Escalating ticket #2 (priority 2)\n",
      "Result: Technical Support handled ticket #2: Software installation issue\n",
      "\n",
      "Processing: Ticket #3: Server down (Bob Johnson) - Priority: 3\n",
      "Help Desk: Escalating ticket #3 (priority 3)\n",
      "Technical Support: Escalating ticket #3 (priority 3)\n",
      "Result: Product Specialist handled ticket #3: Server down\n"
     ]
    }
   ],
   "source": [
    "# Create the support chain\n",
    "support_chain = FirstLevelSupport(\n",
    "    \"Help Desk\", SecondLevelSupport(\"Technical Support\", ProductSpecialist(\"Product Specialist\"))\n",
    ")\n",
    "\n",
    "# Create some support tickets\n",
    "tickets = [\n",
    "    SupportTicket(1, \"John Doe\", \"Password reset\", 1),\n",
    "    SupportTicket(2, \"Jane Smith\", \"Software installation issue\", 2),\n",
    "    SupportTicket(3, \"Bob Johnson\", \"Server down\", 3),\n",
    "]\n",
    "\n",
    "# Process tickets through the support chain\n",
    "for ticket in tickets:\n",
    "    print(f\"\\nProcessing: {ticket}\")\n",
    "    result = support_chain.handle_ticket(ticket)\n",
    "    print(f\"Result: {result}\")"
   ]
  },
  {
   "cell_type": "markdown",
   "metadata": {},
   "source": [
    "## Benefits of the Chain of Responsibility Pattern\n",
    "\n",
    "* **Decoupling**: Separates the sender of a request from its receivers\n",
    "* **Flexibility**: Makes it easy to add new handlers or change the order of handlers\n",
    "* **Single Responsibility**: Each handler focuses only on its specific responsibility\n",
    "* **Dynamic Construction**: Chains can be built dynamically at runtime based on specific needs\n",
    "* **Reduced Conditional Complexity**: Eliminates complex conditional statements by distributing decisions across handlers"
   ]
  },
  {
   "cell_type": "markdown",
   "metadata": {},
   "source": [
    "## When to Use\n",
    "\n",
    "* When multiple objects may handle a request, but the handler isn't known in advance\n",
    "* When you want to issue a request to one of several objects without specifying the receiver explicitly\n",
    "* When the set of objects that can handle a request should be specified dynamically"
   ]
  }
 ],
 "metadata": {
  "kernelspec": {
   "display_name": ".venv",
   "language": "python",
   "name": "python3"
  },
  "language_info": {
   "codemirror_mode": {
    "name": "ipython",
    "version": 3
   },
   "file_extension": ".py",
   "mimetype": "text/x-python",
   "name": "python",
   "nbconvert_exporter": "python",
   "pygments_lexer": "ipython3",
   "version": "3.13.0"
  }
 },
 "nbformat": 4,
 "nbformat_minor": 2
}
