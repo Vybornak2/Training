{
 "cells": [
  {
   "cell_type": "markdown",
   "metadata": {},
   "source": [
    "## Object Pool\n",
    "\n",
    "- __Type:__ Creational\n",
    "- __Popularity: ★★☆☆☆__\n",
    "- __Complexity: ★★★☆☆__\n",
    "\n",
    "### Intent:\n",
    "__Object Pool__ is a creational design pattern that manages a pool of reusable objects to improve performance and resource utilization. It allows clients to \"borrow\" objects from the pool, use them, and return them to the pool instead of creating and destroying objects repeatedly.\n",
    "\n",
    "### Problem:\n",
    "Creating and destroying objects, especially those that are expensive to initialize (like database connections, thread objects, or network connections), can be resource-intensive and harm performance. When these objects are needed frequently but for short periods, the overhead of initialization and destruction becomes significant.\n",
    "\n",
    "Additionally, there may be scenarios where we need to limit the number of objects that can exist at any given time to manage resources effectively.\n",
    "\n",
    "### Solution:\n",
    "The Object Pool pattern maintains a set of initialized objects ready for use, rather than allocating and destroying them on demand. When a client needs an object, it requests one from the pool. If a free object is available, it is returned. When the client is done with the object, it returns it to the pool rather than destroying it.\n",
    "\n",
    "The pattern typically involves a pool manager class that maintains two collections of objects: available and in-use. The manager handles the logic for acquiring, releasing, and potentially creating new objects when needed. The reusable objects themselves usually implement a reset method to clear their state before being reused."
   ]
  },
  {
   "cell_type": "markdown",
   "metadata": {},
   "source": [
    "### Diagram:\n",
    "\n",
    "```mermaid\n",
    "classDiagram\n",
    "    class ObjectPool {\n",
    "        -availableObjects\n",
    "        -inUseObjects\n",
    "        +acquireObject()\n",
    "        +releaseObject(object)\n",
    "    }\n",
    "    class ReusableObject {\n",
    "        +reset()\n",
    "        +operation()\n",
    "    }\n",
    "    class Client {\n",
    "        +useObject()\n",
    "    }\n",
    "    ObjectPool o-- ReusableObject : manages\n",
    "    Client --> ObjectPool : requests/returns\n",
    "    Client --> ReusableObject : uses\n",
    "```"
   ]
  },
  {
   "cell_type": "markdown",
   "metadata": {},
   "source": [
    "### Example code:"
   ]
  },
  {
   "cell_type": "code",
   "execution_count": null,
   "metadata": {},
   "outputs": [],
   "source": [
    "# A car rental example of the Object Pool pattern\n",
    "\n",
    "\n",
    "class Car:\n",
    "    def __init__(self, id: int) -> None:\n",
    "        self.id = id\n",
    "\n",
    "    def reset(self) -> None:\n",
    "        # Reset the object's state before returning to pool\n",
    "        print(f\"Resetting car {self.id}\")\n",
    "\n",
    "    def __str__(self) -> str:\n",
    "        return f\"Car(id={self.id})\"\n",
    "\n",
    "\n",
    "class Garage:\n",
    "    def __init__(self, size: int) -> None:\n",
    "        # Initialize the pool with a fixed number of objects\n",
    "        self._available = [Car(i) for i in range(size)]\n",
    "        self._in_use = []\n",
    "\n",
    "    def acquire(self) -> Car:\n",
    "        # Acquire an available object from the pool\n",
    "        if not self._available:\n",
    "            raise Exception(\"No cars available\")\n",
    "        car = self._available.pop()\n",
    "        self._in_use.append(car)\n",
    "        return car\n",
    "\n",
    "    def release(self, car: Car) -> None:\n",
    "        # Return an object to the pool\n",
    "        car.reset()  # Reset the object before reuse\n",
    "        self._in_use.remove(car)\n",
    "        self._available.append(car)\n",
    "\n",
    "    def __str__(self) -> str:\n",
    "        return f\"Garage(available={len(self._available)}, in_use={len(self._in_use)})\""
   ]
  },
  {
   "cell_type": "code",
   "execution_count": null,
   "metadata": {},
   "outputs": [
    {
     "name": "stdout",
     "output_type": "stream",
     "text": [
      "Garage(available=2, in_use=0)\n",
      "Acquired: Car(id=1)\n",
      "Garage(available=1, in_use=1)\n",
      "Acquired: Car(id=0)\n",
      "Garage(available=0, in_use=2)\n",
      "Resetting car 1\n",
      "Released: Car(id=1)\n",
      "Garage(available=1, in_use=1)\n",
      "Acquired: Car(id=1)\n",
      "Garage(available=0, in_use=2)\n"
     ]
    }
   ],
   "source": [
    "# Usage example\n",
    "if __name__ == \"__main__\":\n",
    "    # Create a pool with 2 cars\n",
    "    garage = Garage(2)\n",
    "    print(garage)\n",
    "\n",
    "    # Acquire first car\n",
    "    car1 = garage.acquire()\n",
    "    print(f\"Acquired: {car1}\")\n",
    "    print(garage)\n",
    "\n",
    "    # Acquire second car\n",
    "    car2 = garage.acquire()\n",
    "    print(f\"Acquired: {car2}\")\n",
    "    print(garage)\n",
    "\n",
    "    # Return first car to the pool\n",
    "    garage.release(car1)\n",
    "    print(f\"Released: {car1}\")\n",
    "    print(garage)\n",
    "\n",
    "    # Acquire another car (will get the one we just released)\n",
    "    car3 = garage.acquire()\n",
    "    print(f\"Acquired: {car3}\")\n",
    "    print(garage)"
   ]
  },
  {
   "cell_type": "markdown",
   "metadata": {},
   "source": [
    "### Real-world analogies:\n",
    "\n",
    "1. Library system:\n",
    "   A library maintains a collection of books that can be borrowed by readers. Instead of buying a new book every time you want to read something, you borrow a book from the library, read it, and return it so others can use it too. The library is the object pool, and the books are the reusable objects.\n",
    "\n",
    "2. Car rental service:\n",
    "   A car rental company maintains a fleet of cars that customers can rent. When a customer needs a car, they rent one from the available pool. When they're done, they return the car to the rental company, which resets it (cleans, refuels) before making it available to the next customer. The rental company is the object pool, and the cars are the reusable objects."
   ]
  },
  {
   "cell_type": "markdown",
   "metadata": {},
   "source": [
    "### When to use:\n",
    "\n",
    "- When objects are expensive to create (in terms of time or resources)\n",
    "- When you need many instances of an object for short durations\n",
    "- When you need to limit the number of instances that can exist simultaneously\n",
    "- For managing shared resources like database connections, thread pools, or network connections\n",
    "- When the rate of object creation and destruction is high"
   ]
  },
  {
   "cell_type": "markdown",
   "metadata": {},
   "source": [
    "### Python-specific implementation notes:\n",
    "\n",
    "- Python's garbage collection handles memory management automatically, but Object Pool is still valuable for expensive-to-create resources\n",
    "- The `contextlib.contextmanager` decorator can be used to create a context manager for automatically returning objects to the pool\n",
    "- Python's `queue.Queue` class can be used as a thread-safe implementation of the object pool\n",
    "- Libraries like `dbutils.pooled_db` for database connection pooling and `multiprocessing.Pool` for process pooling implement this pattern\n",
    "- The `__del__` method can be used to automatically return objects to the pool when they go out of scope"
   ]
  },
  {
   "cell_type": "markdown",
   "metadata": {},
   "source": [
    "### Related patterns:\n",
    "\n",
    "- Singleton: Often the Object Pool itself is implemented as a Singleton\n",
    "- Factory Method: Can be used to create objects for the pool\n",
    "- Flyweight: Shares similar goals of reusing objects, but Flyweight focuses on sharing to reduce memory usage while Object Pool focuses on reuse to improve performance\n",
    "- Prototype: Can be used with Object Pool to create new objects for the pool by cloning a prototype"
   ]
  }
 ],
 "metadata": {
  "kernelspec": {
   "display_name": ".venv",
   "language": "python",
   "name": "python3"
  },
  "language_info": {
   "codemirror_mode": {
    "name": "ipython",
    "version": 3
   },
   "file_extension": ".py",
   "mimetype": "text/x-python",
   "name": "python",
   "nbconvert_exporter": "python",
   "pygments_lexer": "ipython3",
   "version": "3.13.0"
  }
 },
 "nbformat": 4,
 "nbformat_minor": 2
}
