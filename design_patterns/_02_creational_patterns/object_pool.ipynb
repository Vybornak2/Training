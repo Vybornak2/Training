{
 "cells": [
  {
   "cell_type": "markdown",
   "metadata": {},
   "source": [
    "# Object Pool Pattern\n",
    "\n",
    "Defines a pool of reusable objects to manage resource allocation and improve performance.\n",
    "\n",
    "## Motivation\n",
    "- Useful when the cost of creating a new object is high.\n",
    "- Helps manage a large number of objects that are expensive to create and destroy.\n",
    "\n",
    "## Benefits\n",
    "- Reduces the overhead of object creation and destruction.\n",
    "- Improves performance by reusing existing objects."
   ]
  },
  {
   "cell_type": "markdown",
   "metadata": {},
   "source": [
    "## Example\n",
    "Let's see how the Object Pool Pattern works in practice with a garage and cars."
   ]
  },
  {
   "cell_type": "code",
   "execution_count": 1,
   "metadata": {},
   "outputs": [],
   "source": [
    "class Car:\n",
    "    def __init__(self, id: int) -> None:\n",
    "        self.id = id\n",
    "\n",
    "    def reset(self) -> None:\n",
    "        print(f\"Resetting car {self.id}\")\n",
    "\n",
    "    def __str__(self) -> str:\n",
    "        return f\"Car(id={self.id})\"\n",
    "\n",
    "\n",
    "class Garage:\n",
    "    def __init__(self, size: int) -> None:\n",
    "        self._available = [Car(i) for i in range(size)]\n",
    "        self._in_use = []\n",
    "\n",
    "    def acquire(self) -> Car:\n",
    "        if not self._available:\n",
    "            raise Exception(\"No cars available\")\n",
    "        car = self._available.pop()\n",
    "        self._in_use.append(car)\n",
    "        return car\n",
    "\n",
    "    def release(self, car: Car) -> None:\n",
    "        car.reset()\n",
    "        self._in_use.remove(car)\n",
    "        self._available.append(car)\n",
    "\n",
    "    def __str__(self) -> str:\n",
    "        return f\"Garage(available={len(self._available)}, in_use={len(self._in_use)})\""
   ]
  },
  {
   "cell_type": "code",
   "execution_count": 2,
   "metadata": {},
   "outputs": [
    {
     "name": "stdout",
     "output_type": "stream",
     "text": [
      "Garage(available=2, in_use=0)\n",
      "Acquired: Car(id=1)\n",
      "Garage(available=1, in_use=1)\n",
      "Acquired: Car(id=0)\n",
      "Garage(available=0, in_use=2)\n",
      "Resetting car 1\n",
      "Released: Car(id=1)\n",
      "Garage(available=1, in_use=1)\n",
      "Acquired: Car(id=1)\n",
      "Garage(available=0, in_use=2)\n"
     ]
    }
   ],
   "source": [
    "if __name__ == \"__main__\":\n",
    "    garage = Garage(2)\n",
    "    print(garage)\n",
    "\n",
    "    car1 = garage.acquire()\n",
    "    print(f\"Acquired: {car1}\")\n",
    "    print(garage)\n",
    "\n",
    "    car2 = garage.acquire()\n",
    "    print(f\"Acquired: {car2}\")\n",
    "    print(garage)\n",
    "\n",
    "    garage.release(car1)\n",
    "    print(f\"Released: {car1}\")\n",
    "    print(garage)\n",
    "\n",
    "    car3 = garage.acquire()\n",
    "    print(f\"Acquired: {car3}\")\n",
    "    print(garage)"
   ]
  }
 ],
 "metadata": {
  "kernelspec": {
   "display_name": ".venv",
   "language": "python",
   "name": "python3"
  },
  "language_info": {
   "codemirror_mode": {
    "name": "ipython",
    "version": 3
   },
   "file_extension": ".py",
   "mimetype": "text/x-python",
   "name": "python",
   "nbconvert_exporter": "python",
   "pygments_lexer": "ipython3",
   "version": "3.13.0"
  }
 },
 "nbformat": 4,
 "nbformat_minor": 2
}
