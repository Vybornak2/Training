{
 "cells": [
  {
   "cell_type": "markdown",
   "metadata": {},
   "source": [
    "# Object Pool Pattern\n",
    "\n",
    "The Object Pool Pattern is used to manage a pool of reusable objects. This pattern is useful when the cost of creating a new object is high, and you want to reuse existing objects instead of creating new ones."
   ]
  },
  {
   "cell_type": "markdown",
   "metadata": {},
   "source": [
    "## Problem\n",
    "Creating and destroying objects frequently can be costly in terms of performance. The Object Pool Pattern helps by reusing existing objects, thus reducing the overhead of object creation and destruction.\n"
   ]
  },
  {
   "cell_type": "markdown",
   "metadata": {},
   "source": [
    "## Implementation\n",
    "In Python, the Object Pool Pattern can be implemented using a pool class that manages the creation and reuse of objects."
   ]
  },
  {
   "cell_type": "code",
   "execution_count": null,
   "metadata": {},
   "outputs": [],
   "source": [
    "class Reusable:\n",
    "    def __init__(self, id: int) -> None:\n",
    "        self.id = id\n",
    "\n",
    "    def reset(self) -> None:\n",
    "        print(f\"Resetting object {self.id}\")\n",
    "\n",
    "    def __str__(self) -> str:\n",
    "        return f\"Reusable(id={self.id})\"\n",
    "\n",
    "\n",
    "class ObjectPool:\n",
    "    def __init__(self, size: int) -> None:\n",
    "        self._available = [Reusable(i) for i in range(size)]\n",
    "        self._in_use = []\n",
    "\n",
    "    def acquire(self) -> Reusable:\n",
    "        if not self._available:\n",
    "            raise Exception(\"No objects available\")\n",
    "        obj = self._available.pop()\n",
    "        self._in_use.append(obj)\n",
    "        return obj\n",
    "\n",
    "    def release(self, obj: Reusable) -> None:\n",
    "        obj.reset()\n",
    "        self._in_use.remove(obj)\n",
    "        self._available.append(obj)\n",
    "\n",
    "    def __str__(self) -> str:\n",
    "        return f\"ObjectPool(available={len(self._available)}, in_use={len(self._in_use)})\""
   ]
  },
  {
   "cell_type": "markdown",
   "metadata": {},
   "source": [
    "## Usage\n",
    "Let's see how the Object Pool Pattern works in practice."
   ]
  },
  {
   "cell_type": "code",
   "execution_count": null,
   "metadata": {},
   "outputs": [],
   "source": [
    "if __name__ == \"__main__\":\n",
    "    pool = ObjectPool(2)\n",
    "    print(pool)\n",
    "\n",
    "    obj1 = pool.acquire()\n",
    "    print(f\"Acquired: {obj1}\")\n",
    "    print(pool)\n",
    "\n",
    "    obj2 = pool.acquire()\n",
    "    print(f\"Acquired: {obj2}\")\n",
    "    print(pool)\n",
    "\n",
    "    pool.release(obj1)\n",
    "    print(f\"Released: {obj1}\")\n",
    "    print(pool)\n",
    "\n",
    "    obj3 = pool.acquire()\n",
    "    print(f\"Acquired: {obj3}\")\n",
    "    print(pool)"
   ]
  }
 ],
 "metadata": {
  "language_info": {
   "name": "python"
  }
 },
 "nbformat": 4,
 "nbformat_minor": 2
}
