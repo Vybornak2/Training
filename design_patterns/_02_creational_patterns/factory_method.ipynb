{
 "cells": [
  {
   "cell_type": "markdown",
   "metadata": {},
   "source": [
    "## Factory Method Pattern\n",
    "\n",
    "- __Type:__ Creational\n",
    "- __Popularity: ★★★★☆__\n",
    "- __Complexity: ★★☆☆☆__\n",
    "\n",
    "### Intent:\n",
    "__Factory Method__ is a creational design pattern that provides an interface for creating objects in a superclass, but allows subclasses to alter the type of objects that will be created.\n",
    "\n",
    "### Problem:\n",
    "Imagine you're building an application that needs to work with different types of database connections. Initially, you might directly create specific database connection objects in your code. However, this approach ties your code to specific database implementations, making it difficult to switch databases or add new ones without modifying existing code.\n",
    "\n",
    "### Solution:\n",
    "The Factory Method pattern suggests that you replace direct object construction calls with calls to a special factory method. Objects returned from a factory method are often referred to as \"products\".\n",
    "\n",
    "The pattern extracts the object creation code into a separate method (factory method) defined in an interface. Subclasses can override this method to change the type of products created."
   ]
  },
  {
   "cell_type": "markdown",
   "metadata": {},
   "source": [
    "```mermaid\n",
    "classDiagram\n",
    "    class ConnectionFactory {\n",
    "        <<abstract>>\n",
    "        +create_connection()*\n",
    "    }\n",
    "    class MySQLConnectionFactory {\n",
    "        +create_connection()\n",
    "    }\n",
    "    class PostgreSQLConnectionFactory {\n",
    "        +create_connection()\n",
    "    }\n",
    "    class Connection {\n",
    "        <<abstract>>\n",
    "        +connect()*\n",
    "    }\n",
    "    class MySQLConnection {\n",
    "        +connect()\n",
    "    }\n",
    "    class PostgreSQLConnection {\n",
    "        +connect()\n",
    "    }\n",
    "    \n",
    "    ConnectionFactory <|-- MySQLConnectionFactory\n",
    "    ConnectionFactory <|-- PostgreSQLConnectionFactory\n",
    "    Connection <|-- MySQLConnection\n",
    "    Connection <|-- PostgreSQLConnection\n",
    "    MySQLConnectionFactory ..> MySQLConnection : creates\n",
    "    PostgreSQLConnectionFactory ..> PostgreSQLConnection : creates\n",
    "```"
   ]
  },
  {
   "cell_type": "markdown",
   "metadata": {},
   "source": [
    "### Example code:\n",
    "Below is a complete implementation of the Factory Method pattern for database connections:"
   ]
  },
  {
   "cell_type": "code",
   "execution_count": 15,
   "metadata": {},
   "outputs": [
    {
     "name": "stdout",
     "output_type": "stream",
     "text": [
      "MySQL Database connected\n",
      "PostgreSQL Database connected\n"
     ]
    }
   ],
   "source": [
    "# Complete Factory Method Pattern Example\n",
    "\n",
    "from abc import ABC, abstractmethod\n",
    "\n",
    "\n",
    "# Abstract Product\n",
    "class Connection(ABC):\n",
    "    @abstractmethod\n",
    "    def connect(self):\n",
    "        pass\n",
    "\n",
    "\n",
    "# Concrete Products\n",
    "class MySQLConnection(Connection):\n",
    "    def connect(self):\n",
    "        return \"MySQL Database connected\"\n",
    "\n",
    "\n",
    "class PostgreSQLConnection(Connection):\n",
    "    def connect(self):\n",
    "        return \"PostgreSQL Database connected\"\n",
    "\n",
    "\n",
    "# Abstract Creator\n",
    "class ConnectionFactory(ABC):\n",
    "    @abstractmethod\n",
    "    def create_connection(self) -> Connection:\n",
    "        pass\n",
    "\n",
    "\n",
    "# Concrete Creators\n",
    "class MySQLConnectionFactory(ConnectionFactory):\n",
    "    def create_connection(self) -> Connection:\n",
    "        return MySQLConnection()\n",
    "\n",
    "\n",
    "class PostgreSQLConnectionFactory(ConnectionFactory):\n",
    "    def create_connection(self) -> Connection:\n",
    "        return PostgreSQLConnection()\n",
    "\n",
    "\n",
    "# Client code\n",
    "if __name__ == \"__main__\":\n",
    "    # The client code can work with any concrete factory class\n",
    "    mysql_factory = MySQLConnectionFactory()\n",
    "    postgresql_factory = PostgreSQLConnectionFactory()\n",
    "\n",
    "    # Get product from factory\n",
    "    mysql_connection = mysql_factory.create_connection()\n",
    "    postgresql_connection = postgresql_factory.create_connection()\n",
    "\n",
    "    # Use the product\n",
    "    print(mysql_connection.connect())\n",
    "    print(postgresql_connection.connect())"
   ]
  },
  {
   "cell_type": "markdown",
   "metadata": {},
   "source": [
    "### Alternative Implementation: Factory Method with Dependency Injection\n",
    "In Python, we can implement factory method using dependency injection for more flexibility:"
   ]
  },
  {
   "cell_type": "code",
   "execution_count": 16,
   "metadata": {},
   "outputs": [
    {
     "name": "stdout",
     "output_type": "stream",
     "text": [
      "MySQL Database connected\n",
      "PostgreSQL Database connected\n"
     ]
    }
   ],
   "source": [
    "# Factory Method with Dependency Injection\n",
    "\n",
    "from abc import ABC, abstractmethod\n",
    "from typing import Callable, Type\n",
    "\n",
    "\n",
    "# Abstract Product\n",
    "class Connection(ABC):\n",
    "    @abstractmethod\n",
    "    def connect(self):\n",
    "        pass\n",
    "\n",
    "\n",
    "# Concrete Products\n",
    "class MySQLConnection(Connection):\n",
    "    def connect(self):\n",
    "        return \"MySQL Database connected\"\n",
    "\n",
    "\n",
    "class PostgreSQLConnection(Connection):\n",
    "    def connect(self):\n",
    "        return \"PostgreSQL Database connected\"\n",
    "\n",
    "\n",
    "# Factory with Dependency Injection\n",
    "class ConnectionFactory:\n",
    "    def __init__(self, connection_class: Type[Connection]):\n",
    "        self._connection_class = connection_class\n",
    "\n",
    "    def get_connection(self) -> Connection:\n",
    "        return self._connection_class()\n",
    "\n",
    "\n",
    "# Client code\n",
    "if __name__ == \"__main__\":\n",
    "    mysql_factory = ConnectionFactory(MySQLConnection)\n",
    "    postgresql_factory = ConnectionFactory(PostgreSQLConnection)\n",
    "\n",
    "    print(mysql_factory.get_connection().connect())\n",
    "    print(postgresql_factory.get_connection().connect())"
   ]
  },
  {
   "cell_type": "markdown",
   "metadata": {},
   "source": [
    "### Real-world analogies:\n",
    "\n",
    "1. Construction Company:\n",
    "        A construction company can be seen as a factory that creates buildings. Different departments (subclasses) within the company might specialize in different types of buildings - residential homes, office buildings, or industrial facilities. The company follows a common blueprint process (interface), but each department implements the process differently to create specific types of buildings.\n",
    "\n",
    "2. Restaurant Kitchen:\n",
    "        A restaurant kitchen prepares different types of dishes through a standard process (order receipt, preparation, cooking, plating). Different chef stations (subclasses) handle different categories of food items (pasta, grills, salads) but follow the same overall process interface."
   ]
  },
  {
   "cell_type": "markdown",
   "metadata": {},
   "source": [
    "### When to use:\n",
    "- When you don't know beforehand the exact types and dependencies of the objects your code will work with\n",
    "- When you want to provide users of your library or framework with a way to extend its internal components\n",
    "- When you want to save system resources by reusing existing objects instead of rebuilding them each time\n",
    "- When your code needs to work with various product families, but you don't want it to depend on the concrete classes of those products"
   ]
  },
  {
   "cell_type": "markdown",
   "metadata": {},
   "source": [
    "### Python-specific implementation notes:\n",
    "- Python's dynamic typing means we can sometimes implement factory methods more flexibly than in strictly typed languages\n",
    "- Python's first-class functions allow for functional-style factory implementations\n",
    "- The `abc` module provides the `ABC` class and `abstractmethod` decorator for creating abstract base classes\n",
    "- Type hints in Python 3.5+ help clarify factory method return types without enforcing them at runtime\n",
    "- Python's built-in `__new__` method can sometimes be used as an alternative to factory methods\n",
    "- Standard library contains factory examples like `pathlib.Path()` which returns different path objects based on platform"
   ]
  },
  {
   "cell_type": "markdown",
   "metadata": {},
   "source": [
    "### Related patterns:\n",
    "- Abstract Factory: Factory Method is often used in Abstract Factory implementation\n",
    "- Template Method: Factory Method is a specialization of Template Method\n",
    "- Prototype: Factory Methods can use Prototype pattern when the hierarchy of products is complex\n",
    "- Singleton: Factory Methods can return a singleton instance instead of creating new objects each time"
   ]
  }
 ],
 "metadata": {
  "kernelspec": {
   "display_name": ".venv",
   "language": "python",
   "name": "python3"
  },
  "language_info": {
   "codemirror_mode": {
    "name": "ipython",
    "version": 3
   },
   "file_extension": ".py",
   "mimetype": "text/x-python",
   "name": "python",
   "nbconvert_exporter": "python",
   "pygments_lexer": "ipython3",
   "version": "3.13.0"
  }
 },
 "nbformat": 4,
 "nbformat_minor": 2
}
