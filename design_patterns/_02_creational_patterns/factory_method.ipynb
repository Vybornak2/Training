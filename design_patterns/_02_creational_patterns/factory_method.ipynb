{
 "cells": [
  {
   "cell_type": "markdown",
   "metadata": {},
   "source": [
    "# Factory Method Pattern\n",
    "\n",
    "Defines an interface for creating an object, but lets subclasses alter the type of objects that will be created.\n",
    "\n",
    "## Motivation\n",
    "- Useful when a class cannot anticipate the class of objects it must create.\n",
    "- Delegates instantiation logic to subclasses.\n",
    "\n",
    "## Benefits\n",
    "- Promotes loose coupling.\n",
    "- Enhances code maintainability and scalability.\n",
    "- Allows for more flexible and reusable code.\n",
    "\n",
    "## Alternatives in Python\n",
    "- Using `functools.partial` to create factory functions.\n",
    "- Using [Dependency Injection](#dependency-injection-example)\n",
    "- Using configuration files to specify the classes to be instantiated."
   ]
  },
  {
   "cell_type": "markdown",
   "metadata": {},
   "source": [
    "## Example\n",
    "A `DatabaseConnectionFactory` class defines a factory method `create_connection` for creating database connections.\n",
    "Concrete factory classes like `MySQLConnectionFactory` and `PostgreSQLConnectionFactory` implement this method to create specific database connections.\n",
    "\n",
    "### Project Structure\n",
    "```plaintext\n",
    "project/\n",
    "│\n",
    "├── database/\n",
    "│   ├── __init__.py\n",
    "│   ├── connection.py\n",
    "│   ├── mysql_connection.py\n",
    "│   ├── postgresql_connection.py\n",
    "│   └── connection_factory.py\n",
    "│\n",
    "└── main.py"
   ]
  },
  {
   "cell_type": "code",
   "execution_count": 25,
   "metadata": {},
   "outputs": [],
   "source": [
    "# connection.py\n",
    "from abc import ABC, abstractmethod\n",
    "\n",
    "\n",
    "class Connection(ABC):\n",
    "    @abstractmethod\n",
    "    def connect(self):\n",
    "        pass"
   ]
  },
  {
   "cell_type": "code",
   "execution_count": 26,
   "metadata": {},
   "outputs": [],
   "source": [
    "# mysql_connection.py\n",
    "# from .connection import Connection\n",
    "\n",
    "\n",
    "class MySQLConnection(Connection):\n",
    "    def connect(self):\n",
    "        return \"MySQL Database connected\"\n"
   ]
  },
  {
   "cell_type": "code",
   "execution_count": 27,
   "metadata": {},
   "outputs": [],
   "source": [
    "# postgresql_connection.py\n",
    "# from .connection import Connection\n",
    "\n",
    "\n",
    "class PostgreSQLConnection(Connection):\n",
    "    def connect(self):\n",
    "        return \"PostgreSQL Database connected\""
   ]
  },
  {
   "cell_type": "code",
   "execution_count": 28,
   "metadata": {},
   "outputs": [],
   "source": [
    "# connection_factory.py\n",
    "# from .connection import Connection\n",
    "from abc import ABC, abstractmethod\n",
    "\n",
    "\n",
    "class ConnectionFactory(ABC):\n",
    "    @abstractmethod\n",
    "    def create_connection(self) -> Connection:\n",
    "        pass\n",
    "\n",
    "\n",
    "class MySQLConnectionFactory(ConnectionFactory):\n",
    "    def create_connection(self) -> Connection:\n",
    "        return MySQLConnection()\n",
    "\n",
    "\n",
    "class PostgreSQLConnectionFactory(ConnectionFactory):\n",
    "    def create_connection(self) -> Connection:\n",
    "        return PostgreSQLConnection()"
   ]
  },
  {
   "cell_type": "code",
   "execution_count": 29,
   "metadata": {},
   "outputs": [
    {
     "name": "stdout",
     "output_type": "stream",
     "text": [
      "MySQL Database connected\n",
      "PostgreSQL Database connected\n"
     ]
    }
   ],
   "source": [
    "# main.py\n",
    "# from .mysql_connection import MySQLConnectionFactory\n",
    "# from .postgresql_connection import PostgreSQLConnectionFactory\n",
    "\n",
    "if __name__ == \"__main__\":\n",
    "    mysql_factory = MySQLConnectionFactory()\n",
    "    postgresql_factory = PostgreSQLConnectionFactory()\n",
    "\n",
    "    mysql_connection = mysql_factory.create_connection()\n",
    "    postgresql_connection = postgresql_factory.create_connection()\n",
    "\n",
    "    print(mysql_connection.connect())\n",
    "    print(postgresql_connection.connect())\n"
   ]
  },
  {
   "cell_type": "markdown",
   "metadata": {},
   "source": [
    "## Dependency Injection Example\n",
    "\n",
    "Use dependency injection to create instances of `Connection` implementations by passing a callable. This approach is more flexible and allows for easier testing and maintenance."
   ]
  },
  {
   "cell_type": "code",
   "execution_count": 30,
   "metadata": {},
   "outputs": [],
   "source": [
    "# connection.py\n",
    "from abc import ABC, abstractmethod\n",
    "\n",
    "\n",
    "class Connection(ABC):\n",
    "    @abstractmethod\n",
    "    def connect(self):\n",
    "        pass"
   ]
  },
  {
   "cell_type": "code",
   "execution_count": 31,
   "metadata": {},
   "outputs": [],
   "source": [
    "# mysql_connection.py\n",
    "# from .connection import Connection\n",
    "\n",
    "\n",
    "class MySQLConnection(Connection):\n",
    "    def connect(self):\n",
    "        return \"MySQL Database connected\"\n"
   ]
  },
  {
   "cell_type": "code",
   "execution_count": 32,
   "metadata": {},
   "outputs": [],
   "source": [
    "# postgresql_connection.py\n",
    "# from .connection import Connection\n",
    "\n",
    "\n",
    "class PostgreSQLConnection(Connection):\n",
    "    def connect(self):\n",
    "        return \"PostgreSQL Database connected\"\n"
   ]
  },
  {
   "cell_type": "code",
   "execution_count": 33,
   "metadata": {},
   "outputs": [],
   "source": [
    "# connection_factory.py\n",
    "# from typing import Callable\n",
    "# from .connection import Connection\n",
    "\n",
    "from typing import Callable\n",
    "\n",
    "\n",
    "class ConnectionFactory:\n",
    "    def __init__(self, connection_creator: Callable[[], Connection]):\n",
    "        self._connection_creator = connection_creator\n",
    "\n",
    "    def get_connection(self):\n",
    "        return self._connection_creator()\n"
   ]
  },
  {
   "cell_type": "code",
   "execution_count": 34,
   "metadata": {},
   "outputs": [
    {
     "name": "stdout",
     "output_type": "stream",
     "text": [
      "MySQL Database connected\n",
      "PostgreSQL Database connected\n"
     ]
    }
   ],
   "source": [
    "# main.py\n",
    "# from database.mysql_connection import MySQLConnection\n",
    "# from database.postgresql_connection import PostgreSQLConnection\n",
    "# from database.connection_factory import ConnectionFactory\n",
    "\n",
    "if __name__ == \"__main__\":\n",
    "    mysql_factory = ConnectionFactory(MySQLConnection)\n",
    "    postgresql_factory = ConnectionFactory(PostgreSQLConnection)\n",
    "\n",
    "    print(mysql_factory.get_connection().connect())\n",
    "    print(postgresql_factory.get_connection().connect())\n"
   ]
  }
 ],
 "metadata": {
  "kernelspec": {
   "display_name": ".venv",
   "language": "python",
   "name": "python3"
  },
  "language_info": {
   "codemirror_mode": {
    "name": "ipython",
    "version": 3
   },
   "file_extension": ".py",
   "mimetype": "text/x-python",
   "name": "python",
   "nbconvert_exporter": "python",
   "pygments_lexer": "ipython3",
   "version": "3.13.0"
  }
 },
 "nbformat": 4,
 "nbformat_minor": 2
}
