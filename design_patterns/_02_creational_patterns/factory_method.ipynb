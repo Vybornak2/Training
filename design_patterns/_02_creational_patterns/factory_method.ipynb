{
 "cells": [
  {
   "cell_type": "markdown",
   "metadata": {},
   "source": [
    "# Factory Method Pattern\n",
    "\n",
    "The Factory Method Pattern defines an interface for creating an object, but lets subclasses alter the type of objects that will be created. This pattern promotes loose coupling by eliminating the need to bind application-specific classes into the code.\n",
    "\n",
    "## Motivation\n",
    "When a class cannot anticipate the class of objects it must create, or when a class wants its subclasses to specify the objects it creates, the Factory Method Pattern is useful. It provides a way to delegate the instantiation logic to subclasses.\n",
    "\n",
    "## Benefits\n",
    "- Promotes loose coupling by reducing the dependency on specific classes.\n",
    "- Enhances code maintainability and scalability.\n",
    "- Allows for more flexible and reusable code."
   ]
  },
  {
   "cell_type": "markdown",
   "metadata": {},
   "source": [
    "## Simple Example"
   ]
  },
  {
   "cell_type": "code",
   "execution_count": 10,
   "metadata": {},
   "outputs": [
    {
     "name": "stdout",
     "output_type": "stream",
     "text": [
      "App: Launched with the ConcreteCreatorA.\n",
      "Client: I am not aware of the creator's class, but it still works.\n",
      "Creator: The same creator's code has just worked with Result of ConcreteProductA\n",
      "\n",
      "App: Launched with the ConcreteCreatorB.\n",
      "Client: I am not aware of the creator's class, but it still works.\n",
      "Creator: The same creator's code has just worked with Result of ConcreteProductB\n"
     ]
    }
   ],
   "source": [
    "from abc import ABC, abstractmethod\n",
    "\n",
    "\n",
    "class Product(ABC):\n",
    "    @abstractmethod\n",
    "    def operation(self):\n",
    "        pass\n",
    "\n",
    "\n",
    "class ConcreteProductA(Product):\n",
    "    def operation(self):\n",
    "        return \"Result of ConcreteProductA\"\n",
    "\n",
    "\n",
    "class ConcreteProductB(Product):\n",
    "    def operation(self):\n",
    "        return \"Result of ConcreteProductB\"\n",
    "\n",
    "\n",
    "class Creator(ABC):\n",
    "    @abstractmethod\n",
    "    def factory_method(self) -> Product:\n",
    "        pass\n",
    "\n",
    "    def some_operation(self):\n",
    "        product = self.factory_method()\n",
    "        return f\"Creator: The same creator's code has just worked with {product.operation()}\"\n",
    "\n",
    "\n",
    "class ConcreteCreatorA(Creator):\n",
    "    def factory_method(self):\n",
    "        return ConcreteProductA()\n",
    "\n",
    "\n",
    "class ConcreteCreatorB(Creator):\n",
    "    def factory_method(self):\n",
    "        return ConcreteProductB()\n",
    "\n",
    "\n",
    "def client_code(creator: Creator):\n",
    "    print(f\"Client: I am not aware of the creator's class, but it still works.\")\n",
    "    print(creator.some_operation())\n",
    "\n",
    "\n",
    "if __name__ == \"__main__\":\n",
    "    print(\"App: Launched with the ConcreteCreatorA.\")\n",
    "    client_code(ConcreteCreatorA())\n",
    "    print(\"\")\n",
    "    print(\"App: Launched with the ConcreteCreatorB.\")\n",
    "    client_code(ConcreteCreatorB())"
   ]
  },
  {
   "cell_type": "markdown",
   "metadata": {},
   "source": [
    "## Real-world Example\n",
    "\n",
    "In this example, we have a `Connection` interface with two concrete implementations: `MySQLConnection` and `PostgreSQLConnection`. The `ConnectionFactory` class is responsible for creating instances of these connections based on the provided database type."
   ]
  },
  {
   "cell_type": "markdown",
   "metadata": {},
   "source": [
    "### Project Structure\n",
    "```plaintext\n",
    "project/\n",
    "│\n",
    "├── database/\n",
    "│   ├── __init__.py\n",
    "│   ├── connection.py\n",
    "│   ├── mysql_connection.py\n",
    "│   ├── postgresql_connection.py\n",
    "│   └── connection_factory.py\n",
    "│\n",
    "└── main.py"
   ]
  },
  {
   "cell_type": "markdown",
   "metadata": {},
   "source": [
    "### Files"
   ]
  },
  {
   "cell_type": "markdown",
   "metadata": {},
   "source": [
    "#### connection.py\n",
    "\n",
    "```python\n",
    "class Connection:\n",
    "    def connect(self):\n",
    "        pass\n",
    "```"
   ]
  },
  {
   "cell_type": "markdown",
   "metadata": {},
   "source": [
    "#### mysql_connection.py\n",
    "\n",
    "```python\n",
    "from .connection import Connection\n",
    "\n",
    "class MySQLConnection(Connection):\n",
    "    def connect(self):\n",
    "        return \"MySQL Database connected\"\n",
    "```"
   ]
  },
  {
   "cell_type": "markdown",
   "metadata": {},
   "source": [
    "#### postgresql_connection.py\n",
    "\n",
    "```python\n",
    "from .connection import Connection\n",
    "\n",
    "class PostgreSQLConnection(Connection):\n",
    "    def connect(self):\n",
    "        return \"PostgreSQL Database connected\"\n",
    "```"
   ]
  },
  {
   "cell_type": "markdown",
   "metadata": {},
   "source": [
    "#### connection_factory.py\n",
    "\n",
    "```python\n",
    "from .mysql_connection import MySQLConnection\n",
    "from .postgresql_connection import PostgreSQLConnection\n",
    "\n",
    "class ConnectionFactory:\n",
    "    @staticmethod\n",
    "    def get_connection(db_type):\n",
    "        if db_type == \"mysql\":\n",
    "            return MySQLConnection()\n",
    "        elif db_type == \"postgresql\":\n",
    "            return PostgreSQLConnection()\n",
    "        else:\n",
    "            raise ValueError(\"Unknown database type\")\n",
    "```"
   ]
  },
  {
   "cell_type": "markdown",
   "metadata": {},
   "source": [
    "#### main.py\n",
    "\n",
    "```python\n",
    "from database.connection_factory import ConnectionFactory\n",
    "\n",
    "if __name__ == \"__main__\":\n",
    "    db_type = \"mysql\"\n",
    "    connection = ConnectionFactory.get_connection(db_type)\n",
    "    print(connection.connect())\n",
    "\n",
    "    db_type = \"postgresql\"\n",
    "    connection = ConnectionFactory.get_connection(db_type)\n",
    "    print(connection.connect())\n",
    "```"
   ]
  }
 ],
 "metadata": {
  "kernelspec": {
   "display_name": ".venv",
   "language": "python",
   "name": "python3"
  },
  "language_info": {
   "codemirror_mode": {
    "name": "ipython",
    "version": 3
   },
   "file_extension": ".py",
   "mimetype": "text/x-python",
   "name": "python",
   "nbconvert_exporter": "python",
   "pygments_lexer": "ipython3",
   "version": "3.13.0"
  }
 },
 "nbformat": 4,
 "nbformat_minor": 2
}
