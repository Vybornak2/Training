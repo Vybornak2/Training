{
 "cells": [
  {
   "cell_type": "markdown",
   "metadata": {},
   "source": [
    "# Creational Patterns Overview\n",
    "\n",
    "Creational design patterns provide object creation mechanisms that increase flexibility and reuse of existing code."
   ]
  },
  {
   "cell_type": "markdown",
   "metadata": {},
   "source": [
    "## Patterns\n",
    "\n",
    "- [Factory Method](./factory_method.ipynb): Creates objects without specifying the exact class to create\n",
    "- [Abstract Factory](./abstract_factory.ipynb): Creates families of related objects\n",
    "- [Builder](./builder.ipynb): Constructs complex objects step by step\n",
    "- [Prototype](./prototype.ipynb): Creates new objects by copying existing ones\n",
    "- [Singleton](./singleton.ipynb): Ensures a class has only one instance\n",
    "- [Object Pool](./object_pool.ipynb): Reuses objects that are expensive to create"
   ]
  }
 ],
 "metadata": {
  "language_info": {
   "name": "python"
  }
 },
 "nbformat": 4,
 "nbformat_minor": 2
}
