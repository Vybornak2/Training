{
 "cells": [
  {
   "cell_type": "markdown",
   "metadata": {},
   "source": [
    "# Creational Patterns Overview\n",
    "\n",
    "Creational design patterns provide various object creation mechanisms, which increase flexibility and reuse of existing code. Here is an overview of some common creational patterns."
   ]
  },
  {
   "cell_type": "markdown",
   "metadata": {},
   "source": [
    "## Table of Contents\n",
    "- [Factory Method](#Factory-Method)\n",
    "- [Singleton](#Singleton)\n",
    "- [Abstract Factory](#Abstract-Factory)\n",
    "- [Builder](#Builder)\n",
    "- [Prototype](#Prototype)\n",
    "- [Object Pool](#Object-Pool)"
   ]
  },
  {
   "cell_type": "markdown",
   "metadata": {},
   "source": [
    "## Factory Method\n",
    "The Factory Method Pattern defines an interface for creating an object, but lets subclasses alter the type of objects that will be created.\n",
    "- Promotes loose coupling by eliminating the need to bind application-specific classes into the code.\n",
    "- The client code interacts with the factory method instead of creating objects directly.\n",
    "- [Factory Method](./factory_method.ipynb)"
   ]
  },
  {
   "cell_type": "markdown",
   "metadata": {},
   "source": [
    "## Singleton\n",
    "The Singleton Pattern ensures that a class has only one instance and provides a global point of access to it.\n",
    "- Ensures a class has only one instance.\n",
    "- Provides a global point of access to the instance.\n",
    "- Useful for managing shared resources like database connections.\n",
    "- [Singleton](./singleton.ipynb)"
   ]
  },
  {
   "cell_type": "markdown",
   "metadata": {},
   "source": [
    "## Abstract Factory\n",
    "The Abstract Factory Pattern provides an interface for creating families of related or dependent objects without specifying their concrete classes.\n",
    "- Encapsulates a group of individual factories with a common goal.\n",
    "- Promotes consistency among products.\n",
    "- Useful when the system needs to be independent of how its objects are created.\n",
    "- [Abstract Factory](./abstract_factory.ipynb)"
   ]
  },
  {
   "cell_type": "markdown",
   "metadata": {},
   "source": [
    "## Builder\n",
    "The Builder Pattern is used to construct a complex object step by step. It separates the construction of a complex object from its representation so that the same construction process can create different representations.\n",
    "- Allows you to create different representations of a complex object.\n",
    "- Useful for creating objects with many optional parts or configurations.\n",
    "- Separates the construction and representation of an object.\n",
    "- [Builder](./builder.ipynb)"
   ]
  },
  {
   "cell_type": "markdown",
   "metadata": {},
   "source": [
    "## Prototype\n",
    "The Prototype Pattern is used to create new objects by copying an existing object, known as the prototype. This pattern is useful when the cost of creating a new object is expensive or complex.\n",
    "- Reduces the cost of creating objects.\n",
    "- Useful for creating objects that are similar to existing ones.\n",
    "- Allows for adding or removing objects at runtime.\n",
    "- [Prototype](./prototype.ipynb)"
   ]
  },
  {
   "cell_type": "markdown",
   "metadata": {},
   "source": [
    "## Object Pool\n",
    "The Object Pool Pattern is used to manage a pool of reusable objects. This pattern is useful when the cost of creating a new object is high, and you want to reuse existing objects instead of creating new ones.\n",
    "- Manages a pool of reusable objects.\n",
    "- Reduces the overhead of creating and destroying objects.\n",
    "- Useful for managing expensive-to-create resources like database connections.\n",
    "- [Object Pool](./object_pool.ipynb)"
   ]
  }
 ],
 "metadata": {
  "language_info": {
   "name": "python"
  }
 },
 "nbformat": 4,
 "nbformat_minor": 2
}
