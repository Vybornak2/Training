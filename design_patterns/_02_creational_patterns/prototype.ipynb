{
 "cells": [
  {
   "cell_type": "markdown",
   "metadata": {},
   "source": [
    "# Prototype Pattern\n",
    "\n",
    "The Prototype Pattern is used to create new objects by copying an existing object, known as the prototype.\n",
    "\n",
    "## Motivation\n",
    "- Creating new objects can be costly and time-consuming, especially when they involve complex initialization.\n",
    "- The Prototype Pattern helps by allowing you to clone existing objects instead of creating new ones from scratch.\n",
    "\n",
    "## Benefits\n",
    "- Improves performance.\n",
    "- Reduces the complexity of creating new instances.\n",
    "- Enhances maintainability.\n",
    "\n",
    "## Alternatives in Python\n",
    "- Using the `copy` module to clone objects.\n",
    "- Implementing custom clone methods in classes."
   ]
  },
  {
   "cell_type": "code",
   "execution_count": 1,
   "metadata": {},
   "outputs": [],
   "source": [
    "import copy\n",
    "\n",
    "\n",
    "class Prototype:\n",
    "    def __init__(self, value: str) -> None:\n",
    "        self.value = value\n",
    "\n",
    "    def clone(self) -> \"Prototype\":\n",
    "        return copy.deepcopy(self)\n",
    "\n",
    "    def __str__(self) -> str:\n",
    "        return f\"Prototype(value={self.value})\"\n",
    "\n",
    "\n",
    "class ConcretePrototype1(Prototype):\n",
    "    def __init__(self, value: str, feature: str) -> None:\n",
    "        super().__init__(value)\n",
    "        self.feature = feature\n",
    "\n",
    "    def __str__(self) -> str:\n",
    "        return f\"ConcretePrototype1(value={self.value}, feature={self.feature})\"\n",
    "\n",
    "\n",
    "class ConcretePrototype2(Prototype):\n",
    "    def __init__(self, value: str, attribute: str) -> None:\n",
    "        super().__init__(value)\n",
    "        self.attribute = attribute\n",
    "\n",
    "    def __str__(self) -> str:\n",
    "        return f\"ConcretePrototype2(value={self.value}, attribute={self.attribute})\""
   ]
  },
  {
   "cell_type": "markdown",
   "metadata": {},
   "source": [
    "## Usage\n",
    "Let's see how the Prototype Pattern works in practice."
   ]
  },
  {
   "cell_type": "code",
   "execution_count": 2,
   "metadata": {},
   "outputs": [
    {
     "name": "stdout",
     "output_type": "stream",
     "text": [
      "ConcretePrototype1(value=Value1, feature=Feature1)\n",
      "ConcretePrototype1(value=Value1, feature=Feature1)\n",
      "ConcretePrototype2(value=Value2, attribute=Attribute2)\n",
      "ConcretePrototype2(value=Value2, attribute=Attribute2)\n"
     ]
    }
   ],
   "source": [
    "if __name__ == \"__main__\":\n",
    "    prototype1 = ConcretePrototype1(\"Value1\", \"Feature1\")\n",
    "    prototype2 = ConcretePrototype2(\"Value2\", \"Attribute2\")\n",
    "\n",
    "    clone1 = prototype1.clone()\n",
    "    clone2 = prototype2.clone()\n",
    "\n",
    "    print(prototype1)\n",
    "    print(clone1)\n",
    "    print(prototype2)\n",
    "    print(clone2)"
   ]
  }
 ],
 "metadata": {
  "kernelspec": {
   "display_name": ".venv",
   "language": "python",
   "name": "python3"
  },
  "language_info": {
   "codemirror_mode": {
    "name": "ipython",
    "version": 3
   },
   "file_extension": ".py",
   "mimetype": "text/x-python",
   "name": "python",
   "nbconvert_exporter": "python",
   "pygments_lexer": "ipython3",
   "version": "3.13.0"
  }
 },
 "nbformat": 4,
 "nbformat_minor": 2
}
