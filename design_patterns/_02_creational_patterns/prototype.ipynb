{
 "cells": [
  {
   "cell_type": "markdown",
   "metadata": {},
   "source": [
    "## Prototype\n",
    "\n",
    "- __Type:__ Creational\n",
    "- __Popularity: ★★☆☆☆__\n",
    "- __Complexity: ★☆☆☆☆__\n",
    "\n",
    "### Intent:\n",
    "__Prototype__ is a creational design pattern that lets you copy existing objects without making your code dependent on their classes.\n",
    "\n",
    "### Problem:\n",
    "Creating a new instance of a complex object can be resource-intensive or complicated. Sometimes, objects must be created with a state that is similar to an existing object instance. For example, you may need to create a new document that starts with the same content as an existing document but can then be independently modified. A more complex scenario might involve objects whose exact class may not be known at compile time.\n",
    "\n",
    "### Solution:\n",
    "The Prototype pattern delegates the cloning process to the objects being cloned. It declares a common interface for all objects that support cloning, allowing you to clone an object without coupling your code to the class of that object. Typically, the interface contains just a single `clone()` method that lets you copy an existing object and modify the copy as needed, without affecting the original."
   ]
  },
  {
   "cell_type": "markdown",
   "metadata": {},
   "source": [
    "### Diagram:\n",
    "```mermaid\n",
    "classDiagram\n",
    "    class Prototype {\n",
    "        <<interface>>\n",
    "        +clone()\n",
    "    }\n",
    "    class ConcretePrototype1 {\n",
    "        -field1\n",
    "        +clone()\n",
    "    }\n",
    "    class ConcretePrototype2 {\n",
    "        -field2\n",
    "        +clone()\n",
    "    }\n",
    "    class Client {\n",
    "        +operation(prototype)\n",
    "    }\n",
    "    \n",
    "    Prototype <|-- ConcretePrototype1\n",
    "    Prototype <|-- ConcretePrototype2\n",
    "    Client ..> Prototype\n",
    "```"
   ]
  },
  {
   "cell_type": "markdown",
   "metadata": {},
   "source": [
    "### Example code:"
   ]
  },
  {
   "cell_type": "code",
   "execution_count": null,
   "metadata": {},
   "outputs": [],
   "source": [
    "import copy\n",
    "from abc import ABC, abstractmethod\n",
    "from typing import Any, List\n",
    "\n",
    "\n",
    "class Prototype(ABC):\n",
    "    \"\"\"The Prototype interface declares the cloning methods.\"\"\"\n",
    "\n",
    "    @abstractmethod\n",
    "    def clone(self):\n",
    "        pass\n",
    "\n",
    "\n",
    "class ConcretePrototype1(Prototype):\n",
    "    \"\"\"Concrete prototypes implement the cloning method. In addition to copying the\n",
    "    original object's data to the clone, this method may also handle some edge\n",
    "    cases of the cloning process related to cloning linked objects, untangling\n",
    "    recursive dependencies, etc.\"\"\"\n",
    "\n",
    "    def __init__(self, field1: Any):\n",
    "        self.field1 = field1\n",
    "\n",
    "    def clone(self) -> \"ConcretePrototype1\":\n",
    "        # A deep copy creates a new object and recursively adds copies of nested objects\n",
    "        return copy.deepcopy(self)\n",
    "\n",
    "    def __str__(self):\n",
    "        return f\"ConcretePrototype1 with field1={self.field1}\"\n",
    "\n",
    "\n",
    "class ConcretePrototype2(Prototype):\n",
    "    \"\"\"Another concrete prototype with different properties.\"\"\"\n",
    "\n",
    "    def __init__(self, field2: List[Any]):\n",
    "        self.field2 = field2\n",
    "\n",
    "    def clone(self) -> \"ConcretePrototype2\":\n",
    "        return copy.deepcopy(self)\n",
    "\n",
    "    def __str__(self):\n",
    "        return f\"ConcretePrototype2 with field2={self.field2}\"\n",
    "\n",
    "\n",
    "# Client code\n",
    "if __name__ == \"__main__\":\n",
    "    # Create an original object\n",
    "    prototype1 = ConcretePrototype1(\"value1\")\n",
    "    print(\"Original object:\", prototype1)\n",
    "\n",
    "    # Clone the object and modify it\n",
    "    cloned_prototype1 = prototype1.clone()\n",
    "    cloned_prototype1.field1 = \"new_value\"\n",
    "    print(\"Cloned and modified object:\", cloned_prototype1)\n",
    "    print(\"Original object after cloning:\", prototype1)\n",
    "    print()\n",
    "\n",
    "    # Example with a more complex object containing a mutable field\n",
    "    prototype2 = ConcretePrototype2([1, 2, 3])\n",
    "    print(\"Original complex object:\", prototype2)\n",
    "\n",
    "    cloned_prototype2 = prototype2.clone()\n",
    "    cloned_prototype2.field2.append(4)  # Modify the cloned object\n",
    "\n",
    "    print(\"Cloned and modified complex object:\", cloned_prototype2)\n",
    "    print(\"Original complex object after cloning:\", prototype2)"
   ]
  },
  {
   "cell_type": "markdown",
   "metadata": {},
   "source": [
    "### Alternative implementation: Prototype Registry"
   ]
  },
  {
   "cell_type": "code",
   "execution_count": null,
   "metadata": {},
   "outputs": [],
   "source": [
    "class PrototypeRegistry:\n",
    "    \"\"\"The Prototype Registry provides a way to store and retrieve frequently used prototypes.\"\"\"\n",
    "\n",
    "    def __init__(self):\n",
    "        self._prototypes = {}\n",
    "\n",
    "    def register(self, key: str, prototype: Prototype) -> None:\n",
    "        \"\"\"Register a prototype with the registry.\"\"\"\n",
    "        self._prototypes[key] = prototype\n",
    "\n",
    "    def unregister(self, key: str) -> None:\n",
    "        \"\"\"Remove a prototype from the registry.\"\"\"\n",
    "        del self._prototypes[key]\n",
    "\n",
    "    def clone(self, key: str) -> Prototype:\n",
    "        \"\"\"Clone and return a registered prototype.\"\"\"\n",
    "        return self._prototypes.get(key).clone()\n",
    "\n",
    "\n",
    "# Client code with registry\n",
    "if __name__ == \"__main__\":\n",
    "    registry = PrototypeRegistry()\n",
    "\n",
    "    # Register prototypes\n",
    "    prototype1 = ConcretePrototype1(\"template_value\")\n",
    "    registry.register(\"prototype1\", prototype1)\n",
    "\n",
    "    prototype2 = ConcretePrototype2([10, 20, 30])\n",
    "    registry.register(\"prototype2\", prototype2)\n",
    "\n",
    "    # Clone from registry\n",
    "    clone1 = registry.clone(\"prototype1\")\n",
    "    print(\"Cloned from registry:\", clone1)\n",
    "\n",
    "    clone2 = registry.clone(\"prototype2\")\n",
    "    print(\"Cloned from registry:\", clone2)"
   ]
  },
  {
   "cell_type": "markdown",
   "metadata": {},
   "source": [
    "### Real-world analogies:\n",
    "\n",
    "1. Cell Division:\n",
    "\n",
    "    In biology, when a cell divides, it creates an exact copy of itself. The new cell starts with the same DNA and cellular components as the original cell. After division, both cells can develop independently, potentially in different ways, but they start from the same baseline structure.\n",
    "\n",
    "2. Document Templates:\n",
    "\n",
    "    When you start working on a new document in a word processor, you often begin with a template (like a blank document, business letter, or resume). The template serves as a prototype that provides a basic structure and formatting. You then create a copy of this template and customize it for your specific needs."
   ]
  },
  {
   "cell_type": "markdown",
   "metadata": {},
   "source": [
    "### When to use:\n",
    "- When your code shouldn't depend on concrete classes of objects that you need to copy\n",
    "- When you want to reduce the number of subclasses that only differ in their initialization process\n",
    "- When creating new objects by the usual way (using 'new' operator) is undesirable or expensive\n",
    "- When objects have a limited number of possible state combinations and it's more convenient to create new objects by cloning pre-built prototypes"
   ]
  },
  {
   "cell_type": "markdown",
   "metadata": {},
   "source": [
    "### Python-specific implementation notes:\n",
    "- Python's `copy` module provides `copy()` and `deepcopy()` functions which make implementation easier\n",
    "- Python's dynamic typing makes it simpler to implement the Prototype pattern without strict interfaces\n",
    "- The `__copy__` and `__deepcopy__` special methods can be overridden to customize copying behavior\n",
    "- Consider using dataclasses or namedtuples for simple prototype implementations\n",
    "\n",
    "### Related patterns:\n",
    "- Abstract Factory: Often Abstract Factories are implemented using the Prototype pattern\n",
    "- Composite: Prototype can be used to clone complex Composite structures efficiently\n",
    "- Decorator: Prototype can help clone decorated objects without tight coupling to concrete classes\n",
    "- Memento: Can be used together with Prototype to store and restore object states"
   ]
  }
 ],
 "metadata": {
  "kernelspec": {
   "display_name": ".venv",
   "language": "python",
   "name": "python3"
  },
  "language_info": {
   "codemirror_mode": {
    "name": "ipython",
    "version": 3
   },
   "file_extension": ".py",
   "mimetype": "text/x-python",
   "name": "python",
   "nbconvert_exporter": "python",
   "pygments_lexer": "ipython3",
   "version": "3.13.0"
  }
 },
 "nbformat": 4,
 "nbformat_minor": 2
}
