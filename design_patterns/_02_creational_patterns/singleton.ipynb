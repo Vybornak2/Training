{
 "cells": [
  {
   "cell_type": "markdown",
   "metadata": {
    "id": "d308b2b2",
    "language": "markdown"
   },
   "source": [
    "## Singleton Pattern\n",
    "\n",
    "- __Type:__ Creational\n",
    "- __Popularity: ★★★★★__\n",
    "- __Complexity: ★☆☆☆☆__\n",
    "\n",
    "### Intent:\n",
    "__Singleton__ is a creational design pattern that ensures a class has only one instance and provides a global point of access to it.\n",
    "\n",
    "### Problem:\n",
    "The Singleton pattern solves two problems at the same time, violating the Single Responsibility Principle:\n",
    "1. **Ensuring a class has just a single instance**: This is useful when you need strict control over global variables or shared resources like a database connection, file system, or configuration settings. For example, multiple parts of your code may need to access a shared database connection, but creating multiple connections could lead to inconsistent data or resource waste.\n",
    "2. **Providing a global access point to that instance**: Global variables can be accessed from anywhere, which is convenient but breaks encapsulation. The Singleton provides controlled access to the sole instance.\n",
    "\n",
    "### Solution:\n",
    "The Singleton pattern makes the default constructor private to prevent other objects from instantiating the Singleton class directly. It provides a static creation method that acts as a constructor, caches the first created object, and returns that cached object for all subsequent calls."
   ]
  },
  {
   "cell_type": "markdown",
   "metadata": {},
   "source": [
    "### Diagram:\n",
    "\n",
    "```mermaid\n",
    "classDiagram\n",
    "    class Singleton {\n",
    "        -static instance: Singleton\n",
    "        -constructor()\n",
    "        +static getInstance()\n",
    "        +businessLogic()\n",
    "    }\n",
    "    \n",
    "    Singleton ..> Singleton : creates\n",
    "```"
   ]
  },
  {
   "cell_type": "markdown",
   "metadata": {
    "id": "7ea56ea6",
    "language": "markdown"
   },
   "source": [
    "## Basic Implementation"
   ]
  },
  {
   "cell_type": "code",
   "execution_count": 7,
   "metadata": {
    "id": "18dda2ad",
    "language": "python"
   },
   "outputs": [],
   "source": [
    "class Singleton:\n",
    "    \"\"\"Basic Singleton implementation.\n",
    "\n",
    "    This implementation uses a class variable to store the instance.\n",
    "    \"\"\"\n",
    "\n",
    "    _instance = None  # Class variable to store the single instance\n",
    "\n",
    "    def __new__(cls):\n",
    "        \"\"\"Override the __new__ method to control instance creation.\"\"\"\n",
    "        if cls._instance is None:\n",
    "            # If no instance exists, create one\n",
    "            cls._instance = super(Singleton, cls).__new__(cls)\n",
    "            # Initialize instance attributes here if needed\n",
    "            cls._instance.value = \"Initial value\"\n",
    "        return cls._instance\n",
    "\n",
    "    def some_business_logic(self):\n",
    "        \"\"\"Example method to demonstrate the singleton works.\"\"\"\n",
    "        return self.value\n",
    "\n",
    "    def set_value(self, new_value):\n",
    "        \"\"\"Method to modify the singleton's state.\"\"\"\n",
    "        self.value = new_value"
   ]
  },
  {
   "cell_type": "code",
   "execution_count": 8,
   "metadata": {
    "id": "f830c61d",
    "language": "python"
   },
   "outputs": [
    {
     "name": "stdout",
     "output_type": "stream",
     "text": [
      "Are singleton1 and singleton2 the same instance? True\n",
      "singleton1 value: Modified value\n",
      "singleton2 value: Modified value\n"
     ]
    }
   ],
   "source": [
    "# Client code\n",
    "if __name__ == \"__main__\":\n",
    "    # Create two \"instances\" of the Singleton\n",
    "    singleton1 = Singleton()\n",
    "    singleton2 = Singleton()\n",
    "\n",
    "    # Check if they are the same instance\n",
    "    print(f\"Are singleton1 and singleton2 the same instance? {singleton1 is singleton2}\")\n",
    "\n",
    "    # Modify the singleton's state through one reference\n",
    "    singleton1.set_value(\"Modified value\")\n",
    "\n",
    "    # Check if the modification is visible through both references\n",
    "    print(f\"singleton1 value: {singleton1.some_business_logic()}\")\n",
    "    print(f\"singleton2 value: {singleton2.some_business_logic()}\")"
   ]
  },
  {
   "cell_type": "markdown",
   "metadata": {
    "id": "3737f49c",
    "language": "markdown"
   },
   "source": [
    "## Thread-Safe Singleton Implementation"
   ]
  },
  {
   "cell_type": "code",
   "execution_count": 9,
   "metadata": {
    "id": "d33b01e3",
    "language": "python"
   },
   "outputs": [],
   "source": [
    "import threading\n",
    "\n",
    "\n",
    "class ThreadSafeSingleton:\n",
    "    \"\"\"Thread-safe implementation of the Singleton pattern.\n",
    "\n",
    "    This implementation uses a lock to prevent race conditions in multi-threaded environments.\n",
    "    \"\"\"\n",
    "\n",
    "    _instance = None\n",
    "    _lock = threading.Lock()  # Class-level lock for thread safety\n",
    "\n",
    "    def __new__(cls):\n",
    "        # Double-checked locking pattern\n",
    "        if cls._instance is None:\n",
    "            with cls._lock:  # Acquire lock\n",
    "                # Check again, another thread might have created the instance\n",
    "                if cls._instance is None:\n",
    "                    cls._instance = super(ThreadSafeSingleton, cls).__new__(cls)\n",
    "                    cls._instance.value = \"Initial thread-safe value\"\n",
    "        return cls._instance\n",
    "\n",
    "    def some_business_logic(self):\n",
    "        return self.value\n",
    "\n",
    "    def set_value(self, new_value):\n",
    "        self.value = new_value"
   ]
  },
  {
   "cell_type": "code",
   "execution_count": 10,
   "metadata": {
    "id": "cd56c01f",
    "language": "python"
   },
   "outputs": [
    {
     "name": "stdout",
     "output_type": "stream",
     "text": [
      "Thread Thread-0: ID of instance: 2386226725952\n",
      "Thread Thread-1: ID of instance: 2386226725952\n",
      "Thread Thread-2: ID of instance: 2386226725952\n",
      "Thread Thread-3: ID of instance: 2386226725952\n",
      "Thread Thread-4: ID of instance: 2386226725952\n"
     ]
    }
   ],
   "source": [
    "# Client code testing thread safety\n",
    "def test_singleton_in_thread(thread_name):\n",
    "    \"\"\"Function to test singleton in multiple threads.\"\"\"\n",
    "    instance = ThreadSafeSingleton()\n",
    "    print(f\"Thread {thread_name}: ID of instance: {id(instance)}\")\n",
    "\n",
    "\n",
    "if __name__ == \"__main__\":\n",
    "    # Create threads\n",
    "    threads = []\n",
    "    for i in range(5):\n",
    "        thread = threading.Thread(target=test_singleton_in_thread, args=(f\"Thread-{i}\",))\n",
    "        threads.append(thread)\n",
    "\n",
    "    # Start all threads\n",
    "    for thread in threads:\n",
    "        thread.start()\n",
    "\n",
    "    # Wait for all threads to complete\n",
    "    for thread in threads:\n",
    "        thread.join()"
   ]
  },
  {
   "cell_type": "markdown",
   "metadata": {
    "id": "e33b01e4",
    "language": "markdown"
   },
   "source": [
    "## Metaclass Singleton Implementation"
   ]
  },
  {
   "cell_type": "code",
   "execution_count": 11,
   "metadata": {
    "id": "e77ac4b7",
    "language": "python"
   },
   "outputs": [],
   "source": [
    "class SingletonMeta(type):\n",
    "    \"\"\"A metaclass that creates a Singleton base class when called.\n",
    "\n",
    "    Using a metaclass is one of the most elegant ways to implement the Singleton pattern in Python.\n",
    "    \"\"\"\n",
    "\n",
    "    _instances = {}\n",
    "\n",
    "    def __call__(cls, *args, **kwargs):\n",
    "        \"\"\"Called when the instance is 'called' as a function.\"\"\"\n",
    "        if cls not in cls._instances:\n",
    "            instance = super().__call__(*args, **kwargs)\n",
    "            cls._instances[cls] = instance\n",
    "        return cls._instances[cls]\n",
    "\n",
    "\n",
    "class DatabaseConnection(metaclass=SingletonMeta):\n",
    "    \"\"\"Example singleton class using metaclass.\"\"\"\n",
    "\n",
    "    def __init__(self, connection_string=\"default\"):\n",
    "        # This will be called only once\n",
    "        print(f\"Initializing DatabaseConnection with {connection_string}\")\n",
    "        self.connection_string = connection_string\n",
    "\n",
    "    def connect(self):\n",
    "        return f\"Connected to database using {self.connection_string}\""
   ]
  },
  {
   "cell_type": "code",
   "execution_count": 12,
   "metadata": {
    "id": "cb5c972e",
    "language": "python"
   },
   "outputs": [
    {
     "name": "stdout",
     "output_type": "stream",
     "text": [
      "Initializing DatabaseConnection with mysql://localhost:3306/db\n",
      "Connected to database using mysql://localhost:3306/db\n",
      "Connected to database using mysql://localhost:3306/db\n",
      "Are db1 and db2 the same instance? True\n"
     ]
    }
   ],
   "source": [
    "# Client code with metaclass implementation\n",
    "if __name__ == \"__main__\":\n",
    "    # First 'instance' will initialize the singleton\n",
    "    db1 = DatabaseConnection(\"mysql://localhost:3306/db\")\n",
    "    print(db1.connect())\n",
    "\n",
    "    # Second 'instance' will reuse the existing singleton\n",
    "    # Note: The connection_string parameter is ignored after first initialization\n",
    "    db2 = DatabaseConnection(\"postgres://localhost:5432/db\")\n",
    "    print(db2.connect())\n",
    "\n",
    "    # Both references point to the same instance\n",
    "    print(f\"Are db1 and db2 the same instance? {db1 is db2}\")"
   ]
  },
  {
   "cell_type": "markdown",
   "metadata": {},
   "source": [
    "### Real-world analogies:\n",
    "\n",
    "1. Government Leadership:\n",
    "        Many countries have a single leader (president, prime minister) who represents the nation. There can only be one active person in this role at any time. Regardless of who specifically is in office, the title itself (\"The President\") refers to the current role holder and provides a way for people to access the leader's authority.\n",
    "\n",
    "2. File System:\n",
    "        On a computer, there's typically only one file system per storage device. Various programs may interact with the file system through a unified interface, but there's only one instance actually managing the files and directories."
   ]
  },
  {
   "cell_type": "markdown",
   "metadata": {},
   "source": [
    "### When to use:\n",
    "- Use when a class should have exactly one instance accessible to clients\n",
    "- Use when you need stricter control over global variables\n",
    "- Use for resources that are expensive to create (database connections, file systems, thread pools)\n",
    "- Use when you need to coordinate actions across the system through a single point"
   ]
  },
  {
   "cell_type": "markdown",
   "metadata": {},
   "source": [
    "### Python-specific implementation notes:\n",
    "- Python's module system can be used as a simple singleton - modules are loaded only once\n",
    "- Metaclasses offer an elegant way to implement singletons in Python\n",
    "- Python's `__new__` method allows for controlling instance creation directly\n",
    "- Thread safety must be considered in concurrent Python applications\n",
    "- Avoid using global variables instead of singletons, as they lack encapsulation\n",
    "\n",
    "### Related patterns:\n",
    "- Factory Method: Often used to create singleton objects\n",
    "- Facade: May use a singleton to represent a single entry point to a subsystem\n",
    "- Flyweight: Both patterns aim to reduce the number of objects, but Flyweight shares objects for efficiency while Singleton ensures only one exists\n",
    "- Monostate (Borg): An alternative to Singleton that focuses on shared state rather than shared instance"
   ]
  }
 ],
 "metadata": {
  "kernelspec": {
   "display_name": ".venv",
   "language": "python",
   "name": "python3"
  },
  "language_info": {
   "codemirror_mode": {
    "name": "ipython",
    "version": 3
   },
   "file_extension": ".py",
   "mimetype": "text/x-python",
   "name": "python",
   "nbconvert_exporter": "python",
   "pygments_lexer": "ipython3",
   "version": "3.13.0"
  }
 },
 "nbformat": 4,
 "nbformat_minor": 2
}
