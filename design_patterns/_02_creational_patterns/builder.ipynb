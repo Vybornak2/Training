{
 "cells": [
  {
   "cell_type": "markdown",
   "metadata": {},
   "source": [
    "# Builder Pattern\n",
    "\n",
    "The Builder Pattern is a creational design pattern that allows for the step-by-step construction of complex objects. It separates the construction of an object from its representation, enabling the same construction process to create different representations."
   ]
  },
  {
   "cell_type": "markdown",
   "metadata": {},
   "source": [
    "## Problem\n",
    "When creating complex objects, the construction process can become complicated and error-prone. The Builder Pattern helps manage this complexity by providing a way to construct objects step by step, ensuring that the object is always in a valid state during its construction."
   ]
  },
  {
   "cell_type": "markdown",
   "metadata": {},
   "source": [
    "## Benefits\n",
    "The Builder Pattern offers several benefits:\n",
    "- **Maintainability**: Simplifies the creation of complex objects, making the code easier to maintain.\n",
    "- **Flexibility**: Allows for different representations of the same construction process.\n",
    "- **Reusability**: Promotes code reuse by separating the construction logic from the representation."
   ]
  },
  {
   "cell_type": "code",
   "execution_count": null,
   "metadata": {},
   "outputs": [],
   "source": [
    "class Product:\n",
    "    def __init__(self):\n",
    "        self.parts = []\n",
    "\n",
    "    def add(self, part: str) -> None:\n",
    "        self.parts.append(part)\n",
    "\n",
    "    def list_parts(self) -> str:\n",
    "        return \", \".join(self.parts)\n",
    "\n",
    "\n",
    "class Builder:\n",
    "    def __init__(self):\n",
    "        self.product = Product()\n",
    "\n",
    "    def add_part(self, part: str) -> None:\n",
    "        self.product.add(part)\n",
    "\n",
    "    def get_product(self) -> Product:\n",
    "        return self.product\n",
    "\n",
    "\n",
    "class Director:\n",
    "    def __init__(self, builder: Builder):\n",
    "        self.builder = builder\n",
    "\n",
    "    def build_product(self, parts: list) -> None:\n",
    "        for part in parts:\n",
    "            self.builder.add_part(part)"
   ]
  },
  {
   "cell_type": "markdown",
   "metadata": {},
   "source": [
    "## Usage\n",
    "Let's see how the Builder Pattern works in practice."
   ]
  },
  {
   "cell_type": "code",
   "execution_count": null,
   "metadata": {},
   "outputs": [
    {
     "name": "stdout",
     "output_type": "stream",
     "text": [
      "Standard product:\n",
      "PartA, PartB, PartC\n",
      "\n",
      "Custom product:\n",
      "PartA, PartC\n"
     ]
    }
   ],
   "source": [
    "if __name__ == \"__main__\":\n",
    "    builder = Builder()\n",
    "    director = Director(builder)\n",
    "\n",
    "    print(\"Standard product:\")\n",
    "    director.build_product([\"PartA\", \"PartB\"])\n",
    "    print(builder.get_product().list_parts())\n",
    "\n",
    "    print(\"\\nCustom product:\")\n",
    "    director.build_product([\"PartA\"])\n",
    "    print(builder.get_product().list_parts())"
   ]
  }
 ],
 "metadata": {
  "kernelspec": {
   "display_name": ".venv",
   "language": "python",
   "name": "python3"
  },
  "language_info": {
   "codemirror_mode": {
    "name": "ipython",
    "version": 3
   },
   "file_extension": ".py",
   "mimetype": "text/x-python",
   "name": "python",
   "nbconvert_exporter": "python",
   "pygments_lexer": "ipython3",
   "version": "3.13.0"
  }
 },
 "nbformat": 4,
 "nbformat_minor": 2
}
