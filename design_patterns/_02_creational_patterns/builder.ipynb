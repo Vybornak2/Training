{
 "cells": [
  {
   "cell_type": "markdown",
   "metadata": {},
   "source": [
    "# Builder Pattern\n",
    "\n",
    "Separates the construction of complex objects from their representation, allowing the same process to create different representations.\n",
    "\n",
    "## Intent\n",
    "\n",
    "- Simplify creation of complex objects\n",
    "- Construct objects step by step\n",
    "- Allow different representations from same construction process\n",
    "- Hide internal representation from client"
   ]
  },
  {
   "cell_type": "markdown",
   "metadata": {},
   "source": [
    "## Implementation"
   ]
  },
  {
   "cell_type": "code",
   "execution_count": 1,
   "metadata": {},
   "outputs": [],
   "source": [
    "class Product:\n",
    "    def __init__(self):\n",
    "        self.parts = []\n",
    "\n",
    "    def add(self, part: str) -> None:\n",
    "        self.parts.append(part)\n",
    "\n",
    "    def list_parts(self) -> str:\n",
    "        return \", \".join(self.parts)\n",
    "\n",
    "\n",
    "class Builder:\n",
    "    def __init__(self):\n",
    "        self.product = Product()\n",
    "\n",
    "    def add_part(self, part: str) -> None:\n",
    "        self.product.add(part)\n",
    "\n",
    "    def get_product(self) -> Product:\n",
    "        return self.product\n",
    "\n",
    "\n",
    "class Director:\n",
    "    def __init__(self, builder: Builder):\n",
    "        self.builder = builder\n",
    "\n",
    "    def build_product(self, parts: list) -> None:\n",
    "        for part in parts:\n",
    "            self.builder.add_part(part)"
   ]
  },
  {
   "cell_type": "markdown",
   "metadata": {},
   "source": [
    "## Usage"
   ]
  },
  {
   "cell_type": "code",
   "execution_count": 2,
   "metadata": {},
   "outputs": [
    {
     "name": "stdout",
     "output_type": "stream",
     "text": [
      "Standard product:\n",
      "PartA, PartB\n",
      "\n",
      "Custom product:\n",
      "PartA, PartB, PartA\n"
     ]
    }
   ],
   "source": [
    "if __name__ == \"__main__\":\n",
    "    builder = Builder()\n",
    "    director = Director(builder)\n",
    "\n",
    "    print(\"Standard product:\")\n",
    "    director.build_product([\"PartA\", \"PartB\"])\n",
    "    print(builder.get_product().list_parts())\n",
    "\n",
    "    print(\"\\nCustom product:\")\n",
    "    director.build_product([\"PartA\"])\n",
    "    print(builder.get_product().list_parts())"
   ]
  }
 ],
 "metadata": {
  "kernelspec": {
   "display_name": ".venv",
   "language": "python",
   "name": "python3"
  },
  "language_info": {
   "codemirror_mode": {
    "name": "ipython",
    "version": 3
   },
   "file_extension": ".py",
   "mimetype": "text/x-python",
   "name": "python",
   "nbconvert_exporter": "python",
   "pygments_lexer": "ipython3",
   "version": "3.11.11"
  }
 },
 "nbformat": 4,
 "nbformat_minor": 2
}
