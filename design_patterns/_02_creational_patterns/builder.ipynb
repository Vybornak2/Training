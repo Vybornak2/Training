{
 "cells": [
  {
   "cell_type": "markdown",
   "metadata": {},
   "source": [
    "## Builder Pattern\n",
    "\n",
    "- __Type:__ Creational\n",
    "- __Popularity: ★★★★☆__\n",
    "- __Complexity: ★★★☆☆__\n",
    "\n",
    "### Intent:\n",
    "__Builder__ is a creational design pattern that separates the construction of complex objects from their representation, allowing the same construction process to create different representations. It helps construct complex objects step by step and lets you produce different types and representations of an object using the same construction code.\n",
    "\n",
    "### Problem:\n",
    "Consider an application that needs to create complex objects with numerous attributes, some of which are optional. Creating such objects directly might lead to constructors with many parameters (\"telescoping constructor\") or force clients to set numerous properties after construction.\n",
    "\n",
    "Additionally, sometimes the same construction process may need to create different representations of the object. For example, a house-building process might create wooden houses, stone houses, or houses with gardens, but the basic steps remain the same.\n",
    "\n",
    "### Solution:\n",
    "The Builder pattern suggests extracting the object construction code out of its own class and moving it to separate objects called builders. The pattern organizes object construction into a set of steps. To create an object, you execute a series of these steps on a builder object. The important part is that you don't need to call all of the steps. You only call the steps that are necessary for producing a particular configuration of an object."
   ]
  },
  {
   "cell_type": "markdown",
   "metadata": {},
   "source": [
    "### Diagram:\n",
    "```mermaid\n",
    "classDiagram\n",
    "    class Director {\n",
    "        -builder: Builder\n",
    "        +construct()\n",
    "    }\n",
    "    class Builder {\n",
    "        <<interface>>\n",
    "        +buildPartA()\n",
    "        +buildPartB()\n",
    "        +getResult()\n",
    "    }\n",
    "    class ConcreteBuilder {\n",
    "        -product: Product\n",
    "        +buildPartA()\n",
    "        +buildPartB()\n",
    "        +getResult()\n",
    "    }\n",
    "    class Product {\n",
    "        -parts\n",
    "    }\n",
    "    Director o--> Builder : directs\n",
    "    Builder <|.. ConcreteBuilder : implements\n",
    "    ConcreteBuilder --> Product : creates\n",
    "```"
   ]
  },
  {
   "cell_type": "code",
   "execution_count": 6,
   "metadata": {},
   "outputs": [],
   "source": [
    "class Product:\n",
    "    def __init__(self):\n",
    "        self.parts = []\n",
    "\n",
    "    def add(self, part: str) -> None:\n",
    "        self.parts.append(part)\n",
    "\n",
    "    def list_parts(self) -> str:\n",
    "        return \", \".join(self.parts)\n",
    "\n",
    "\n",
    "class Builder:\n",
    "    def __init__(self):\n",
    "        self.product = Product()\n",
    "\n",
    "    def add_part(self, part: str) -> None:\n",
    "        self.product.add(part)\n",
    "\n",
    "    def get_product(self) -> Product:\n",
    "        return self.product\n",
    "\n",
    "\n",
    "class Director:\n",
    "    def __init__(self, builder: Builder):\n",
    "        self.builder = builder\n",
    "\n",
    "    def build_product(self, parts: list) -> None:\n",
    "        for part in parts:\n",
    "            self.builder.add_part(part)"
   ]
  },
  {
   "cell_type": "code",
   "execution_count": 7,
   "metadata": {},
   "outputs": [
    {
     "name": "stdout",
     "output_type": "stream",
     "text": [
      "Standard product:\n",
      "PartA, PartB\n",
      "\n",
      "Custom product:\n",
      "PartA, PartB, PartA\n"
     ]
    }
   ],
   "source": [
    "if __name__ == \"__main__\":\n",
    "    builder = Builder()\n",
    "    director = Director(builder)\n",
    "\n",
    "    print(\"Standard product:\")\n",
    "    director.build_product([\"PartA\", \"PartB\"])\n",
    "    print(builder.get_product().list_parts())\n",
    "\n",
    "    print(\"\\nCustom product:\")\n",
    "    director.build_product([\"PartA\"])\n",
    "    print(builder.get_product().list_parts())"
   ]
  },
  {
   "cell_type": "markdown",
   "metadata": {},
   "source": [
    "### Real-world analogies:\n",
    "\n",
    "1. Restaurant ordering system:\n",
    "   When you order a meal at a restaurant, the waiter takes your order (acts as the Director) and passes it to the kitchen. The chef (Builder) prepares your meal step by step according to your specifications. Different chefs might prepare the same dish slightly differently, but they all follow the same general process. The finished meal is the Product.\n",
    "\n",
    "2. Car manufacturing:\n",
    "   A car manufacturer (Director) instructs assembly lines (Builders) on which cars to build. The assembly line follows a series of steps to construct the car, adding components in a specific order. Different assembly lines might produce different models of cars (Products), but they follow similar processes with variations in components and configurations."
   ]
  }
 ],
 "metadata": {
  "kernelspec": {
   "display_name": ".venv",
   "language": "python",
   "name": "python3"
  },
  "language_info": {
   "codemirror_mode": {
    "name": "ipython",
    "version": 3
   },
   "file_extension": ".py",
   "mimetype": "text/x-python",
   "name": "python",
   "nbconvert_exporter": "python",
   "pygments_lexer": "ipython3",
   "version": "3.13.0"
  }
 },
 "nbformat": 4,
 "nbformat_minor": 2
}
