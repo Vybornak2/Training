{
 "cells": [
  {
   "cell_type": "markdown",
   "metadata": {},
   "source": [
    "# Builder Pattern\n",
    "\n",
    "The Builder Pattern is used to construct a complex object step by step. It separates the construction of a complex object from its representation so that the same construction process can create different representations."
   ]
  },
  {
   "cell_type": "markdown",
   "metadata": {},
   "source": [
    "## Problem\n",
    "When creating complex objects, the construction process can become complicated and error-prone. The Builder Pattern helps manage this complexity by providing a way to construct objects step by step.\n"
   ]
  },
  {
   "cell_type": "markdown",
   "metadata": {},
   "source": [
    "## Implementation\n",
    "In Python, the Builder Pattern can be implemented using a builder class and a director class."
   ]
  },
  {
   "cell_type": "code",
   "execution_count": null,
   "metadata": {},
   "outputs": [],
   "source": [
    "class Product:\n",
    "    def __init__(self):\n",
    "        self.parts = []\n",
    "\n",
    "    def add(self, part: str) -> None:\n",
    "        self.parts.append(part)\n",
    "\n",
    "    def list_parts(self) -> str:\n",
    "        return \", \".join(self.parts)\n",
    "\n",
    "\n",
    "class Builder:\n",
    "    def produce_part_a(self) -> None:\n",
    "        pass\n",
    "\n",
    "    def produce_part_b(self) -> None:\n",
    "        pass\n",
    "\n",
    "    def produce_part_c(self) -> None:\n",
    "        pass\n",
    "\n",
    "\n",
    "class ConcreteBuilder1(Builder):\n",
    "    def __init__(self) -> None:\n",
    "        self.reset()\n",
    "\n",
    "    def reset(self) -> None:\n",
    "        self._product = Product()\n",
    "\n",
    "    def produce_part_a(self) -> None:\n",
    "        self._product.add(\"PartA1\")\n",
    "\n",
    "    def produce_part_b(self) -> None:\n",
    "        self._product.add(\"PartB1\")\n",
    "\n",
    "    def produce_part_c(self) -> None:\n",
    "        self._product.add(\"PartC1\")\n",
    "\n",
    "    def get_product(self) -> Product:\n",
    "        product = self._product\n",
    "        self.reset()\n",
    "        return product\n",
    "\n",
    "\n",
    "class Director:\n",
    "    def __init__(self) -> None:\n",
    "        self._builder = None\n",
    "\n",
    "    def builder(self, builder: Builder) -> None:\n",
    "        self._builder = builder\n",
    "\n",
    "    def build_minimal_viable_product(self) -> None:\n",
    "        self._builder.produce_part_a()\n",
    "\n",
    "    def build_full_featured_product(self) -> None:\n",
    "        self._builder.produce_part_a()\n",
    "        self._builder.produce_part_b()\n",
    "        self._builder.produce_part_c()"
   ]
  },
  {
   "cell_type": "markdown",
   "metadata": {},
   "source": [
    "## Usage\n",
    "Let's see how the Builder Pattern works in practice."
   ]
  },
  {
   "cell_type": "code",
   "execution_count": null,
   "metadata": {},
   "outputs": [],
   "source": [
    "if __name__ == \"__main__\":\n",
    "    director = Director()\n",
    "    builder = ConcreteBuilder1()\n",
    "    director.builder(builder)\n",
    "\n",
    "    print(\"Standard basic product:\")\n",
    "    director.build_minimal_viable_product()\n",
    "    print(builder.get_product().list_parts())\n",
    "\n",
    "    print(\"\\nStandard full featured product:\")\n",
    "    director.build_full_featured_product()\n",
    "    print(builder.get_product().list_parts())\n",
    "\n",
    "    print(\"\\nCustom product:\")\n",
    "    builder.produce_part_a()\n",
    "    builder.produce_part_c()\n",
    "    print(builder.get_product().list_parts())"
   ]
  }
 ],
 "metadata": {
  "language_info": {
   "name": "python"
  }
 },
 "nbformat": 4,
 "nbformat_minor": 2
}
