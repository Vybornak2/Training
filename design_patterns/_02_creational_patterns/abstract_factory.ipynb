{
 "cells": [
  {
   "cell_type": "markdown",
   "metadata": {},
   "source": [
    "# Abstract Factory Pattern\n",
    "\n",
    "- Provides an interface for creating families of related objects.\n",
    "- Ensures independence from concrete classes.\n",
    "- Encapsulates a group of individual factories with a common theme.\n",
    "\n",
    "## Benefits\n",
    "- Consistency among products.\n",
    "- Enhanced maintainability and scalability.\n",
    "- Flexible and reusable code.\n",
    "\n",
    "## Alternatives\n",
    "- Dependency injection to provide objects."
   ]
  },
  {
   "cell_type": "markdown",
   "metadata": {},
   "source": [
    "## Example\n",
    "In this example, we have an `AbstractFactory` class that defines methods for creating abstract products `AbstractProductA` and `AbstractProductB`. Concrete factories such as `ConcreteFactory1` and `ConcreteFactory2` implement these methods to create specific products.\n",
    "\n",
    "### Project Structure\n",
    "```plaintext\n",
    "project/\n",
    "│\n",
    "├── products/\n",
    "│   ├── __init__.py\n",
    "│   ├── product_a.py\n",
    "│   ├── product_b.py\n",
    "│   └── factory.py\n",
    "│\n",
    "└── main.py"
   ]
  },
  {
   "cell_type": "code",
   "execution_count": null,
   "metadata": {},
   "outputs": [],
   "source": [
    "# product_a.py\n",
    "from abc import ABC, abstractmethod\n",
    "\n",
    "\n",
    "class AbstractProductA(ABC):\n",
    "    @abstractmethod\n",
    "    def useful_function_a(self) -> str:\n",
    "        pass\n",
    "\n",
    "\n",
    "class ConcreteProductA1(AbstractProductA):\n",
    "    def useful_function_a(self) -> str:\n",
    "        return \"The result of the product A1.\"\n",
    "\n",
    "\n",
    "class ConcreteProductA2(AbstractProductA):\n",
    "    def useful_function_a(self) -> str:\n",
    "        return \"The result of the product A2.\""
   ]
  },
  {
   "cell_type": "code",
   "execution_count": null,
   "metadata": {},
   "outputs": [],
   "source": [
    "# product_b.py\n",
    "\n",
    "from abc import ABC, abstractmethod\n",
    "# from .product_a import AbstractProductA\n",
    "\n",
    "\n",
    "class AbstractProductB(ABC):\n",
    "    @abstractmethod\n",
    "    def useful_function_b(self) -> str:\n",
    "        pass\n",
    "\n",
    "    @abstractmethod\n",
    "    def another_useful_function_b(self, collaborator: AbstractProductA) -> str:\n",
    "        pass\n",
    "\n",
    "\n",
    "class ConcreteProductB1(AbstractProductB):\n",
    "    def useful_function_b(self) -> str:\n",
    "        return \"The result of the product B1.\"\n",
    "\n",
    "    def another_useful_function_b(self, collaborator: AbstractProductA) -> str:\n",
    "        return f\"The result of the B1 collaborating with ({collaborator.useful_function_a()})\"\n",
    "\n",
    "\n",
    "class ConcreteProductB2(AbstractProductB):\n",
    "    def useful_function_b(self) -> str:\n",
    "        return \"The result of the product B2.\"\n",
    "\n",
    "    def another_useful_function_b(self, collaborator: AbstractProductA) -> str:\n",
    "        return f\"The result of the B2 collaborating with ({collaborator.useful_function_a()})\""
   ]
  },
  {
   "cell_type": "code",
   "execution_count": null,
   "metadata": {},
   "outputs": [],
   "source": [
    "# factory.py\n",
    "from abc import ABC, abstractmethod\n",
    "\n",
    "# from .product_a import AbstractProductA, ConcreteProductA1, ConcreteProductA2\n",
    "# from .product_b import AbstractProductB, ConcreteProductB1, ConcreteProductB2\n",
    "\n",
    "\n",
    "class AbstractFactory(ABC):\n",
    "    @abstractmethod\n",
    "    def create_product_a(self) -> AbstractProductA:\n",
    "        pass\n",
    "\n",
    "    @abstractmethod\n",
    "    def create_product_b(self) -> AbstractProductB:\n",
    "        pass\n",
    "\n",
    "\n",
    "class ConcreteFactory1(AbstractFactory):\n",
    "    def create_product_a(self) -> AbstractProductA:\n",
    "        return ConcreteProductA1()\n",
    "\n",
    "    def create_product_b(self) -> AbstractProductB:\n",
    "        return ConcreteProductB1()\n",
    "\n",
    "\n",
    "class ConcreteFactory2(AbstractFactory):\n",
    "    def create_product_a(self) -> AbstractProductA:\n",
    "        return ConcreteProductA2()\n",
    "\n",
    "    def create_product_b(self) -> AbstractProductB:\n",
    "        return ConcreteProductB2()"
   ]
  },
  {
   "cell_type": "markdown",
   "metadata": {},
   "source": [
    "## Usage\n",
    "Let's see how the Abstract Factory pattern works in practice."
   ]
  },
  {
   "cell_type": "code",
   "execution_count": null,
   "metadata": {},
   "outputs": [],
   "source": [
    "# main.py\n",
    "# from products.factory import AbstractFactory, ConcreteFactory1, ConcreteFactory2\n",
    "\n",
    "\n",
    "def client_code(factory: AbstractFactory) -> None:\n",
    "    product_a = factory.create_product_a()\n",
    "    product_b = factory.create_product_b()\n",
    "\n",
    "    print(f\"{product_b.useful_function_b()}\")\n",
    "    print(f\"{product_b.another_useful_function_b(product_a)}\")\n",
    "\n",
    "\n",
    "if __name__ == \"__main__\":\n",
    "    print(\"Client: Testing client code with the first factory type:\")\n",
    "    client_code(ConcreteFactory1())\n",
    "\n",
    "    print(\"\")\n",
    "\n",
    "    print(\"Client: Testing the same client code with the second factory type:\")\n",
    "    client_code(ConcreteFactory2())"
   ]
  }
 ],
 "metadata": {
  "language_info": {
   "name": "python"
  }
 },
 "nbformat": 4,
 "nbformat_minor": 2
}
